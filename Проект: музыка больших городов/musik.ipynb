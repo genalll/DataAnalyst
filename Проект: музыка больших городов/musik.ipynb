{
 "cells": [
  {
   "cell_type": "markdown",
   "metadata": {
    "id": "E0vqbgi9ay0H"
   },
   "source": [
    "# Яндекс.Музыка"
   ]
  },
  {
   "cell_type": "markdown",
   "metadata": {
    "id": "VUC88oWjTJw2"
   },
   "source": [
    "Сравнение Москвы и Петербурга окружено мифами. Например:\n",
    " * Москва — мегаполис, подчинённый жёсткому ритму рабочей недели;\n",
    " * Петербург — культурная столица, со своими вкусами.\n",
    "\n",
    "На данных Яндекс.Музыки вы сравните поведение пользователей двух столиц.\n",
    "\n",
    "**Цель исследования** — проверьте три гипотезы:\n",
    "1. Активность пользователей зависит от дня недели. Причём в Москве и Петербурге это проявляется по-разному.\n",
    "2. В понедельник утром в Москве преобладают одни жанры, а в Петербурге — другие. Так же и вечером пятницы преобладают разные жанры — в зависимости от города. \n",
    "3. Москва и Петербург предпочитают разные жанры музыки. В Москве чаще слушают поп-музыку, в Петербурге — русский рэп.\n",
    "\n",
    "**Ход исследования**\n",
    "\n",
    "Данные о поведении пользователей вы получите из файла `yandex_music_project.csv`. О качестве данных ничего не известно. Поэтому перед проверкой гипотез понадобится обзор данных. \n",
    "\n",
    "Вы проверите данные на ошибки и оцените их влияние на исследование. Затем, на этапе предобработки вы поищете возможность исправить самые критичные ошибки данных.\n",
    " \n",
    "Таким образом, исследование пройдёт в три этапа:\n",
    " 1. Обзор данных.\n",
    " 2. Предобработка данных.\n",
    " 3. Проверка гипотез.\n",
    "\n"
   ]
  },
  {
   "cell_type": "markdown",
   "metadata": {
    "id": "Ml1hmfXC_Zcs"
   },
   "source": [
    "## Обзор данных\n",
    "\n",
    "Составьте первое представление о данных Яндекс.Музыки.\n",
    "\n",
    "\n"
   ]
  },
  {
   "cell_type": "markdown",
   "metadata": {
    "id": "57eAOGIz_Zcs"
   },
   "source": [
    "Основной инструмент аналитика — `pandas`. Импортируйте эту библиотеку."
   ]
  },
  {
   "cell_type": "code",
   "execution_count": 1,
   "metadata": {
    "id": "AXN7PHPN_Zcs"
   },
   "outputs": [],
   "source": [
    "import pandas as pd# импорт библиотеки pandas"
   ]
  },
  {
   "cell_type": "markdown",
   "metadata": {
    "id": "SG23P8tt_Zcs"
   },
   "source": [
    "Прочитайте файл `yandex_music_project.csv` из папки `/datasets` и сохраните его в переменной `df`:"
   ]
  },
  {
   "cell_type": "code",
   "execution_count": 2,
   "metadata": {
    "id": "fFVu7vqh_Zct"
   },
   "outputs": [],
   "source": [
    "df=pd.read_csv(\"/datasets/yandex_music_project.csv\")# чтение файла с данными и сохранение в df"
   ]
  },
  {
   "cell_type": "markdown",
   "metadata": {
    "id": "rDoOMd3uTqnZ"
   },
   "source": [
    "Выведите на экран первые десять строк таблицы:"
   ]
  },
  {
   "cell_type": "code",
   "execution_count": 3,
   "metadata": {
    "id": "oWTVX3gW_Zct"
   },
   "outputs": [
    {
     "data": {
      "text/html": [
       "<div>\n",
       "<style scoped>\n",
       "    .dataframe tbody tr th:only-of-type {\n",
       "        vertical-align: middle;\n",
       "    }\n",
       "\n",
       "    .dataframe tbody tr th {\n",
       "        vertical-align: top;\n",
       "    }\n",
       "\n",
       "    .dataframe thead th {\n",
       "        text-align: right;\n",
       "    }\n",
       "</style>\n",
       "<table border=\"1\" class=\"dataframe\">\n",
       "  <thead>\n",
       "    <tr style=\"text-align: right;\">\n",
       "      <th></th>\n",
       "      <th>userID</th>\n",
       "      <th>Track</th>\n",
       "      <th>artist</th>\n",
       "      <th>genre</th>\n",
       "      <th>City</th>\n",
       "      <th>time</th>\n",
       "      <th>Day</th>\n",
       "    </tr>\n",
       "  </thead>\n",
       "  <tbody>\n",
       "    <tr>\n",
       "      <td>0</td>\n",
       "      <td>FFB692EC</td>\n",
       "      <td>Kamigata To Boots</td>\n",
       "      <td>The Mass Missile</td>\n",
       "      <td>rock</td>\n",
       "      <td>Saint-Petersburg</td>\n",
       "      <td>20:28:33</td>\n",
       "      <td>Wednesday</td>\n",
       "    </tr>\n",
       "    <tr>\n",
       "      <td>1</td>\n",
       "      <td>55204538</td>\n",
       "      <td>Delayed Because of Accident</td>\n",
       "      <td>Andreas Rönnberg</td>\n",
       "      <td>rock</td>\n",
       "      <td>Moscow</td>\n",
       "      <td>14:07:09</td>\n",
       "      <td>Friday</td>\n",
       "    </tr>\n",
       "    <tr>\n",
       "      <td>2</td>\n",
       "      <td>20EC38</td>\n",
       "      <td>Funiculì funiculà</td>\n",
       "      <td>Mario Lanza</td>\n",
       "      <td>pop</td>\n",
       "      <td>Saint-Petersburg</td>\n",
       "      <td>20:58:07</td>\n",
       "      <td>Wednesday</td>\n",
       "    </tr>\n",
       "    <tr>\n",
       "      <td>3</td>\n",
       "      <td>A3DD03C9</td>\n",
       "      <td>Dragons in the Sunset</td>\n",
       "      <td>Fire + Ice</td>\n",
       "      <td>folk</td>\n",
       "      <td>Saint-Petersburg</td>\n",
       "      <td>08:37:09</td>\n",
       "      <td>Monday</td>\n",
       "    </tr>\n",
       "    <tr>\n",
       "      <td>4</td>\n",
       "      <td>E2DC1FAE</td>\n",
       "      <td>Soul People</td>\n",
       "      <td>Space Echo</td>\n",
       "      <td>dance</td>\n",
       "      <td>Moscow</td>\n",
       "      <td>08:34:34</td>\n",
       "      <td>Monday</td>\n",
       "    </tr>\n",
       "    <tr>\n",
       "      <td>5</td>\n",
       "      <td>842029A1</td>\n",
       "      <td>Преданная</td>\n",
       "      <td>IMPERVTOR</td>\n",
       "      <td>rusrap</td>\n",
       "      <td>Saint-Petersburg</td>\n",
       "      <td>13:09:41</td>\n",
       "      <td>Friday</td>\n",
       "    </tr>\n",
       "    <tr>\n",
       "      <td>6</td>\n",
       "      <td>4CB90AA5</td>\n",
       "      <td>True</td>\n",
       "      <td>Roman Messer</td>\n",
       "      <td>dance</td>\n",
       "      <td>Moscow</td>\n",
       "      <td>13:00:07</td>\n",
       "      <td>Wednesday</td>\n",
       "    </tr>\n",
       "    <tr>\n",
       "      <td>7</td>\n",
       "      <td>F03E1C1F</td>\n",
       "      <td>Feeling This Way</td>\n",
       "      <td>Polina Griffith</td>\n",
       "      <td>dance</td>\n",
       "      <td>Moscow</td>\n",
       "      <td>20:47:49</td>\n",
       "      <td>Wednesday</td>\n",
       "    </tr>\n",
       "    <tr>\n",
       "      <td>8</td>\n",
       "      <td>8FA1D3BE</td>\n",
       "      <td>И вновь продолжается бой</td>\n",
       "      <td>NaN</td>\n",
       "      <td>ruspop</td>\n",
       "      <td>Moscow</td>\n",
       "      <td>09:17:40</td>\n",
       "      <td>Friday</td>\n",
       "    </tr>\n",
       "    <tr>\n",
       "      <td>9</td>\n",
       "      <td>E772D5C0</td>\n",
       "      <td>Pessimist</td>\n",
       "      <td>NaN</td>\n",
       "      <td>dance</td>\n",
       "      <td>Saint-Petersburg</td>\n",
       "      <td>21:20:49</td>\n",
       "      <td>Wednesday</td>\n",
       "    </tr>\n",
       "  </tbody>\n",
       "</table>\n",
       "</div>"
      ],
      "text/plain": [
       "     userID                        Track            artist   genre  \\\n",
       "0  FFB692EC            Kamigata To Boots  The Mass Missile    rock   \n",
       "1  55204538  Delayed Because of Accident  Andreas Rönnberg    rock   \n",
       "2    20EC38            Funiculì funiculà       Mario Lanza     pop   \n",
       "3  A3DD03C9        Dragons in the Sunset        Fire + Ice    folk   \n",
       "4  E2DC1FAE                  Soul People        Space Echo   dance   \n",
       "5  842029A1                    Преданная         IMPERVTOR  rusrap   \n",
       "6  4CB90AA5                         True      Roman Messer   dance   \n",
       "7  F03E1C1F             Feeling This Way   Polina Griffith   dance   \n",
       "8  8FA1D3BE     И вновь продолжается бой               NaN  ruspop   \n",
       "9  E772D5C0                    Pessimist               NaN   dance   \n",
       "\n",
       "             City        time        Day  \n",
       "0  Saint-Petersburg  20:28:33  Wednesday  \n",
       "1            Moscow  14:07:09     Friday  \n",
       "2  Saint-Petersburg  20:58:07  Wednesday  \n",
       "3  Saint-Petersburg  08:37:09     Monday  \n",
       "4            Moscow  08:34:34     Monday  \n",
       "5  Saint-Petersburg  13:09:41     Friday  \n",
       "6            Moscow  13:00:07  Wednesday  \n",
       "7            Moscow  20:47:49  Wednesday  \n",
       "8            Moscow  09:17:40     Friday  \n",
       "9  Saint-Petersburg  21:20:49  Wednesday  "
      ]
     },
     "execution_count": 3,
     "metadata": {},
     "output_type": "execute_result"
    }
   ],
   "source": [
    "df.head(10)# получение первых 10 строк таблицы df"
   ]
  },
  {
   "cell_type": "markdown",
   "metadata": {
    "id": "EO73Kwic_Zct"
   },
   "source": [
    "Одной командой получить общую информацию о таблице:"
   ]
  },
  {
   "cell_type": "code",
   "execution_count": 4,
   "metadata": {
    "id": "DSf2kIb-_Zct"
   },
   "outputs": [
    {
     "name": "stdout",
     "output_type": "stream",
     "text": [
      "<class 'pandas.core.frame.DataFrame'>\n",
      "RangeIndex: 65079 entries, 0 to 65078\n",
      "Data columns (total 7 columns):\n",
      "  userID    65079 non-null object\n",
      "Track       63848 non-null object\n",
      "artist      57876 non-null object\n",
      "genre       63881 non-null object\n",
      "  City      65079 non-null object\n",
      "time        65079 non-null object\n",
      "Day         65079 non-null object\n",
      "dtypes: object(7)\n",
      "memory usage: 3.5+ MB\n"
     ]
    }
   ],
   "source": [
    "df.info()# получение общей информации о данных в таблице df"
   ]
  },
  {
   "cell_type": "markdown",
   "metadata": {
    "id": "TaQ2Iwbr_Zct"
   },
   "source": [
    "Итак, в таблице семь столбцов. Тип данных во всех столбцах — `object`.\n",
    "\n",
    "Согласно документации к данным:\n",
    "* `userID` — идентификатор пользователя;\n",
    "* `Track` — название трека;  \n",
    "* `artist` — имя исполнителя;\n",
    "* `genre` — название жанра;\n",
    "* `City` — город пользователя;\n",
    "* `time` — время начала прослушивания;\n",
    "* `Day` — день недели.\n",
    "\n",
    "В названиях колонок видны три нарушения стиля:\n",
    "1. Строчные буквы сочетаются с прописными.\n",
    "2. Встречаются пробелы.\n",
    "3. В написании отсутствует snake_case. (`userID`)\n",
    "\n",
    "\n",
    "\n",
    "Количество значений в столбцах различается. Значит, в данных есть пропущенные значения.\n"
   ]
  },
  {
   "cell_type": "markdown",
   "metadata": {
    "id": "MCB6-dXG_Zct"
   },
   "source": [
    "**Выводы**\n",
    "\n",
    "В каждой строке таблицы — данные о прослушанном треке. Часть колонок описывает саму композицию: название, исполнителя и жанр. Остальные данные рассказывают о пользователе: из какого он города, когда он слушал музыку. \n",
    "\n",
    "Предварительно можно утверждать, что, данных достаточно для проверки гипотез. Но встречаются пропуски в данных, а в названиях колонок — расхождения с хорошим стилем.\n",
    "\n",
    "Чтобы двигаться дальше, нужно устранить проблемы в данных."
   ]
  },
  {
   "cell_type": "markdown",
   "metadata": {
    "id": "SjYF6Ub9_Zct"
   },
   "source": [
    "## Предобработка данных\n",
    "Исправьте стиль в заголовках столбцов, исключите пропуски. Затем проверьте данные на дубликаты."
   ]
  },
  {
   "cell_type": "markdown",
   "metadata": {
    "id": "dIaKXr29_Zct"
   },
   "source": [
    "### Стиль заголовков\n",
    "Выведите на экран названия столбцов:"
   ]
  },
  {
   "cell_type": "code",
   "execution_count": 5,
   "metadata": {
    "id": "oKOTdF_Q_Zct",
    "scrolled": true
   },
   "outputs": [
    {
     "data": {
      "text/plain": [
       "Index(['  userID', 'Track', 'artist', 'genre', '  City  ', 'time', 'Day'], dtype='object')"
      ]
     },
     "execution_count": 5,
     "metadata": {},
     "output_type": "execute_result"
    }
   ],
   "source": [
    "df.columns"
   ]
  },
  {
   "cell_type": "markdown",
   "metadata": {
    "id": "zj5534cv_Zct"
   },
   "source": [
    "Приведите названия в соответствие с хорошим стилем:\n",
    "* несколько слов в названии запишите в «змеином_регистре»,\n",
    "* все символы сделайте строчными,\n",
    "* устраните пробелы.\n",
    "\n",
    "Для этого переименуйте колонки так:\n",
    "* `'  userID'` → `'user_id'`;\n",
    "* `'Track'` → `'track'`;\n",
    "* `'  City  '` → `'city'`;\n",
    "* `'Day'` → `'day'`."
   ]
  },
  {
   "cell_type": "code",
   "execution_count": 6,
   "metadata": {
    "id": "ISlFqs5y_Zct"
   },
   "outputs": [],
   "source": [
    "df = df.rename(columns={'  userID': 'user_id', 'Track': 'track', '  City  ': 'city','Day': 'day' }) # переименование столбцов"
   ]
  },
  {
   "cell_type": "markdown",
   "metadata": {
    "id": "1dqbh00J_Zct"
   },
   "source": [
    "Проверьте результат. Для этого ещё раз выведите на экран названия столбцов:"
   ]
  },
  {
   "cell_type": "code",
   "execution_count": 7,
   "metadata": {
    "id": "d4NOAmTW_Zct"
   },
   "outputs": [
    {
     "data": {
      "text/plain": [
       "Index(['user_id', 'track', 'artist', 'genre', 'city', 'time', 'day'], dtype='object')"
      ]
     },
     "execution_count": 7,
     "metadata": {},
     "output_type": "execute_result"
    }
   ],
   "source": [
    "df.columns# проверка результатов - перечень названий столбцов"
   ]
  },
  {
   "cell_type": "markdown",
   "metadata": {
    "id": "5ISfbcfY_Zct"
   },
   "source": [
    "### Пропуски значений\n",
    "Сначала посчитайте, сколько в таблице пропущенных значений. Для этого достаточно двух методов `pandas`:"
   ]
  },
  {
   "cell_type": "code",
   "execution_count": 8,
   "metadata": {
    "id": "RskX29qr_Zct",
    "scrolled": true
   },
   "outputs": [
    {
     "data": {
      "text/plain": [
       "user_id       0\n",
       "track      1231\n",
       "artist     7203\n",
       "genre      1198\n",
       "city          0\n",
       "time          0\n",
       "day           0\n",
       "dtype: int64"
      ]
     },
     "execution_count": 8,
     "metadata": {},
     "output_type": "execute_result"
    }
   ],
   "source": [
    "df.isna().sum()# подсчёт пропусков"
   ]
  },
  {
   "cell_type": "markdown",
   "metadata": {
    "id": "qubhgnlO_Zct"
   },
   "source": [
    "Не все пропущенные значения влияют на исследование. Так в `track` и `artist` пропуски не важны для вашей работы. Достаточно заменить их явными обозначениями.\n",
    "\n",
    "Но пропуски в `genre` могут помешать сравнению музыкальных вкусов в Москве и Санкт-Петербурге. На практике было бы правильно установить причину пропусков и восстановить данные. Такой возможности нет в учебном проекте. Придётся:\n",
    "* заполнить и эти пропуски явными обозначениями,\n",
    "* оценить, насколько они повредят расчётам. "
   ]
  },
  {
   "cell_type": "markdown",
   "metadata": {
    "id": "fSv2laPA_Zct"
   },
   "source": [
    "Замените пропущенные значения в столбцах `track`, `artist` и `genre` на строку `'unknown'`. Для этого создайте список `columns_to_replace`, переберите его элементы циклом `for` и для каждого столбца выполните замену пропущенных значений:"
   ]
  },
  {
   "cell_type": "code",
   "execution_count": 9,
   "metadata": {
    "id": "KplB5qWs_Zct"
   },
   "outputs": [],
   "source": [
    "bad_columns=[\"track\", \"artist\", \"genre\"]\n",
    "for i in bad_columns:\n",
    "    df[i] = df[i].fillna('unknown')\n",
    "\n",
    "# перебор названий столбцов в цикле и замена пропущенных значений на 'unknown'"
   ]
  },
  {
   "cell_type": "markdown",
   "metadata": {
    "id": "Ilsm-MZo_Zct"
   },
   "source": [
    "Убедитесь, что в таблице не осталось пропусков. Для этого ещё раз посчитайте пропущенные значения."
   ]
  },
  {
   "cell_type": "code",
   "execution_count": 10,
   "metadata": {
    "id": "Tq4nYRX4_Zct",
    "scrolled": true
   },
   "outputs": [
    {
     "data": {
      "text/plain": [
       "user_id    0\n",
       "track      0\n",
       "artist     0\n",
       "genre      0\n",
       "city       0\n",
       "time       0\n",
       "day        0\n",
       "dtype: int64"
      ]
     },
     "execution_count": 10,
     "metadata": {},
     "output_type": "execute_result"
    }
   ],
   "source": [
    "df.isna().sum()# подсчёт пропусков"
   ]
  },
  {
   "cell_type": "markdown",
   "metadata": {
    "id": "BWKRtBJ3_Zct"
   },
   "source": [
    "### Дубликаты\n",
    "Посчитайте явные дубликаты в таблице одной командой:"
   ]
  },
  {
   "cell_type": "code",
   "execution_count": 11,
   "metadata": {
    "id": "36eES_S0_Zct",
    "scrolled": true
   },
   "outputs": [
    {
     "data": {
      "text/plain": [
       "3826"
      ]
     },
     "execution_count": 11,
     "metadata": {},
     "output_type": "execute_result"
    }
   ],
   "source": [
    "df.duplicated().sum()# подсчёт явных дубликатов"
   ]
  },
  {
   "cell_type": "markdown",
   "metadata": {
    "id": "Ot25h6XR_Zct"
   },
   "source": [
    "Вызовите специальный метод `pandas`, чтобы удалить явные дубликаты:"
   ]
  },
  {
   "cell_type": "code",
   "execution_count": 12,
   "metadata": {
    "id": "exFHq6tt_Zct"
   },
   "outputs": [],
   "source": [
    "df = df.drop_duplicates().reset_index(drop=True)# удаление явных дубликатов (с удалением старых индексов и формированием новых)"
   ]
  },
  {
   "cell_type": "markdown",
   "metadata": {
    "id": "Im2YwBEG_Zct"
   },
   "source": [
    "Ещё раз посчитайте явные дубликаты в таблице — убедитесь, что полностью от них избавились:"
   ]
  },
  {
   "cell_type": "code",
   "execution_count": 13,
   "metadata": {
    "id": "-8PuNWQ0_Zct",
    "scrolled": true
   },
   "outputs": [
    {
     "data": {
      "text/plain": [
       "0"
      ]
     },
     "execution_count": 13,
     "metadata": {},
     "output_type": "execute_result"
    }
   ],
   "source": [
    "df.duplicated().sum()# проверка на отсутствие дубликатов"
   ]
  },
  {
   "cell_type": "markdown",
   "metadata": {
    "id": "QlFBsxAr_Zct"
   },
   "source": [
    "Теперь избавьтесь от неявных дубликатов в колонке `genre`. Например, название одного и того же жанра может быть записано немного по-разному. Такие ошибки тоже повлияют на результат исследования."
   ]
  },
  {
   "cell_type": "markdown",
   "metadata": {
    "id": "eSjWwsOh_Zct"
   },
   "source": [
    "Выведите на экран список уникальных названий жанров, отсортированный в алфавитном порядке. Для этого:\n",
    "* извлеките нужный столбец датафрейма, \n",
    "* примените к нему метод сортировки,\n",
    "* для отсортированного столбца вызовите метод, который вернёт уникальные значения из столбца."
   ]
  },
  {
   "cell_type": "code",
   "execution_count": 14,
   "metadata": {
    "id": "JIUcqzZN_Zct"
   },
   "outputs": [
    {
     "data": {
      "text/plain": [
       "['acid',\n",
       " 'acoustic',\n",
       " 'action',\n",
       " 'adult',\n",
       " 'africa',\n",
       " 'afrikaans',\n",
       " 'alternative',\n",
       " 'alternativepunk',\n",
       " 'ambient',\n",
       " 'americana',\n",
       " 'animated',\n",
       " 'anime',\n",
       " 'arabesk',\n",
       " 'arabic',\n",
       " 'arena',\n",
       " 'argentinetango',\n",
       " 'art',\n",
       " 'audiobook',\n",
       " 'author',\n",
       " 'avantgarde',\n",
       " 'axé',\n",
       " 'baile',\n",
       " 'balkan',\n",
       " 'beats',\n",
       " 'bigroom',\n",
       " 'black',\n",
       " 'bluegrass',\n",
       " 'blues',\n",
       " 'bollywood',\n",
       " 'bossa',\n",
       " 'brazilian',\n",
       " 'breakbeat',\n",
       " 'breaks',\n",
       " 'broadway',\n",
       " 'cantautori',\n",
       " 'cantopop',\n",
       " 'canzone',\n",
       " 'caribbean',\n",
       " 'caucasian',\n",
       " 'celtic',\n",
       " 'chamber',\n",
       " 'chanson',\n",
       " 'children',\n",
       " 'chill',\n",
       " 'chinese',\n",
       " 'choral',\n",
       " 'christian',\n",
       " 'christmas',\n",
       " 'classical',\n",
       " 'classicmetal',\n",
       " 'club',\n",
       " 'colombian',\n",
       " 'comedy',\n",
       " 'conjazz',\n",
       " 'contemporary',\n",
       " 'country',\n",
       " 'cuban',\n",
       " 'dance',\n",
       " 'dancehall',\n",
       " 'dancepop',\n",
       " 'dark',\n",
       " 'death',\n",
       " 'deep',\n",
       " 'deutschrock',\n",
       " 'deutschspr',\n",
       " 'dirty',\n",
       " 'disco',\n",
       " 'dnb',\n",
       " 'documentary',\n",
       " 'downbeat',\n",
       " 'downtempo',\n",
       " 'drum',\n",
       " 'dub',\n",
       " 'dubstep',\n",
       " 'eastern',\n",
       " 'easy',\n",
       " 'electronic',\n",
       " 'electropop',\n",
       " 'emo',\n",
       " 'entehno',\n",
       " 'epicmetal',\n",
       " 'estrada',\n",
       " 'ethnic',\n",
       " 'eurofolk',\n",
       " 'european',\n",
       " 'experimental',\n",
       " 'extrememetal',\n",
       " 'fado',\n",
       " 'fairytail',\n",
       " 'film',\n",
       " 'fitness',\n",
       " 'flamenco',\n",
       " 'folk',\n",
       " 'folklore',\n",
       " 'folkmetal',\n",
       " 'folkrock',\n",
       " 'folktronica',\n",
       " 'forró',\n",
       " 'frankreich',\n",
       " 'französisch',\n",
       " 'french',\n",
       " 'funk',\n",
       " 'future',\n",
       " 'gangsta',\n",
       " 'garage',\n",
       " 'german',\n",
       " 'ghazal',\n",
       " 'gitarre',\n",
       " 'glitch',\n",
       " 'gospel',\n",
       " 'gothic',\n",
       " 'grime',\n",
       " 'grunge',\n",
       " 'gypsy',\n",
       " 'handsup',\n",
       " \"hard'n'heavy\",\n",
       " 'hardcore',\n",
       " 'hardstyle',\n",
       " 'hardtechno',\n",
       " 'hip',\n",
       " 'hip-hop',\n",
       " 'hiphop',\n",
       " 'historisch',\n",
       " 'holiday',\n",
       " 'hop',\n",
       " 'horror',\n",
       " 'house',\n",
       " 'hymn',\n",
       " 'idm',\n",
       " 'independent',\n",
       " 'indian',\n",
       " 'indie',\n",
       " 'indipop',\n",
       " 'industrial',\n",
       " 'inspirational',\n",
       " 'instrumental',\n",
       " 'international',\n",
       " 'irish',\n",
       " 'jam',\n",
       " 'japanese',\n",
       " 'jazz',\n",
       " 'jewish',\n",
       " 'jpop',\n",
       " 'jungle',\n",
       " 'k-pop',\n",
       " 'karadeniz',\n",
       " 'karaoke',\n",
       " 'kayokyoku',\n",
       " 'korean',\n",
       " 'laiko',\n",
       " 'latin',\n",
       " 'latino',\n",
       " 'leftfield',\n",
       " 'local',\n",
       " 'lounge',\n",
       " 'loungeelectronic',\n",
       " 'lovers',\n",
       " 'malaysian',\n",
       " 'mandopop',\n",
       " 'marschmusik',\n",
       " 'meditative',\n",
       " 'mediterranean',\n",
       " 'melodic',\n",
       " 'metal',\n",
       " 'metalcore',\n",
       " 'mexican',\n",
       " 'middle',\n",
       " 'minimal',\n",
       " 'miscellaneous',\n",
       " 'modern',\n",
       " 'mood',\n",
       " 'mpb',\n",
       " 'muslim',\n",
       " 'native',\n",
       " 'neoklassik',\n",
       " 'neue',\n",
       " 'new',\n",
       " 'newage',\n",
       " 'newwave',\n",
       " 'nu',\n",
       " 'nujazz',\n",
       " 'numetal',\n",
       " 'oceania',\n",
       " 'old',\n",
       " 'opera',\n",
       " 'orchestral',\n",
       " 'other',\n",
       " 'piano',\n",
       " 'podcasts',\n",
       " 'pop',\n",
       " 'popdance',\n",
       " 'popelectronic',\n",
       " 'popeurodance',\n",
       " 'poprussian',\n",
       " 'post',\n",
       " 'posthardcore',\n",
       " 'postrock',\n",
       " 'power',\n",
       " 'progmetal',\n",
       " 'progressive',\n",
       " 'psychedelic',\n",
       " 'punjabi',\n",
       " 'punk',\n",
       " 'quebecois',\n",
       " 'ragga',\n",
       " 'ram',\n",
       " 'rancheras',\n",
       " 'rap',\n",
       " 'rave',\n",
       " 'reggae',\n",
       " 'reggaeton',\n",
       " 'regional',\n",
       " 'relax',\n",
       " 'religious',\n",
       " 'retro',\n",
       " 'rhythm',\n",
       " 'rnb',\n",
       " 'rnr',\n",
       " 'rock',\n",
       " 'rockabilly',\n",
       " 'rockalternative',\n",
       " 'rockindie',\n",
       " 'rockother',\n",
       " 'romance',\n",
       " 'roots',\n",
       " 'ruspop',\n",
       " 'rusrap',\n",
       " 'rusrock',\n",
       " 'russian',\n",
       " 'salsa',\n",
       " 'samba',\n",
       " 'scenic',\n",
       " 'schlager',\n",
       " 'self',\n",
       " 'sertanejo',\n",
       " 'shanson',\n",
       " 'shoegazing',\n",
       " 'showtunes',\n",
       " 'singer',\n",
       " 'ska',\n",
       " 'skarock',\n",
       " 'slow',\n",
       " 'smooth',\n",
       " 'soft',\n",
       " 'soul',\n",
       " 'soulful',\n",
       " 'sound',\n",
       " 'soundtrack',\n",
       " 'southern',\n",
       " 'specialty',\n",
       " 'speech',\n",
       " 'spiritual',\n",
       " 'sport',\n",
       " 'stonerrock',\n",
       " 'surf',\n",
       " 'swing',\n",
       " 'synthpop',\n",
       " 'synthrock',\n",
       " 'sängerportrait',\n",
       " 'tango',\n",
       " 'tanzorchester',\n",
       " 'taraftar',\n",
       " 'tatar',\n",
       " 'tech',\n",
       " 'techno',\n",
       " 'teen',\n",
       " 'thrash',\n",
       " 'top',\n",
       " 'traditional',\n",
       " 'tradjazz',\n",
       " 'trance',\n",
       " 'tribal',\n",
       " 'trip',\n",
       " 'triphop',\n",
       " 'tropical',\n",
       " 'türk',\n",
       " 'türkçe',\n",
       " 'ukrrock',\n",
       " 'unknown',\n",
       " 'urban',\n",
       " 'uzbek',\n",
       " 'variété',\n",
       " 'vi',\n",
       " 'videogame',\n",
       " 'vocal',\n",
       " 'western',\n",
       " 'world',\n",
       " 'worldbeat',\n",
       " 'ïîï',\n",
       " 'электроника']"
      ]
     },
     "execution_count": 14,
     "metadata": {},
     "output_type": "execute_result"
    }
   ],
   "source": [
    "sorted(df['genre'].unique())# Просмотр уникальных названий жанров"
   ]
  },
  {
   "cell_type": "markdown",
   "metadata": {
    "id": "qej-Qmuo_Zct"
   },
   "source": [
    "Просмотрите список и найдите неявные дубликаты названия `hiphop`. Это могут быть названия с ошибками или альтернативные названия того же жанра.\n",
    "\n",
    "Вы увидите следующие неявные дубликаты:\n",
    "* *hip*,\n",
    "* *hop*,\n",
    "* *hip-hop*.\n",
    "\n",
    "Чтобы очистить от них таблицу, напишите функцию `replace_wrong_genres()` с двумя параметрами: \n",
    "* `wrong_genres` — список дубликатов,\n",
    "* `correct_genre` — строка с правильным значением.\n",
    "\n",
    "Функция должна исправить колонку `genre` в таблице `df`: заменить каждое значение из списка `wrong_genres` на значение из `correct_genre`."
   ]
  },
  {
   "cell_type": "code",
   "execution_count": 15,
   "metadata": {
    "id": "ErNDkmns_Zct"
   },
   "outputs": [],
   "source": [
    "def replace_wrong_genres(wrong_values, correct_value): # на вход функции подаются список неправильных значений и строка с правильным значением\n",
    "    for wrong_value in wrong_values: # перебираем неправильные имена\n",
    "        df['genre'] = df['genre'].replace(wrong_value, correct_value)\n",
    "\n",
    "\n",
    "\n",
    "# Функция для замены неявных дубликатов"
   ]
  },
  {
   "cell_type": "markdown",
   "metadata": {
    "id": "aDoBJxbA_Zct"
   },
   "source": [
    "Вызовите `replace_wrong_genres()` и передайте ей такие аргументы, чтобы она устранила неявные дубликаты: вместо `hip`, `hop` и `hip-hop` в таблице должно быть значение `hiphop`:"
   ]
  },
  {
   "cell_type": "code",
   "execution_count": 16,
   "metadata": {
    "id": "YN5i2hpmSo09"
   },
   "outputs": [],
   "source": [
    "wrong_values=[\"hip\",\"hop\",\"hip-hop\"]\n",
    "correct_value='hiphop'\n",
    "replace_wrong_genres(wrong_values, correct_value)# Устранение неявных дубликатов"
   ]
  },
  {
   "cell_type": "markdown",
   "metadata": {
    "id": "zQKF16_RG15m"
   },
   "source": [
    "Проверьте, что заменили неправильные названия:\n",
    "\n",
    "*   hip\n",
    "*   hop\n",
    "*   hip-hop\n",
    "\n",
    "Выведите отсортированный список уникальных значений столбца `genre`:"
   ]
  },
  {
   "cell_type": "code",
   "execution_count": 17,
   "metadata": {
    "id": "wvixALnFG15m"
   },
   "outputs": [
    {
     "data": {
      "text/plain": [
       "['acid',\n",
       " 'acoustic',\n",
       " 'action',\n",
       " 'adult',\n",
       " 'africa',\n",
       " 'afrikaans',\n",
       " 'alternative',\n",
       " 'alternativepunk',\n",
       " 'ambient',\n",
       " 'americana',\n",
       " 'animated',\n",
       " 'anime',\n",
       " 'arabesk',\n",
       " 'arabic',\n",
       " 'arena',\n",
       " 'argentinetango',\n",
       " 'art',\n",
       " 'audiobook',\n",
       " 'author',\n",
       " 'avantgarde',\n",
       " 'axé',\n",
       " 'baile',\n",
       " 'balkan',\n",
       " 'beats',\n",
       " 'bigroom',\n",
       " 'black',\n",
       " 'bluegrass',\n",
       " 'blues',\n",
       " 'bollywood',\n",
       " 'bossa',\n",
       " 'brazilian',\n",
       " 'breakbeat',\n",
       " 'breaks',\n",
       " 'broadway',\n",
       " 'cantautori',\n",
       " 'cantopop',\n",
       " 'canzone',\n",
       " 'caribbean',\n",
       " 'caucasian',\n",
       " 'celtic',\n",
       " 'chamber',\n",
       " 'chanson',\n",
       " 'children',\n",
       " 'chill',\n",
       " 'chinese',\n",
       " 'choral',\n",
       " 'christian',\n",
       " 'christmas',\n",
       " 'classical',\n",
       " 'classicmetal',\n",
       " 'club',\n",
       " 'colombian',\n",
       " 'comedy',\n",
       " 'conjazz',\n",
       " 'contemporary',\n",
       " 'country',\n",
       " 'cuban',\n",
       " 'dance',\n",
       " 'dancehall',\n",
       " 'dancepop',\n",
       " 'dark',\n",
       " 'death',\n",
       " 'deep',\n",
       " 'deutschrock',\n",
       " 'deutschspr',\n",
       " 'dirty',\n",
       " 'disco',\n",
       " 'dnb',\n",
       " 'documentary',\n",
       " 'downbeat',\n",
       " 'downtempo',\n",
       " 'drum',\n",
       " 'dub',\n",
       " 'dubstep',\n",
       " 'eastern',\n",
       " 'easy',\n",
       " 'electronic',\n",
       " 'electropop',\n",
       " 'emo',\n",
       " 'entehno',\n",
       " 'epicmetal',\n",
       " 'estrada',\n",
       " 'ethnic',\n",
       " 'eurofolk',\n",
       " 'european',\n",
       " 'experimental',\n",
       " 'extrememetal',\n",
       " 'fado',\n",
       " 'fairytail',\n",
       " 'film',\n",
       " 'fitness',\n",
       " 'flamenco',\n",
       " 'folk',\n",
       " 'folklore',\n",
       " 'folkmetal',\n",
       " 'folkrock',\n",
       " 'folktronica',\n",
       " 'forró',\n",
       " 'frankreich',\n",
       " 'französisch',\n",
       " 'french',\n",
       " 'funk',\n",
       " 'future',\n",
       " 'gangsta',\n",
       " 'garage',\n",
       " 'german',\n",
       " 'ghazal',\n",
       " 'gitarre',\n",
       " 'glitch',\n",
       " 'gospel',\n",
       " 'gothic',\n",
       " 'grime',\n",
       " 'grunge',\n",
       " 'gypsy',\n",
       " 'handsup',\n",
       " \"hard'n'heavy\",\n",
       " 'hardcore',\n",
       " 'hardstyle',\n",
       " 'hardtechno',\n",
       " 'hiphop',\n",
       " 'historisch',\n",
       " 'holiday',\n",
       " 'horror',\n",
       " 'house',\n",
       " 'hymn',\n",
       " 'idm',\n",
       " 'independent',\n",
       " 'indian',\n",
       " 'indie',\n",
       " 'indipop',\n",
       " 'industrial',\n",
       " 'inspirational',\n",
       " 'instrumental',\n",
       " 'international',\n",
       " 'irish',\n",
       " 'jam',\n",
       " 'japanese',\n",
       " 'jazz',\n",
       " 'jewish',\n",
       " 'jpop',\n",
       " 'jungle',\n",
       " 'k-pop',\n",
       " 'karadeniz',\n",
       " 'karaoke',\n",
       " 'kayokyoku',\n",
       " 'korean',\n",
       " 'laiko',\n",
       " 'latin',\n",
       " 'latino',\n",
       " 'leftfield',\n",
       " 'local',\n",
       " 'lounge',\n",
       " 'loungeelectronic',\n",
       " 'lovers',\n",
       " 'malaysian',\n",
       " 'mandopop',\n",
       " 'marschmusik',\n",
       " 'meditative',\n",
       " 'mediterranean',\n",
       " 'melodic',\n",
       " 'metal',\n",
       " 'metalcore',\n",
       " 'mexican',\n",
       " 'middle',\n",
       " 'minimal',\n",
       " 'miscellaneous',\n",
       " 'modern',\n",
       " 'mood',\n",
       " 'mpb',\n",
       " 'muslim',\n",
       " 'native',\n",
       " 'neoklassik',\n",
       " 'neue',\n",
       " 'new',\n",
       " 'newage',\n",
       " 'newwave',\n",
       " 'nu',\n",
       " 'nujazz',\n",
       " 'numetal',\n",
       " 'oceania',\n",
       " 'old',\n",
       " 'opera',\n",
       " 'orchestral',\n",
       " 'other',\n",
       " 'piano',\n",
       " 'podcasts',\n",
       " 'pop',\n",
       " 'popdance',\n",
       " 'popelectronic',\n",
       " 'popeurodance',\n",
       " 'poprussian',\n",
       " 'post',\n",
       " 'posthardcore',\n",
       " 'postrock',\n",
       " 'power',\n",
       " 'progmetal',\n",
       " 'progressive',\n",
       " 'psychedelic',\n",
       " 'punjabi',\n",
       " 'punk',\n",
       " 'quebecois',\n",
       " 'ragga',\n",
       " 'ram',\n",
       " 'rancheras',\n",
       " 'rap',\n",
       " 'rave',\n",
       " 'reggae',\n",
       " 'reggaeton',\n",
       " 'regional',\n",
       " 'relax',\n",
       " 'religious',\n",
       " 'retro',\n",
       " 'rhythm',\n",
       " 'rnb',\n",
       " 'rnr',\n",
       " 'rock',\n",
       " 'rockabilly',\n",
       " 'rockalternative',\n",
       " 'rockindie',\n",
       " 'rockother',\n",
       " 'romance',\n",
       " 'roots',\n",
       " 'ruspop',\n",
       " 'rusrap',\n",
       " 'rusrock',\n",
       " 'russian',\n",
       " 'salsa',\n",
       " 'samba',\n",
       " 'scenic',\n",
       " 'schlager',\n",
       " 'self',\n",
       " 'sertanejo',\n",
       " 'shanson',\n",
       " 'shoegazing',\n",
       " 'showtunes',\n",
       " 'singer',\n",
       " 'ska',\n",
       " 'skarock',\n",
       " 'slow',\n",
       " 'smooth',\n",
       " 'soft',\n",
       " 'soul',\n",
       " 'soulful',\n",
       " 'sound',\n",
       " 'soundtrack',\n",
       " 'southern',\n",
       " 'specialty',\n",
       " 'speech',\n",
       " 'spiritual',\n",
       " 'sport',\n",
       " 'stonerrock',\n",
       " 'surf',\n",
       " 'swing',\n",
       " 'synthpop',\n",
       " 'synthrock',\n",
       " 'sängerportrait',\n",
       " 'tango',\n",
       " 'tanzorchester',\n",
       " 'taraftar',\n",
       " 'tatar',\n",
       " 'tech',\n",
       " 'techno',\n",
       " 'teen',\n",
       " 'thrash',\n",
       " 'top',\n",
       " 'traditional',\n",
       " 'tradjazz',\n",
       " 'trance',\n",
       " 'tribal',\n",
       " 'trip',\n",
       " 'triphop',\n",
       " 'tropical',\n",
       " 'türk',\n",
       " 'türkçe',\n",
       " 'ukrrock',\n",
       " 'unknown',\n",
       " 'urban',\n",
       " 'uzbek',\n",
       " 'variété',\n",
       " 'vi',\n",
       " 'videogame',\n",
       " 'vocal',\n",
       " 'western',\n",
       " 'world',\n",
       " 'worldbeat',\n",
       " 'ïîï',\n",
       " 'электроника']"
      ]
     },
     "execution_count": 17,
     "metadata": {},
     "output_type": "execute_result"
    }
   ],
   "source": [
    "sorted(df['genre'].unique())# Проверка на неявные дубликаты"
   ]
  },
  {
   "cell_type": "markdown",
   "metadata": {
    "id": "jz6a9-7HQUDd"
   },
   "source": [
    "**Выводы**\n",
    "\n",
    "Предобработка обнаружила три проблемы в данных:\n",
    "\n",
    "- нарушения в стиле заголовков,\n",
    "- пропущенные значения,\n",
    "- дубликаты — явные и неявные.\n",
    "\n",
    "Вы исправили заголовки, чтобы упростить работу с таблицей. Без дубликатов исследование станет более точным.\n",
    "\n",
    "Пропущенные значения вы заменили на `'unknown'`. Ещё предстоит увидеть, не повредят ли исследованию пропуски в колонке `genre`.\n",
    "\n",
    "Теперь можно перейти к проверке гипотез. "
   ]
  },
  {
   "cell_type": "markdown",
   "metadata": {
    "id": "WttZHXH0SqKk"
   },
   "source": [
    "## Проверка гипотез"
   ]
  },
  {
   "cell_type": "markdown",
   "metadata": {
    "id": "Im936VVi_Zcu"
   },
   "source": [
    "### Сравнение поведения пользователей двух столиц"
   ]
  },
  {
   "cell_type": "markdown",
   "metadata": {
    "id": "nwt_MuaL_Zcu"
   },
   "source": [
    "Первая гипотеза утверждает, что пользователи по-разному слушают музыку в Москве и Санкт-Петербурге. Проверьте это предположение по данным о трёх днях недели — понедельнике, среде и пятнице. Для этого:\n",
    "\n",
    "* Разделите пользователей Москвы и Санкт-Петербурга\n",
    "* Сравните, сколько треков послушала каждая группа пользователей в понедельник, среду и пятницу.\n"
   ]
  },
  {
   "cell_type": "markdown",
   "metadata": {
    "id": "8Dw_YMmT_Zcu"
   },
   "source": [
    "Для тренировки сначала выполните каждый из расчётов по отдельности. \n",
    "\n",
    "Оцените активность пользователей в каждом городе. Сгруппируйте данные по городу и посчитайте прослушивания в каждой группе.\n",
    "\n"
   ]
  },
  {
   "cell_type": "code",
   "execution_count": 18,
   "metadata": {
    "id": "0_Qs96oh_Zcu"
   },
   "outputs": [
    {
     "data": {
      "text/plain": [
       "city\n",
       "Moscow              42741\n",
       "Saint-Petersburg    18512\n",
       "Name: user_id, dtype: int64"
      ]
     },
     "execution_count": 18,
     "metadata": {},
     "output_type": "execute_result"
    }
   ],
   "source": [
    "df.groupby('city')['user_id'].count()# Подсчёт прослушиваний в каждом городе"
   ]
  },
  {
   "cell_type": "markdown",
   "metadata": {
    "id": "dzli3w8o_Zcu"
   },
   "source": [
    "В Москве прослушиваний больше, чем в Петербурге. Из этого не следует, что московские пользователи чаще слушают музыку. Просто самих пользователей в Москве больше.\n",
    "\n",
    "Теперь сгруппируйте данные по дню недели и подсчитайте прослушивания в понедельник, среду и пятницу. Учтите, что в данных есть информация только о прослушиваниях только за эти дни.\n"
   ]
  },
  {
   "cell_type": "code",
   "execution_count": 19,
   "metadata": {
    "id": "uZMKjiJz_Zcu"
   },
   "outputs": [
    {
     "data": {
      "text/plain": [
       "day\n",
       "Friday       21840\n",
       "Monday       21354\n",
       "Wednesday    18059\n",
       "Name: user_id, dtype: int64"
      ]
     },
     "execution_count": 19,
     "metadata": {},
     "output_type": "execute_result"
    }
   ],
   "source": [
    "df.groupby('day')['user_id'].count()# Подсчёт прослушиваний в каждый из трёх дней"
   ]
  },
  {
   "cell_type": "markdown",
   "metadata": {
    "id": "cC2tNrlL_Zcu"
   },
   "source": [
    "В среднем пользователи из двух городов менее активны по средам. Но картина может измениться, если рассмотреть каждый город в отдельности."
   ]
  },
  {
   "cell_type": "markdown",
   "metadata": {
    "id": "POzs8bGa_Zcu"
   },
   "source": [
    "Вы видели, как работает группировка по городу и по дням недели. Теперь напишите функцию, которая объединит два эти расчёта.\n",
    "\n",
    "Создайте функцию `number_tracks()`, которая посчитает прослушивания для заданного дня и города. Ей понадобятся два параметра:\n",
    "* день недели,\n",
    "* название города.\n",
    "\n",
    "В функции сохраните в переменную строки исходной таблицы, у которых значение:\n",
    "  * в колонке `day` равно параметру `day`,\n",
    "  * в колонке `city` равно параметру `city`.\n",
    "\n",
    "Для этого примените последовательную фильтрацию с логической индексацией.\n",
    "\n",
    "Затем посчитайте значения в столбце `user_id` получившейся таблицы. Результат сохраните в новую переменную. Верните эту переменную из функции."
   ]
  },
  {
   "cell_type": "code",
   "execution_count": 20,
   "metadata": {
    "id": "Nz3GdQB1_Zcu"
   },
   "outputs": [],
   "source": [
    "# <создание функции number_tracks()>\n",
    "def number_tracks(day, city):\n",
    "    track_list =df[(df['day']==day) & (df['city']==city)]\n",
    "    track_list_count=track_list['user_id'].count()\n",
    "    return track_list_count                # В переменной track_list сохраняются те строки таблицы df, для которых \n",
    "# значение в столбце 'day' равно параметру day и одновременно значение\n",
    "# в столбце 'city' равно параметру city (используйте последовательную фильтрацию\n",
    "# с помощью логической индексации).\n",
    "# В переменной track_list_count сохраняется число значений столбца 'user_id',\n",
    "# рассчитанное методом count() для таблицы track_list.\n",
    "# Функция возвращает число - значение track_list_count.\n",
    "\n",
    "# Функция для подсчёта прослушиваний для конкретного города и дня.\n",
    "# С помощью последовательной фильтрации с логической индексацией она \n",
    "# сначала получит из исходной таблицы строки с нужным днём,\n",
    "# затем из результата отфильтрует строки с нужным городом,\n",
    "# методом count() посчитает количество значений в колонке user_id. \n",
    "# Это количество функция вернёт в качестве результата"
   ]
  },
  {
   "cell_type": "markdown",
   "metadata": {
    "id": "ytf7xFrFJQ2r"
   },
   "source": [
    "Вызовите `number_tracks()` шесть раз, меняя значение параметров — так, чтобы получить данные для каждого города в каждый из трёх дней."
   ]
  },
  {
   "cell_type": "code",
   "execution_count": 21,
   "metadata": {
    "id": "rJcRATNQ_Zcu"
   },
   "outputs": [
    {
     "data": {
      "text/plain": [
       "15740"
      ]
     },
     "execution_count": 21,
     "metadata": {},
     "output_type": "execute_result"
    }
   ],
   "source": [
    "number_tracks(\"Monday\", \"Moscow\")# количество прослушиваний в Москве по понедельникам"
   ]
  },
  {
   "cell_type": "code",
   "execution_count": 22,
   "metadata": {
    "id": "hq_ncZ5T_Zcu"
   },
   "outputs": [
    {
     "data": {
      "text/plain": [
       "5614"
      ]
     },
     "execution_count": 22,
     "metadata": {},
     "output_type": "execute_result"
    }
   ],
   "source": [
    "number_tracks(\"Monday\", \"Saint-Petersburg\")# количество прослушиваний в Санкт-Петербурге по понедельникам"
   ]
  },
  {
   "cell_type": "code",
   "execution_count": 23,
   "metadata": {
    "id": "_NTy2VPU_Zcu"
   },
   "outputs": [
    {
     "data": {
      "text/plain": [
       "11056"
      ]
     },
     "execution_count": 23,
     "metadata": {},
     "output_type": "execute_result"
    }
   ],
   "source": [
    "number_tracks(\"Wednesday\", \"Moscow\")# количество прослушиваний в Москве по средам # количество прослушиваний в Москве по средам"
   ]
  },
  {
   "cell_type": "code",
   "execution_count": 24,
   "metadata": {
    "id": "j2y3TAwo_Zcu"
   },
   "outputs": [
    {
     "data": {
      "text/plain": [
       "7003"
      ]
     },
     "execution_count": 24,
     "metadata": {},
     "output_type": "execute_result"
    }
   ],
   "source": [
    "number_tracks(\"Wednesday\", \"Saint-Petersburg\")# количество прослушиваний в Санкт-Петербурге по средам"
   ]
  },
  {
   "cell_type": "code",
   "execution_count": 25,
   "metadata": {
    "id": "vYDw5u_K_Zcu"
   },
   "outputs": [
    {
     "data": {
      "text/plain": [
       "15945"
      ]
     },
     "execution_count": 25,
     "metadata": {},
     "output_type": "execute_result"
    }
   ],
   "source": [
    "number_tracks(\"Friday\", \"Moscow\")# количество прослушиваний в Москве по пятницам"
   ]
  },
  {
   "cell_type": "code",
   "execution_count": 26,
   "metadata": {
    "id": "8_yzFtW3_Zcu",
    "scrolled": true
   },
   "outputs": [
    {
     "data": {
      "text/plain": [
       "5895"
      ]
     },
     "execution_count": 26,
     "metadata": {},
     "output_type": "execute_result"
    }
   ],
   "source": [
    "number_tracks(\"Friday\", \"Saint-Petersburg\")# количество прослушиваний в Санкт-Петербурге по пятницам"
   ]
  },
  {
   "cell_type": "markdown",
   "metadata": {
    "id": "7QXffbO-_Zcu"
   },
   "source": [
    "Создайте c помощью конструктора `pd.DataFrame` таблицу, где\n",
    "* названия колонок — `['city', 'monday', 'wednesday', 'friday']`;\n",
    "* данные — результаты, которые вы получили с помощью `number_tracks`."
   ]
  },
  {
   "cell_type": "code",
   "execution_count": 27,
   "metadata": {
    "id": "APAcLpOr_Zcu"
   },
   "outputs": [
    {
     "name": "stdout",
     "output_type": "stream",
     "text": [
      "               city  monday  wednesday  friday\n",
      "0            Moscow   15740      11056   15945\n",
      "1  Saint-Petersburg    5614       7003    5895\n"
     ]
    }
   ],
   "source": [
    "data = [['Moscow', 15740, 11056, 15945],\n",
    "        ['Saint-Petersburg', 5614, 7003, 5895]] \n",
    "columns = ['city', 'monday', 'wednesday', 'friday'] \n",
    "\n",
    "table = pd.DataFrame(data = data, columns = columns)\n",
    "print(table)"
   ]
  },
  {
   "cell_type": "markdown",
   "metadata": {
    "id": "-EgPIHYu_Zcu"
   },
   "source": [
    "**Выводы**\n",
    "\n",
    "Данные показывают разницу поведения пользователей:\n",
    "\n",
    "- В Москве пик прослушиваний приходится на понедельник и пятницу, а в среду заметен спад.\n",
    "- В Петербурге, наоборот, больше слушают музыку по средам. Активность в понедельник и пятницу здесь почти в равной мере уступает среде.\n",
    "\n",
    "Значит, данные говорят в пользу первой гипотезы."
   ]
  },
  {
   "cell_type": "markdown",
   "metadata": {
    "id": "atZAxtq4_Zcu"
   },
   "source": [
    "### Музыка в начале и в конце недели"
   ]
  },
  {
   "cell_type": "markdown",
   "metadata": {
    "id": "eXrQqXFH_Zcu"
   },
   "source": [
    "Согласно второй гипотезе, утром в понедельник в Москве преобладают одни жанры, а в Петербурге — другие. Так же и вечером пятницы преобладают разные жанры — в зависимости от города."
   ]
  },
  {
   "cell_type": "markdown",
   "metadata": {
    "id": "S8UcW6Hw_Zcu"
   },
   "source": [
    "Сохраните таблицы с данными в две переменные:\n",
    "* по Москве — в `moscow_general`;\n",
    "* по Санкт-Петербургу — в `spb_general`."
   ]
  },
  {
   "cell_type": "code",
   "execution_count": 28,
   "metadata": {
    "id": "qeaFfM_P_Zcu"
   },
   "outputs": [],
   "source": [
    "moscow_general = df[df['city'] == 'Moscow']# получение таблицы spb_general из тех строк таблицы df,\n",
    "# для которых значение в столбце 'city' равно 'Moscow'\n"
   ]
  },
  {
   "cell_type": "code",
   "execution_count": 29,
   "metadata": {
    "id": "ORaVRKto_Zcu"
   },
   "outputs": [],
   "source": [
    "spb_general = df[df['city'] == 'Saint-Petersburg']# получение таблицы moscow_general из тех строк таблицы df, \n",
    "\n",
    "\n",
    "\n",
    "\n",
    "# для которых значение в столбце 'city' равно 'Saint-Petersburg'\n"
   ]
  },
  {
   "cell_type": "markdown",
   "metadata": {
    "id": "MEJV-CX2_Zcu"
   },
   "source": [
    "Создайте функцию `genre_weekday()` с четырьмя параметрами:\n",
    "* таблица (датафрейм) с данными,\n",
    "* день недели,\n",
    "* начальная временная метка в формате 'hh:mm', \n",
    "* последняя временная метка в формате 'hh:mm'.\n",
    "\n",
    "Функция должна вернуть информацию о топ-10 жанров тех треков, которые прослушивали в указанный день, в промежутке между двумя отметками времени."
   ]
  },
  {
   "cell_type": "code",
   "execution_count": 30,
   "metadata": {
    "id": "laJT9BYl_Zcu"
   },
   "outputs": [],
   "source": [
    "def genre_weekday(table, day, time1, time2):\n",
    "    genre_df = table[table['day'] == day]\n",
    "    genre_df = genre_df[genre_df['time'] > time1]\n",
    "    genre_df = genre_df[genre_df['time'] < time2]\n",
    "    genre_df_count = genre_df.groupby('genre')['genre'].count()\n",
    "    genre_df_sorted = genre_df_count.sort_values(ascending=False)\n",
    "    return genre_df_sorted.head(10)\n",
    "\n",
    "\n",
    "# Объявление функции genre_weekday() с параметрами table, day, time1, time2,\n",
    "# которая возвращает информацию о самых популярных жанрах в указанный день в\n",
    "# заданное время:\n",
    "# 1) в переменную genre_df сохраняются те строки переданного датафрейма table, для\n",
    "#    которых одновременно:\n",
    "#    - значение в столбце day равно значению аргумента day\n",
    "#    - значение в столбце time больше значения аргумента time1\n",
    "#    - значение в столбце time меньше значения аргумента time2\n",
    "#    Используйте последовательную фильтрацию с помощью логической индексации.\n",
    "# 2) сгруппировать датафрейм genre_df по столбцу genre, взять один из его\n",
    "#    столбцов и посчитать методом count() количество записей для каждого из\n",
    "#    присутствующих жанров, получившийся Series записать в переменную\n",
    "#    genre_df_count\n",
    "# 3) отсортировать genre_df_count по убыванию встречаемости и сохранить\n",
    "#    в переменную genre_df_sorted\n",
    "# 4) вернуть Series из 10 первых значений genre_df_sorted, это будут топ-10\n",
    "#    популярных жанров (в указанный день, в заданное время)"
   ]
  },
  {
   "cell_type": "markdown",
   "metadata": {
    "id": "la2s2_PF_Zcu"
   },
   "source": [
    "Cравните результаты функции `genre_weekday()` для Москвы и Санкт-Петербурга в понедельник утром (с 7:00 до 11:00) и в пятницу вечером (с 17:00 до 23:00):"
   ]
  },
  {
   "cell_type": "code",
   "execution_count": 31,
   "metadata": {
    "id": "yz7itPUQ_Zcu"
   },
   "outputs": [
    {
     "data": {
      "text/plain": [
       "genre\n",
       "pop            781\n",
       "dance          549\n",
       "electronic     480\n",
       "rock           474\n",
       "hiphop         286\n",
       "ruspop         186\n",
       "world          181\n",
       "rusrap         175\n",
       "alternative    164\n",
       "unknown        161\n",
       "Name: genre, dtype: int64"
      ]
     },
     "execution_count": 31,
     "metadata": {},
     "output_type": "execute_result"
    }
   ],
   "source": [
    "genre_weekday(moscow_general, 'Monday', '07:00', '11:00')\n",
    "# вызов функции для утра понедельника в Москве (вместо df — таблица moscow_general)\n",
    "# объекты, хранящие время, являются строками и сравниваются как строки\n",
    "# пример вызова: genre_weekday(moscow_general, 'Monday', '07:00', '11:00')"
   ]
  },
  {
   "cell_type": "code",
   "execution_count": 32,
   "metadata": {
    "id": "kwUcHPdy_Zcu"
   },
   "outputs": [
    {
     "data": {
      "text/plain": [
       "genre\n",
       "pop            218\n",
       "dance          182\n",
       "rock           162\n",
       "electronic     147\n",
       "hiphop          80\n",
       "ruspop          64\n",
       "alternative     58\n",
       "rusrap          55\n",
       "jazz            44\n",
       "classical       40\n",
       "Name: genre, dtype: int64"
      ]
     },
     "execution_count": 32,
     "metadata": {},
     "output_type": "execute_result"
    }
   ],
   "source": [
    "genre_weekday(spb_general, 'Monday', '07:00', '11:00')# вызов функции для утра понедельника в Петербурге (вместо df — таблица spb_general)"
   ]
  },
  {
   "cell_type": "code",
   "execution_count": 33,
   "metadata": {
    "id": "EzXVRE1o_Zcu"
   },
   "outputs": [
    {
     "data": {
      "text/plain": [
       "genre\n",
       "pop            713\n",
       "rock           517\n",
       "dance          495\n",
       "electronic     482\n",
       "hiphop         273\n",
       "world          208\n",
       "ruspop         170\n",
       "alternative    163\n",
       "classical      163\n",
       "rusrap         142\n",
       "Name: genre, dtype: int64"
      ]
     },
     "execution_count": 33,
     "metadata": {},
     "output_type": "execute_result"
    }
   ],
   "source": [
    "genre_weekday(moscow_general, 'Friday', '17:00', '23:00')# вызов функции для вечера пятницы в Москве"
   ]
  },
  {
   "cell_type": "code",
   "execution_count": 34,
   "metadata": {
    "id": "JZaEKu5v_Zcu",
    "scrolled": true
   },
   "outputs": [
    {
     "data": {
      "text/plain": [
       "genre\n",
       "pop            256\n",
       "rock           216\n",
       "electronic     216\n",
       "dance          210\n",
       "hiphop          97\n",
       "alternative     63\n",
       "jazz            61\n",
       "classical       60\n",
       "rusrap          59\n",
       "world           54\n",
       "Name: genre, dtype: int64"
      ]
     },
     "execution_count": 34,
     "metadata": {},
     "output_type": "execute_result"
    }
   ],
   "source": [
    "genre_weekday(spb_general, 'Friday', '17:00', '23:00')# вызов функции для вечера пятницы в Петербурге"
   ]
  },
  {
   "cell_type": "markdown",
   "metadata": {
    "id": "wrCe4MNX_Zcu"
   },
   "source": [
    "**Выводы**\n",
    "\n",
    "Если сравнить топ-10 жанров в понедельник утром, можно сделать такие выводы:\n",
    "\n",
    "1. В Москве и Петербурге слушают похожую музыку. Единственное отличие — в московский рейтинг вошёл жанр “world”, а в петербургский — джаз и классика.\n",
    "\n",
    "2. В Москве пропущенных значений оказалось так много, что значение `'unknown'` заняло десятое место среди самых популярных жанров. Значит, пропущенные значения занимают существенную долю в данных и угрожают достоверности исследования.\n",
    "\n",
    "Вечер пятницы не меняет эту картину. Некоторые жанры поднимаются немного выше, другие спускаются, но в целом топ-10 остаётся тем же самым.\n",
    "\n",
    "Таким образом, вторая гипотеза подтвердилась лишь частично:\n",
    "* Пользователи слушают похожую музыку в начале недели и в конце.\n",
    "* Разница между Москвой и Петербургом не слишком выражена. В Москве чаще слушают русскую популярную музыку, в Петербурге — джаз.\n",
    "\n",
    "Однако пропуски в данных ставят под сомнение этот результат. В Москве их так много, что рейтинг топ-10 мог бы выглядеть иначе, если бы не утерянные  данные о жанрах."
   ]
  },
  {
   "cell_type": "markdown",
   "metadata": {
    "id": "JolODAqr_Zcu"
   },
   "source": [
    "### Жанровые предпочтения в Москве и Петербурге\n",
    "\n",
    "Гипотеза: Петербург — столица рэпа, музыку этого жанра там слушают чаще, чем в Москве.  А Москва — город контрастов, в котором, тем не менее, преобладает поп-музыка."
   ]
  },
  {
   "cell_type": "markdown",
   "metadata": {
    "id": "DlegSvaT_Zcu"
   },
   "source": [
    "Сгруппируйте таблицу `moscow_general` по жанру и посчитайте прослушивания треков каждого жанра методом `count()`. Затем отсортируйте результат в порядке убывания и сохраните его в таблице `moscow_genres`."
   ]
  },
  {
   "cell_type": "code",
   "execution_count": 35,
   "metadata": {
    "id": "r19lIPke_Zcu"
   },
   "outputs": [],
   "source": [
    "# одной строкой: группировка таблицы moscow_general по столбцу 'genre', \n",
    "moscow_genres=moscow_general.groupby('genre')['genre'].count().sort_values(ascending = False)# подсчёт числа значений 'genre' в этой группировке методом count(), \n",
    "# сортировка получившегося Series в порядке убывания и сохранение в moscow_genres"
   ]
  },
  {
   "cell_type": "markdown",
   "metadata": {
    "id": "6kMuomxTiIr8"
   },
   "source": [
    "Выведите на экран первые десять строк `moscow_genres`:"
   ]
  },
  {
   "cell_type": "code",
   "execution_count": 36,
   "metadata": {
    "id": "WhCSooF8_Zcv"
   },
   "outputs": [
    {
     "data": {
      "text/plain": [
       "genre\n",
       "pop            5892\n",
       "dance          4435\n",
       "rock           3965\n",
       "electronic     3786\n",
       "hiphop         2096\n",
       "classical      1616\n",
       "world          1432\n",
       "alternative    1379\n",
       "ruspop         1372\n",
       "rusrap         1161\n",
       "Name: genre, dtype: int64"
      ]
     },
     "execution_count": 36,
     "metadata": {},
     "output_type": "execute_result"
    }
   ],
   "source": [
    "moscow_genres.head(10)# просмотр первых 10 строк moscow_genres"
   ]
  },
  {
   "cell_type": "markdown",
   "metadata": {
    "id": "cnPG2vnN_Zcv"
   },
   "source": [
    "Теперь повторите то же и для Петербурга.\n",
    "\n",
    "Сгруппируйте таблицу `spb_general` по жанру. Посчитайте прослушивания треков каждого жанра. Результат отсортируйте в порядке убывания и сохраните в таблице `spb_genres`:\n"
   ]
  },
  {
   "cell_type": "code",
   "execution_count": 37,
   "metadata": {
    "id": "gluLIpE7_Zcv"
   },
   "outputs": [],
   "source": [
    "spb_genres=spb_general.groupby('genre')['genre'].count().sort_values(ascending = False)# одной строкой: группировка таблицы spb_general по столбцу 'genre', \n",
    "# подсчёт числа значений 'genre' в этой группировке методом count(), \n",
    "# сортировка получившегося Series в порядке убывания и сохранение в spb_genres"
   ]
  },
  {
   "cell_type": "markdown",
   "metadata": {
    "id": "5Doha_ODgyQ8"
   },
   "source": [
    "Выведите на экран первые десять строк `spb_genres`:"
   ]
  },
  {
   "cell_type": "code",
   "execution_count": 38,
   "metadata": {
    "id": "uaGJHjVU_Zcv"
   },
   "outputs": [
    {
     "data": {
      "text/plain": [
       "genre\n",
       "pop            2431\n",
       "dance          1932\n",
       "rock           1879\n",
       "electronic     1736\n",
       "hiphop          960\n",
       "alternative     649\n",
       "classical       646\n",
       "rusrap          564\n",
       "ruspop          538\n",
       "world           515\n",
       "Name: genre, dtype: int64"
      ]
     },
     "execution_count": 38,
     "metadata": {},
     "output_type": "execute_result"
    }
   ],
   "source": [
    "spb_genres.head(10)# просмотр первых 10 строк spb_genres"
   ]
  },
  {
   "cell_type": "markdown",
   "metadata": {
    "id": "RY51YJYu_Zcv"
   },
   "source": [
    "**Выводы**"
   ]
  },
  {
   "cell_type": "markdown",
   "metadata": {
    "id": "nVhnJEm__Zcv"
   },
   "source": [
    "Гипотеза частично подтвердилась:\n",
    "* Поп-музыка — самый популярный жанр в Москве, как и предполагала гипотеза. Более того, в топ-10 жанров встречается близкий жанр — русская популярная музыка.\n",
    "* Вопреки ожиданиям, рэп одинаково популярен в Москве и Петербурге. \n"
   ]
  },
  {
   "cell_type": "markdown",
   "metadata": {
    "id": "ykKQ0N65_Zcv"
   },
   "source": [
    "## Итоги исследования"
   ]
  },
  {
   "cell_type": "markdown",
   "metadata": {
    "id": "tjUwbHb3_Zcv"
   },
   "source": [
    "Вы проверили три гипотезы и установили:\n",
    "\n",
    "1. День недели по-разному влияет на активность пользователей в Москве и Петербурге. \n",
    "\n",
    "Первая гипотеза полностью подтвердилась.\n",
    "\n",
    "2. Музыкальные предпочтения не сильно меняются в течение недели — будь то Москва или Петербург. Небольшие различия заметны в начале недели, по понедельникам:\n",
    "* в Москве слушают музыку жанра “world”,\n",
    "* в Петербурге — джаз и классику.\n",
    "\n",
    "Таким образом, вторая гипотеза подтвердилась лишь отчасти. Этот результат мог оказаться иным, если бы не пропуски в данных.\n",
    "\n",
    "3. Во вкусах пользователей Москвы и Петербурга больше общего чем различий. Вопреки ожиданиям, предпочтения жанров в Петербурге напоминают московские.\n",
    "\n",
    "Третья гипотеза не подтвердилась. Если различия в предпочтениях и существуют, на основной массе пользователей они незаметны.\n",
    "\n",
    "**На практике исследования содержат проверки статистических гипотез.**\n",
    "Из данных одного сервиса не всегда можно сделать вывод о всех жителях города.\n",
    "Проверки статистических гипотез покажут, насколько они достоверны, исходя из имеющихся данных. \n",
    "С методами проверок гипотез вы ещё познакомитесь в следующих темах."
   ]
  }
 ],
 "metadata": {
  "ExecuteTimeLog": [
   {
    "duration": 535,
    "start_time": "2021-12-19T13:04:26.550Z"
   },
   {
    "duration": 63,
    "start_time": "2021-12-19T13:05:34.629Z"
   },
   {
    "duration": 228,
    "start_time": "2021-12-19T13:05:47.438Z"
   },
   {
    "duration": 131,
    "start_time": "2021-12-19T13:06:25.501Z"
   },
   {
    "duration": 16,
    "start_time": "2021-12-19T13:06:55.284Z"
   },
   {
    "duration": 10,
    "start_time": "2021-12-19T13:07:03.791Z"
   },
   {
    "duration": 24,
    "start_time": "2021-12-19T13:07:09.388Z"
   },
   {
    "duration": 434,
    "start_time": "2021-12-21T04:18:56.664Z"
   },
   {
    "duration": 750,
    "start_time": "2021-12-21T04:19:09.384Z"
   },
   {
    "duration": 194,
    "start_time": "2021-12-21T04:19:10.964Z"
   },
   {
    "duration": 29,
    "start_time": "2021-12-21T04:19:12.322Z"
   },
   {
    "duration": 31,
    "start_time": "2021-12-21T04:19:14.730Z"
   },
   {
    "duration": 5,
    "start_time": "2021-12-21T04:20:33.781Z"
   },
   {
    "duration": 29,
    "start_time": "2021-12-21T04:23:12.901Z"
   },
   {
    "duration": 5,
    "start_time": "2021-12-21T04:23:15.383Z"
   },
   {
    "duration": 31,
    "start_time": "2021-12-21T04:28:41.337Z"
   },
   {
    "duration": 456,
    "start_time": "2021-12-21T04:28:52.730Z"
   },
   {
    "duration": 386,
    "start_time": "2021-12-21T04:29:19.588Z"
   },
   {
    "duration": 25,
    "start_time": "2021-12-21T04:29:48.908Z"
   },
   {
    "duration": 31,
    "start_time": "2021-12-21T04:29:51.991Z"
   },
   {
    "duration": 82,
    "start_time": "2021-12-21T04:30:56.445Z"
   },
   {
    "duration": 100,
    "start_time": "2021-12-21T04:31:30.242Z"
   },
   {
    "duration": 76,
    "start_time": "2021-12-21T04:31:32.804Z"
   },
   {
    "duration": 10,
    "start_time": "2021-12-21T04:33:02.930Z"
   },
   {
    "duration": 391,
    "start_time": "2021-12-21T04:40:37.979Z"
   },
   {
    "duration": 4,
    "start_time": "2021-12-21T04:40:55.899Z"
   },
   {
    "duration": 380,
    "start_time": "2021-12-21T04:41:00.986Z"
   },
   {
    "duration": 10861,
    "start_time": "2021-12-21T04:41:37.717Z"
   },
   {
    "duration": 381,
    "start_time": "2021-12-21T04:44:07.696Z"
   },
   {
    "duration": 14,
    "start_time": "2021-12-21T04:45:25.995Z"
   },
   {
    "duration": 7,
    "start_time": "2021-12-21T04:52:46.382Z"
   },
   {
    "duration": 7,
    "start_time": "2021-12-21T04:52:50.358Z"
   },
   {
    "duration": 438,
    "start_time": "2021-12-21T04:53:16.065Z"
   },
   {
    "duration": 14,
    "start_time": "2021-12-21T04:53:23.964Z"
   },
   {
    "duration": 14,
    "start_time": "2021-12-21T05:01:59.198Z"
   },
   {
    "duration": 4,
    "start_time": "2021-12-21T05:02:02.877Z"
   },
   {
    "duration": 11193,
    "start_time": "2021-12-21T05:02:06.798Z"
   },
   {
    "duration": -172,
    "start_time": "2021-12-21T05:02:18.166Z"
   },
   {
    "duration": 3,
    "start_time": "2021-12-21T05:02:28.991Z"
   },
   {
    "duration": 10089,
    "start_time": "2021-12-21T05:02:31.096Z"
   },
   {
    "duration": -90,
    "start_time": "2021-12-21T05:02:41.278Z"
   },
   {
    "duration": 9692,
    "start_time": "2021-12-21T05:02:55.376Z"
   },
   {
    "duration": 9566,
    "start_time": "2021-12-21T05:04:42.797Z"
   },
   {
    "duration": -119,
    "start_time": "2021-12-21T05:04:52.485Z"
   },
   {
    "duration": 6,
    "start_time": "2021-12-21T05:05:30.003Z"
   },
   {
    "duration": 9498,
    "start_time": "2021-12-21T05:05:31.962Z"
   },
   {
    "duration": -87,
    "start_time": "2021-12-21T05:05:41.551Z"
   },
   {
    "duration": 4,
    "start_time": "2021-12-21T05:06:09.193Z"
   },
   {
    "duration": 43,
    "start_time": "2021-12-21T05:06:28.637Z"
   },
   {
    "duration": 14,
    "start_time": "2021-12-21T05:06:33.954Z"
   },
   {
    "duration": 4,
    "start_time": "2021-12-21T05:07:55.970Z"
   },
   {
    "duration": 5,
    "start_time": "2021-12-21T05:07:57.469Z"
   },
   {
    "duration": 16,
    "start_time": "2021-12-21T05:08:01.624Z"
   },
   {
    "duration": 21,
    "start_time": "2021-12-21T05:09:46.427Z"
   },
   {
    "duration": 4,
    "start_time": "2021-12-21T05:09:49.271Z"
   },
   {
    "duration": 4,
    "start_time": "2021-12-21T05:09:51.577Z"
   },
   {
    "duration": 14,
    "start_time": "2021-12-21T05:11:52.848Z"
   },
   {
    "duration": 4,
    "start_time": "2021-12-21T05:11:58.708Z"
   },
   {
    "duration": 4,
    "start_time": "2021-12-21T05:12:19.949Z"
   },
   {
    "duration": 15,
    "start_time": "2021-12-21T05:12:24.648Z"
   },
   {
    "duration": 723,
    "start_time": "2021-12-21T05:13:58.704Z"
   },
   {
    "duration": 182,
    "start_time": "2021-12-21T05:13:59.692Z"
   },
   {
    "duration": 30,
    "start_time": "2021-12-21T05:14:00.749Z"
   },
   {
    "duration": 37,
    "start_time": "2021-12-21T05:14:01.996Z"
   },
   {
    "duration": 6,
    "start_time": "2021-12-21T05:14:05.098Z"
   },
   {
    "duration": 26,
    "start_time": "2021-12-21T05:14:06.342Z"
   },
   {
    "duration": 6,
    "start_time": "2021-12-21T05:14:07.938Z"
   },
   {
    "duration": 31,
    "start_time": "2021-12-21T05:14:09.599Z"
   },
   {
    "duration": 22,
    "start_time": "2021-12-21T05:14:11.742Z"
   },
   {
    "duration": 30,
    "start_time": "2021-12-21T05:14:13.218Z"
   },
   {
    "duration": 84,
    "start_time": "2021-12-21T05:14:15.866Z"
   },
   {
    "duration": 111,
    "start_time": "2021-12-21T05:14:17.821Z"
   },
   {
    "duration": 76,
    "start_time": "2021-12-21T05:14:19.563Z"
   },
   {
    "duration": 16,
    "start_time": "2021-12-21T05:14:22.859Z"
   },
   {
    "duration": 5,
    "start_time": "2021-12-21T05:14:24.516Z"
   },
   {
    "duration": 4,
    "start_time": "2021-12-21T05:14:26.956Z"
   },
   {
    "duration": 4,
    "start_time": "2021-12-21T05:17:14.929Z"
   },
   {
    "duration": 5,
    "start_time": "2021-12-21T05:17:18.802Z"
   },
   {
    "duration": 5,
    "start_time": "2021-12-21T05:17:20.268Z"
   },
   {
    "duration": 14,
    "start_time": "2021-12-21T05:17:22.436Z"
   },
   {
    "duration": 454,
    "start_time": "2021-12-21T05:17:40.943Z"
   },
   {
    "duration": 5,
    "start_time": "2021-12-21T05:18:44.755Z"
   },
   {
    "duration": 16,
    "start_time": "2021-12-21T05:18:46.090Z"
   },
   {
    "duration": 13,
    "start_time": "2021-12-21T05:18:50.136Z"
   },
   {
    "duration": 373,
    "start_time": "2021-12-21T05:26:58.039Z"
   },
   {
    "duration": 358,
    "start_time": "2021-12-21T05:27:28.381Z"
   },
   {
    "duration": 385,
    "start_time": "2021-12-21T05:28:03.824Z"
   },
   {
    "duration": 411,
    "start_time": "2021-12-21T05:28:51.389Z"
   },
   {
    "duration": 42,
    "start_time": "2021-12-21T05:31:52.798Z"
   },
   {
    "duration": 42,
    "start_time": "2021-12-21T05:32:29.752Z"
   },
   {
    "duration": 4,
    "start_time": "2021-12-21T05:39:56.505Z"
   },
   {
    "duration": 16,
    "start_time": "2021-12-21T05:46:20.078Z"
   },
   {
    "duration": 17,
    "start_time": "2021-12-21T05:46:42.133Z"
   },
   {
    "duration": 28,
    "start_time": "2021-12-21T05:47:21.255Z"
   },
   {
    "duration": 19,
    "start_time": "2021-12-21T05:47:58.169Z"
   },
   {
    "duration": 22,
    "start_time": "2021-12-21T05:49:16.643Z"
   },
   {
    "duration": 19,
    "start_time": "2021-12-21T05:49:17.305Z"
   },
   {
    "duration": 21,
    "start_time": "2021-12-21T05:49:17.939Z"
   },
   {
    "duration": 18,
    "start_time": "2021-12-21T05:49:18.647Z"
   },
   {
    "duration": 23,
    "start_time": "2021-12-21T05:49:19.314Z"
   },
   {
    "duration": 19,
    "start_time": "2021-12-21T05:49:19.982Z"
   },
   {
    "duration": 6,
    "start_time": "2021-12-21T05:51:05.618Z"
   },
   {
    "duration": 13,
    "start_time": "2021-12-21T05:51:44.542Z"
   },
   {
    "duration": 23,
    "start_time": "2021-12-21T05:53:41.575Z"
   },
   {
    "duration": 26,
    "start_time": "2021-12-21T05:55:16.204Z"
   },
   {
    "duration": 382,
    "start_time": "2021-12-21T05:59:28.848Z"
   },
   {
    "duration": 6,
    "start_time": "2021-12-21T05:59:44.889Z"
   },
   {
    "duration": 27,
    "start_time": "2021-12-21T05:59:46.549Z"
   },
   {
    "duration": 18,
    "start_time": "2021-12-21T06:02:20.623Z"
   },
   {
    "duration": 24,
    "start_time": "2021-12-21T06:02:22.810Z"
   },
   {
    "duration": 18,
    "start_time": "2021-12-21T06:02:23.804Z"
   },
   {
    "duration": 420,
    "start_time": "2021-12-21T06:17:14.705Z"
   },
   {
    "duration": 444,
    "start_time": "2021-12-21T06:17:48.321Z"
   },
   {
    "duration": 11,
    "start_time": "2021-12-21T06:18:07.171Z"
   },
   {
    "duration": 7,
    "start_time": "2021-12-21T06:18:48.208Z"
   },
   {
    "duration": 8,
    "start_time": "2021-12-21T06:19:53.887Z"
   },
   {
    "duration": 7,
    "start_time": "2021-12-21T06:20:21.572Z"
   },
   {
    "duration": 4,
    "start_time": "2021-12-21T06:20:59.785Z"
   },
   {
    "duration": 204,
    "start_time": "2021-12-21T06:21:00.936Z"
   },
   {
    "duration": 16,
    "start_time": "2021-12-21T06:21:02.052Z"
   },
   {
    "duration": 37,
    "start_time": "2021-12-21T06:21:03.329Z"
   },
   {
    "duration": 5,
    "start_time": "2021-12-21T06:21:06.172Z"
   },
   {
    "duration": 24,
    "start_time": "2021-12-21T06:21:07.362Z"
   },
   {
    "duration": 6,
    "start_time": "2021-12-21T06:21:08.512Z"
   },
   {
    "duration": 30,
    "start_time": "2021-12-21T06:21:09.669Z"
   },
   {
    "duration": 25,
    "start_time": "2021-12-21T06:21:11.436Z"
   },
   {
    "duration": 30,
    "start_time": "2021-12-21T06:21:12.662Z"
   },
   {
    "duration": 83,
    "start_time": "2021-12-21T06:21:13.915Z"
   },
   {
    "duration": 90,
    "start_time": "2021-12-21T06:21:15.158Z"
   },
   {
    "duration": 78,
    "start_time": "2021-12-21T06:21:16.376Z"
   },
   {
    "duration": 16,
    "start_time": "2021-12-21T06:21:18.323Z"
   },
   {
    "duration": 4,
    "start_time": "2021-12-21T06:21:19.534Z"
   },
   {
    "duration": 15,
    "start_time": "2021-12-21T06:21:20.810Z"
   },
   {
    "duration": 16,
    "start_time": "2021-12-21T06:21:22.035Z"
   },
   {
    "duration": 42,
    "start_time": "2021-12-21T06:21:25.279Z"
   },
   {
    "duration": 41,
    "start_time": "2021-12-21T06:21:26.698Z"
   },
   {
    "duration": 5,
    "start_time": "2021-12-21T06:21:28.298Z"
   },
   {
    "duration": 21,
    "start_time": "2021-12-21T06:21:29.767Z"
   },
   {
    "duration": 18,
    "start_time": "2021-12-21T06:21:30.434Z"
   },
   {
    "duration": 29,
    "start_time": "2021-12-21T06:21:31.069Z"
   },
   {
    "duration": 18,
    "start_time": "2021-12-21T06:21:31.671Z"
   },
   {
    "duration": 21,
    "start_time": "2021-12-21T06:21:32.310Z"
   },
   {
    "duration": 18,
    "start_time": "2021-12-21T06:21:32.926Z"
   },
   {
    "duration": 6,
    "start_time": "2021-12-21T06:21:34.108Z"
   },
   {
    "duration": 18,
    "start_time": "2021-12-21T06:21:36.911Z"
   },
   {
    "duration": 15,
    "start_time": "2021-12-21T06:21:37.539Z"
   },
   {
    "duration": 6,
    "start_time": "2021-12-21T06:21:38.679Z"
   },
   {
    "duration": 24,
    "start_time": "2021-12-21T06:21:39.829Z"
   },
   {
    "duration": 17,
    "start_time": "2021-12-21T06:21:40.377Z"
   },
   {
    "duration": 23,
    "start_time": "2021-12-21T06:21:40.929Z"
   },
   {
    "duration": 18,
    "start_time": "2021-12-21T06:21:41.504Z"
   },
   {
    "duration": 13,
    "start_time": "2021-12-21T06:21:43.675Z"
   },
   {
    "duration": 7,
    "start_time": "2021-12-21T06:21:44.913Z"
   },
   {
    "duration": 8,
    "start_time": "2021-12-21T06:21:46.023Z"
   },
   {
    "duration": 6,
    "start_time": "2021-12-21T06:21:47.096Z"
   },
   {
    "duration": 702,
    "start_time": "2021-12-21T15:09:03.889Z"
   },
   {
    "duration": 156,
    "start_time": "2021-12-21T15:09:04.593Z"
   },
   {
    "duration": 23,
    "start_time": "2021-12-21T15:09:04.752Z"
   },
   {
    "duration": 72,
    "start_time": "2021-12-21T15:09:04.777Z"
   },
   {
    "duration": 9,
    "start_time": "2021-12-21T15:09:04.851Z"
   },
   {
    "duration": 40,
    "start_time": "2021-12-21T15:09:04.862Z"
   },
   {
    "duration": 137,
    "start_time": "2021-12-21T15:09:04.904Z"
   },
   {
    "duration": 161,
    "start_time": "2021-12-21T15:09:05.043Z"
   },
   {
    "duration": 86,
    "start_time": "2021-12-21T15:09:05.207Z"
   },
   {
    "duration": 77,
    "start_time": "2021-12-21T15:09:05.295Z"
   },
   {
    "duration": 96,
    "start_time": "2021-12-21T15:09:05.374Z"
   },
   {
    "duration": 90,
    "start_time": "2021-12-21T15:09:05.472Z"
   },
   {
    "duration": 63,
    "start_time": "2021-12-21T15:09:05.565Z"
   },
   {
    "duration": 31,
    "start_time": "2021-12-21T15:09:05.630Z"
   },
   {
    "duration": 24,
    "start_time": "2021-12-21T15:09:05.662Z"
   },
   {
    "duration": 54,
    "start_time": "2021-12-21T15:09:05.688Z"
   },
   {
    "duration": 61,
    "start_time": "2021-12-21T15:09:05.744Z"
   },
   {
    "duration": 54,
    "start_time": "2021-12-21T15:09:05.807Z"
   },
   {
    "duration": 51,
    "start_time": "2021-12-21T15:09:05.863Z"
   },
   {
    "duration": 4,
    "start_time": "2021-12-21T15:09:05.917Z"
   },
   {
    "duration": 49,
    "start_time": "2021-12-21T15:09:05.923Z"
   },
   {
    "duration": 21,
    "start_time": "2021-12-21T15:09:05.974Z"
   },
   {
    "duration": 29,
    "start_time": "2021-12-21T15:09:05.998Z"
   },
   {
    "duration": 69,
    "start_time": "2021-12-21T15:09:06.029Z"
   },
   {
    "duration": 41,
    "start_time": "2021-12-21T15:09:06.100Z"
   },
   {
    "duration": 16,
    "start_time": "2021-12-21T15:09:06.143Z"
   },
   {
    "duration": 5,
    "start_time": "2021-12-21T15:09:06.162Z"
   },
   {
    "duration": 24,
    "start_time": "2021-12-21T15:09:06.169Z"
   },
   {
    "duration": 16,
    "start_time": "2021-12-21T15:09:06.195Z"
   },
   {
    "duration": 13,
    "start_time": "2021-12-21T15:09:06.213Z"
   },
   {
    "duration": 40,
    "start_time": "2021-12-21T15:09:06.228Z"
   },
   {
    "duration": 13,
    "start_time": "2021-12-21T15:09:06.270Z"
   },
   {
    "duration": 24,
    "start_time": "2021-12-21T15:09:06.285Z"
   },
   {
    "duration": 16,
    "start_time": "2021-12-21T15:09:06.311Z"
   },
   {
    "duration": 36,
    "start_time": "2021-12-21T15:09:06.330Z"
   },
   {
    "duration": 5,
    "start_time": "2021-12-21T15:09:06.368Z"
   },
   {
    "duration": 34,
    "start_time": "2021-12-21T15:09:06.375Z"
   },
   {
    "duration": 30,
    "start_time": "2021-12-21T15:09:06.411Z"
   },
   {
    "duration": 643,
    "start_time": "2021-12-21T15:18:27.543Z"
   },
   {
    "duration": 176,
    "start_time": "2021-12-21T15:18:28.188Z"
   },
   {
    "duration": 18,
    "start_time": "2021-12-21T15:18:28.366Z"
   },
   {
    "duration": 47,
    "start_time": "2021-12-21T15:18:28.387Z"
   },
   {
    "duration": 26,
    "start_time": "2021-12-21T15:18:28.436Z"
   },
   {
    "duration": 43,
    "start_time": "2021-12-21T15:18:28.463Z"
   },
   {
    "duration": 34,
    "start_time": "2021-12-21T15:18:28.508Z"
   },
   {
    "duration": 43,
    "start_time": "2021-12-21T15:18:28.546Z"
   },
   {
    "duration": 42,
    "start_time": "2021-12-21T15:18:28.592Z"
   },
   {
    "duration": 41,
    "start_time": "2021-12-21T15:18:28.636Z"
   },
   {
    "duration": 69,
    "start_time": "2021-12-21T15:18:28.679Z"
   },
   {
    "duration": 81,
    "start_time": "2021-12-21T15:18:28.751Z"
   },
   {
    "duration": 61,
    "start_time": "2021-12-21T15:18:28.834Z"
   },
   {
    "duration": 9,
    "start_time": "2021-12-21T15:18:28.897Z"
   },
   {
    "duration": 17,
    "start_time": "2021-12-21T15:18:28.907Z"
   },
   {
    "duration": 21,
    "start_time": "2021-12-21T15:18:28.926Z"
   },
   {
    "duration": 36,
    "start_time": "2021-12-21T15:18:28.949Z"
   },
   {
    "duration": 52,
    "start_time": "2021-12-21T15:18:28.988Z"
   },
   {
    "duration": 33,
    "start_time": "2021-12-21T15:18:29.042Z"
   },
   {
    "duration": 5,
    "start_time": "2021-12-21T15:18:29.077Z"
   },
   {
    "duration": 30,
    "start_time": "2021-12-21T15:18:29.084Z"
   },
   {
    "duration": 14,
    "start_time": "2021-12-21T15:18:29.116Z"
   },
   {
    "duration": 38,
    "start_time": "2021-12-21T15:18:29.133Z"
   },
   {
    "duration": 25,
    "start_time": "2021-12-21T15:18:29.173Z"
   },
   {
    "duration": 25,
    "start_time": "2021-12-21T15:18:29.200Z"
   },
   {
    "duration": 36,
    "start_time": "2021-12-21T15:18:29.227Z"
   },
   {
    "duration": 4,
    "start_time": "2021-12-21T15:18:29.265Z"
   },
   {
    "duration": 19,
    "start_time": "2021-12-21T15:18:29.270Z"
   },
   {
    "duration": 9,
    "start_time": "2021-12-21T15:18:29.291Z"
   },
   {
    "duration": 8,
    "start_time": "2021-12-21T15:18:29.302Z"
   },
   {
    "duration": 37,
    "start_time": "2021-12-21T15:18:29.311Z"
   },
   {
    "duration": 25,
    "start_time": "2021-12-21T15:18:29.350Z"
   },
   {
    "duration": 18,
    "start_time": "2021-12-21T15:18:29.377Z"
   },
   {
    "duration": 12,
    "start_time": "2021-12-21T15:18:29.397Z"
   },
   {
    "duration": 8,
    "start_time": "2021-12-21T15:18:29.411Z"
   },
   {
    "duration": 7,
    "start_time": "2021-12-21T15:18:29.420Z"
   },
   {
    "duration": 35,
    "start_time": "2021-12-21T15:18:29.429Z"
   },
   {
    "duration": 49,
    "start_time": "2021-12-21T15:18:29.466Z"
   },
   {
    "duration": 700,
    "start_time": "2021-12-21T15:19:25.555Z"
   },
   {
    "duration": 178,
    "start_time": "2021-12-21T15:19:26.257Z"
   },
   {
    "duration": 23,
    "start_time": "2021-12-21T15:19:26.438Z"
   },
   {
    "duration": 62,
    "start_time": "2021-12-21T15:19:26.464Z"
   },
   {
    "duration": 18,
    "start_time": "2021-12-21T15:19:26.528Z"
   },
   {
    "duration": 45,
    "start_time": "2021-12-21T15:19:26.548Z"
   },
   {
    "duration": 14,
    "start_time": "2021-12-21T15:19:26.595Z"
   },
   {
    "duration": 46,
    "start_time": "2021-12-21T15:19:26.612Z"
   },
   {
    "duration": 50,
    "start_time": "2021-12-21T15:19:26.661Z"
   },
   {
    "duration": 25,
    "start_time": "2021-12-21T15:19:26.713Z"
   },
   {
    "duration": 89,
    "start_time": "2021-12-21T15:19:26.740Z"
   },
   {
    "duration": 84,
    "start_time": "2021-12-21T15:19:26.831Z"
   },
   {
    "duration": 63,
    "start_time": "2021-12-21T15:19:26.917Z"
   },
   {
    "duration": 10,
    "start_time": "2021-12-21T15:19:26.982Z"
   },
   {
    "duration": 3,
    "start_time": "2021-12-21T15:19:26.994Z"
   },
   {
    "duration": 26,
    "start_time": "2021-12-21T15:19:26.999Z"
   },
   {
    "duration": 32,
    "start_time": "2021-12-21T15:19:27.027Z"
   },
   {
    "duration": 43,
    "start_time": "2021-12-21T15:19:27.061Z"
   },
   {
    "duration": 54,
    "start_time": "2021-12-21T15:19:27.106Z"
   },
   {
    "duration": 4,
    "start_time": "2021-12-21T15:19:27.162Z"
   },
   {
    "duration": 51,
    "start_time": "2021-12-21T15:19:27.168Z"
   },
   {
    "duration": 30,
    "start_time": "2021-12-21T15:19:27.220Z"
   },
   {
    "duration": 23,
    "start_time": "2021-12-21T15:19:27.254Z"
   },
   {
    "duration": 28,
    "start_time": "2021-12-21T15:19:27.279Z"
   },
   {
    "duration": 31,
    "start_time": "2021-12-21T15:19:27.309Z"
   },
   {
    "duration": 25,
    "start_time": "2021-12-21T15:19:27.342Z"
   },
   {
    "duration": 6,
    "start_time": "2021-12-21T15:19:27.369Z"
   },
   {
    "duration": 25,
    "start_time": "2021-12-21T15:19:27.377Z"
   },
   {
    "duration": 13,
    "start_time": "2021-12-21T15:19:27.404Z"
   },
   {
    "duration": 12,
    "start_time": "2021-12-21T15:19:27.419Z"
   },
   {
    "duration": 41,
    "start_time": "2021-12-21T15:19:27.433Z"
   },
   {
    "duration": 36,
    "start_time": "2021-12-21T15:19:27.478Z"
   },
   {
    "duration": 45,
    "start_time": "2021-12-21T15:19:27.516Z"
   },
   {
    "duration": 23,
    "start_time": "2021-12-21T15:19:27.563Z"
   },
   {
    "duration": 14,
    "start_time": "2021-12-21T15:19:27.587Z"
   },
   {
    "duration": 34,
    "start_time": "2021-12-21T15:19:27.603Z"
   },
   {
    "duration": 22,
    "start_time": "2021-12-21T15:19:27.639Z"
   },
   {
    "duration": 10,
    "start_time": "2021-12-21T15:19:27.664Z"
   },
   {
    "duration": 334,
    "start_time": "2021-12-22T05:12:26.600Z"
   },
   {
    "duration": 821,
    "start_time": "2021-12-22T05:12:37.053Z"
   },
   {
    "duration": 189,
    "start_time": "2021-12-22T05:12:38.772Z"
   },
   {
    "duration": 30,
    "start_time": "2021-12-22T05:12:40.299Z"
   },
   {
    "duration": 32,
    "start_time": "2021-12-22T05:12:42.462Z"
   },
   {
    "duration": 7,
    "start_time": "2021-12-22T05:12:50.129Z"
   },
   {
    "duration": 26,
    "start_time": "2021-12-22T05:12:52.775Z"
   },
   {
    "duration": 5,
    "start_time": "2021-12-22T05:12:55.944Z"
   },
   {
    "duration": 30,
    "start_time": "2021-12-22T05:12:57.163Z"
   },
   {
    "duration": 22,
    "start_time": "2021-12-22T05:12:59.515Z"
   },
   {
    "duration": 31,
    "start_time": "2021-12-22T05:13:01.455Z"
   },
   {
    "duration": 82,
    "start_time": "2021-12-22T05:13:03.358Z"
   },
   {
    "duration": 101,
    "start_time": "2021-12-22T05:13:05.186Z"
   },
   {
    "duration": 75,
    "start_time": "2021-12-22T05:13:06.704Z"
   },
   {
    "duration": 13,
    "start_time": "2021-12-22T05:13:09.298Z"
   },
   {
    "duration": 5,
    "start_time": "2021-12-22T05:13:16.190Z"
   },
   {
    "duration": 14,
    "start_time": "2021-12-22T05:13:18.636Z"
   },
   {
    "duration": 14,
    "start_time": "2021-12-22T05:13:22.052Z"
   },
   {
    "duration": 16,
    "start_time": "2021-12-22T05:13:26.426Z"
   },
   {
    "duration": 15,
    "start_time": "2021-12-22T05:13:39.525Z"
   },
   {
    "duration": 5,
    "start_time": "2021-12-22T05:14:07.209Z"
   },
   {
    "duration": 22,
    "start_time": "2021-12-22T05:14:09.249Z"
   },
   {
    "duration": 22,
    "start_time": "2021-12-22T05:14:09.971Z"
   },
   {
    "duration": 21,
    "start_time": "2021-12-22T05:14:10.652Z"
   },
   {
    "duration": 29,
    "start_time": "2021-12-22T05:14:11.274Z"
   },
   {
    "duration": 21,
    "start_time": "2021-12-22T05:14:11.907Z"
   },
   {
    "duration": 18,
    "start_time": "2021-12-22T05:14:12.608Z"
   },
   {
    "duration": 9,
    "start_time": "2021-12-22T05:14:14.679Z"
   },
   {
    "duration": 15,
    "start_time": "2021-12-22T05:14:18.824Z"
   },
   {
    "duration": 12,
    "start_time": "2021-12-22T05:14:25.377Z"
   },
   {
    "duration": 5,
    "start_time": "2021-12-22T05:14:26.691Z"
   },
   {
    "duration": 24,
    "start_time": "2021-12-22T05:14:27.921Z"
   },
   {
    "duration": 17,
    "start_time": "2021-12-22T05:14:28.537Z"
   },
   {
    "duration": 23,
    "start_time": "2021-12-22T05:14:29.132Z"
   },
   {
    "duration": 18,
    "start_time": "2021-12-22T05:14:29.864Z"
   },
   {
    "duration": 12,
    "start_time": "2021-12-22T05:14:32.976Z"
   },
   {
    "duration": 7,
    "start_time": "2021-12-22T05:14:34.222Z"
   },
   {
    "duration": 10,
    "start_time": "2021-12-22T05:14:36.573Z"
   },
   {
    "duration": 7,
    "start_time": "2021-12-22T05:14:37.992Z"
   },
   {
    "duration": 808,
    "start_time": "2021-12-22T12:27:18.737Z"
   },
   {
    "duration": 196,
    "start_time": "2021-12-22T12:27:19.548Z"
   },
   {
    "duration": 33,
    "start_time": "2021-12-22T12:27:19.748Z"
   },
   {
    "duration": 34,
    "start_time": "2021-12-22T12:27:19.784Z"
   },
   {
    "duration": 5,
    "start_time": "2021-12-22T12:27:19.820Z"
   },
   {
    "duration": 59,
    "start_time": "2021-12-22T12:27:19.828Z"
   },
   {
    "duration": 6,
    "start_time": "2021-12-22T12:27:19.889Z"
   },
   {
    "duration": 36,
    "start_time": "2021-12-22T12:27:19.897Z"
   },
   {
    "duration": 52,
    "start_time": "2021-12-22T12:27:19.937Z"
   },
   {
    "duration": 34,
    "start_time": "2021-12-22T12:27:19.992Z"
   },
   {
    "duration": 118,
    "start_time": "2021-12-22T12:27:20.029Z"
   },
   {
    "duration": 122,
    "start_time": "2021-12-22T12:27:20.149Z"
   },
   {
    "duration": 95,
    "start_time": "2021-12-22T12:27:20.273Z"
   },
   {
    "duration": 15,
    "start_time": "2021-12-22T12:27:20.371Z"
   },
   {
    "duration": 5,
    "start_time": "2021-12-22T12:27:20.389Z"
   },
   {
    "duration": 24,
    "start_time": "2021-12-22T12:27:20.396Z"
   },
   {
    "duration": 46,
    "start_time": "2021-12-22T12:27:20.422Z"
   },
   {
    "duration": 16,
    "start_time": "2021-12-22T12:27:20.470Z"
   },
   {
    "duration": 15,
    "start_time": "2021-12-22T12:27:20.489Z"
   },
   {
    "duration": 5,
    "start_time": "2021-12-22T12:27:20.507Z"
   },
   {
    "duration": 60,
    "start_time": "2021-12-22T12:27:20.514Z"
   },
   {
    "duration": 18,
    "start_time": "2021-12-22T12:27:20.576Z"
   },
   {
    "duration": 27,
    "start_time": "2021-12-22T12:27:20.596Z"
   },
   {
    "duration": 41,
    "start_time": "2021-12-22T12:27:20.626Z"
   },
   {
    "duration": 21,
    "start_time": "2021-12-22T12:27:20.670Z"
   },
   {
    "duration": 17,
    "start_time": "2021-12-22T12:27:20.694Z"
   },
   {
    "duration": 8,
    "start_time": "2021-12-22T12:27:20.717Z"
   },
   {
    "duration": 53,
    "start_time": "2021-12-22T12:27:20.728Z"
   },
   {
    "duration": 12,
    "start_time": "2021-12-22T12:27:20.784Z"
   },
   {
    "duration": 6,
    "start_time": "2021-12-22T12:27:20.799Z"
   },
   {
    "duration": 41,
    "start_time": "2021-12-22T12:27:20.807Z"
   },
   {
    "duration": 29,
    "start_time": "2021-12-22T12:27:20.851Z"
   },
   {
    "duration": 21,
    "start_time": "2021-12-22T12:27:20.883Z"
   },
   {
    "duration": 18,
    "start_time": "2021-12-22T12:27:20.907Z"
   },
   {
    "duration": 47,
    "start_time": "2021-12-22T12:27:20.928Z"
   },
   {
    "duration": 6,
    "start_time": "2021-12-22T12:27:20.978Z"
   },
   {
    "duration": 11,
    "start_time": "2021-12-22T12:27:20.987Z"
   },
   {
    "duration": 7,
    "start_time": "2021-12-22T12:27:21.000Z"
   }
  ],
  "colab": {
   "collapsed_sections": [
    "E0vqbgi9ay0H",
    "VUC88oWjTJw2"
   ],
   "name": "yandex_music_project_2021.2.ipynb",
   "provenance": []
  },
  "kernelspec": {
   "display_name": "Python 3 (ipykernel)",
   "language": "python",
   "name": "python3"
  },
  "language_info": {
   "codemirror_mode": {
    "name": "ipython",
    "version": 3
   },
   "file_extension": ".py",
   "mimetype": "text/x-python",
   "name": "python",
   "nbconvert_exporter": "python",
   "pygments_lexer": "ipython3",
   "version": "3.8.10"
  },
  "toc": {
   "base_numbering": 1,
   "nav_menu": {},
   "number_sections": true,
   "sideBar": true,
   "skip_h1_title": true,
   "title_cell": "Table of Contents",
   "title_sidebar": "Contents",
   "toc_cell": false,
   "toc_position": {
    "height": "calc(100% - 180px)",
    "left": "10px",
    "top": "150px",
    "width": "366.4px"
   },
   "toc_section_display": true,
   "toc_window_display": true
  }
 },
 "nbformat": 4,
 "nbformat_minor": 1
}
