{
 "cells": [
  {
   "cell_type": "markdown",
   "id": "19b3c142",
   "metadata": {},
   "source": [
    "# Приоритизация гипотез. Анализ A/B-теста.\n",
    "\n",
    "## Описание проекта\n",
    "\n",
    "Я :-) — аналитик крупного интернет-магазина. Вместе с отделом маркетинга вы подготовили список гипотез для увеличения выручки.\n",
    "Приоритизируйте гипотезы, запустите A/B-тест и проанализируйте результаты. \n",
    "\n",
    "### Часть 1. Приоритизация гипотез.\n",
    "\n",
    "В файле /datasets/hypothesis.csv 9 гипотез по увеличению выручки интернет-магазина с указанными параметрами Reach, Impact, Confidence, Effort.\n",
    "Задача\n",
    "\n",
    "    Примените фреймворк ICE для приоритизации гипотез. Отсортируйте их по убыванию приоритета.\n",
    "    Примените фреймворк RICE для приоритизации гипотез. Отсортируйте их по убыванию приоритета.\n",
    "    Укажите, как изменилась приоритизация гипотез при применении RICE вместо ICE. Объясните, почему так             произошло.\n",
    "\n",
    "### Часть 2. Анализ A/B-теста\n",
    "\n",
    "Вы провели A/B-тест и получили результаты, которые описаны в файлах /datasets/orders.csv и /datasets/visitors.csv.\n",
    "Задача\n",
    "Проанализируйте A/B-тест:\n",
    "\n",
    "    Постройте график кумулятивной выручки по группам. Сделайте выводы и предположения.\n",
    "    \n",
    "    Постройте график кумулятивного среднего чека по группам. Сделайте выводы и предположения.\n",
    "    \n",
    "    Постройте график относительного изменения кумулятивного среднего чека группы B к группе A. Сделайте выводы и     предположения.\n",
    "    \n",
    "    Постройте график кумулятивной конверсии по группам. Сделайте выводы и предположения.\n",
    "    \n",
    "    Постройте график относительного изменения кумулятивной конверсии группы B к группе A. Сделайте выводы и         предположения.\n",
    "    \n",
    "    Постройте точечный график количества заказов по пользователям. Сделайте выводы и предположения.\n",
    "    \n",
    "    Посчитайте 95-й и 99-й перцентили количества заказов на пользователя. Выберите границу для определения           аномальных пользователей.\n",
    "    \n",
    "    Постройте точечный график стоимостей заказов. Сделайте выводы и предположения.\n",
    "    \n",
    "    Посчитайте 95-й и 99-й перцентили стоимости заказов. Выберите границу для определения аномальных заказов.\n",
    "    \n",
    "    Посчитайте статистическую значимость различий в конверсии между группами по «сырым» данным. Сделайте выводы     и предположения.\n",
    "    \n",
    "    Посчитайте статистическую значимость различий в среднем чеке заказа между группами по «сырым» данным.           Сделайте выводы и предположения.\n",
    "    \n",
    "    Посчитайте статистическую значимость различий в конверсии между группами по «очищенным» данным. Сделайте          выводы и предположения.\n",
    "    \n",
    "    Посчитайте статистическую значимость различий в среднем чеке заказа между группами по «очищенным» данным.       Сделайте выводы и предположения.\n",
    "    \n",
    "    Примите решение по результатам теста и объясните его. Варианты решений: 1. Остановить тест, зафиксировать       победу одной из групп. 2. Остановить тест, зафиксировать отсутствие различий между группами. 3. Продолжить       тест.#\n",
    "    \n",
    "    \n",
    "### Описание данных\n",
    "\n",
    "\n",
    "#### Данные для первой части\n",
    "\n",
    "Файл /datasets/hypothesis.csv. Скачать датасет\n",
    "\n",
    "    Hypothesis — краткое описание гипотезы;\n",
    "    Reach — охват пользователей по 10-балльной шкале;\n",
    "    Impact — влияние на пользователей по 10-балльной шкале;\n",
    "    Confidence — уверенность в гипотезе по 10-балльной шкале;\n",
    "    Efforts — затраты ресурсов на проверку гипотезы по 10-балльной шкале. Чем больше значение Efforts, тем           дороже проверка гипотезы.\n",
    "\n",
    "\n",
    "#### Данные для второй части\n",
    "\n",
    "Файл /datasets/orders.csv. Скачать датасет\n",
    "\n",
    "    transactionId — идентификатор заказа;\n",
    "    visitorId — идентификатор пользователя, совершившего заказ;\n",
    "    date — дата, когда был совершён заказ;\n",
    "    revenue — выручка заказа;\n",
    "    group — группа A/B-теста, в которую попал заказ.\n",
    "\n",
    "Файл /datasets/visitors.csv. Скачать датасет\n",
    "\n",
    "    date — дата;\n",
    "    group — группа A/B-теста;\n",
    "    visitors — количество пользователей в указанную дату в указанной группе A/B-теста"
   ]
  },
  {
   "cell_type": "markdown",
   "id": "e5ceba80",
   "metadata": {},
   "source": [
    "## Содержание.\n",
    "\n",
    "<a href=\"#Приоритизация-гипотез\" data-toc-modified-id=\"Приоритизация гипотез\">Приоритизация гипотез</a><br>\n",
    "<a href=\"#Анализ-A/B-теста\" data-toc-modified-id=\"Анализ A/B-теста\">Анализ A/B-теста</a><br>\n",
    "<a href=\"#Строим-график-кумулятивной-выручки-по-группам\" data-toc-modified-id=\"Строим график кумулятивной выручки по группам\">Строим график кумулятивной выручки по группам</a><br>\n",
    "<a href=\"#Построим-графики-среднего-чека-по-группам\" data-toc-modified-id=\"Построим графики среднего чека по группам\">Построим графики среднего чека по группам</a><br> \n",
    "<a href=\"#Построим-график-кумулятивной-конверсии-по-группам\" data-toc-modified-id=\"Построим график кумулятивной конверсии по группам\">Построим график кумулятивной конверсии по группам</a><br>\n",
    "<a href=\"#Построим-график-относительного-изменения-кумулятивной-конверсии-группы-B-к-группе-A\" data-toc-modified-id=\"Построим график относительного изменения кумулятивной конверсии группы B к группе A\">Построим график относительного изменения кумулятивной конверсии группы B к группе A</a><br>\n",
    "<a href=\"#Посчитаем-статистическую-значимость-различий-в-конверсии-между-группами-по-«очищенным»-данным\" data-toc-modified-id=\"Посчитайте-статистическую-значимость-различий-в-конверсии-между-группами-по-«очищенным»-данным\">Посчитайте статистическую значимость различий в конверсии между группами по «очищенным» данным</a><br>\n",
    "<a href=\"#Посчитаем-статистическую-значимость-различий-в-среднем-чеке-заказа-между-группами-по-«сырым»-данным\" data-toc-modified-id=\"Посчитаем статистическую значимость различий в среднем чеке заказа между группами по «сырым» данным\">Посчитаем статистическую значимость различий в среднем чеке заказа между группами по «сырым» данным</a><br>\n",
    "<a href=\"#Посчитайте-статистическую-значимость-различий-в-среднем-чеке-заказа-между-группами-по-«очищенным»-данным\" data-toc-modified-id=\"Посчитайте статистическую значимость различий в среднем чеке заказа между группами по «очищенным» данным\">Посчитайте статистическую значимость различий в среднем чеке заказа между группами по «очищенным» данным</a><br>\n",
    "<a href=\"#Решение-по-результатам-теста:\" data-toc-modified-id=\" Решение по результатам теста:\"> Решение по результатам теста:</a><br>\n",
    "\n",
    "\n"
   ]
  },
  {
   "cell_type": "markdown",
   "id": "0afc898a",
   "metadata": {},
   "source": [
    "##  Приоритизация гипотез"
   ]
  },
  {
   "cell_type": "code",
   "execution_count": 1,
   "id": "b4d7c9c0",
   "metadata": {},
   "outputs": [],
   "source": [
    "import pandas as pd\n",
    "from IPython.display import display\n",
    "import numpy as np\n",
    "import scipy.stats as sps\n",
    "import matplotlib.pyplot as plt\n",
    "import seaborn as sns\n",
    "from scipy import stats as st\n",
    "import math as mth\n",
    "import datetime as dt\n"
   ]
  },
  {
   "cell_type": "markdown",
   "id": "789776ab",
   "metadata": {},
   "source": [
    "Загрузим сет с гипотезами."
   ]
  },
  {
   "cell_type": "code",
   "execution_count": 2,
   "id": "87a420cb",
   "metadata": {},
   "outputs": [
    {
     "name": "stdout",
     "output_type": "stream",
     "text": [
      "<class 'pandas.core.frame.DataFrame'>\n",
      "RangeIndex: 9 entries, 0 to 8\n",
      "Data columns (total 5 columns):\n",
      " #   Column      Non-Null Count  Dtype \n",
      "---  ------      --------------  ----- \n",
      " 0   Hypothesis  9 non-null      object\n",
      " 1   Reach       9 non-null      int64 \n",
      " 2   Impact      9 non-null      int64 \n",
      " 3   Confidence  9 non-null      int64 \n",
      " 4   Efforts     9 non-null      int64 \n",
      "dtypes: int64(4), object(1)\n",
      "memory usage: 488.0+ bytes\n",
      "None\n"
     ]
    },
    {
     "data": {
      "text/html": [
       "<div>\n",
       "<style scoped>\n",
       "    .dataframe tbody tr th:only-of-type {\n",
       "        vertical-align: middle;\n",
       "    }\n",
       "\n",
       "    .dataframe tbody tr th {\n",
       "        vertical-align: top;\n",
       "    }\n",
       "\n",
       "    .dataframe thead th {\n",
       "        text-align: right;\n",
       "    }\n",
       "</style>\n",
       "<table border=\"1\" class=\"dataframe\">\n",
       "  <thead>\n",
       "    <tr style=\"text-align: right;\">\n",
       "      <th></th>\n",
       "      <th>Hypothesis</th>\n",
       "      <th>Reach</th>\n",
       "      <th>Impact</th>\n",
       "      <th>Confidence</th>\n",
       "      <th>Efforts</th>\n",
       "    </tr>\n",
       "  </thead>\n",
       "  <tbody>\n",
       "    <tr>\n",
       "      <th>0</th>\n",
       "      <td>Добавить два новых канала привлечения трафика,...</td>\n",
       "      <td>3</td>\n",
       "      <td>10</td>\n",
       "      <td>8</td>\n",
       "      <td>6</td>\n",
       "    </tr>\n",
       "    <tr>\n",
       "      <th>1</th>\n",
       "      <td>Запустить собственную службу доставки, что сок...</td>\n",
       "      <td>2</td>\n",
       "      <td>5</td>\n",
       "      <td>4</td>\n",
       "      <td>10</td>\n",
       "    </tr>\n",
       "    <tr>\n",
       "      <th>2</th>\n",
       "      <td>Добавить блоки рекомендаций товаров на сайт ин...</td>\n",
       "      <td>8</td>\n",
       "      <td>3</td>\n",
       "      <td>7</td>\n",
       "      <td>3</td>\n",
       "    </tr>\n",
       "    <tr>\n",
       "      <th>3</th>\n",
       "      <td>Изменить структура категорий, что увеличит кон...</td>\n",
       "      <td>8</td>\n",
       "      <td>3</td>\n",
       "      <td>3</td>\n",
       "      <td>8</td>\n",
       "    </tr>\n",
       "    <tr>\n",
       "      <th>4</th>\n",
       "      <td>Изменить цвет фона главной страницы, чтобы уве...</td>\n",
       "      <td>3</td>\n",
       "      <td>1</td>\n",
       "      <td>1</td>\n",
       "      <td>1</td>\n",
       "    </tr>\n",
       "    <tr>\n",
       "      <th>5</th>\n",
       "      <td>Добавить страницу отзывов клиентов о магазине,...</td>\n",
       "      <td>3</td>\n",
       "      <td>2</td>\n",
       "      <td>2</td>\n",
       "      <td>3</td>\n",
       "    </tr>\n",
       "    <tr>\n",
       "      <th>6</th>\n",
       "      <td>Показать на главной странице баннеры с актуаль...</td>\n",
       "      <td>5</td>\n",
       "      <td>3</td>\n",
       "      <td>8</td>\n",
       "      <td>3</td>\n",
       "    </tr>\n",
       "    <tr>\n",
       "      <th>7</th>\n",
       "      <td>Добавить форму подписки на все основные страни...</td>\n",
       "      <td>10</td>\n",
       "      <td>7</td>\n",
       "      <td>8</td>\n",
       "      <td>5</td>\n",
       "    </tr>\n",
       "    <tr>\n",
       "      <th>8</th>\n",
       "      <td>Запустить акцию, дающую скидку на товар в день...</td>\n",
       "      <td>1</td>\n",
       "      <td>9</td>\n",
       "      <td>9</td>\n",
       "      <td>5</td>\n",
       "    </tr>\n",
       "  </tbody>\n",
       "</table>\n",
       "</div>"
      ],
      "text/plain": [
       "                                          Hypothesis  Reach  Impact  \\\n",
       "0  Добавить два новых канала привлечения трафика,...      3      10   \n",
       "1  Запустить собственную службу доставки, что сок...      2       5   \n",
       "2  Добавить блоки рекомендаций товаров на сайт ин...      8       3   \n",
       "3  Изменить структура категорий, что увеличит кон...      8       3   \n",
       "4  Изменить цвет фона главной страницы, чтобы уве...      3       1   \n",
       "5  Добавить страницу отзывов клиентов о магазине,...      3       2   \n",
       "6  Показать на главной странице баннеры с актуаль...      5       3   \n",
       "7  Добавить форму подписки на все основные страни...     10       7   \n",
       "8  Запустить акцию, дающую скидку на товар в день...      1       9   \n",
       "\n",
       "   Confidence  Efforts  \n",
       "0           8        6  \n",
       "1           4       10  \n",
       "2           7        3  \n",
       "3           3        8  \n",
       "4           1        1  \n",
       "5           2        3  \n",
       "6           8        3  \n",
       "7           8        5  \n",
       "8           9        5  "
      ]
     },
     "execution_count": 2,
     "metadata": {},
     "output_type": "execute_result"
    }
   ],
   "source": [
    "hypothesis= pd.read_csv('https://code.s3.yandex.net/datasets/hypothesis.csv')\n",
    "print(hypothesis.info())\n",
    "hypothesis.head(10)"
   ]
  },
  {
   "cell_type": "markdown",
   "id": "0b948823",
   "metadata": {},
   "source": [
    "Данные готовы к анализу, не требуют обработки."
   ]
  },
  {
   "cell_type": "markdown",
   "id": "9b46867e",
   "metadata": {},
   "source": [
    "Применим фреймворк ICE для приоритизации гипотез. Отсортируйте их по убыванию приоритета."
   ]
  },
  {
   "cell_type": "code",
   "execution_count": 3,
   "id": "d6fe9b9b",
   "metadata": {},
   "outputs": [
    {
     "data": {
      "text/html": [
       "<div>\n",
       "<style scoped>\n",
       "    .dataframe tbody tr th:only-of-type {\n",
       "        vertical-align: middle;\n",
       "    }\n",
       "\n",
       "    .dataframe tbody tr th {\n",
       "        vertical-align: top;\n",
       "    }\n",
       "\n",
       "    .dataframe thead th {\n",
       "        text-align: right;\n",
       "    }\n",
       "</style>\n",
       "<table border=\"1\" class=\"dataframe\">\n",
       "  <thead>\n",
       "    <tr style=\"text-align: right;\">\n",
       "      <th></th>\n",
       "      <th>Hypothesis</th>\n",
       "      <th>ICE</th>\n",
       "    </tr>\n",
       "  </thead>\n",
       "  <tbody>\n",
       "    <tr>\n",
       "      <th>8</th>\n",
       "      <td>Запустить акцию, дающую скидку на товар в день...</td>\n",
       "      <td>16.200000</td>\n",
       "    </tr>\n",
       "    <tr>\n",
       "      <th>0</th>\n",
       "      <td>Добавить два новых канала привлечения трафика,...</td>\n",
       "      <td>13.333333</td>\n",
       "    </tr>\n",
       "    <tr>\n",
       "      <th>7</th>\n",
       "      <td>Добавить форму подписки на все основные страни...</td>\n",
       "      <td>11.200000</td>\n",
       "    </tr>\n",
       "    <tr>\n",
       "      <th>6</th>\n",
       "      <td>Показать на главной странице баннеры с актуаль...</td>\n",
       "      <td>8.000000</td>\n",
       "    </tr>\n",
       "    <tr>\n",
       "      <th>2</th>\n",
       "      <td>Добавить блоки рекомендаций товаров на сайт ин...</td>\n",
       "      <td>7.000000</td>\n",
       "    </tr>\n",
       "    <tr>\n",
       "      <th>1</th>\n",
       "      <td>Запустить собственную службу доставки, что сок...</td>\n",
       "      <td>2.000000</td>\n",
       "    </tr>\n",
       "    <tr>\n",
       "      <th>5</th>\n",
       "      <td>Добавить страницу отзывов клиентов о магазине,...</td>\n",
       "      <td>1.333333</td>\n",
       "    </tr>\n",
       "    <tr>\n",
       "      <th>3</th>\n",
       "      <td>Изменить структура категорий, что увеличит кон...</td>\n",
       "      <td>1.125000</td>\n",
       "    </tr>\n",
       "    <tr>\n",
       "      <th>4</th>\n",
       "      <td>Изменить цвет фона главной страницы, чтобы уве...</td>\n",
       "      <td>1.000000</td>\n",
       "    </tr>\n",
       "  </tbody>\n",
       "</table>\n",
       "</div>"
      ],
      "text/plain": [
       "                                          Hypothesis        ICE\n",
       "8  Запустить акцию, дающую скидку на товар в день...  16.200000\n",
       "0  Добавить два новых канала привлечения трафика,...  13.333333\n",
       "7  Добавить форму подписки на все основные страни...  11.200000\n",
       "6  Показать на главной странице баннеры с актуаль...   8.000000\n",
       "2  Добавить блоки рекомендаций товаров на сайт ин...   7.000000\n",
       "1  Запустить собственную службу доставки, что сок...   2.000000\n",
       "5  Добавить страницу отзывов клиентов о магазине,...   1.333333\n",
       "3  Изменить структура категорий, что увеличит кон...   1.125000\n",
       "4  Изменить цвет фона главной страницы, чтобы уве...   1.000000"
      ]
     },
     "execution_count": 3,
     "metadata": {},
     "output_type": "execute_result"
    }
   ],
   "source": [
    "hypothesis['ICE']=(\n",
    "    \n",
    "    hypothesis['Impact']*hypothesis['Confidence']\n",
    "    \n",
    ") / hypothesis['Efforts']\n",
    "\n",
    "\n",
    "hypothesis[['Hypothesis', 'ICE']].sort_values(by='ICE', ascending = False)\n",
    "\n"
   ]
  },
  {
   "cell_type": "markdown",
   "id": "42a6840f",
   "metadata": {},
   "source": [
    "Применим фреймворк RICE для приоритизации гипотез. Отсортируйте их по убыванию приоритета."
   ]
  },
  {
   "cell_type": "code",
   "execution_count": 4,
   "id": "5f092db9",
   "metadata": {},
   "outputs": [
    {
     "data": {
      "text/html": [
       "<div>\n",
       "<style scoped>\n",
       "    .dataframe tbody tr th:only-of-type {\n",
       "        vertical-align: middle;\n",
       "    }\n",
       "\n",
       "    .dataframe tbody tr th {\n",
       "        vertical-align: top;\n",
       "    }\n",
       "\n",
       "    .dataframe thead th {\n",
       "        text-align: right;\n",
       "    }\n",
       "</style>\n",
       "<table border=\"1\" class=\"dataframe\">\n",
       "  <thead>\n",
       "    <tr style=\"text-align: right;\">\n",
       "      <th></th>\n",
       "      <th>Hypothesis</th>\n",
       "      <th>RICE</th>\n",
       "    </tr>\n",
       "  </thead>\n",
       "  <tbody>\n",
       "    <tr>\n",
       "      <th>7</th>\n",
       "      <td>Добавить форму подписки на все основные страни...</td>\n",
       "      <td>112.0</td>\n",
       "    </tr>\n",
       "    <tr>\n",
       "      <th>2</th>\n",
       "      <td>Добавить блоки рекомендаций товаров на сайт ин...</td>\n",
       "      <td>56.0</td>\n",
       "    </tr>\n",
       "    <tr>\n",
       "      <th>0</th>\n",
       "      <td>Добавить два новых канала привлечения трафика,...</td>\n",
       "      <td>40.0</td>\n",
       "    </tr>\n",
       "    <tr>\n",
       "      <th>6</th>\n",
       "      <td>Показать на главной странице баннеры с актуаль...</td>\n",
       "      <td>40.0</td>\n",
       "    </tr>\n",
       "    <tr>\n",
       "      <th>8</th>\n",
       "      <td>Запустить акцию, дающую скидку на товар в день...</td>\n",
       "      <td>16.2</td>\n",
       "    </tr>\n",
       "    <tr>\n",
       "      <th>3</th>\n",
       "      <td>Изменить структура категорий, что увеличит кон...</td>\n",
       "      <td>9.0</td>\n",
       "    </tr>\n",
       "    <tr>\n",
       "      <th>1</th>\n",
       "      <td>Запустить собственную службу доставки, что сок...</td>\n",
       "      <td>4.0</td>\n",
       "    </tr>\n",
       "    <tr>\n",
       "      <th>5</th>\n",
       "      <td>Добавить страницу отзывов клиентов о магазине,...</td>\n",
       "      <td>4.0</td>\n",
       "    </tr>\n",
       "    <tr>\n",
       "      <th>4</th>\n",
       "      <td>Изменить цвет фона главной страницы, чтобы уве...</td>\n",
       "      <td>3.0</td>\n",
       "    </tr>\n",
       "  </tbody>\n",
       "</table>\n",
       "</div>"
      ],
      "text/plain": [
       "                                          Hypothesis   RICE\n",
       "7  Добавить форму подписки на все основные страни...  112.0\n",
       "2  Добавить блоки рекомендаций товаров на сайт ин...   56.0\n",
       "0  Добавить два новых канала привлечения трафика,...   40.0\n",
       "6  Показать на главной странице баннеры с актуаль...   40.0\n",
       "8  Запустить акцию, дающую скидку на товар в день...   16.2\n",
       "3  Изменить структура категорий, что увеличит кон...    9.0\n",
       "1  Запустить собственную службу доставки, что сок...    4.0\n",
       "5  Добавить страницу отзывов клиентов о магазине,...    4.0\n",
       "4  Изменить цвет фона главной страницы, чтобы уве...    3.0"
      ]
     },
     "execution_count": 4,
     "metadata": {},
     "output_type": "execute_result"
    }
   ],
   "source": [
    "hypothesis['RICE']=(\n",
    "    \n",
    "    hypothesis['Reach']*hypothesis['Impact']*hypothesis['Confidence']\n",
    "    \n",
    ") / hypothesis['Efforts']\n",
    "hypothesis[['Hypothesis', 'RICE']].sort_values(by='RICE', ascending = False)"
   ]
  },
  {
   "cell_type": "markdown",
   "id": "c72c3215",
   "metadata": {},
   "source": [
    "### Вывод:\n",
    "Естественно отличаются приоритизация ICE и RICE. Пятерка лидеров для ICE - 8,0,7,6,2. Пятерка лидеров для RICE - 7,2,0,6,8. Отличия связаны с тем, что RICE при расчете учитывает Reach(охват пользователей), а 7 и 2 гипотезы отличаются высоким Reach."
   ]
  },
  {
   "cell_type": "markdown",
   "id": "b1cf4e31",
   "metadata": {},
   "source": [
    "## Анализ A/B-теста"
   ]
  },
  {
   "cell_type": "markdown",
   "id": "e77b0682",
   "metadata": {},
   "source": [
    "Загрузим датасеты."
   ]
  },
  {
   "cell_type": "code",
   "execution_count": 5,
   "id": "2e0391b8",
   "metadata": {},
   "outputs": [],
   "source": [
    "orders= pd.read_csv('https://code.s3.yandex.net/datasets/orders.csv')\n",
    "visitors= pd.read_csv('https://code.s3.yandex.net/datasets/visitors.csv')"
   ]
  },
  {
   "cell_type": "markdown",
   "id": "58438e5f",
   "metadata": {},
   "source": [
    "Проверим и подготовим orders."
   ]
  },
  {
   "cell_type": "code",
   "execution_count": 6,
   "id": "96cd9e1c",
   "metadata": {},
   "outputs": [
    {
     "name": "stdout",
     "output_type": "stream",
     "text": [
      "<class 'pandas.core.frame.DataFrame'>\n",
      "RangeIndex: 1197 entries, 0 to 1196\n",
      "Data columns (total 5 columns):\n",
      " #   Column         Non-Null Count  Dtype \n",
      "---  ------         --------------  ----- \n",
      " 0   transactionId  1197 non-null   int64 \n",
      " 1   visitorId      1197 non-null   int64 \n",
      " 2   date           1197 non-null   object\n",
      " 3   revenue        1197 non-null   int64 \n",
      " 4   group          1197 non-null   object\n",
      "dtypes: int64(3), object(2)\n",
      "memory usage: 46.9+ KB\n",
      "None\n"
     ]
    },
    {
     "data": {
      "text/html": [
       "<div>\n",
       "<style scoped>\n",
       "    .dataframe tbody tr th:only-of-type {\n",
       "        vertical-align: middle;\n",
       "    }\n",
       "\n",
       "    .dataframe tbody tr th {\n",
       "        vertical-align: top;\n",
       "    }\n",
       "\n",
       "    .dataframe thead th {\n",
       "        text-align: right;\n",
       "    }\n",
       "</style>\n",
       "<table border=\"1\" class=\"dataframe\">\n",
       "  <thead>\n",
       "    <tr style=\"text-align: right;\">\n",
       "      <th></th>\n",
       "      <th>transactionId</th>\n",
       "      <th>visitorId</th>\n",
       "      <th>date</th>\n",
       "      <th>revenue</th>\n",
       "      <th>group</th>\n",
       "    </tr>\n",
       "  </thead>\n",
       "  <tbody>\n",
       "    <tr>\n",
       "      <th>0</th>\n",
       "      <td>3667963787</td>\n",
       "      <td>3312258926</td>\n",
       "      <td>2019-08-15</td>\n",
       "      <td>1650</td>\n",
       "      <td>B</td>\n",
       "    </tr>\n",
       "    <tr>\n",
       "      <th>1</th>\n",
       "      <td>2804400009</td>\n",
       "      <td>3642806036</td>\n",
       "      <td>2019-08-15</td>\n",
       "      <td>730</td>\n",
       "      <td>B</td>\n",
       "    </tr>\n",
       "    <tr>\n",
       "      <th>2</th>\n",
       "      <td>2961555356</td>\n",
       "      <td>4069496402</td>\n",
       "      <td>2019-08-15</td>\n",
       "      <td>400</td>\n",
       "      <td>A</td>\n",
       "    </tr>\n",
       "    <tr>\n",
       "      <th>3</th>\n",
       "      <td>3797467345</td>\n",
       "      <td>1196621759</td>\n",
       "      <td>2019-08-15</td>\n",
       "      <td>9759</td>\n",
       "      <td>B</td>\n",
       "    </tr>\n",
       "    <tr>\n",
       "      <th>4</th>\n",
       "      <td>2282983706</td>\n",
       "      <td>2322279887</td>\n",
       "      <td>2019-08-15</td>\n",
       "      <td>2308</td>\n",
       "      <td>B</td>\n",
       "    </tr>\n",
       "    <tr>\n",
       "      <th>5</th>\n",
       "      <td>182168103</td>\n",
       "      <td>935554773</td>\n",
       "      <td>2019-08-15</td>\n",
       "      <td>2210</td>\n",
       "      <td>B</td>\n",
       "    </tr>\n",
       "    <tr>\n",
       "      <th>6</th>\n",
       "      <td>398296753</td>\n",
       "      <td>2900797465</td>\n",
       "      <td>2019-08-15</td>\n",
       "      <td>1860</td>\n",
       "      <td>B</td>\n",
       "    </tr>\n",
       "    <tr>\n",
       "      <th>7</th>\n",
       "      <td>2626614568</td>\n",
       "      <td>78758296</td>\n",
       "      <td>2019-08-15</td>\n",
       "      <td>1044</td>\n",
       "      <td>A</td>\n",
       "    </tr>\n",
       "    <tr>\n",
       "      <th>8</th>\n",
       "      <td>1576988021</td>\n",
       "      <td>295230930</td>\n",
       "      <td>2019-08-15</td>\n",
       "      <td>13710</td>\n",
       "      <td>A</td>\n",
       "    </tr>\n",
       "    <tr>\n",
       "      <th>9</th>\n",
       "      <td>1506739906</td>\n",
       "      <td>1882260405</td>\n",
       "      <td>2019-08-15</td>\n",
       "      <td>1855</td>\n",
       "      <td>B</td>\n",
       "    </tr>\n",
       "    <tr>\n",
       "      <th>10</th>\n",
       "      <td>3649131742</td>\n",
       "      <td>879864040</td>\n",
       "      <td>2019-08-15</td>\n",
       "      <td>4008</td>\n",
       "      <td>A</td>\n",
       "    </tr>\n",
       "    <tr>\n",
       "      <th>11</th>\n",
       "      <td>1919444843</td>\n",
       "      <td>927791387</td>\n",
       "      <td>2019-08-15</td>\n",
       "      <td>4499</td>\n",
       "      <td>B</td>\n",
       "    </tr>\n",
       "    <tr>\n",
       "      <th>12</th>\n",
       "      <td>2809384911</td>\n",
       "      <td>3213223594</td>\n",
       "      <td>2019-08-15</td>\n",
       "      <td>7370</td>\n",
       "      <td>A</td>\n",
       "    </tr>\n",
       "    <tr>\n",
       "      <th>13</th>\n",
       "      <td>3044797713</td>\n",
       "      <td>728063420</td>\n",
       "      <td>2019-08-15</td>\n",
       "      <td>11985</td>\n",
       "      <td>B</td>\n",
       "    </tr>\n",
       "    <tr>\n",
       "      <th>14</th>\n",
       "      <td>3859315276</td>\n",
       "      <td>1565034404</td>\n",
       "      <td>2019-08-15</td>\n",
       "      <td>10980</td>\n",
       "      <td>A</td>\n",
       "    </tr>\n",
       "  </tbody>\n",
       "</table>\n",
       "</div>"
      ],
      "text/plain": [
       "    transactionId   visitorId        date  revenue group\n",
       "0      3667963787  3312258926  2019-08-15     1650     B\n",
       "1      2804400009  3642806036  2019-08-15      730     B\n",
       "2      2961555356  4069496402  2019-08-15      400     A\n",
       "3      3797467345  1196621759  2019-08-15     9759     B\n",
       "4      2282983706  2322279887  2019-08-15     2308     B\n",
       "5       182168103   935554773  2019-08-15     2210     B\n",
       "6       398296753  2900797465  2019-08-15     1860     B\n",
       "7      2626614568    78758296  2019-08-15     1044     A\n",
       "8      1576988021   295230930  2019-08-15    13710     A\n",
       "9      1506739906  1882260405  2019-08-15     1855     B\n",
       "10     3649131742   879864040  2019-08-15     4008     A\n",
       "11     1919444843   927791387  2019-08-15     4499     B\n",
       "12     2809384911  3213223594  2019-08-15     7370     A\n",
       "13     3044797713   728063420  2019-08-15    11985     B\n",
       "14     3859315276  1565034404  2019-08-15    10980     A"
      ]
     },
     "execution_count": 6,
     "metadata": {},
     "output_type": "execute_result"
    }
   ],
   "source": [
    "print(orders.info())\n",
    "orders.head(15)"
   ]
  },
  {
   "cell_type": "markdown",
   "id": "040b93d4",
   "metadata": {},
   "source": [
    "Исправим дату."
   ]
  },
  {
   "cell_type": "code",
   "execution_count": 7,
   "id": "c5bbe553",
   "metadata": {},
   "outputs": [],
   "source": [
    "orders['date'] = orders['date'].map(lambda x: dt.datetime.strptime(x, '%Y-%m-%d'))"
   ]
  },
  {
   "cell_type": "markdown",
   "id": "49bdfb9e",
   "metadata": {},
   "source": [
    "Проверим дубликаты."
   ]
  },
  {
   "cell_type": "code",
   "execution_count": 8,
   "id": "97d2bab0",
   "metadata": {},
   "outputs": [
    {
     "data": {
      "text/plain": [
       "0"
      ]
     },
     "execution_count": 8,
     "metadata": {},
     "output_type": "execute_result"
    }
   ],
   "source": [
    "orders.duplicated().sum()"
   ]
  },
  {
   "cell_type": "code",
   "execution_count": 9,
   "id": "bf1b1798",
   "metadata": {},
   "outputs": [],
   "source": [
    "orders = orders.rename(columns={'transactionId': 'orderId','visitorId': 'userId',}) #Поменяем названия столбцов."
   ]
  },
  {
   "cell_type": "code",
   "execution_count": 10,
   "id": "d91e543a",
   "metadata": {},
   "outputs": [
    {
     "name": "stdout",
     "output_type": "stream",
     "text": [
      "<class 'pandas.core.frame.DataFrame'>\n",
      "RangeIndex: 1197 entries, 0 to 1196\n",
      "Data columns (total 5 columns):\n",
      " #   Column   Non-Null Count  Dtype         \n",
      "---  ------   --------------  -----         \n",
      " 0   orderId  1197 non-null   int64         \n",
      " 1   userId   1197 non-null   int64         \n",
      " 2   date     1197 non-null   datetime64[ns]\n",
      " 3   revenue  1197 non-null   int64         \n",
      " 4   group    1197 non-null   object        \n",
      "dtypes: datetime64[ns](1), int64(3), object(1)\n",
      "memory usage: 46.9+ KB\n"
     ]
    }
   ],
   "source": [
    "orders.info()"
   ]
  },
  {
   "cell_type": "markdown",
   "id": "ed7a8245",
   "metadata": {},
   "source": [
    "Проверим и подготовим visitors."
   ]
  },
  {
   "cell_type": "code",
   "execution_count": 11,
   "id": "ab89c88f",
   "metadata": {},
   "outputs": [
    {
     "name": "stdout",
     "output_type": "stream",
     "text": [
      "<class 'pandas.core.frame.DataFrame'>\n",
      "RangeIndex: 62 entries, 0 to 61\n",
      "Data columns (total 3 columns):\n",
      " #   Column    Non-Null Count  Dtype \n",
      "---  ------    --------------  ----- \n",
      " 0   date      62 non-null     object\n",
      " 1   group     62 non-null     object\n",
      " 2   visitors  62 non-null     int64 \n",
      "dtypes: int64(1), object(2)\n",
      "memory usage: 1.6+ KB\n",
      "None\n"
     ]
    },
    {
     "data": {
      "text/html": [
       "<div>\n",
       "<style scoped>\n",
       "    .dataframe tbody tr th:only-of-type {\n",
       "        vertical-align: middle;\n",
       "    }\n",
       "\n",
       "    .dataframe tbody tr th {\n",
       "        vertical-align: top;\n",
       "    }\n",
       "\n",
       "    .dataframe thead th {\n",
       "        text-align: right;\n",
       "    }\n",
       "</style>\n",
       "<table border=\"1\" class=\"dataframe\">\n",
       "  <thead>\n",
       "    <tr style=\"text-align: right;\">\n",
       "      <th></th>\n",
       "      <th>date</th>\n",
       "      <th>group</th>\n",
       "      <th>visitors</th>\n",
       "    </tr>\n",
       "  </thead>\n",
       "  <tbody>\n",
       "    <tr>\n",
       "      <th>0</th>\n",
       "      <td>2019-08-01</td>\n",
       "      <td>A</td>\n",
       "      <td>719</td>\n",
       "    </tr>\n",
       "    <tr>\n",
       "      <th>1</th>\n",
       "      <td>2019-08-02</td>\n",
       "      <td>A</td>\n",
       "      <td>619</td>\n",
       "    </tr>\n",
       "    <tr>\n",
       "      <th>2</th>\n",
       "      <td>2019-08-03</td>\n",
       "      <td>A</td>\n",
       "      <td>507</td>\n",
       "    </tr>\n",
       "    <tr>\n",
       "      <th>3</th>\n",
       "      <td>2019-08-04</td>\n",
       "      <td>A</td>\n",
       "      <td>717</td>\n",
       "    </tr>\n",
       "    <tr>\n",
       "      <th>4</th>\n",
       "      <td>2019-08-05</td>\n",
       "      <td>A</td>\n",
       "      <td>756</td>\n",
       "    </tr>\n",
       "    <tr>\n",
       "      <th>5</th>\n",
       "      <td>2019-08-06</td>\n",
       "      <td>A</td>\n",
       "      <td>667</td>\n",
       "    </tr>\n",
       "    <tr>\n",
       "      <th>6</th>\n",
       "      <td>2019-08-07</td>\n",
       "      <td>A</td>\n",
       "      <td>644</td>\n",
       "    </tr>\n",
       "    <tr>\n",
       "      <th>7</th>\n",
       "      <td>2019-08-08</td>\n",
       "      <td>A</td>\n",
       "      <td>610</td>\n",
       "    </tr>\n",
       "    <tr>\n",
       "      <th>8</th>\n",
       "      <td>2019-08-09</td>\n",
       "      <td>A</td>\n",
       "      <td>617</td>\n",
       "    </tr>\n",
       "    <tr>\n",
       "      <th>9</th>\n",
       "      <td>2019-08-10</td>\n",
       "      <td>A</td>\n",
       "      <td>406</td>\n",
       "    </tr>\n",
       "    <tr>\n",
       "      <th>10</th>\n",
       "      <td>2019-08-11</td>\n",
       "      <td>A</td>\n",
       "      <td>718</td>\n",
       "    </tr>\n",
       "    <tr>\n",
       "      <th>11</th>\n",
       "      <td>2019-08-12</td>\n",
       "      <td>A</td>\n",
       "      <td>595</td>\n",
       "    </tr>\n",
       "    <tr>\n",
       "      <th>12</th>\n",
       "      <td>2019-08-13</td>\n",
       "      <td>A</td>\n",
       "      <td>748</td>\n",
       "    </tr>\n",
       "    <tr>\n",
       "      <th>13</th>\n",
       "      <td>2019-08-14</td>\n",
       "      <td>A</td>\n",
       "      <td>735</td>\n",
       "    </tr>\n",
       "    <tr>\n",
       "      <th>14</th>\n",
       "      <td>2019-08-15</td>\n",
       "      <td>A</td>\n",
       "      <td>628</td>\n",
       "    </tr>\n",
       "  </tbody>\n",
       "</table>\n",
       "</div>"
      ],
      "text/plain": [
       "          date group  visitors\n",
       "0   2019-08-01     A       719\n",
       "1   2019-08-02     A       619\n",
       "2   2019-08-03     A       507\n",
       "3   2019-08-04     A       717\n",
       "4   2019-08-05     A       756\n",
       "5   2019-08-06     A       667\n",
       "6   2019-08-07     A       644\n",
       "7   2019-08-08     A       610\n",
       "8   2019-08-09     A       617\n",
       "9   2019-08-10     A       406\n",
       "10  2019-08-11     A       718\n",
       "11  2019-08-12     A       595\n",
       "12  2019-08-13     A       748\n",
       "13  2019-08-14     A       735\n",
       "14  2019-08-15     A       628"
      ]
     },
     "execution_count": 11,
     "metadata": {},
     "output_type": "execute_result"
    }
   ],
   "source": [
    "print(visitors.info())\n",
    "visitors.head(15)"
   ]
  },
  {
   "cell_type": "markdown",
   "id": "7cd4cee2",
   "metadata": {},
   "source": [
    "Исправим дату."
   ]
  },
  {
   "cell_type": "code",
   "execution_count": 12,
   "id": "bc01b6a9",
   "metadata": {},
   "outputs": [],
   "source": [
    "visitors['date'] = visitors['date'].map(lambda x: dt.datetime.strptime(x, '%Y-%m-%d'))"
   ]
  },
  {
   "cell_type": "markdown",
   "id": "277f2bfd",
   "metadata": {},
   "source": [
    "Проверим дубликаты."
   ]
  },
  {
   "cell_type": "code",
   "execution_count": 13,
   "id": "27d19343",
   "metadata": {},
   "outputs": [
    {
     "data": {
      "text/plain": [
       "0"
      ]
     },
     "execution_count": 13,
     "metadata": {},
     "output_type": "execute_result"
    }
   ],
   "source": [
    "visitors.duplicated().sum()"
   ]
  },
  {
   "cell_type": "code",
   "execution_count": 14,
   "id": "7109fb12",
   "metadata": {},
   "outputs": [
    {
     "name": "stdout",
     "output_type": "stream",
     "text": [
      "<class 'pandas.core.frame.DataFrame'>\n",
      "RangeIndex: 62 entries, 0 to 61\n",
      "Data columns (total 3 columns):\n",
      " #   Column    Non-Null Count  Dtype         \n",
      "---  ------    --------------  -----         \n",
      " 0   date      62 non-null     datetime64[ns]\n",
      " 1   group     62 non-null     object        \n",
      " 2   visitors  62 non-null     int64         \n",
      "dtypes: datetime64[ns](1), int64(1), object(1)\n",
      "memory usage: 1.6+ KB\n"
     ]
    }
   ],
   "source": [
    "visitors.info()"
   ]
  },
  {
   "cell_type": "code",
   "execution_count": 15,
   "id": "6b2ccd50",
   "metadata": {
    "scrolled": false
   },
   "outputs": [
    {
     "name": "stdout",
     "output_type": "stream",
     "text": [
      "[   8300375  199603092  232979603  237748145  276558944  351125977\n",
      "  393266494  457167155  471551937  477780734  818047933  963407295\n",
      " 1230306981 1294878855 1316129916 1333886533 1404934699 1602967004\n",
      " 1614305549 1648269707 1668030113 1738359350 1801183820 1959144690\n",
      " 2038680547 2044997962 2378935119 2458001652 2579882178 2587333274\n",
      " 2600415354 2654030115 2686716486 2712142231 2716752286 2780786433\n",
      " 2927087541 2949041841 2954449915 3062433592 3202540741 3234906277\n",
      " 3656415546 3717692402 3766097110 3803269165 3891541246 3941795274\n",
      " 3951559397 3957174400 3963646447 3972127743 3984495233 4069496402\n",
      " 4120364173 4186807279 4256040402 4266935830]\n"
     ]
    },
    {
     "data": {
      "text/html": [
       "<div>\n",
       "<style scoped>\n",
       "    .dataframe tbody tr th:only-of-type {\n",
       "        vertical-align: middle;\n",
       "    }\n",
       "\n",
       "    .dataframe tbody tr th {\n",
       "        vertical-align: top;\n",
       "    }\n",
       "\n",
       "    .dataframe thead th {\n",
       "        text-align: right;\n",
       "    }\n",
       "</style>\n",
       "<table border=\"1\" class=\"dataframe\">\n",
       "  <thead>\n",
       "    <tr style=\"text-align: right;\">\n",
       "      <th></th>\n",
       "      <th>index</th>\n",
       "      <th>orderId</th>\n",
       "      <th>userId</th>\n",
       "      <th>date</th>\n",
       "      <th>revenue</th>\n",
       "      <th>group</th>\n",
       "    </tr>\n",
       "  </thead>\n",
       "  <tbody>\n",
       "    <tr>\n",
       "      <th>0</th>\n",
       "      <td>0</td>\n",
       "      <td>3667963787</td>\n",
       "      <td>3312258926</td>\n",
       "      <td>2019-08-15</td>\n",
       "      <td>1650</td>\n",
       "      <td>B</td>\n",
       "    </tr>\n",
       "    <tr>\n",
       "      <th>1</th>\n",
       "      <td>1</td>\n",
       "      <td>2804400009</td>\n",
       "      <td>3642806036</td>\n",
       "      <td>2019-08-15</td>\n",
       "      <td>730</td>\n",
       "      <td>B</td>\n",
       "    </tr>\n",
       "    <tr>\n",
       "      <th>2</th>\n",
       "      <td>3</td>\n",
       "      <td>3797467345</td>\n",
       "      <td>1196621759</td>\n",
       "      <td>2019-08-15</td>\n",
       "      <td>9759</td>\n",
       "      <td>B</td>\n",
       "    </tr>\n",
       "    <tr>\n",
       "      <th>3</th>\n",
       "      <td>4</td>\n",
       "      <td>2282983706</td>\n",
       "      <td>2322279887</td>\n",
       "      <td>2019-08-15</td>\n",
       "      <td>2308</td>\n",
       "      <td>B</td>\n",
       "    </tr>\n",
       "    <tr>\n",
       "      <th>4</th>\n",
       "      <td>5</td>\n",
       "      <td>182168103</td>\n",
       "      <td>935554773</td>\n",
       "      <td>2019-08-15</td>\n",
       "      <td>2210</td>\n",
       "      <td>B</td>\n",
       "    </tr>\n",
       "  </tbody>\n",
       "</table>\n",
       "</div>"
      ],
      "text/plain": [
       "   index     orderId      userId       date  revenue group\n",
       "0      0  3667963787  3312258926 2019-08-15     1650     B\n",
       "1      1  2804400009  3642806036 2019-08-15      730     B\n",
       "2      3  3797467345  1196621759 2019-08-15     9759     B\n",
       "3      4  2282983706  2322279887 2019-08-15     2308     B\n",
       "4      5   182168103   935554773 2019-08-15     2210     B"
      ]
     },
     "execution_count": 15,
     "metadata": {},
     "output_type": "execute_result"
    }
   ],
   "source": [
    "\n",
    "bad_user=orders.groupby('userId')['group'].nunique().reset_index()\n",
    "bad_user_group=bad_user.query('group > 1')\n",
    "bad_userId=bad_user_group['userId'].unique()\n",
    "print(bad_userId)\n",
    "orders = orders.query('userId not in @bad_userId').reset_index()\n",
    "orders.head()"
   ]
  },
  {
   "cell_type": "markdown",
   "id": "2355ad62",
   "metadata": {},
   "source": [
    "### Данные готовы к анализу."
   ]
  },
  {
   "cell_type": "markdown",
   "id": "624aafb9",
   "metadata": {},
   "source": [
    "Получим новый датасет, содержащий кумулятивные данные"
   ]
  },
  {
   "cell_type": "code",
   "execution_count": 16,
   "id": "94958a8e",
   "metadata": {},
   "outputs": [],
   "source": [
    "# получаем агрегированные кумулятивные по дням данные о заказах\n",
    "ordersAggregated = orders[['date','group']].drop_duplicates().apply(lambda x: orders[np.logical_and(orders['date'] <=\n",
    "x['date'], orders['group'] == x['group'])].agg({'date' : 'max', 'group' : 'max',\n",
    "'orderId': pd.Series.nunique, 'userId' : pd.Series.nunique, 'revenue' : 'sum'}),\n",
    "axis=1).sort_values(by=['date','group'])\n",
    "# получаем агрегированные кумулятивные по дням данные о посетителях интернет-магазина\n",
    "visitorsAggregated = orders[['date','group']].drop_duplicates() .apply(lambda x: visitors[np.logical_and(visitors['date']\n",
    "<= x['date'], visitors['group'] == x['group'])].agg({'date' : 'max', 'group' : 'max',\n",
    "'visitors' : 'sum'}), axis=1).sort_values(by=['date','group'])\n",
    "# объединяем кумулятивные данные в одной таблице и присваиваем ее столбцам понятные\n",
    "# названия\n",
    "cummulativeData = ordersAggregated.merge(visitorsAggregated, left_on=['date', 'group'],\n",
    "right_on=['date', 'group'])\n",
    "cummulativeData.columns = ['date', 'group', 'orders', 'buyers', 'revenue', 'visitors']"
   ]
  },
  {
   "cell_type": "code",
   "execution_count": 17,
   "id": "c8e6d2b8",
   "metadata": {},
   "outputs": [
    {
     "name": "stdout",
     "output_type": "stream",
     "text": [
      "<class 'pandas.core.frame.DataFrame'>\n",
      "Int64Index: 62 entries, 0 to 61\n",
      "Data columns (total 6 columns):\n",
      " #   Column    Non-Null Count  Dtype         \n",
      "---  ------    --------------  -----         \n",
      " 0   date      62 non-null     datetime64[ns]\n",
      " 1   group     62 non-null     object        \n",
      " 2   orders    62 non-null     int64         \n",
      " 3   buyers    62 non-null     int64         \n",
      " 4   revenue   62 non-null     int64         \n",
      " 5   visitors  62 non-null     int64         \n",
      "dtypes: datetime64[ns](1), int64(4), object(1)\n",
      "memory usage: 3.4+ KB\n",
      "None\n"
     ]
    },
    {
     "data": {
      "text/html": [
       "<div>\n",
       "<style scoped>\n",
       "    .dataframe tbody tr th:only-of-type {\n",
       "        vertical-align: middle;\n",
       "    }\n",
       "\n",
       "    .dataframe tbody tr th {\n",
       "        vertical-align: top;\n",
       "    }\n",
       "\n",
       "    .dataframe thead th {\n",
       "        text-align: right;\n",
       "    }\n",
       "</style>\n",
       "<table border=\"1\" class=\"dataframe\">\n",
       "  <thead>\n",
       "    <tr style=\"text-align: right;\">\n",
       "      <th></th>\n",
       "      <th>date</th>\n",
       "      <th>group</th>\n",
       "      <th>orders</th>\n",
       "      <th>buyers</th>\n",
       "      <th>revenue</th>\n",
       "      <th>visitors</th>\n",
       "    </tr>\n",
       "  </thead>\n",
       "  <tbody>\n",
       "    <tr>\n",
       "      <th>0</th>\n",
       "      <td>2019-08-01</td>\n",
       "      <td>A</td>\n",
       "      <td>23</td>\n",
       "      <td>19</td>\n",
       "      <td>142779</td>\n",
       "      <td>719</td>\n",
       "    </tr>\n",
       "    <tr>\n",
       "      <th>1</th>\n",
       "      <td>2019-08-01</td>\n",
       "      <td>B</td>\n",
       "      <td>17</td>\n",
       "      <td>17</td>\n",
       "      <td>59758</td>\n",
       "      <td>713</td>\n",
       "    </tr>\n",
       "    <tr>\n",
       "      <th>2</th>\n",
       "      <td>2019-08-02</td>\n",
       "      <td>A</td>\n",
       "      <td>42</td>\n",
       "      <td>36</td>\n",
       "      <td>234381</td>\n",
       "      <td>1338</td>\n",
       "    </tr>\n",
       "    <tr>\n",
       "      <th>3</th>\n",
       "      <td>2019-08-02</td>\n",
       "      <td>B</td>\n",
       "      <td>40</td>\n",
       "      <td>39</td>\n",
       "      <td>221801</td>\n",
       "      <td>1294</td>\n",
       "    </tr>\n",
       "    <tr>\n",
       "      <th>4</th>\n",
       "      <td>2019-08-03</td>\n",
       "      <td>A</td>\n",
       "      <td>66</td>\n",
       "      <td>60</td>\n",
       "      <td>346854</td>\n",
       "      <td>1845</td>\n",
       "    </tr>\n",
       "  </tbody>\n",
       "</table>\n",
       "</div>"
      ],
      "text/plain": [
       "        date group  orders  buyers  revenue  visitors\n",
       "0 2019-08-01     A      23      19   142779       719\n",
       "1 2019-08-01     B      17      17    59758       713\n",
       "2 2019-08-02     A      42      36   234381      1338\n",
       "3 2019-08-02     B      40      39   221801      1294\n",
       "4 2019-08-03     A      66      60   346854      1845"
      ]
     },
     "execution_count": 17,
     "metadata": {},
     "output_type": "execute_result"
    }
   ],
   "source": [
    "print(cummulativeData.info())\n",
    "cummulativeData.head()"
   ]
  },
  {
   "cell_type": "markdown",
   "id": "7ec58182",
   "metadata": {},
   "source": [
    " ### Строим график кумулятивной выручки по группам"
   ]
  },
  {
   "cell_type": "code",
   "execution_count": 18,
   "id": "09002c52",
   "metadata": {},
   "outputs": [
    {
     "data": {
      "image/png": "[encoded data removed]",
      "text/plain": [
       "<Figure size 1080x720 with 1 Axes>"
      ]
     },
     "metadata": {
      "needs_background": "light"
     },
     "output_type": "display_data"
    }
   ],
   "source": [
    "# датафрейм с кумулятивным количеством заказов и кумулятивной выручкой по дням в группе А\n",
    "cummulativeRevenueA = cummulativeData[cummulativeData['group']=='A'][['date','revenue', 'orders']]\n",
    "# датафрейм с кумулятивным количеством заказов и кумулятивной выручкой по дням в группе B\n",
    "cummulativeRevenueB = cummulativeData[cummulativeData['group']=='B'][['date','revenue', 'orders']]\n",
    "# Строим график выручки группы А\n",
    "plt.figure(figsize=(15,10))\n",
    "plt.plot(cummulativeRevenueA['date'], cummulativeRevenueA['revenue'], label='A')\n",
    "# Строим график выручки группы B\n",
    "plt.plot(cummulativeRevenueB['date'], cummulativeRevenueB['revenue'], label='B')\n",
    "plt.legend()\n",
    "plt.title(\"Кумулятивная выручка по группам\") \n",
    "plt.xlabel(\"Дата\") \n",
    "plt.ylabel(\"Выручка\");\n",
    "plt.show()"
   ]
  },
  {
   "cell_type": "markdown",
   "id": "1590da37",
   "metadata": {},
   "source": [
    "#### Вывод: в начале месяца выручка в группе B растет медленно. Резкий рост выручки группы В наблюдается после 19.08."
   ]
  },
  {
   "cell_type": "markdown",
   "id": "bd51e4c1",
   "metadata": {},
   "source": [
    "### Построим графики среднего чека по группам"
   ]
  },
  {
   "cell_type": "code",
   "execution_count": 19,
   "id": "61e01f69",
   "metadata": {},
   "outputs": [
    {
     "data": {
      "image/png": "[encoded data removed]",
      "text/plain": [
       "<Figure size 1080x720 with 1 Axes>"
      ]
     },
     "metadata": {
      "needs_background": "light"
     },
     "output_type": "display_data"
    }
   ],
   "source": [
    "plt.figure(figsize=(15,10))\n",
    "plt.plot(cummulativeRevenueA['date'], cummulativeRevenueA['revenue']/cummulativeRevenueA['orders'], label='A')\n",
    "plt.plot(cummulativeRevenueB['date'], cummulativeRevenueB['revenue']/cummulativeRevenueB['orders'], label='B')\n",
    "plt.legend()\n",
    "plt.title(\"Кумулятивный средний чек по группам\") \n",
    "plt.xlabel(\"Дата\") \n",
    "plt.ylabel(\"Средний чек\");\n",
    "plt.show()"
   ]
  },
  {
   "cell_type": "markdown",
   "id": "eebf0f94",
   "metadata": {},
   "source": [
    "#### Вывод: график коррелирует с кумулятивной выручкой по группам. Резкий рост - после 19.08. При этом местами в начале и в середине месяца средний чек в группе А несколько больше."
   ]
  },
  {
   "cell_type": "markdown",
   "id": "362a0402",
   "metadata": {},
   "source": [
    "### Построим график относительного изменения кумулятивного среднего чека группы B к группе A."
   ]
  },
  {
   "cell_type": "code",
   "execution_count": 20,
   "id": "cb0b274e",
   "metadata": {},
   "outputs": [
    {
     "name": "stderr",
     "output_type": "stream",
     "text": [
      "No handles with labels found to put in legend.\n"
     ]
    },
    {
     "data": {
      "image/png": "[encoded data removed]",
      "text/plain": [
       "<Figure size 1080x720 with 1 Axes>"
      ]
     },
     "metadata": {
      "needs_background": "light"
     },
     "output_type": "display_data"
    }
   ],
   "source": [
    "# собираем данные в одном датафрейме\n",
    "mergedCummulativeRevenue = cummulativeRevenueA.merge(cummulativeRevenueB, left_on='date',\n",
    "right_on='date', how='left', suffixes=['A', 'B'])\n",
    "# cтроим отношение средних чеков\n",
    "plt.figure(figsize=(15,10))\n",
    "plt.plot(mergedCummulativeRevenue['date'], (mergedCummulativeRevenue['revenueB']/mergedCummulativeRevenue['ordersB'])/(mergedCummulativeRevenue['revenueA']/mergedCummulativeRevenue['ordersA'])-1)\n",
    "# добавляем ось X\n",
    "plt.axhline(y=0, color='black', linestyle='--')\n",
    "plt.legend()\n",
    "plt.title(\"Относительное изменение кумулятивного среднего чека группы В к А\") \n",
    "plt.xlabel(\"Дата\") \n",
    "plt.ylabel(\"Отношение\");\n",
    "\n",
    "plt.show()"
   ]
  },
  {
   "cell_type": "markdown",
   "id": "7acac925",
   "metadata": {},
   "source": [
    "#### Вывод:  похож на предыдущий. В начале месяца  средний чек В рос и превысил А в период с 2.08 по 7.08. В период с 12.08 по 15.08 чек В был ниже А. Затем пик 19.08 и медленное падение B."
   ]
  },
  {
   "cell_type": "code",
   "execution_count": 21,
   "id": "1872764b",
   "metadata": {},
   "outputs": [
    {
     "name": "stdout",
     "output_type": "stream",
     "text": [
      "2019-08-01 00:00:00 2019-08-31 00:00:00\n"
     ]
    }
   ],
   "source": [
    "print(cummulativeData['date'].min(),cummulativeData['date'].max())"
   ]
  },
  {
   "cell_type": "markdown",
   "id": "522aba74",
   "metadata": {},
   "source": [
    "### Построим график кумулятивной конверсии по группам"
   ]
  },
  {
   "cell_type": "code",
   "execution_count": 22,
   "id": "4d5f34d5",
   "metadata": {},
   "outputs": [
    {
     "data": {
      "image/png": "[encoded data removed]",
      "text/plain": [
       "<Figure size 1080x720 with 1 Axes>"
      ]
     },
     "metadata": {
      "needs_background": "light"
     },
     "output_type": "display_data"
    }
   ],
   "source": [
    "# считаем кумулятивную конверсию\n",
    "cummulativeData['conversion'] = cummulativeData['orders']/cummulativeData['visitors']\n",
    "\n",
    "# отделяем данные по группе A\n",
    "cummulativeDataA = cummulativeData[cummulativeData['group']=='A']\n",
    "\n",
    "# отделяем данные по группе B\n",
    "cummulativeDataB = cummulativeData[cummulativeData['group']=='B']\n",
    "\n",
    "# строим графики\n",
    "plt.figure(figsize=(15,10))\n",
    "plt.plot(cummulativeDataA['date'], cummulativeDataA['conversion'], label='A')\n",
    "plt.plot(cummulativeDataB['date'], cummulativeDataB['conversion'], label='B')\n",
    "plt.legend()\n",
    "\n",
    "\n",
    "plt.title(\"Кумулятивная конверсия по группам\") \n",
    "plt.xlabel(\"Дата\") \n",
    "plt.ylabel(\"Конверсия\");\n",
    "\n",
    "plt.show()"
   ]
  },
  {
   "cell_type": "markdown",
   "id": "7fe430bc",
   "metadata": {},
   "source": [
    "#### Вывод: конверсия группы A со 2-го по 6-е была значительно больше В, после 7-го появилась резкая тенденция к росту конверсии в группе В и падению в группе А."
   ]
  },
  {
   "cell_type": "markdown",
   "id": "bc2a1699",
   "metadata": {},
   "source": [
    "### Построим график относительного изменения кумулятивной конверсии группы B к группе A"
   ]
  },
  {
   "cell_type": "code",
   "execution_count": 23,
   "id": "af574529",
   "metadata": {},
   "outputs": [
    {
     "data": {
      "text/html": [
       "<div>\n",
       "<style scoped>\n",
       "    .dataframe tbody tr th:only-of-type {\n",
       "        vertical-align: middle;\n",
       "    }\n",
       "\n",
       "    .dataframe tbody tr th {\n",
       "        vertical-align: top;\n",
       "    }\n",
       "\n",
       "    .dataframe thead th {\n",
       "        text-align: right;\n",
       "    }\n",
       "</style>\n",
       "<table border=\"1\" class=\"dataframe\">\n",
       "  <thead>\n",
       "    <tr style=\"text-align: right;\">\n",
       "      <th></th>\n",
       "      <th>date</th>\n",
       "      <th>group</th>\n",
       "      <th>orders</th>\n",
       "      <th>buyers</th>\n",
       "      <th>revenue</th>\n",
       "      <th>visitors</th>\n",
       "      <th>conversion</th>\n",
       "    </tr>\n",
       "  </thead>\n",
       "  <tbody>\n",
       "    <tr>\n",
       "      <th>0</th>\n",
       "      <td>2019-08-01</td>\n",
       "      <td>A</td>\n",
       "      <td>23</td>\n",
       "      <td>19</td>\n",
       "      <td>142779</td>\n",
       "      <td>719</td>\n",
       "      <td>0.031989</td>\n",
       "    </tr>\n",
       "    <tr>\n",
       "      <th>2</th>\n",
       "      <td>2019-08-02</td>\n",
       "      <td>A</td>\n",
       "      <td>42</td>\n",
       "      <td>36</td>\n",
       "      <td>234381</td>\n",
       "      <td>1338</td>\n",
       "      <td>0.031390</td>\n",
       "    </tr>\n",
       "    <tr>\n",
       "      <th>4</th>\n",
       "      <td>2019-08-03</td>\n",
       "      <td>A</td>\n",
       "      <td>66</td>\n",
       "      <td>60</td>\n",
       "      <td>346854</td>\n",
       "      <td>1845</td>\n",
       "      <td>0.035772</td>\n",
       "    </tr>\n",
       "    <tr>\n",
       "      <th>6</th>\n",
       "      <td>2019-08-04</td>\n",
       "      <td>A</td>\n",
       "      <td>77</td>\n",
       "      <td>71</td>\n",
       "      <td>388030</td>\n",
       "      <td>2562</td>\n",
       "      <td>0.030055</td>\n",
       "    </tr>\n",
       "    <tr>\n",
       "      <th>8</th>\n",
       "      <td>2019-08-05</td>\n",
       "      <td>A</td>\n",
       "      <td>99</td>\n",
       "      <td>92</td>\n",
       "      <td>474413</td>\n",
       "      <td>3318</td>\n",
       "      <td>0.029837</td>\n",
       "    </tr>\n",
       "  </tbody>\n",
       "</table>\n",
       "</div>"
      ],
      "text/plain": [
       "        date group  orders  buyers  revenue  visitors  conversion\n",
       "0 2019-08-01     A      23      19   142779       719    0.031989\n",
       "2 2019-08-02     A      42      36   234381      1338    0.031390\n",
       "4 2019-08-03     A      66      60   346854      1845    0.035772\n",
       "6 2019-08-04     A      77      71   388030      2562    0.030055\n",
       "8 2019-08-05     A      99      92   474413      3318    0.029837"
      ]
     },
     "metadata": {},
     "output_type": "display_data"
    },
    {
     "data": {
      "text/html": [
       "<div>\n",
       "<style scoped>\n",
       "    .dataframe tbody tr th:only-of-type {\n",
       "        vertical-align: middle;\n",
       "    }\n",
       "\n",
       "    .dataframe tbody tr th {\n",
       "        vertical-align: top;\n",
       "    }\n",
       "\n",
       "    .dataframe thead th {\n",
       "        text-align: right;\n",
       "    }\n",
       "</style>\n",
       "<table border=\"1\" class=\"dataframe\">\n",
       "  <thead>\n",
       "    <tr style=\"text-align: right;\">\n",
       "      <th></th>\n",
       "      <th>date</th>\n",
       "      <th>group</th>\n",
       "      <th>orders</th>\n",
       "      <th>buyers</th>\n",
       "      <th>revenue</th>\n",
       "      <th>visitors</th>\n",
       "      <th>conversion</th>\n",
       "    </tr>\n",
       "  </thead>\n",
       "  <tbody>\n",
       "    <tr>\n",
       "      <th>1</th>\n",
       "      <td>2019-08-01</td>\n",
       "      <td>B</td>\n",
       "      <td>17</td>\n",
       "      <td>17</td>\n",
       "      <td>59758</td>\n",
       "      <td>713</td>\n",
       "      <td>0.023843</td>\n",
       "    </tr>\n",
       "    <tr>\n",
       "      <th>3</th>\n",
       "      <td>2019-08-02</td>\n",
       "      <td>B</td>\n",
       "      <td>40</td>\n",
       "      <td>39</td>\n",
       "      <td>221801</td>\n",
       "      <td>1294</td>\n",
       "      <td>0.030912</td>\n",
       "    </tr>\n",
       "    <tr>\n",
       "      <th>5</th>\n",
       "      <td>2019-08-03</td>\n",
       "      <td>B</td>\n",
       "      <td>54</td>\n",
       "      <td>53</td>\n",
       "      <td>288850</td>\n",
       "      <td>1803</td>\n",
       "      <td>0.029950</td>\n",
       "    </tr>\n",
       "    <tr>\n",
       "      <th>7</th>\n",
       "      <td>2019-08-04</td>\n",
       "      <td>B</td>\n",
       "      <td>68</td>\n",
       "      <td>66</td>\n",
       "      <td>385740</td>\n",
       "      <td>2573</td>\n",
       "      <td>0.026428</td>\n",
       "    </tr>\n",
       "    <tr>\n",
       "      <th>9</th>\n",
       "      <td>2019-08-05</td>\n",
       "      <td>B</td>\n",
       "      <td>89</td>\n",
       "      <td>87</td>\n",
       "      <td>475648</td>\n",
       "      <td>3280</td>\n",
       "      <td>0.027134</td>\n",
       "    </tr>\n",
       "  </tbody>\n",
       "</table>\n",
       "</div>"
      ],
      "text/plain": [
       "        date group  orders  buyers  revenue  visitors  conversion\n",
       "1 2019-08-01     B      17      17    59758       713    0.023843\n",
       "3 2019-08-02     B      40      39   221801      1294    0.030912\n",
       "5 2019-08-03     B      54      53   288850      1803    0.029950\n",
       "7 2019-08-04     B      68      66   385740      2573    0.026428\n",
       "9 2019-08-05     B      89      87   475648      3280    0.027134"
      ]
     },
     "execution_count": 23,
     "metadata": {},
     "output_type": "execute_result"
    }
   ],
   "source": [
    "display(cummulativeDataA.head())\n",
    "cummulativeDataB.head()"
   ]
  },
  {
   "cell_type": "code",
   "execution_count": 24,
   "id": "6dc1bbb1",
   "metadata": {},
   "outputs": [
    {
     "data": {
      "image/png": "[encoded data removed]",
      "text/plain": [
       "<Figure size 1080x720 with 1 Axes>"
      ]
     },
     "metadata": {
      "needs_background": "light"
     },
     "output_type": "display_data"
    }
   ],
   "source": [
    "mergedCumulativeConversions = cummulativeDataA[['date','conversion']].merge(cummulativeDataB[['date','conversion']], left_on='date', right_on='date', how='left', suffixes=['A', 'B'])\n",
    "plt.figure(figsize=(15,10))\n",
    "plt.plot(mergedCumulativeConversions['date'], mergedCumulativeConversions['conversionB']/mergedCumulativeConversions['conversionA']-1, label=\"Относительный прирост конверсии группы B относительно группы A\")\n",
    "plt.legend()\n",
    "\n",
    "plt.axhline(y=0, color='black', linestyle='--')\n",
    "plt.axhline(y=-0.1, color='grey', linestyle='--')\n",
    "plt.title(\"Относительное изменение кумулятивной конверсии группы В к А\") \n",
    "plt.xlabel(\"Дата\") \n",
    "plt.ylabel(\"Отношение конверсии\");\n",
    "plt.show()\n"
   ]
  },
  {
   "cell_type": "markdown",
   "id": "af6c90ed",
   "metadata": {},
   "source": [
    "#### Вывод: начиная с 6 августа группа B была значительно выше А до конца периода . Конверсия В росла до 15 августа,  затем пошло постепенное снижение относительной конверсии."
   ]
  },
  {
   "cell_type": "markdown",
   "id": "8bcde1de",
   "metadata": {},
   "source": [
    "### Построим точечный график количества заказов по пользователям."
   ]
  },
  {
   "cell_type": "code",
   "execution_count": 25,
   "id": "2110b1a6",
   "metadata": {},
   "outputs": [
    {
     "data": {
      "text/html": [
       "<div>\n",
       "<style scoped>\n",
       "    .dataframe tbody tr th:only-of-type {\n",
       "        vertical-align: middle;\n",
       "    }\n",
       "\n",
       "    .dataframe tbody tr th {\n",
       "        vertical-align: top;\n",
       "    }\n",
       "\n",
       "    .dataframe thead th {\n",
       "        text-align: right;\n",
       "    }\n",
       "</style>\n",
       "<table border=\"1\" class=\"dataframe\">\n",
       "  <thead>\n",
       "    <tr style=\"text-align: right;\">\n",
       "      <th></th>\n",
       "      <th>userId</th>\n",
       "      <th>orders</th>\n",
       "    </tr>\n",
       "  </thead>\n",
       "  <tbody>\n",
       "    <tr>\n",
       "      <th>0</th>\n",
       "      <td>5114589</td>\n",
       "      <td>1</td>\n",
       "    </tr>\n",
       "    <tr>\n",
       "      <th>1</th>\n",
       "      <td>6958315</td>\n",
       "      <td>1</td>\n",
       "    </tr>\n",
       "    <tr>\n",
       "      <th>2</th>\n",
       "      <td>11685486</td>\n",
       "      <td>1</td>\n",
       "    </tr>\n",
       "    <tr>\n",
       "      <th>3</th>\n",
       "      <td>39475350</td>\n",
       "      <td>1</td>\n",
       "    </tr>\n",
       "    <tr>\n",
       "      <th>4</th>\n",
       "      <td>47206413</td>\n",
       "      <td>1</td>\n",
       "    </tr>\n",
       "    <tr>\n",
       "      <th>...</th>\n",
       "      <td>...</td>\n",
       "      <td>...</td>\n",
       "    </tr>\n",
       "    <tr>\n",
       "      <th>968</th>\n",
       "      <td>4259830713</td>\n",
       "      <td>1</td>\n",
       "    </tr>\n",
       "    <tr>\n",
       "      <th>969</th>\n",
       "      <td>4278982564</td>\n",
       "      <td>1</td>\n",
       "    </tr>\n",
       "    <tr>\n",
       "      <th>970</th>\n",
       "      <td>4279090005</td>\n",
       "      <td>1</td>\n",
       "    </tr>\n",
       "    <tr>\n",
       "      <th>971</th>\n",
       "      <td>4281247801</td>\n",
       "      <td>1</td>\n",
       "    </tr>\n",
       "    <tr>\n",
       "      <th>972</th>\n",
       "      <td>4283872382</td>\n",
       "      <td>1</td>\n",
       "    </tr>\n",
       "  </tbody>\n",
       "</table>\n",
       "<p>973 rows × 2 columns</p>\n",
       "</div>"
      ],
      "text/plain": [
       "         userId  orders\n",
       "0       5114589       1\n",
       "1       6958315       1\n",
       "2      11685486       1\n",
       "3      39475350       1\n",
       "4      47206413       1\n",
       "..          ...     ...\n",
       "968  4259830713       1\n",
       "969  4278982564       1\n",
       "970  4279090005       1\n",
       "971  4281247801       1\n",
       "972  4283872382       1\n",
       "\n",
       "[973 rows x 2 columns]"
      ]
     },
     "execution_count": 25,
     "metadata": {},
     "output_type": "execute_result"
    }
   ],
   "source": [
    "ordersByUsers = (\n",
    "    orders.groupby('userId', as_index=False)\n",
    "    .agg({'orderId': 'nunique'})\n",
    ")\n",
    "\n",
    "ordersByUsers.columns = ['userId', 'orders']\n",
    "ordersByUsers"
   ]
  },
  {
   "cell_type": "code",
   "execution_count": 26,
   "id": "d8e4494f",
   "metadata": {},
   "outputs": [
    {
     "name": "stderr",
     "output_type": "stream",
     "text": [
      "No handles with labels found to put in legend.\n"
     ]
    },
    {
     "data": {
      "image/png": "[encoded data removed]",
      "text/plain": [
       "<Figure size 1080x720 with 1 Axes>"
      ]
     },
     "metadata": {
      "needs_background": "light"
     },
     "output_type": "display_data"
    }
   ],
   "source": [
    "plt.figure(figsize=(15,10))\n",
    "plt.scatter(ordersByUsers.index, ordersByUsers['orders']) \n",
    "plt.legend()\n",
    "plt.title(\"Число заказов по пользователям всего\") \n",
    "plt.xlabel(\"Пользователи\") \n",
    "plt.ylabel(\"Заказы\");\n",
    "plt.show()"
   ]
  },
  {
   "cell_type": "markdown",
   "id": "974a8e13",
   "metadata": {},
   "source": [
    "#### Вывод: большинство пользователей сделали один, два или три заказа. Большее количество заказов, скорее всего, можно будет считать выбросами."
   ]
  },
  {
   "cell_type": "markdown",
   "id": "e32c7cae",
   "metadata": {},
   "source": [
    "Постройте точечный график количества заказов по пользователям A , Б."
   ]
  },
  {
   "cell_type": "code",
   "execution_count": 27,
   "id": "6d43f78d",
   "metadata": {},
   "outputs": [
    {
     "data": {
      "text/html": [
       "<div>\n",
       "<style scoped>\n",
       "    .dataframe tbody tr th:only-of-type {\n",
       "        vertical-align: middle;\n",
       "    }\n",
       "\n",
       "    .dataframe tbody tr th {\n",
       "        vertical-align: top;\n",
       "    }\n",
       "\n",
       "    .dataframe thead th {\n",
       "        text-align: right;\n",
       "    }\n",
       "</style>\n",
       "<table border=\"1\" class=\"dataframe\">\n",
       "  <thead>\n",
       "    <tr style=\"text-align: right;\">\n",
       "      <th></th>\n",
       "      <th>userId</th>\n",
       "      <th>orders</th>\n",
       "    </tr>\n",
       "  </thead>\n",
       "  <tbody>\n",
       "    <tr>\n",
       "      <th>0</th>\n",
       "      <td>11685486</td>\n",
       "      <td>1</td>\n",
       "    </tr>\n",
       "    <tr>\n",
       "      <th>1</th>\n",
       "      <td>54447517</td>\n",
       "      <td>1</td>\n",
       "    </tr>\n",
       "    <tr>\n",
       "      <th>2</th>\n",
       "      <td>66685450</td>\n",
       "      <td>1</td>\n",
       "    </tr>\n",
       "    <tr>\n",
       "      <th>3</th>\n",
       "      <td>78758296</td>\n",
       "      <td>1</td>\n",
       "    </tr>\n",
       "    <tr>\n",
       "      <th>4</th>\n",
       "      <td>85103373</td>\n",
       "      <td>1</td>\n",
       "    </tr>\n",
       "    <tr>\n",
       "      <th>...</th>\n",
       "      <td>...</td>\n",
       "      <td>...</td>\n",
       "    </tr>\n",
       "    <tr>\n",
       "      <th>440</th>\n",
       "      <td>4227830084</td>\n",
       "      <td>1</td>\n",
       "    </tr>\n",
       "    <tr>\n",
       "      <th>441</th>\n",
       "      <td>4237561104</td>\n",
       "      <td>1</td>\n",
       "    </tr>\n",
       "    <tr>\n",
       "      <th>442</th>\n",
       "      <td>4243832526</td>\n",
       "      <td>1</td>\n",
       "    </tr>\n",
       "    <tr>\n",
       "      <th>443</th>\n",
       "      <td>4259830713</td>\n",
       "      <td>1</td>\n",
       "    </tr>\n",
       "    <tr>\n",
       "      <th>444</th>\n",
       "      <td>4278982564</td>\n",
       "      <td>1</td>\n",
       "    </tr>\n",
       "  </tbody>\n",
       "</table>\n",
       "<p>445 rows × 2 columns</p>\n",
       "</div>"
      ],
      "text/plain": [
       "         userId  orders\n",
       "0      11685486       1\n",
       "1      54447517       1\n",
       "2      66685450       1\n",
       "3      78758296       1\n",
       "4      85103373       1\n",
       "..          ...     ...\n",
       "440  4227830084       1\n",
       "441  4237561104       1\n",
       "442  4243832526       1\n",
       "443  4259830713       1\n",
       "444  4278982564       1\n",
       "\n",
       "[445 rows x 2 columns]"
      ]
     },
     "execution_count": 27,
     "metadata": {},
     "output_type": "execute_result"
    }
   ],
   "source": [
    "ordersByUsersA = (\n",
    "    orders.query('group == \"A\"').groupby('userId', as_index=False)\n",
    "    .agg({'orderId': 'nunique'})\n",
    ")\n",
    "\n",
    "ordersByUsersA.columns = ['userId', 'orders']\n",
    "ordersByUsersA"
   ]
  },
  {
   "cell_type": "code",
   "execution_count": 28,
   "id": "fbe635a6",
   "metadata": {},
   "outputs": [
    {
     "name": "stderr",
     "output_type": "stream",
     "text": [
      "No handles with labels found to put in legend.\n"
     ]
    },
    {
     "data": {
      "image/png": "[encoded data removed]",
      "text/plain": [
       "<Figure size 1080x720 with 1 Axes>"
      ]
     },
     "metadata": {
      "needs_background": "light"
     },
     "output_type": "display_data"
    }
   ],
   "source": [
    "plt.figure(figsize=(15,10))\n",
    "plt.scatter(ordersByUsersA.index, ordersByUsersA['orders']) \n",
    "plt.legend()\n",
    "plt.title(\"Число заказов по пользователям группа А\") \n",
    "plt.xlabel(\"Пользователи\") \n",
    "plt.ylabel(\"Заказы\");\n",
    "plt.show()"
   ]
  },
  {
   "cell_type": "code",
   "execution_count": 29,
   "id": "d4eb4496",
   "metadata": {},
   "outputs": [
    {
     "data": {
      "text/html": [
       "<div>\n",
       "<style scoped>\n",
       "    .dataframe tbody tr th:only-of-type {\n",
       "        vertical-align: middle;\n",
       "    }\n",
       "\n",
       "    .dataframe tbody tr th {\n",
       "        vertical-align: top;\n",
       "    }\n",
       "\n",
       "    .dataframe thead th {\n",
       "        text-align: right;\n",
       "    }\n",
       "</style>\n",
       "<table border=\"1\" class=\"dataframe\">\n",
       "  <thead>\n",
       "    <tr style=\"text-align: right;\">\n",
       "      <th></th>\n",
       "      <th>userId</th>\n",
       "      <th>orders</th>\n",
       "    </tr>\n",
       "  </thead>\n",
       "  <tbody>\n",
       "    <tr>\n",
       "      <th>0</th>\n",
       "      <td>5114589</td>\n",
       "      <td>1</td>\n",
       "    </tr>\n",
       "    <tr>\n",
       "      <th>1</th>\n",
       "      <td>6958315</td>\n",
       "      <td>1</td>\n",
       "    </tr>\n",
       "    <tr>\n",
       "      <th>2</th>\n",
       "      <td>39475350</td>\n",
       "      <td>1</td>\n",
       "    </tr>\n",
       "    <tr>\n",
       "      <th>3</th>\n",
       "      <td>47206413</td>\n",
       "      <td>1</td>\n",
       "    </tr>\n",
       "    <tr>\n",
       "      <th>4</th>\n",
       "      <td>48147722</td>\n",
       "      <td>1</td>\n",
       "    </tr>\n",
       "    <tr>\n",
       "      <th>...</th>\n",
       "      <td>...</td>\n",
       "      <td>...</td>\n",
       "    </tr>\n",
       "    <tr>\n",
       "      <th>523</th>\n",
       "      <td>4251115836</td>\n",
       "      <td>1</td>\n",
       "    </tr>\n",
       "    <tr>\n",
       "      <th>524</th>\n",
       "      <td>4258103007</td>\n",
       "      <td>1</td>\n",
       "    </tr>\n",
       "    <tr>\n",
       "      <th>525</th>\n",
       "      <td>4279090005</td>\n",
       "      <td>1</td>\n",
       "    </tr>\n",
       "    <tr>\n",
       "      <th>526</th>\n",
       "      <td>4281247801</td>\n",
       "      <td>1</td>\n",
       "    </tr>\n",
       "    <tr>\n",
       "      <th>527</th>\n",
       "      <td>4283872382</td>\n",
       "      <td>1</td>\n",
       "    </tr>\n",
       "  </tbody>\n",
       "</table>\n",
       "<p>528 rows × 2 columns</p>\n",
       "</div>"
      ],
      "text/plain": [
       "         userId  orders\n",
       "0       5114589       1\n",
       "1       6958315       1\n",
       "2      39475350       1\n",
       "3      47206413       1\n",
       "4      48147722       1\n",
       "..          ...     ...\n",
       "523  4251115836       1\n",
       "524  4258103007       1\n",
       "525  4279090005       1\n",
       "526  4281247801       1\n",
       "527  4283872382       1\n",
       "\n",
       "[528 rows x 2 columns]"
      ]
     },
     "execution_count": 29,
     "metadata": {},
     "output_type": "execute_result"
    }
   ],
   "source": [
    "ordersByUsersB = (\n",
    "    orders.query('group == \"B\"').groupby('userId', as_index=False)\n",
    "    .agg({'orderId': 'nunique'})\n",
    ")\n",
    "\n",
    "ordersByUsersB.columns = ['userId', 'orders']\n",
    "ordersByUsersB"
   ]
  },
  {
   "cell_type": "code",
   "execution_count": 30,
   "id": "a012413e",
   "metadata": {},
   "outputs": [
    {
     "name": "stderr",
     "output_type": "stream",
     "text": [
      "No handles with labels found to put in legend.\n"
     ]
    },
    {
     "data": {
      "image/png": "[encoded data removed]",
      "text/plain": [
       "<Figure size 1080x720 with 1 Axes>"
      ]
     },
     "metadata": {
      "needs_background": "light"
     },
     "output_type": "display_data"
    }
   ],
   "source": [
    "plt.figure(figsize=(15,10))\n",
    "plt.scatter(ordersByUsersB.index, ordersByUsersB['orders']) \n",
    "plt.legend()\n",
    "plt.title(\"Число заказов по пользователям группа B\") \n",
    "plt.xlabel(\"Пользователи\") \n",
    "plt.ylabel(\"Заказы\");\n",
    "plt.show()"
   ]
  },
  {
   "cell_type": "markdown",
   "id": "c6f5f2c0",
   "metadata": {},
   "source": [
    "### Посчитаем 95-й и 99-й перцентили количества заказов на пользователя."
   ]
  },
  {
   "cell_type": "code",
   "execution_count": 31,
   "id": "fdb46c21",
   "metadata": {},
   "outputs": [
    {
     "data": {
      "text/plain": [
       "array([1., 2., 2.])"
      ]
     },
     "execution_count": 31,
     "metadata": {},
     "output_type": "execute_result"
    }
   ],
   "source": [
    "np.percentile(ordersByUsers['orders'], [95, 98, 99])\n"
   ]
  },
  {
   "cell_type": "markdown",
   "id": "a679f59f",
   "metadata": {},
   "source": [
    "#### Вывод: границами нормального количества заказов можно считать 1-2 заказа."
   ]
  },
  {
   "cell_type": "code",
   "execution_count": null,
   "id": "f1229a90",
   "metadata": {},
   "outputs": [],
   "source": []
  },
  {
   "cell_type": "markdown",
   "id": "57a66996",
   "metadata": {},
   "source": [
    "### Построим точечный график стоимостей заказов. "
   ]
  },
  {
   "cell_type": "code",
   "execution_count": 32,
   "id": "e11fcfcf",
   "metadata": {},
   "outputs": [
    {
     "name": "stderr",
     "output_type": "stream",
     "text": [
      "No handles with labels found to put in legend.\n"
     ]
    },
    {
     "data": {
      "image/png": "[encoded data removed]",
      "text/plain": [
       "<Figure size 1080x720 with 1 Axes>"
      ]
     },
     "metadata": {
      "needs_background": "light"
     },
     "output_type": "display_data"
    }
   ],
   "source": [
    "plt.figure(figsize=(15,10))\n",
    "plt.scatter(orders['revenue'].index, orders['revenue']) \n",
    "plt.legend()\n",
    "plt.title('Стоимость заказов')\n",
    "plt.xlabel('Заказы')\n",
    "plt.ylabel('Стоимость')\n",
    "plt.show()"
   ]
  },
  {
   "cell_type": "markdown",
   "id": "ee409130",
   "metadata": {},
   "source": [
    "#### Вывод: на графике однозначно присутствуют выбросы."
   ]
  },
  {
   "cell_type": "markdown",
   "id": "b122672e",
   "metadata": {},
   "source": [
    "### Посчитаем 95-й и 99-й перцентили стоимости заказов. Выберите границу для определения аномальных заказов."
   ]
  },
  {
   "cell_type": "code",
   "execution_count": 33,
   "id": "8a3878ee",
   "metadata": {},
   "outputs": [
    {
     "data": {
      "text/plain": [
       "array([26785., 53904.])"
      ]
     },
     "execution_count": 33,
     "metadata": {},
     "output_type": "execute_result"
    }
   ],
   "source": [
    "np.percentile(orders['revenue'], [95, 99])"
   ]
  },
  {
   "cell_type": "markdown",
   "id": "1042d4c3",
   "metadata": {},
   "source": [
    "####  Вывод: в 99 % заказов сумма меньше 53 904"
   ]
  },
  {
   "cell_type": "markdown",
   "id": "38779fee",
   "metadata": {},
   "source": [
    "### Посчитаем статистическую значимость различий в конверсии между группами по «сырым» данным"
   ]
  },
  {
   "cell_type": "code",
   "execution_count": 34,
   "id": "05be7230",
   "metadata": {},
   "outputs": [
    {
     "data": {
      "text/html": [
       "<div>\n",
       "<style scoped>\n",
       "    .dataframe tbody tr th:only-of-type {\n",
       "        vertical-align: middle;\n",
       "    }\n",
       "\n",
       "    .dataframe tbody tr th {\n",
       "        vertical-align: top;\n",
       "    }\n",
       "\n",
       "    .dataframe thead th {\n",
       "        text-align: right;\n",
       "    }\n",
       "</style>\n",
       "<table border=\"1\" class=\"dataframe\">\n",
       "  <thead>\n",
       "    <tr style=\"text-align: right;\">\n",
       "      <th></th>\n",
       "      <th>date</th>\n",
       "      <th>ordersPerDateA</th>\n",
       "      <th>revenuePerDateA</th>\n",
       "      <th>ordersPerDateB</th>\n",
       "      <th>revenuePerDateB</th>\n",
       "      <th>ordersCummulativeA</th>\n",
       "      <th>revenueCummulativeA</th>\n",
       "      <th>ordersCummulativeB</th>\n",
       "      <th>revenueCummulativeB</th>\n",
       "      <th>visitorsPerDateA</th>\n",
       "      <th>visitorsPerDateB</th>\n",
       "      <th>visitorsCummulativeA</th>\n",
       "      <th>visitorsCummulativeB</th>\n",
       "    </tr>\n",
       "  </thead>\n",
       "  <tbody>\n",
       "    <tr>\n",
       "      <th>0</th>\n",
       "      <td>2019-08-01</td>\n",
       "      <td>23</td>\n",
       "      <td>142779</td>\n",
       "      <td>17</td>\n",
       "      <td>59758</td>\n",
       "      <td>23</td>\n",
       "      <td>142779</td>\n",
       "      <td>17</td>\n",
       "      <td>59758</td>\n",
       "      <td>719</td>\n",
       "      <td>713</td>\n",
       "      <td>719</td>\n",
       "      <td>713</td>\n",
       "    </tr>\n",
       "    <tr>\n",
       "      <th>1</th>\n",
       "      <td>2019-08-02</td>\n",
       "      <td>19</td>\n",
       "      <td>91602</td>\n",
       "      <td>23</td>\n",
       "      <td>162043</td>\n",
       "      <td>42</td>\n",
       "      <td>234381</td>\n",
       "      <td>40</td>\n",
       "      <td>221801</td>\n",
       "      <td>619</td>\n",
       "      <td>581</td>\n",
       "      <td>1338</td>\n",
       "      <td>1294</td>\n",
       "    </tr>\n",
       "    <tr>\n",
       "      <th>2</th>\n",
       "      <td>2019-08-03</td>\n",
       "      <td>24</td>\n",
       "      <td>112473</td>\n",
       "      <td>14</td>\n",
       "      <td>67049</td>\n",
       "      <td>66</td>\n",
       "      <td>346854</td>\n",
       "      <td>54</td>\n",
       "      <td>288850</td>\n",
       "      <td>507</td>\n",
       "      <td>509</td>\n",
       "      <td>1845</td>\n",
       "      <td>1803</td>\n",
       "    </tr>\n",
       "    <tr>\n",
       "      <th>3</th>\n",
       "      <td>2019-08-04</td>\n",
       "      <td>11</td>\n",
       "      <td>41176</td>\n",
       "      <td>14</td>\n",
       "      <td>96890</td>\n",
       "      <td>77</td>\n",
       "      <td>388030</td>\n",
       "      <td>68</td>\n",
       "      <td>385740</td>\n",
       "      <td>717</td>\n",
       "      <td>770</td>\n",
       "      <td>2562</td>\n",
       "      <td>2573</td>\n",
       "    </tr>\n",
       "    <tr>\n",
       "      <th>4</th>\n",
       "      <td>2019-08-05</td>\n",
       "      <td>22</td>\n",
       "      <td>86383</td>\n",
       "      <td>21</td>\n",
       "      <td>89908</td>\n",
       "      <td>99</td>\n",
       "      <td>474413</td>\n",
       "      <td>89</td>\n",
       "      <td>475648</td>\n",
       "      <td>756</td>\n",
       "      <td>707</td>\n",
       "      <td>3318</td>\n",
       "      <td>3280</td>\n",
       "    </tr>\n",
       "  </tbody>\n",
       "</table>\n",
       "</div>"
      ],
      "text/plain": [
       "        date  ordersPerDateA  revenuePerDateA  ordersPerDateB  \\\n",
       "0 2019-08-01              23           142779              17   \n",
       "1 2019-08-02              19            91602              23   \n",
       "2 2019-08-03              24           112473              14   \n",
       "3 2019-08-04              11            41176              14   \n",
       "4 2019-08-05              22            86383              21   \n",
       "\n",
       "   revenuePerDateB  ordersCummulativeA  revenueCummulativeA  \\\n",
       "0            59758                  23               142779   \n",
       "1           162043                  42               234381   \n",
       "2            67049                  66               346854   \n",
       "3            96890                  77               388030   \n",
       "4            89908                  99               474413   \n",
       "\n",
       "   ordersCummulativeB  revenueCummulativeB  visitorsPerDateA  \\\n",
       "0                  17                59758               719   \n",
       "1                  40               221801               619   \n",
       "2                  54               288850               507   \n",
       "3                  68               385740               717   \n",
       "4                  89               475648               756   \n",
       "\n",
       "   visitorsPerDateB  visitorsCummulativeA  visitorsCummulativeB  \n",
       "0               713                   719                   713  \n",
       "1               581                  1338                  1294  \n",
       "2               509                  1845                  1803  \n",
       "3               770                  2562                  2573  \n",
       "4               707                  3318                  3280  "
      ]
     },
     "metadata": {},
     "output_type": "display_data"
    }
   ],
   "source": [
    "visitorsADaily = visitors[visitors['group'] == 'A'][['date', 'visitors']]\n",
    "visitorsADaily.columns = ['date', 'visitorsPerDateA']\n",
    "\n",
    "visitorsACummulative = visitorsADaily.apply(\n",
    "    lambda x: visitorsADaily[visitorsADaily['date'] <= x['date']].agg(\n",
    "        {'date': 'max', 'visitorsPerDateA': 'sum'}\n",
    "    ),\n",
    "    axis=1,\n",
    ")\n",
    "visitorsACummulative.columns = ['date', 'visitorsCummulativeA']\n",
    "\n",
    "visitorsBDaily = visitors[visitors['group'] == 'B'][['date', 'visitors']]\n",
    "visitorsBDaily.columns = ['date', 'visitorsPerDateB']\n",
    "\n",
    "visitorsBCummulative = visitorsBDaily.apply(\n",
    "    lambda x: visitorsBDaily[visitorsBDaily['date'] <= x['date']].agg(\n",
    "        {'date': 'max', 'visitorsPerDateB': 'sum'}\n",
    "    ),\n",
    "    axis=1,\n",
    ")\n",
    "visitorsBCummulative.columns = ['date', 'visitorsCummulativeB']\n",
    "\n",
    "ordersADaily = (\n",
    "    orders[orders['group'] == 'A'][['date', 'orderId', 'userId', 'revenue']]\n",
    "    .groupby('date', as_index=False)\n",
    "    .agg({'orderId': pd.Series.nunique, 'revenue': 'sum'})\n",
    ")\n",
    "ordersADaily.columns = ['date', 'ordersPerDateA', 'revenuePerDateA']\n",
    "\n",
    "ordersACummulative = ordersADaily.apply(\n",
    "    lambda x: ordersADaily[ordersADaily['date'] <= x['date']].agg(\n",
    "        {'date': 'max', 'ordersPerDateA': 'sum', 'revenuePerDateA': 'sum'}\n",
    "    ),\n",
    "    axis=1,\n",
    ").sort_values(by=['date'])\n",
    "ordersACummulative.columns = [\n",
    "    'date',\n",
    "    'ordersCummulativeA',\n",
    "    'revenueCummulativeA',\n",
    "]\n",
    "\n",
    "ordersBDaily = (\n",
    "    orders[orders['group'] == 'B'][['date', 'orderId', 'userId', 'revenue']]\n",
    "    .groupby('date', as_index=False)\n",
    "    .agg({'orderId': pd.Series.nunique, 'revenue': 'sum'})\n",
    ")\n",
    "ordersBDaily.columns = ['date', 'ordersPerDateB', 'revenuePerDateB']\n",
    "\n",
    "ordersBCummulative = ordersBDaily.apply(\n",
    "    lambda x: ordersBDaily[ordersBDaily['date'] <= x['date']].agg(\n",
    "        {'date': 'max', 'ordersPerDateB': 'sum', 'revenuePerDateB': 'sum'}\n",
    "    ),\n",
    "    axis=1,\n",
    ").sort_values(by=['date'])\n",
    "ordersBCummulative.columns = [\n",
    "    'date',\n",
    "    'ordersCummulativeB',\n",
    "    'revenueCummulativeB',\n",
    "]\n",
    "\n",
    "data = (\n",
    "    ordersADaily.merge(\n",
    "        ordersBDaily, left_on='date', right_on='date', how='left'\n",
    "    )\n",
    "    .merge(ordersACummulative, left_on='date', right_on='date', how='left')\n",
    "    .merge(ordersBCummulative, left_on='date', right_on='date', how='left')\n",
    "    .merge(visitorsADaily, left_on='date', right_on='date', how='left')\n",
    "    .merge(visitorsBDaily, left_on='date', right_on='date', how='left')\n",
    "    .merge(visitorsACummulative, left_on='date', right_on='date', how='left')\n",
    "    .merge(visitorsBCummulative, left_on='date', right_on='date', how='left')\n",
    ")\n",
    "\n",
    "display(data.head(5)) "
   ]
  },
  {
   "cell_type": "code",
   "execution_count": 35,
   "id": "b32db5e6",
   "metadata": {},
   "outputs": [
    {
     "name": "stdout",
     "output_type": "stream",
     "text": [
      "0.02497865072587532\n"
     ]
    },
    {
     "data": {
      "text/plain": [
       "0.02897018397124128"
      ]
     },
     "execution_count": 35,
     "metadata": {},
     "output_type": "execute_result"
    }
   ],
   "source": [
    "ordersByUsersA = (\n",
    "    orders[orders['group'] == 'A']\n",
    "    .groupby('userId', as_index=False)\n",
    "    .agg({'orderId': pd.Series.nunique})\n",
    ")\n",
    "ordersByUsersA.columns = ['userId', 'orders']\n",
    "\n",
    "ordersByUsersB = (\n",
    "    orders[orders['group'] == 'B']\n",
    "    .groupby('userId', as_index=False)\n",
    "    .agg({'orderId': pd.Series.nunique})\n",
    ")\n",
    "ordersByUsersB.columns = ['userId', 'orders']\n",
    "\n",
    "sampleA = pd.concat(\n",
    "    [\n",
    "        ordersByUsersA['orders'],\n",
    "        pd.Series(\n",
    "            0,\n",
    "            index=np.arange(\n",
    "                data['visitorsPerDateA'].sum() - len(ordersByUsersA['orders'])\n",
    "            ),\n",
    "            name='orders',\n",
    "        ),\n",
    "    ],\n",
    "    axis=0,\n",
    ")\n",
    "\n",
    "sampleB = pd.concat(\n",
    "    [\n",
    "        ordersByUsersB['orders'],\n",
    "        pd.Series(\n",
    "            0,\n",
    "            index=np.arange(\n",
    "                data['visitorsPerDateB'].sum() - len(ordersByUsersB['orders'])\n",
    "            ),\n",
    "            name='orders',\n",
    "        ),\n",
    "    ],\n",
    "    axis=0,\n",
    ")\n",
    "\n",
    "print(sampleA.mean())\n",
    "sampleB.mean()"
   ]
  },
  {
   "cell_type": "code",
   "execution_count": 36,
   "id": "68b69ec7",
   "metadata": {},
   "outputs": [
    {
     "name": "stdout",
     "output_type": "stream",
     "text": [
      "alpha = 0.05\n",
      "p-value 0.011\n",
      "Относительный показатель 'B' и 'A' 0.160\n"
     ]
    }
   ],
   "source": [
    "print(\"alpha =\",0.05)\n",
    "print(\"p-value\",\"{0:.3f}\".format(sps.mannwhitneyu(sampleA, sampleB, alternative='two-sided')[1]))\n",
    "print(\"Относительный показатель 'B' и 'A'\",\"{0:.3f}\".format(sampleB.mean() / sampleA.mean() - 1))\n"
   ]
  },
  {
   "cell_type": "markdown",
   "id": "5cb155f3",
   "metadata": {},
   "source": [
    "#### Вывод: отвергнута гипотеза \"статистически значимых различий в конверсии между группами нет\"."
   ]
  },
  {
   "cell_type": "markdown",
   "id": "2d8b30be",
   "metadata": {},
   "source": [
    "### Посчитаем статистическую значимость различий в среднем чеке заказа между группами по «сырым» данным"
   ]
  },
  {
   "cell_type": "code",
   "execution_count": 37,
   "id": "80fd637a",
   "metadata": {},
   "outputs": [
    {
     "name": "stdout",
     "output_type": "stream",
     "text": [
      "7189.4358974358975\n"
     ]
    },
    {
     "data": {
      "text/plain": [
       "9249.94890510949"
      ]
     },
     "execution_count": 37,
     "metadata": {},
     "output_type": "execute_result"
    }
   ],
   "source": [
    "print(orders[orders['group']=='A']['revenue'].mean())\n",
    "orders[orders['group']=='B']['revenue'].mean()"
   ]
  },
  {
   "cell_type": "code",
   "execution_count": 38,
   "id": "f4fa9429",
   "metadata": {},
   "outputs": [
    {
     "name": "stdout",
     "output_type": "stream",
     "text": [
      "alpha = 0.05\n",
      "p-value 0.829\n",
      "Относительный показатель 'B' и 'A' 0.287\n"
     ]
    }
   ],
   "source": [
    "print(\"alpha =\",0.05)\n",
    "print(\"p-value\",'{0:.3f}'.format(sps.mannwhitneyu(orders[orders['group']=='A']['revenue'], orders[orders['group']=='B']['revenue'])[1]))\n",
    "print(\"Относительный показатель 'B' и 'A'\",'{0:.3f}'.format(orders[orders['group']=='B']['revenue'].mean()/orders[orders['group']=='A']['revenue'].mean()-1)) "
   ]
  },
  {
   "cell_type": "markdown",
   "id": "1541a5ec",
   "metadata": {},
   "source": [
    "#### Вывод: не удается подтвердить статистическую значимость различий в среднем чеке. Средние чеки схожи. "
   ]
  },
  {
   "cell_type": "markdown",
   "id": "ea006021",
   "metadata": {},
   "source": [
    "### Посчитайте статистическую значимость различий в конверсии между группами по «очищенным» данным"
   ]
  },
  {
   "cell_type": "code",
   "execution_count": 39,
   "id": "12fc6c1b",
   "metadata": {},
   "outputs": [
    {
     "data": {
      "text/plain": [
       "937    148427295\n",
       "33     249864742\n",
       "58     611059232\n",
       "811    887908475\n",
       "632    888512513\n",
       "Name: userId, dtype: int64"
      ]
     },
     "metadata": {},
     "output_type": "display_data"
    },
    {
     "data": {
      "text/plain": [
       "16"
      ]
     },
     "metadata": {},
     "output_type": "display_data"
    }
   ],
   "source": [
    "usersWithManyOrders = pd.concat(\n",
    "    [\n",
    "        ordersByUsersA[ordersByUsersA['orders'] > 2]['userId'],\n",
    "        ordersByUsersB[ordersByUsersB['orders'] > 2]['userId'],\n",
    "    ],\n",
    "    axis=0,\n",
    ")\n",
    "usersWithExpensiveOrders = orders[orders['revenue'] > 53904]['userId']\n",
    "abnormalUsers = (\n",
    "    pd.concat([usersWithManyOrders, usersWithExpensiveOrders], axis=0)\n",
    "    .drop_duplicates()\n",
    "    .sort_values()\n",
    ")\n",
    "display(abnormalUsers.head(5))\n",
    "display(abnormalUsers.shape[0]) "
   ]
  },
  {
   "cell_type": "code",
   "execution_count": 40,
   "id": "cc9f9901",
   "metadata": {},
   "outputs": [],
   "source": [
    "sampleAFiltered = pd.concat(\n",
    "    [\n",
    "        ordersByUsersA[\n",
    "            np.logical_not(ordersByUsersA['userId'].isin(abnormalUsers))\n",
    "        ]['orders'],\n",
    "        pd.Series(\n",
    "            0,\n",
    "            index=np.arange(\n",
    "                data['visitorsPerDateA'].sum() - len(ordersByUsersA['orders'])\n",
    "            ),\n",
    "            name='orders',\n",
    "        ),\n",
    "    ],\n",
    "    axis=0,\n",
    ")\n",
    "\n",
    "sampleBFiltered = pd.concat(\n",
    "    [\n",
    "        ordersByUsersB[\n",
    "            np.logical_not(ordersByUsersB['userId'].isin(abnormalUsers))\n",
    "        ]['orders'],\n",
    "        pd.Series(\n",
    "            0,\n",
    "            index=np.arange(\n",
    "                data['visitorsPerDateB'].sum() - len(ordersByUsersB['orders'])\n",
    "            ),\n",
    "            name='orders',\n",
    "        ),\n",
    "    ],\n",
    "    axis=0,\n",
    ") "
   ]
  },
  {
   "cell_type": "code",
   "execution_count": 41,
   "id": "679524d3",
   "metadata": {},
   "outputs": [
    {
     "name": "stdout",
     "output_type": "stream",
     "text": [
      "0.023923955997009506\n"
     ]
    },
    {
     "data": {
      "text/plain": [
       "0.02845055526176626"
      ]
     },
     "execution_count": 41,
     "metadata": {},
     "output_type": "execute_result"
    }
   ],
   "source": [
    "print(sampleAFiltered.mean())\n",
    "sampleBFiltered.mean()"
   ]
  },
  {
   "cell_type": "code",
   "execution_count": 42,
   "id": "60edf87e",
   "metadata": {},
   "outputs": [
    {
     "name": "stdout",
     "output_type": "stream",
     "text": [
      "alpha = 0.05\n",
      "p-value 0.007\n",
      "Относительный показатель 'B' и 'A' 0.189\n"
     ]
    }
   ],
   "source": [
    "print(\"alpha =\",0.05)\n",
    "print('p-value','{0:.3f}'.format(sps.mannwhitneyu(sampleAFiltered, sampleBFiltered)[1]))\n",
    "print(\"Относительный показатель 'B' и 'A'\",'{0:.3f}'.format(sampleBFiltered.mean()/sampleAFiltered.mean()-1)) "
   ]
  },
  {
   "cell_type": "markdown",
   "id": "3467ecb6",
   "metadata": {},
   "source": [
    "#### Нулевая гипотеза: статистически значимых различий в конверсии между группами нет, значит гипотеза отвергается. Cтатистически значимые различия в конверсии между группами А и В есть. В больше на 18.9 %. "
   ]
  },
  {
   "cell_type": "markdown",
   "id": "f0723c7e",
   "metadata": {},
   "source": [
    "### Посчитайте статистическую значимость различий в среднем чеке заказа между группами по «очищенным» данным"
   ]
  },
  {
   "cell_type": "markdown",
   "id": "2cf0fc6b",
   "metadata": {},
   "source": [
    "* Нулевая гипотеза: \"статистически значимых различий в средних чеках между группами нет\"\n",
    "* Альтернативная гипотеза: \"статистически значимые различия есть\""
   ]
  },
  {
   "cell_type": "code",
   "execution_count": 43,
   "id": "d130825e",
   "metadata": {},
   "outputs": [
    {
     "name": "stdout",
     "output_type": "stream",
     "text": [
      "0.788\n",
      "-0.032\n"
     ]
    }
   ],
   "source": [
    "print(\n",
    "    '{0:.3f}'.format(\n",
    "        sps.mannwhitneyu(\n",
    "            orders[\n",
    "                np.logical_and(\n",
    "                    orders['group'] == 'A',\n",
    "                    np.logical_not(orders['userId'].isin(abnormalUsers)),\n",
    "                )\n",
    "            ]['revenue'],\n",
    "            orders[\n",
    "                np.logical_and(\n",
    "                    orders['group'] == 'B',\n",
    "                    np.logical_not(orders['userId'].isin(abnormalUsers)),\n",
    "                )\n",
    "            ]['revenue'],\n",
    "        )[1]\n",
    "    )\n",
    ")\n",
    "\n",
    "print(\n",
    "    \"{0:.3f}\".format(\n",
    "        orders[\n",
    "            np.logical_and(\n",
    "                orders['group'] == 'B',\n",
    "                np.logical_not(orders['userId'].isin(abnormalUsers)),\n",
    "            )\n",
    "        ]['revenue'].mean()\n",
    "        / orders[\n",
    "            np.logical_and(\n",
    "                orders['group'] == 'A',\n",
    "                np.logical_not(orders['userId'].isin(abnormalUsers)),\n",
    "            )\n",
    "        ]['revenue'].mean()\n",
    "        - 1\n",
    "    )\n",
    ") "
   ]
  },
  {
   "cell_type": "markdown",
   "id": "03b9f18c",
   "metadata": {},
   "source": [
    "#### Вывод: P-value большое - 0.788. Нельзя отвергнуть нулевую гипотезу \"статистически значимых различий в средних чеках между группами нет\". Средний чек по очищеным данным оказался в минусе на 3,2%."
   ]
  },
  {
   "cell_type": "code",
   "execution_count": 44,
   "id": "449e4f04",
   "metadata": {},
   "outputs": [
    {
     "name": "stdout",
     "output_type": "stream",
     "text": [
      "6487.024553571428\n"
     ]
    },
    {
     "data": {
      "text/plain": [
       "6277.2657992565055"
      ]
     },
     "execution_count": 44,
     "metadata": {},
     "output_type": "execute_result"
    }
   ],
   "source": [
    "print(orders[np.logical_and(orders['group'] == 'A',np.logical_not(orders['userId'].isin(abnormalUsers)))]['revenue'].mean())\n",
    "orders[np.logical_and(orders['group'] == 'B',np.logical_not(orders['userId'].isin(abnormalUsers)))]['revenue'].mean()"
   ]
  },
  {
   "cell_type": "markdown",
   "id": "d8a25093",
   "metadata": {},
   "source": [
    "#### Действительно средние чеки различаються не значтельно."
   ]
  },
  {
   "cell_type": "markdown",
   "id": "5dca1d37",
   "metadata": {},
   "source": [
    "## Решение по результатам теста:"
   ]
  },
  {
   "cell_type": "markdown",
   "id": "8d7c95c3",
   "metadata": {},
   "source": [
    "* Остановить тест, зафиксировать победу группы B.\n",
    "* Тест можно прервать. Победила группа В. Группа В значительно лучше по конверсии на 18,9% по очищенным от выбрасов данным.\n",
    "* Статистически значимой разницы по среднему чеку между группами нет. \n",
    "* Внедрение изменений группы B скажеться только на увеличении конверсии, при этом средний чек останеться таким-же."
   ]
  }
 ],
 "metadata": {
  "ExecuteTimeLog": [
   {
    "duration": 1192,
    "start_time": "2022-04-27T12:11:33.900Z"
   },
   {
    "duration": 99,
    "start_time": "2022-04-27T12:11:35.094Z"
   },
   {
    "duration": 10,
    "start_time": "2022-04-27T12:11:35.195Z"
   },
   {
    "duration": 25,
    "start_time": "2022-04-27T12:11:35.207Z"
   },
   {
    "duration": 157,
    "start_time": "2022-04-27T12:11:35.234Z"
   },
   {
    "duration": 18,
    "start_time": "2022-04-27T12:11:35.392Z"
   },
   {
    "duration": 12,
    "start_time": "2022-04-27T12:11:35.411Z"
   },
   {
    "duration": 11,
    "start_time": "2022-04-27T12:11:35.424Z"
   },
   {
    "duration": 5,
    "start_time": "2022-04-27T12:11:35.437Z"
   },
   {
    "duration": 15,
    "start_time": "2022-04-27T12:11:35.444Z"
   },
   {
    "duration": 17,
    "start_time": "2022-04-27T12:11:35.460Z"
   },
   {
    "duration": 4,
    "start_time": "2022-04-27T12:11:35.478Z"
   },
   {
    "duration": 10,
    "start_time": "2022-04-27T12:11:35.484Z"
   },
   {
    "duration": 11,
    "start_time": "2022-04-27T12:11:35.496Z"
   },
   {
    "duration": 299,
    "start_time": "2022-04-27T12:11:35.524Z"
   },
   {
    "duration": 22,
    "start_time": "2022-04-27T12:11:35.825Z"
   },
   {
    "duration": 495,
    "start_time": "2022-04-27T12:11:35.849Z"
   },
   {
    "duration": 352,
    "start_time": "2022-04-27T12:11:36.346Z"
   },
   {
    "duration": 367,
    "start_time": "2022-04-27T12:11:36.701Z"
   },
   {
    "duration": 4,
    "start_time": "2022-04-27T12:11:37.069Z"
   },
   {
    "duration": 248,
    "start_time": "2022-04-27T12:11:37.075Z"
   },
   {
    "duration": 22,
    "start_time": "2022-04-27T12:11:37.326Z"
   },
   {
    "duration": 328,
    "start_time": "2022-04-27T12:11:37.349Z"
   },
   {
    "duration": 11,
    "start_time": "2022-04-27T12:11:37.679Z"
   },
   {
    "duration": 176,
    "start_time": "2022-04-27T12:11:37.691Z"
   },
   {
    "duration": 13,
    "start_time": "2022-04-27T12:11:37.869Z"
   },
   {
    "duration": 177,
    "start_time": "2022-04-27T12:11:37.884Z"
   },
   {
    "duration": 14,
    "start_time": "2022-04-27T12:11:38.064Z"
   },
   {
    "duration": 174,
    "start_time": "2022-04-27T12:11:38.079Z"
   },
   {
    "duration": 5,
    "start_time": "2022-04-27T12:11:38.255Z"
   },
   {
    "duration": 252,
    "start_time": "2022-04-27T12:11:38.262Z"
   },
   {
    "duration": 10,
    "start_time": "2022-04-27T12:11:38.516Z"
   },
   {
    "duration": 211,
    "start_time": "2022-04-27T12:11:38.527Z"
   },
   {
    "duration": 155,
    "start_time": "2022-04-27T12:11:38.740Z"
   },
   {
    "duration": 31,
    "start_time": "2022-04-27T12:11:38.897Z"
   },
   {
    "duration": 8,
    "start_time": "2022-04-27T12:11:38.930Z"
   },
   {
    "duration": 19,
    "start_time": "2022-04-27T12:11:38.940Z"
   },
   {
    "duration": 25,
    "start_time": "2022-04-27T12:11:38.961Z"
   },
   {
    "duration": 18,
    "start_time": "2022-04-27T12:11:38.988Z"
   },
   {
    "duration": 9,
    "start_time": "2022-04-27T12:11:39.008Z"
   },
   {
    "duration": 28,
    "start_time": "2022-04-27T12:11:39.023Z"
   },
   {
    "duration": 14,
    "start_time": "2022-04-27T12:11:39.053Z"
   },
   {
    "duration": 20,
    "start_time": "2022-04-27T12:11:39.069Z"
   },
   {
    "duration": 1210,
    "start_time": "2022-04-28T10:36:56.779Z"
   },
   {
    "duration": 117,
    "start_time": "2022-04-28T10:36:57.992Z"
   },
   {
    "duration": 11,
    "start_time": "2022-04-28T10:36:58.112Z"
   },
   {
    "duration": 11,
    "start_time": "2022-04-28T10:36:58.125Z"
   },
   {
    "duration": 201,
    "start_time": "2022-04-28T10:36:58.138Z"
   },
   {
    "duration": 17,
    "start_time": "2022-04-28T10:36:58.340Z"
   },
   {
    "duration": 14,
    "start_time": "2022-04-28T10:36:58.359Z"
   },
   {
    "duration": 9,
    "start_time": "2022-04-28T10:36:58.374Z"
   },
   {
    "duration": 3,
    "start_time": "2022-04-28T10:36:58.385Z"
   },
   {
    "duration": 32,
    "start_time": "2022-04-28T10:36:58.391Z"
   },
   {
    "duration": 16,
    "start_time": "2022-04-28T10:36:58.424Z"
   },
   {
    "duration": 4,
    "start_time": "2022-04-28T10:36:58.441Z"
   },
   {
    "duration": 8,
    "start_time": "2022-04-28T10:36:58.447Z"
   },
   {
    "duration": 12,
    "start_time": "2022-04-28T10:36:58.456Z"
   },
   {
    "duration": 14,
    "start_time": "2022-04-28T10:36:58.470Z"
   },
   {
    "duration": 314,
    "start_time": "2022-04-28T10:36:58.485Z"
   },
   {
    "duration": 16,
    "start_time": "2022-04-28T10:36:58.801Z"
   },
   {
    "duration": 296,
    "start_time": "2022-04-28T10:36:58.822Z"
   },
   {
    "duration": 225,
    "start_time": "2022-04-28T10:36:59.120Z"
   },
   {
    "duration": 333,
    "start_time": "2022-04-28T10:36:59.346Z"
   },
   {
    "duration": 4,
    "start_time": "2022-04-28T10:36:59.681Z"
   },
   {
    "duration": 222,
    "start_time": "2022-04-28T10:36:59.686Z"
   },
   {
    "duration": 22,
    "start_time": "2022-04-28T10:36:59.910Z"
   },
   {
    "duration": 396,
    "start_time": "2022-04-28T10:36:59.934Z"
   },
   {
    "duration": 14,
    "start_time": "2022-04-28T10:37:00.332Z"
   },
   {
    "duration": 213,
    "start_time": "2022-04-28T10:37:00.347Z"
   },
   {
    "duration": 15,
    "start_time": "2022-04-28T10:37:00.562Z"
   },
   {
    "duration": 187,
    "start_time": "2022-04-28T10:37:00.581Z"
   },
   {
    "duration": 14,
    "start_time": "2022-04-28T10:37:00.770Z"
   },
   {
    "duration": 236,
    "start_time": "2022-04-28T10:37:00.786Z"
   },
   {
    "duration": 6,
    "start_time": "2022-04-28T10:37:01.024Z"
   },
   {
    "duration": 292,
    "start_time": "2022-04-28T10:37:01.031Z"
   },
   {
    "duration": 6,
    "start_time": "2022-04-28T10:37:01.324Z"
   },
   {
    "duration": 229,
    "start_time": "2022-04-28T10:37:01.332Z"
   },
   {
    "duration": 135,
    "start_time": "2022-04-28T10:37:01.563Z"
   },
   {
    "duration": 39,
    "start_time": "2022-04-28T10:37:01.700Z"
   },
   {
    "duration": 7,
    "start_time": "2022-04-28T10:37:01.741Z"
   },
   {
    "duration": 12,
    "start_time": "2022-04-28T10:37:01.749Z"
   },
   {
    "duration": 10,
    "start_time": "2022-04-28T10:37:01.762Z"
   },
   {
    "duration": 13,
    "start_time": "2022-04-28T10:37:01.774Z"
   },
   {
    "duration": 36,
    "start_time": "2022-04-28T10:37:01.788Z"
   },
   {
    "duration": 27,
    "start_time": "2022-04-28T10:37:01.826Z"
   },
   {
    "duration": 13,
    "start_time": "2022-04-28T10:37:01.855Z"
   },
   {
    "duration": 14,
    "start_time": "2022-04-28T10:37:01.870Z"
   },
   {
    "duration": 109,
    "start_time": "2022-04-28T10:38:43.093Z"
   },
   {
    "duration": 16,
    "start_time": "2022-04-28T10:38:44.459Z"
   },
   {
    "duration": 13,
    "start_time": "2022-04-28T10:38:45.095Z"
   },
   {
    "duration": 7,
    "start_time": "2022-04-28T10:38:45.844Z"
   },
   {
    "duration": 4,
    "start_time": "2022-04-28T10:38:46.382Z"
   },
   {
    "duration": 10,
    "start_time": "2022-04-28T10:38:46.782Z"
   },
   {
    "duration": 16,
    "start_time": "2022-04-28T10:38:47.477Z"
   },
   {
    "duration": 4,
    "start_time": "2022-04-28T10:38:48.104Z"
   },
   {
    "duration": 5,
    "start_time": "2022-04-28T10:38:48.793Z"
   },
   {
    "duration": 9,
    "start_time": "2022-04-28T10:38:49.075Z"
   },
   {
    "duration": 12,
    "start_time": "2022-04-28T10:38:50.946Z"
   },
   {
    "duration": 13,
    "start_time": "2022-04-28T10:39:01.247Z"
   },
   {
    "duration": 48,
    "start_time": "2022-04-29T18:03:53.331Z"
   },
   {
    "duration": 1352,
    "start_time": "2022-04-29T18:04:01.114Z"
   },
   {
    "duration": 107,
    "start_time": "2022-04-29T18:04:02.468Z"
   },
   {
    "duration": 12,
    "start_time": "2022-04-29T18:04:02.576Z"
   },
   {
    "duration": 12,
    "start_time": "2022-04-29T18:04:02.590Z"
   },
   {
    "duration": 180,
    "start_time": "2022-04-29T18:04:02.604Z"
   },
   {
    "duration": 16,
    "start_time": "2022-04-29T18:04:02.786Z"
   },
   {
    "duration": 18,
    "start_time": "2022-04-29T18:04:02.804Z"
   },
   {
    "duration": 11,
    "start_time": "2022-04-29T18:04:02.823Z"
   },
   {
    "duration": 4,
    "start_time": "2022-04-29T18:04:02.835Z"
   },
   {
    "duration": 12,
    "start_time": "2022-04-29T18:04:02.842Z"
   },
   {
    "duration": 24,
    "start_time": "2022-04-29T18:04:02.856Z"
   },
   {
    "duration": 12,
    "start_time": "2022-04-29T18:04:02.881Z"
   },
   {
    "duration": 12,
    "start_time": "2022-04-29T18:04:02.895Z"
   },
   {
    "duration": 12,
    "start_time": "2022-04-29T18:04:02.909Z"
   },
   {
    "duration": 18,
    "start_time": "2022-04-29T18:04:02.923Z"
   },
   {
    "duration": 306,
    "start_time": "2022-04-29T18:04:02.943Z"
   },
   {
    "duration": 16,
    "start_time": "2022-04-29T18:04:03.251Z"
   },
   {
    "duration": 311,
    "start_time": "2022-04-29T18:04:03.269Z"
   },
   {
    "duration": 226,
    "start_time": "2022-04-29T18:04:03.582Z"
   },
   {
    "duration": 379,
    "start_time": "2022-04-29T18:04:03.810Z"
   },
   {
    "duration": 5,
    "start_time": "2022-04-29T18:04:04.191Z"
   },
   {
    "duration": 280,
    "start_time": "2022-04-29T18:04:04.197Z"
   },
   {
    "duration": 19,
    "start_time": "2022-04-29T18:04:04.479Z"
   },
   {
    "duration": 349,
    "start_time": "2022-04-29T18:04:04.500Z"
   },
   {
    "duration": 13,
    "start_time": "2022-04-29T18:04:04.852Z"
   },
   {
    "duration": 184,
    "start_time": "2022-04-29T18:04:04.866Z"
   },
   {
    "duration": 16,
    "start_time": "2022-04-29T18:04:05.052Z"
   },
   {
    "duration": 185,
    "start_time": "2022-04-29T18:04:05.072Z"
   },
   {
    "duration": 14,
    "start_time": "2022-04-29T18:04:05.259Z"
   },
   {
    "duration": 187,
    "start_time": "2022-04-29T18:04:05.274Z"
   },
   {
    "duration": 6,
    "start_time": "2022-04-29T18:04:05.463Z"
   },
   {
    "duration": 273,
    "start_time": "2022-04-29T18:04:05.471Z"
   },
   {
    "duration": 6,
    "start_time": "2022-04-29T18:04:05.746Z"
   },
   {
    "duration": 243,
    "start_time": "2022-04-29T18:04:05.754Z"
   },
   {
    "duration": 151,
    "start_time": "2022-04-29T18:04:05.999Z"
   },
   {
    "duration": 23,
    "start_time": "2022-04-29T18:04:06.152Z"
   },
   {
    "duration": 21,
    "start_time": "2022-04-29T18:04:06.177Z"
   },
   {
    "duration": 12,
    "start_time": "2022-04-29T18:04:06.199Z"
   },
   {
    "duration": 10,
    "start_time": "2022-04-29T18:04:06.213Z"
   },
   {
    "duration": 9,
    "start_time": "2022-04-29T18:04:06.225Z"
   },
   {
    "duration": 5,
    "start_time": "2022-04-29T18:04:06.236Z"
   },
   {
    "duration": 60,
    "start_time": "2022-04-29T18:04:06.243Z"
   },
   {
    "duration": 14,
    "start_time": "2022-04-29T18:04:06.305Z"
   },
   {
    "duration": 9,
    "start_time": "2022-04-29T18:04:06.320Z"
   },
   {
    "duration": 14,
    "start_time": "2022-04-29T18:05:06.889Z"
   },
   {
    "duration": 10,
    "start_time": "2022-04-29T18:06:10.316Z"
   },
   {
    "duration": 14,
    "start_time": "2022-04-29T18:06:25.228Z"
   },
   {
    "duration": 11,
    "start_time": "2022-04-29T18:10:11.326Z"
   },
   {
    "duration": 136,
    "start_time": "2022-04-29T18:10:21.886Z"
   },
   {
    "duration": 10,
    "start_time": "2022-04-29T18:10:36.677Z"
   },
   {
    "duration": 10,
    "start_time": "2022-04-29T18:10:45.565Z"
   },
   {
    "duration": 1175,
    "start_time": "2022-04-29T18:10:53.968Z"
   },
   {
    "duration": 57,
    "start_time": "2022-04-29T18:10:55.145Z"
   },
   {
    "duration": 12,
    "start_time": "2022-04-29T18:10:55.204Z"
   },
   {
    "duration": 11,
    "start_time": "2022-04-29T18:10:55.218Z"
   },
   {
    "duration": 75,
    "start_time": "2022-04-29T18:10:55.231Z"
   },
   {
    "duration": 16,
    "start_time": "2022-04-29T18:10:55.308Z"
   },
   {
    "duration": 13,
    "start_time": "2022-04-29T18:10:55.326Z"
   },
   {
    "duration": 8,
    "start_time": "2022-04-29T18:10:55.340Z"
   },
   {
    "duration": 4,
    "start_time": "2022-04-29T18:10:55.349Z"
   },
   {
    "duration": 9,
    "start_time": "2022-04-29T18:10:55.356Z"
   },
   {
    "duration": 36,
    "start_time": "2022-04-29T18:10:55.367Z"
   },
   {
    "duration": 4,
    "start_time": "2022-04-29T18:10:55.405Z"
   },
   {
    "duration": 7,
    "start_time": "2022-04-29T18:10:55.410Z"
   },
   {
    "duration": 12,
    "start_time": "2022-04-29T18:10:55.418Z"
   },
   {
    "duration": 13,
    "start_time": "2022-04-29T18:10:55.432Z"
   },
   {
    "duration": 630,
    "start_time": "2022-04-29T18:10:55.446Z"
   },
   {
    "duration": 0,
    "start_time": "2022-04-29T18:10:56.078Z"
   },
   {
    "duration": 0,
    "start_time": "2022-04-29T18:10:56.079Z"
   },
   {
    "duration": 0,
    "start_time": "2022-04-29T18:10:56.081Z"
   },
   {
    "duration": 0,
    "start_time": "2022-04-29T18:10:56.082Z"
   },
   {
    "duration": 0,
    "start_time": "2022-04-29T18:10:56.083Z"
   },
   {
    "duration": 0,
    "start_time": "2022-04-29T18:10:56.084Z"
   },
   {
    "duration": 0,
    "start_time": "2022-04-29T18:10:56.085Z"
   },
   {
    "duration": 0,
    "start_time": "2022-04-29T18:10:56.086Z"
   },
   {
    "duration": 0,
    "start_time": "2022-04-29T18:10:56.086Z"
   },
   {
    "duration": 0,
    "start_time": "2022-04-29T18:10:56.087Z"
   },
   {
    "duration": 0,
    "start_time": "2022-04-29T18:10:56.088Z"
   },
   {
    "duration": 0,
    "start_time": "2022-04-29T18:10:56.089Z"
   },
   {
    "duration": 0,
    "start_time": "2022-04-29T18:10:56.090Z"
   },
   {
    "duration": 0,
    "start_time": "2022-04-29T18:10:56.091Z"
   },
   {
    "duration": 0,
    "start_time": "2022-04-29T18:10:56.093Z"
   },
   {
    "duration": 0,
    "start_time": "2022-04-29T18:10:56.094Z"
   },
   {
    "duration": 0,
    "start_time": "2022-04-29T18:10:56.097Z"
   },
   {
    "duration": 0,
    "start_time": "2022-04-29T18:10:56.099Z"
   },
   {
    "duration": 0,
    "start_time": "2022-04-29T18:10:56.100Z"
   },
   {
    "duration": 0,
    "start_time": "2022-04-29T18:10:56.101Z"
   },
   {
    "duration": 0,
    "start_time": "2022-04-29T18:10:56.103Z"
   },
   {
    "duration": 0,
    "start_time": "2022-04-29T18:10:56.104Z"
   },
   {
    "duration": 0,
    "start_time": "2022-04-29T18:10:56.105Z"
   },
   {
    "duration": 0,
    "start_time": "2022-04-29T18:10:56.107Z"
   },
   {
    "duration": 0,
    "start_time": "2022-04-29T18:10:56.109Z"
   },
   {
    "duration": 0,
    "start_time": "2022-04-29T18:10:56.110Z"
   },
   {
    "duration": 0,
    "start_time": "2022-04-29T18:10:56.111Z"
   },
   {
    "duration": 0,
    "start_time": "2022-04-29T18:10:56.113Z"
   },
   {
    "duration": 10,
    "start_time": "2022-04-29T18:12:16.260Z"
   },
   {
    "duration": 15,
    "start_time": "2022-04-29T18:12:37.269Z"
   },
   {
    "duration": 1177,
    "start_time": "2022-04-29T18:13:07.057Z"
   },
   {
    "duration": 61,
    "start_time": "2022-04-29T18:13:08.237Z"
   },
   {
    "duration": 11,
    "start_time": "2022-04-29T18:13:08.300Z"
   },
   {
    "duration": 10,
    "start_time": "2022-04-29T18:13:08.313Z"
   },
   {
    "duration": 85,
    "start_time": "2022-04-29T18:13:08.325Z"
   },
   {
    "duration": 16,
    "start_time": "2022-04-29T18:13:08.412Z"
   },
   {
    "duration": 13,
    "start_time": "2022-04-29T18:13:08.430Z"
   },
   {
    "duration": 22,
    "start_time": "2022-04-29T18:13:08.444Z"
   },
   {
    "duration": 22,
    "start_time": "2022-04-29T18:13:08.467Z"
   },
   {
    "duration": 20,
    "start_time": "2022-04-29T18:13:08.491Z"
   },
   {
    "duration": 23,
    "start_time": "2022-04-29T18:13:08.512Z"
   },
   {
    "duration": 10,
    "start_time": "2022-04-29T18:13:08.536Z"
   },
   {
    "duration": 22,
    "start_time": "2022-04-29T18:13:08.547Z"
   },
   {
    "duration": 20,
    "start_time": "2022-04-29T18:13:08.570Z"
   },
   {
    "duration": 19,
    "start_time": "2022-04-29T18:13:08.592Z"
   },
   {
    "duration": 636,
    "start_time": "2022-04-29T18:13:08.613Z"
   },
   {
    "duration": 0,
    "start_time": "2022-04-29T18:13:09.251Z"
   },
   {
    "duration": 0,
    "start_time": "2022-04-29T18:13:09.252Z"
   },
   {
    "duration": 0,
    "start_time": "2022-04-29T18:13:09.253Z"
   },
   {
    "duration": 0,
    "start_time": "2022-04-29T18:13:09.254Z"
   },
   {
    "duration": 0,
    "start_time": "2022-04-29T18:13:09.255Z"
   },
   {
    "duration": 0,
    "start_time": "2022-04-29T18:13:09.256Z"
   },
   {
    "duration": 0,
    "start_time": "2022-04-29T18:13:09.257Z"
   },
   {
    "duration": 0,
    "start_time": "2022-04-29T18:13:09.258Z"
   },
   {
    "duration": 1,
    "start_time": "2022-04-29T18:13:09.259Z"
   },
   {
    "duration": 0,
    "start_time": "2022-04-29T18:13:09.261Z"
   },
   {
    "duration": 0,
    "start_time": "2022-04-29T18:13:09.261Z"
   },
   {
    "duration": 0,
    "start_time": "2022-04-29T18:13:09.262Z"
   },
   {
    "duration": 0,
    "start_time": "2022-04-29T18:13:09.263Z"
   },
   {
    "duration": 0,
    "start_time": "2022-04-29T18:13:09.264Z"
   },
   {
    "duration": 0,
    "start_time": "2022-04-29T18:13:09.266Z"
   },
   {
    "duration": 0,
    "start_time": "2022-04-29T18:13:09.266Z"
   },
   {
    "duration": 0,
    "start_time": "2022-04-29T18:13:09.269Z"
   },
   {
    "duration": 0,
    "start_time": "2022-04-29T18:13:09.270Z"
   },
   {
    "duration": 0,
    "start_time": "2022-04-29T18:13:09.271Z"
   },
   {
    "duration": 0,
    "start_time": "2022-04-29T18:13:09.272Z"
   },
   {
    "duration": 0,
    "start_time": "2022-04-29T18:13:09.273Z"
   },
   {
    "duration": 1,
    "start_time": "2022-04-29T18:13:09.273Z"
   },
   {
    "duration": 0,
    "start_time": "2022-04-29T18:13:09.275Z"
   },
   {
    "duration": 0,
    "start_time": "2022-04-29T18:13:09.275Z"
   },
   {
    "duration": 0,
    "start_time": "2022-04-29T18:13:09.276Z"
   },
   {
    "duration": 0,
    "start_time": "2022-04-29T18:13:09.277Z"
   },
   {
    "duration": 0,
    "start_time": "2022-04-29T18:13:09.278Z"
   },
   {
    "duration": 0,
    "start_time": "2022-04-29T18:13:09.279Z"
   },
   {
    "duration": 15,
    "start_time": "2022-04-29T18:14:07.765Z"
   },
   {
    "duration": 1203,
    "start_time": "2022-04-29T18:15:56.479Z"
   },
   {
    "duration": 58,
    "start_time": "2022-04-29T18:15:57.684Z"
   },
   {
    "duration": 13,
    "start_time": "2022-04-29T18:15:57.744Z"
   },
   {
    "duration": 10,
    "start_time": "2022-04-29T18:15:57.760Z"
   },
   {
    "duration": 76,
    "start_time": "2022-04-29T18:15:57.772Z"
   },
   {
    "duration": 16,
    "start_time": "2022-04-29T18:15:57.849Z"
   },
   {
    "duration": 12,
    "start_time": "2022-04-29T18:15:57.867Z"
   },
   {
    "duration": 8,
    "start_time": "2022-04-29T18:15:57.881Z"
   },
   {
    "duration": 5,
    "start_time": "2022-04-29T18:15:57.890Z"
   },
   {
    "duration": 13,
    "start_time": "2022-04-29T18:15:57.898Z"
   },
   {
    "duration": 24,
    "start_time": "2022-04-29T18:15:57.912Z"
   },
   {
    "duration": 10,
    "start_time": "2022-04-29T18:15:57.938Z"
   },
   {
    "duration": 12,
    "start_time": "2022-04-29T18:15:57.950Z"
   },
   {
    "duration": 15,
    "start_time": "2022-04-29T18:15:57.963Z"
   },
   {
    "duration": 19,
    "start_time": "2022-04-29T18:15:57.979Z"
   },
   {
    "duration": 312,
    "start_time": "2022-04-29T18:15:57.999Z"
   },
   {
    "duration": 16,
    "start_time": "2022-04-29T18:15:58.313Z"
   },
   {
    "duration": 352,
    "start_time": "2022-04-29T18:15:58.331Z"
   },
   {
    "duration": 232,
    "start_time": "2022-04-29T18:15:58.685Z"
   },
   {
    "duration": 310,
    "start_time": "2022-04-29T18:15:58.919Z"
   },
   {
    "duration": 5,
    "start_time": "2022-04-29T18:15:59.231Z"
   },
   {
    "duration": 236,
    "start_time": "2022-04-29T18:15:59.238Z"
   },
   {
    "duration": 24,
    "start_time": "2022-04-29T18:15:59.476Z"
   },
   {
    "duration": 339,
    "start_time": "2022-04-29T18:15:59.502Z"
   },
   {
    "duration": 12,
    "start_time": "2022-04-29T18:15:59.842Z"
   },
   {
    "duration": 231,
    "start_time": "2022-04-29T18:15:59.856Z"
   },
   {
    "duration": 19,
    "start_time": "2022-04-29T18:16:00.089Z"
   },
   {
    "duration": 202,
    "start_time": "2022-04-29T18:16:00.112Z"
   },
   {
    "duration": 15,
    "start_time": "2022-04-29T18:16:00.316Z"
   },
   {
    "duration": 197,
    "start_time": "2022-04-29T18:16:00.333Z"
   },
   {
    "duration": 5,
    "start_time": "2022-04-29T18:16:00.532Z"
   },
   {
    "duration": 273,
    "start_time": "2022-04-29T18:16:00.539Z"
   },
   {
    "duration": 6,
    "start_time": "2022-04-29T18:16:00.813Z"
   },
   {
    "duration": 261,
    "start_time": "2022-04-29T18:16:00.821Z"
   },
   {
    "duration": 129,
    "start_time": "2022-04-29T18:16:01.092Z"
   },
   {
    "duration": 25,
    "start_time": "2022-04-29T18:16:01.222Z"
   },
   {
    "duration": 7,
    "start_time": "2022-04-29T18:16:01.249Z"
   },
   {
    "duration": 38,
    "start_time": "2022-04-29T18:16:01.258Z"
   },
   {
    "duration": 12,
    "start_time": "2022-04-29T18:16:01.297Z"
   },
   {
    "duration": 13,
    "start_time": "2022-04-29T18:16:01.311Z"
   },
   {
    "duration": 11,
    "start_time": "2022-04-29T18:16:01.326Z"
   },
   {
    "duration": 30,
    "start_time": "2022-04-29T18:16:01.339Z"
   },
   {
    "duration": 31,
    "start_time": "2022-04-29T18:16:01.371Z"
   },
   {
    "duration": 12,
    "start_time": "2022-04-29T18:16:01.403Z"
   },
   {
    "duration": 137,
    "start_time": "2022-04-29T18:20:19.376Z"
   },
   {
    "duration": 16,
    "start_time": "2022-04-29T18:24:55.504Z"
   },
   {
    "duration": 1210,
    "start_time": "2022-04-29T18:26:45.758Z"
   },
   {
    "duration": 55,
    "start_time": "2022-04-29T18:26:46.970Z"
   },
   {
    "duration": 12,
    "start_time": "2022-04-29T18:26:47.026Z"
   },
   {
    "duration": 10,
    "start_time": "2022-04-29T18:26:47.040Z"
   },
   {
    "duration": 83,
    "start_time": "2022-04-29T18:26:47.052Z"
   },
   {
    "duration": 16,
    "start_time": "2022-04-29T18:26:47.136Z"
   },
   {
    "duration": 11,
    "start_time": "2022-04-29T18:26:47.154Z"
   },
   {
    "duration": 8,
    "start_time": "2022-04-29T18:26:47.167Z"
   },
   {
    "duration": 3,
    "start_time": "2022-04-29T18:26:47.177Z"
   },
   {
    "duration": 9,
    "start_time": "2022-04-29T18:26:47.182Z"
   },
   {
    "duration": 13,
    "start_time": "2022-04-29T18:26:47.193Z"
   },
   {
    "duration": 4,
    "start_time": "2022-04-29T18:26:47.208Z"
   },
   {
    "duration": 9,
    "start_time": "2022-04-29T18:26:47.214Z"
   },
   {
    "duration": 14,
    "start_time": "2022-04-29T18:26:47.224Z"
   },
   {
    "duration": 21,
    "start_time": "2022-04-29T18:26:47.240Z"
   },
   {
    "duration": 325,
    "start_time": "2022-04-29T18:26:47.262Z"
   },
   {
    "duration": 18,
    "start_time": "2022-04-29T18:26:47.588Z"
   },
   {
    "duration": 311,
    "start_time": "2022-04-29T18:26:47.608Z"
   },
   {
    "duration": 233,
    "start_time": "2022-04-29T18:26:47.921Z"
   },
   {
    "duration": 319,
    "start_time": "2022-04-29T18:26:48.156Z"
   },
   {
    "duration": 5,
    "start_time": "2022-04-29T18:26:48.476Z"
   },
   {
    "duration": 225,
    "start_time": "2022-04-29T18:26:48.493Z"
   },
   {
    "duration": 16,
    "start_time": "2022-04-29T18:26:48.720Z"
   },
   {
    "duration": 324,
    "start_time": "2022-04-29T18:26:48.738Z"
   },
   {
    "duration": 13,
    "start_time": "2022-04-29T18:26:49.063Z"
   },
   {
    "duration": 205,
    "start_time": "2022-04-29T18:26:49.077Z"
   },
   {
    "duration": 21,
    "start_time": "2022-04-29T18:26:49.283Z"
   },
   {
    "duration": 186,
    "start_time": "2022-04-29T18:26:49.307Z"
   },
   {
    "duration": 15,
    "start_time": "2022-04-29T18:26:49.495Z"
   },
   {
    "duration": 194,
    "start_time": "2022-04-29T18:26:49.511Z"
   },
   {
    "duration": 5,
    "start_time": "2022-04-29T18:26:49.707Z"
   },
   {
    "duration": 258,
    "start_time": "2022-04-29T18:26:49.714Z"
   },
   {
    "duration": 5,
    "start_time": "2022-04-29T18:26:49.973Z"
   },
   {
    "duration": 244,
    "start_time": "2022-04-29T18:26:49.980Z"
   },
   {
    "duration": 127,
    "start_time": "2022-04-29T18:26:50.226Z"
   },
   {
    "duration": 37,
    "start_time": "2022-04-29T18:26:50.355Z"
   },
   {
    "duration": 8,
    "start_time": "2022-04-29T18:26:50.394Z"
   },
   {
    "duration": 17,
    "start_time": "2022-04-29T18:26:50.404Z"
   },
   {
    "duration": 11,
    "start_time": "2022-04-29T18:26:50.423Z"
   },
   {
    "duration": 13,
    "start_time": "2022-04-29T18:26:50.437Z"
   },
   {
    "duration": 8,
    "start_time": "2022-04-29T18:26:50.452Z"
   },
   {
    "duration": 51,
    "start_time": "2022-04-29T18:26:50.462Z"
   },
   {
    "duration": 16,
    "start_time": "2022-04-29T18:26:50.515Z"
   },
   {
    "duration": 11,
    "start_time": "2022-04-29T18:26:50.533Z"
   },
   {
    "duration": 16,
    "start_time": "2022-04-29T18:27:27.069Z"
   },
   {
    "duration": 1201,
    "start_time": "2022-04-29T18:34:52.082Z"
   },
   {
    "duration": 72,
    "start_time": "2022-04-29T18:34:53.285Z"
   },
   {
    "duration": 11,
    "start_time": "2022-04-29T18:34:53.359Z"
   },
   {
    "duration": 11,
    "start_time": "2022-04-29T18:34:53.372Z"
   },
   {
    "duration": 82,
    "start_time": "2022-04-29T18:34:53.384Z"
   },
   {
    "duration": 16,
    "start_time": "2022-04-29T18:34:53.467Z"
   },
   {
    "duration": 20,
    "start_time": "2022-04-29T18:34:53.485Z"
   },
   {
    "duration": 28,
    "start_time": "2022-04-29T18:34:53.507Z"
   },
   {
    "duration": 11,
    "start_time": "2022-04-29T18:34:53.536Z"
   },
   {
    "duration": 24,
    "start_time": "2022-04-29T18:34:53.549Z"
   },
   {
    "duration": 30,
    "start_time": "2022-04-29T18:34:53.574Z"
   },
   {
    "duration": 18,
    "start_time": "2022-04-29T18:34:53.606Z"
   },
   {
    "duration": 21,
    "start_time": "2022-04-29T18:34:53.626Z"
   },
   {
    "duration": 11,
    "start_time": "2022-04-29T18:34:53.648Z"
   },
   {
    "duration": 36,
    "start_time": "2022-04-29T18:34:53.660Z"
   },
   {
    "duration": 295,
    "start_time": "2022-04-29T18:34:53.697Z"
   },
   {
    "duration": 16,
    "start_time": "2022-04-29T18:34:53.994Z"
   },
   {
    "duration": 308,
    "start_time": "2022-04-29T18:34:54.012Z"
   },
   {
    "duration": 220,
    "start_time": "2022-04-29T18:34:54.321Z"
   },
   {
    "duration": 316,
    "start_time": "2022-04-29T18:34:54.543Z"
   },
   {
    "duration": 3,
    "start_time": "2022-04-29T18:34:54.861Z"
   },
   {
    "duration": 232,
    "start_time": "2022-04-29T18:34:54.866Z"
   },
   {
    "duration": 15,
    "start_time": "2022-04-29T18:34:55.100Z"
   },
   {
    "duration": 327,
    "start_time": "2022-04-29T18:34:55.117Z"
   },
   {
    "duration": 13,
    "start_time": "2022-04-29T18:34:55.446Z"
   },
   {
    "duration": 202,
    "start_time": "2022-04-29T18:34:55.460Z"
   },
   {
    "duration": 15,
    "start_time": "2022-04-29T18:34:55.664Z"
   },
   {
    "duration": 189,
    "start_time": "2022-04-29T18:34:55.692Z"
   },
   {
    "duration": 22,
    "start_time": "2022-04-29T18:34:55.882Z"
   },
   {
    "duration": 201,
    "start_time": "2022-04-29T18:34:55.906Z"
   },
   {
    "duration": 5,
    "start_time": "2022-04-29T18:34:56.109Z"
   },
   {
    "duration": 254,
    "start_time": "2022-04-29T18:34:56.116Z"
   },
   {
    "duration": 6,
    "start_time": "2022-04-29T18:34:56.371Z"
   },
   {
    "duration": 258,
    "start_time": "2022-04-29T18:34:56.378Z"
   },
   {
    "duration": 183,
    "start_time": "2022-04-29T18:34:56.637Z"
   },
   {
    "duration": 24,
    "start_time": "2022-04-29T18:34:56.822Z"
   },
   {
    "duration": 7,
    "start_time": "2022-04-29T18:34:56.847Z"
   },
   {
    "duration": 37,
    "start_time": "2022-04-29T18:34:56.856Z"
   },
   {
    "duration": 11,
    "start_time": "2022-04-29T18:34:56.894Z"
   },
   {
    "duration": 8,
    "start_time": "2022-04-29T18:34:56.907Z"
   },
   {
    "duration": 5,
    "start_time": "2022-04-29T18:34:56.917Z"
   },
   {
    "duration": 24,
    "start_time": "2022-04-29T18:34:56.923Z"
   },
   {
    "duration": 45,
    "start_time": "2022-04-29T18:34:56.949Z"
   },
   {
    "duration": 9,
    "start_time": "2022-04-29T18:34:56.996Z"
   },
   {
    "duration": 149,
    "start_time": "2022-04-29T18:38:55.378Z"
   },
   {
    "duration": 205,
    "start_time": "2022-04-29T18:39:01.000Z"
   },
   {
    "duration": 1445,
    "start_time": "2022-04-29T18:40:20.243Z"
   },
   {
    "duration": 57,
    "start_time": "2022-04-29T18:40:21.692Z"
   },
   {
    "duration": 10,
    "start_time": "2022-04-29T18:40:21.751Z"
   },
   {
    "duration": 10,
    "start_time": "2022-04-29T18:40:21.764Z"
   },
   {
    "duration": 77,
    "start_time": "2022-04-29T18:40:21.775Z"
   },
   {
    "duration": 16,
    "start_time": "2022-04-29T18:40:21.854Z"
   },
   {
    "duration": 14,
    "start_time": "2022-04-29T18:40:21.872Z"
   },
   {
    "duration": 8,
    "start_time": "2022-04-29T18:40:21.887Z"
   },
   {
    "duration": 4,
    "start_time": "2022-04-29T18:40:21.896Z"
   },
   {
    "duration": 11,
    "start_time": "2022-04-29T18:40:21.902Z"
   },
   {
    "duration": 16,
    "start_time": "2022-04-29T18:40:21.915Z"
   },
   {
    "duration": 7,
    "start_time": "2022-04-29T18:40:21.933Z"
   },
   {
    "duration": 14,
    "start_time": "2022-04-29T18:40:21.941Z"
   },
   {
    "duration": 35,
    "start_time": "2022-04-29T18:40:21.957Z"
   },
   {
    "duration": 20,
    "start_time": "2022-04-29T18:40:21.994Z"
   },
   {
    "duration": 314,
    "start_time": "2022-04-29T18:40:22.015Z"
   },
   {
    "duration": 16,
    "start_time": "2022-04-29T18:40:22.331Z"
   },
   {
    "duration": 326,
    "start_time": "2022-04-29T18:40:22.349Z"
   },
   {
    "duration": 227,
    "start_time": "2022-04-29T18:40:22.677Z"
   },
   {
    "duration": 343,
    "start_time": "2022-04-29T18:40:22.906Z"
   },
   {
    "duration": 4,
    "start_time": "2022-04-29T18:40:23.250Z"
   },
   {
    "duration": 240,
    "start_time": "2022-04-29T18:40:23.255Z"
   },
   {
    "duration": 16,
    "start_time": "2022-04-29T18:40:23.497Z"
   },
   {
    "duration": 352,
    "start_time": "2022-04-29T18:40:23.515Z"
   },
   {
    "duration": 12,
    "start_time": "2022-04-29T18:40:23.869Z"
   },
   {
    "duration": 193,
    "start_time": "2022-04-29T18:40:23.893Z"
   },
   {
    "duration": 16,
    "start_time": "2022-04-29T18:40:24.087Z"
   },
   {
    "duration": 198,
    "start_time": "2022-04-29T18:40:24.107Z"
   },
   {
    "duration": 14,
    "start_time": "2022-04-29T18:40:24.306Z"
   },
   {
    "duration": 195,
    "start_time": "2022-04-29T18:40:24.322Z"
   },
   {
    "duration": 4,
    "start_time": "2022-04-29T18:40:24.519Z"
   },
   {
    "duration": 267,
    "start_time": "2022-04-29T18:40:24.525Z"
   },
   {
    "duration": 5,
    "start_time": "2022-04-29T18:40:24.794Z"
   },
   {
    "duration": 241,
    "start_time": "2022-04-29T18:40:24.800Z"
   },
   {
    "duration": 139,
    "start_time": "2022-04-29T18:40:25.042Z"
   },
   {
    "duration": 22,
    "start_time": "2022-04-29T18:40:25.193Z"
   },
   {
    "duration": 7,
    "start_time": "2022-04-29T18:40:25.217Z"
   },
   {
    "duration": 9,
    "start_time": "2022-04-29T18:40:25.226Z"
   },
   {
    "duration": 14,
    "start_time": "2022-04-29T18:40:25.237Z"
   },
   {
    "duration": 39,
    "start_time": "2022-04-29T18:40:25.253Z"
   },
   {
    "duration": 5,
    "start_time": "2022-04-29T18:40:25.294Z"
   },
   {
    "duration": 24,
    "start_time": "2022-04-29T18:40:25.301Z"
   },
   {
    "duration": 12,
    "start_time": "2022-04-29T18:40:25.327Z"
   },
   {
    "duration": 8,
    "start_time": "2022-04-29T18:40:25.341Z"
   },
   {
    "duration": 1134,
    "start_time": "2022-04-29T18:41:25.787Z"
   },
   {
    "duration": 57,
    "start_time": "2022-04-29T18:41:26.923Z"
   },
   {
    "duration": 11,
    "start_time": "2022-04-29T18:41:26.981Z"
   },
   {
    "duration": 10,
    "start_time": "2022-04-29T18:41:26.994Z"
   },
   {
    "duration": 78,
    "start_time": "2022-04-29T18:41:27.006Z"
   },
   {
    "duration": 17,
    "start_time": "2022-04-29T18:41:27.086Z"
   },
   {
    "duration": 13,
    "start_time": "2022-04-29T18:41:27.104Z"
   },
   {
    "duration": 9,
    "start_time": "2022-04-29T18:41:27.118Z"
   },
   {
    "duration": 3,
    "start_time": "2022-04-29T18:41:27.129Z"
   },
   {
    "duration": 10,
    "start_time": "2022-04-29T18:41:27.135Z"
   },
   {
    "duration": 17,
    "start_time": "2022-04-29T18:41:27.147Z"
   },
   {
    "duration": 4,
    "start_time": "2022-04-29T18:41:27.193Z"
   },
   {
    "duration": 11,
    "start_time": "2022-04-29T18:41:27.199Z"
   },
   {
    "duration": 10,
    "start_time": "2022-04-29T18:41:27.211Z"
   },
   {
    "duration": 17,
    "start_time": "2022-04-29T18:41:27.222Z"
   },
   {
    "duration": 308,
    "start_time": "2022-04-29T18:41:27.240Z"
   },
   {
    "duration": 16,
    "start_time": "2022-04-29T18:41:27.550Z"
   },
   {
    "duration": 312,
    "start_time": "2022-04-29T18:41:27.567Z"
   },
   {
    "duration": 228,
    "start_time": "2022-04-29T18:41:27.880Z"
   },
   {
    "duration": 323,
    "start_time": "2022-04-29T18:41:28.110Z"
   },
   {
    "duration": 4,
    "start_time": "2022-04-29T18:41:28.435Z"
   },
   {
    "duration": 240,
    "start_time": "2022-04-29T18:41:28.441Z"
   },
   {
    "duration": 26,
    "start_time": "2022-04-29T18:41:28.683Z"
   },
   {
    "duration": 335,
    "start_time": "2022-04-29T18:41:28.710Z"
   },
   {
    "duration": 15,
    "start_time": "2022-04-29T18:41:29.047Z"
   },
   {
    "duration": 212,
    "start_time": "2022-04-29T18:41:29.064Z"
   },
   {
    "duration": 18,
    "start_time": "2022-04-29T18:41:29.277Z"
   },
   {
    "duration": 182,
    "start_time": "2022-04-29T18:41:29.298Z"
   },
   {
    "duration": 19,
    "start_time": "2022-04-29T18:41:29.482Z"
   },
   {
    "duration": 188,
    "start_time": "2022-04-29T18:41:29.503Z"
   },
   {
    "duration": 6,
    "start_time": "2022-04-29T18:41:29.692Z"
   },
   {
    "duration": 276,
    "start_time": "2022-04-29T18:41:29.699Z"
   },
   {
    "duration": 7,
    "start_time": "2022-04-29T18:41:29.976Z"
   },
   {
    "duration": 239,
    "start_time": "2022-04-29T18:41:29.993Z"
   },
   {
    "duration": 142,
    "start_time": "2022-04-29T18:41:30.233Z"
   },
   {
    "duration": 32,
    "start_time": "2022-04-29T18:41:30.377Z"
   },
   {
    "duration": 7,
    "start_time": "2022-04-29T18:41:30.411Z"
   },
   {
    "duration": 27,
    "start_time": "2022-04-29T18:41:30.420Z"
   },
   {
    "duration": 11,
    "start_time": "2022-04-29T18:41:30.449Z"
   },
   {
    "duration": 15,
    "start_time": "2022-04-29T18:41:30.461Z"
   },
   {
    "duration": 17,
    "start_time": "2022-04-29T18:41:30.478Z"
   },
   {
    "duration": 40,
    "start_time": "2022-04-29T18:41:30.497Z"
   },
   {
    "duration": 14,
    "start_time": "2022-04-29T18:41:30.539Z"
   },
   {
    "duration": 17,
    "start_time": "2022-04-29T18:41:30.554Z"
   },
   {
    "duration": 1147,
    "start_time": "2022-04-29T18:43:20.974Z"
   },
   {
    "duration": 56,
    "start_time": "2022-04-29T18:43:22.123Z"
   },
   {
    "duration": 11,
    "start_time": "2022-04-29T18:43:22.181Z"
   },
   {
    "duration": 10,
    "start_time": "2022-04-29T18:43:22.194Z"
   },
   {
    "duration": 74,
    "start_time": "2022-04-29T18:43:22.206Z"
   },
   {
    "duration": 16,
    "start_time": "2022-04-29T18:43:22.282Z"
   },
   {
    "duration": 15,
    "start_time": "2022-04-29T18:43:22.299Z"
   },
   {
    "duration": 7,
    "start_time": "2022-04-29T18:43:22.316Z"
   },
   {
    "duration": 4,
    "start_time": "2022-04-29T18:43:22.324Z"
   },
   {
    "duration": 10,
    "start_time": "2022-04-29T18:43:22.330Z"
   },
   {
    "duration": 16,
    "start_time": "2022-04-29T18:43:22.341Z"
   },
   {
    "duration": 34,
    "start_time": "2022-04-29T18:43:22.359Z"
   },
   {
    "duration": 6,
    "start_time": "2022-04-29T18:43:22.395Z"
   },
   {
    "duration": 12,
    "start_time": "2022-04-29T18:43:22.402Z"
   },
   {
    "duration": 22,
    "start_time": "2022-04-29T18:43:22.416Z"
   },
   {
    "duration": 314,
    "start_time": "2022-04-29T18:43:22.440Z"
   },
   {
    "duration": 14,
    "start_time": "2022-04-29T18:43:22.756Z"
   },
   {
    "duration": 293,
    "start_time": "2022-04-29T18:43:22.772Z"
   },
   {
    "duration": 225,
    "start_time": "2022-04-29T18:43:23.067Z"
   },
   {
    "duration": 347,
    "start_time": "2022-04-29T18:43:23.294Z"
   },
   {
    "duration": 4,
    "start_time": "2022-04-29T18:43:23.643Z"
   },
   {
    "duration": 233,
    "start_time": "2022-04-29T18:43:23.648Z"
   },
   {
    "duration": 17,
    "start_time": "2022-04-29T18:43:23.883Z"
   },
   {
    "duration": 357,
    "start_time": "2022-04-29T18:43:23.901Z"
   },
   {
    "duration": 13,
    "start_time": "2022-04-29T18:43:24.259Z"
   },
   {
    "duration": 195,
    "start_time": "2022-04-29T18:43:24.273Z"
   },
   {
    "duration": 28,
    "start_time": "2022-04-29T18:43:24.469Z"
   },
   {
    "duration": 191,
    "start_time": "2022-04-29T18:43:24.501Z"
   },
   {
    "duration": 13,
    "start_time": "2022-04-29T18:43:24.694Z"
   },
   {
    "duration": 189,
    "start_time": "2022-04-29T18:43:24.709Z"
   },
   {
    "duration": 5,
    "start_time": "2022-04-29T18:43:24.900Z"
   },
   {
    "duration": 255,
    "start_time": "2022-04-29T18:43:24.907Z"
   },
   {
    "duration": 5,
    "start_time": "2022-04-29T18:43:25.164Z"
   },
   {
    "duration": 237,
    "start_time": "2022-04-29T18:43:25.170Z"
   },
   {
    "duration": 190,
    "start_time": "2022-04-29T18:43:25.408Z"
   },
   {
    "duration": 23,
    "start_time": "2022-04-29T18:43:25.599Z"
   },
   {
    "duration": 8,
    "start_time": "2022-04-29T18:43:25.623Z"
   },
   {
    "duration": 12,
    "start_time": "2022-04-29T18:43:25.633Z"
   },
   {
    "duration": 46,
    "start_time": "2022-04-29T18:43:25.646Z"
   },
   {
    "duration": 9,
    "start_time": "2022-04-29T18:43:25.694Z"
   },
   {
    "duration": 5,
    "start_time": "2022-04-29T18:43:25.705Z"
   },
   {
    "duration": 23,
    "start_time": "2022-04-29T18:43:25.712Z"
   },
   {
    "duration": 15,
    "start_time": "2022-04-29T18:43:25.737Z"
   },
   {
    "duration": 47,
    "start_time": "2022-04-29T18:43:25.753Z"
   },
   {
    "duration": 1492,
    "start_time": "2022-04-30T13:00:59.330Z"
   },
   {
    "duration": 292,
    "start_time": "2022-04-30T13:01:00.825Z"
   },
   {
    "duration": 19,
    "start_time": "2022-04-30T13:01:01.120Z"
   },
   {
    "duration": 34,
    "start_time": "2022-04-30T13:01:01.143Z"
   },
   {
    "duration": 345,
    "start_time": "2022-04-30T13:01:01.180Z"
   },
   {
    "duration": 25,
    "start_time": "2022-04-30T13:01:01.528Z"
   },
   {
    "duration": 58,
    "start_time": "2022-04-30T13:01:01.556Z"
   },
   {
    "duration": 30,
    "start_time": "2022-04-30T13:01:01.617Z"
   },
   {
    "duration": 15,
    "start_time": "2022-04-30T13:01:01.649Z"
   },
   {
    "duration": 34,
    "start_time": "2022-04-30T13:01:01.667Z"
   },
   {
    "duration": 47,
    "start_time": "2022-04-30T13:01:01.703Z"
   },
   {
    "duration": 9,
    "start_time": "2022-04-30T13:01:01.752Z"
   },
   {
    "duration": 39,
    "start_time": "2022-04-30T13:01:01.763Z"
   },
   {
    "duration": 23,
    "start_time": "2022-04-30T13:01:01.804Z"
   },
   {
    "duration": 46,
    "start_time": "2022-04-30T13:01:01.829Z"
   },
   {
    "duration": 502,
    "start_time": "2022-04-30T13:01:01.877Z"
   },
   {
    "duration": 26,
    "start_time": "2022-04-30T13:01:02.381Z"
   },
   {
    "duration": 543,
    "start_time": "2022-04-30T13:01:02.409Z"
   },
   {
    "duration": 418,
    "start_time": "2022-04-30T13:01:02.954Z"
   },
   {
    "duration": 467,
    "start_time": "2022-04-30T13:01:03.374Z"
   },
   {
    "duration": 11,
    "start_time": "2022-04-30T13:01:03.843Z"
   },
   {
    "duration": 519,
    "start_time": "2022-04-30T13:01:03.857Z"
   },
   {
    "duration": 30,
    "start_time": "2022-04-30T13:01:04.380Z"
   },
   {
    "duration": 630,
    "start_time": "2022-04-30T13:01:04.412Z"
   },
   {
    "duration": 26,
    "start_time": "2022-04-30T13:01:05.052Z"
   },
   {
    "duration": 357,
    "start_time": "2022-04-30T13:01:05.081Z"
   },
   {
    "duration": 31,
    "start_time": "2022-04-30T13:01:05.441Z"
   },
   {
    "duration": 357,
    "start_time": "2022-04-30T13:01:05.477Z"
   },
   {
    "duration": 26,
    "start_time": "2022-04-30T13:01:05.836Z"
   },
   {
    "duration": 346,
    "start_time": "2022-04-30T13:01:05.864Z"
   },
   {
    "duration": 8,
    "start_time": "2022-04-30T13:01:06.212Z"
   },
   {
    "duration": 474,
    "start_time": "2022-04-30T13:01:06.222Z"
   },
   {
    "duration": 8,
    "start_time": "2022-04-30T13:01:06.700Z"
   },
   {
    "duration": 416,
    "start_time": "2022-04-30T13:01:06.710Z"
   },
   {
    "duration": 279,
    "start_time": "2022-04-30T13:01:07.129Z"
   },
   {
    "duration": 68,
    "start_time": "2022-04-30T13:01:07.411Z"
   },
   {
    "duration": 14,
    "start_time": "2022-04-30T13:01:07.482Z"
   },
   {
    "duration": 17,
    "start_time": "2022-04-30T13:01:07.499Z"
   },
   {
    "duration": 47,
    "start_time": "2022-04-30T13:01:07.519Z"
   },
   {
    "duration": 14,
    "start_time": "2022-04-30T13:01:07.570Z"
   },
   {
    "duration": 8,
    "start_time": "2022-04-30T13:01:07.586Z"
   },
   {
    "duration": 76,
    "start_time": "2022-04-30T13:01:07.596Z"
   },
   {
    "duration": 20,
    "start_time": "2022-04-30T13:01:07.675Z"
   },
   {
    "duration": 16,
    "start_time": "2022-04-30T13:01:07.697Z"
   }
  ],
  "kernelspec": {
   "display_name": "Python 3 (ipykernel)",
   "language": "python",
   "name": "python3"
  },
  "language_info": {
   "codemirror_mode": {
    "name": "ipython",
    "version": 3
   },
   "file_extension": ".py",
   "mimetype": "text/x-python",
   "name": "python",
   "nbconvert_exporter": "python",
   "pygments_lexer": "ipython3",
   "version": "3.8.10"
  },
  "toc": {
   "base_numbering": 1,
   "nav_menu": {},
   "number_sections": true,
   "sideBar": true,
   "skip_h1_title": true,
   "title_cell": "Table of Contents",
   "title_sidebar": "Contents",
   "toc_cell": false,
   "toc_position": {
    "height": "calc(100% - 180px)",
    "left": "10px",
    "top": "150px",
    "width": "209px"
   },
   "toc_section_display": true,
   "toc_window_display": true
  }
 },
 "nbformat": 4,
 "nbformat_minor": 5
}
