{
 "cells": [
  {
   "cell_type": "markdown",
   "metadata": {},
   "source": [
    "# Исследование надёжности заёмщиков\n",
    "\n",
    "Заказчик — кредитный отдел банка. Нужно разобраться, влияет ли семейное положение и количество детей клиента на факт погашения кредита в срок. Входные данные от банка — статистика о платёжеспособности клиентов.\n",
    "\n",
    "Результаты исследования будут учтены при построении модели **кредитного скоринга** — специальной системы, которая оценивает способность потенциального заёмщика вернуть кредит банку."
   ]
  },
  {
   "cell_type": "markdown",
   "metadata": {},
   "source": [
    "## Шаг 1. Откройте файл с данными и изучите общую информацию. Ищем проблемы и неточности в данных."
   ]
  },
  {
   "cell_type": "code",
   "execution_count": 1,
   "metadata": {},
   "outputs": [
    {
     "name": "stdout",
     "output_type": "stream",
     "text": [
      "Defaulting to user installation because normal site-packages is not writeable\n",
      "Requirement already satisfied: seaborn in /opt/conda/lib/python3.7/site-packages (0.9.0)\n",
      "Requirement already satisfied: numpy>=1.9.3 in /opt/conda/lib/python3.7/site-packages (from seaborn) (1.19.5)\n",
      "Requirement already satisfied: scipy>=0.14.0 in /opt/conda/lib/python3.7/site-packages (from seaborn) (1.4.1)\n",
      "Requirement already satisfied: pandas>=0.15.2 in /opt/conda/lib/python3.7/site-packages (from seaborn) (0.25.1)\n",
      "Requirement already satisfied: matplotlib>=1.4.3 in /opt/conda/lib/python3.7/site-packages (from seaborn) (3.1.0)\n",
      "Requirement already satisfied: python-dateutil>=2.6.1 in /opt/conda/lib/python3.7/site-packages (from pandas>=0.15.2->seaborn) (2.8.1)\n",
      "Requirement already satisfied: pytz>=2017.2 in /opt/conda/lib/python3.7/site-packages (from pandas>=0.15.2->seaborn) (2021.1)\n",
      "Requirement already satisfied: pyparsing!=2.0.4,!=2.1.2,!=2.1.6,>=2.0.1 in /opt/conda/lib/python3.7/site-packages (from matplotlib>=1.4.3->seaborn) (2.4.7)\n",
      "Requirement already satisfied: cycler>=0.10 in /opt/conda/lib/python3.7/site-packages (from matplotlib>=1.4.3->seaborn) (0.10.0)\n",
      "Requirement already satisfied: kiwisolver>=1.0.1 in /opt/conda/lib/python3.7/site-packages (from matplotlib>=1.4.3->seaborn) (1.3.1)\n",
      "Requirement already satisfied: six>=1.5 in /opt/conda/lib/python3.7/site-packages (from python-dateutil>=2.6.1->pandas>=0.15.2->seaborn) (1.15.0)\n",
      "Defaulting to user installation because normal site-packages is not writeable\n",
      "Requirement already satisfied: pymystem3 in /opt/conda/lib/python3.7/site-packages (0.2.0)\n",
      "Requirement already satisfied: requests in /opt/conda/lib/python3.7/site-packages (from pymystem3) (2.22.0)\n",
      "Requirement already satisfied: chardet<3.1.0,>=3.0.2 in /opt/conda/lib/python3.7/site-packages (from requests->pymystem3) (3.0.4)\n",
      "Requirement already satisfied: certifi>=2017.4.17 in /opt/conda/lib/python3.7/site-packages (from requests->pymystem3) (2021.5.30)\n",
      "Requirement already satisfied: urllib3!=1.25.0,!=1.25.1,<1.26,>=1.21.1 in /opt/conda/lib/python3.7/site-packages (from requests->pymystem3) (1.25.11)\n",
      "Requirement already satisfied: idna<2.9,>=2.5 in /opt/conda/lib/python3.7/site-packages (from requests->pymystem3) (2.8)\n",
      "<class 'pandas.core.frame.DataFrame'>\n",
      "RangeIndex: 21525 entries, 0 to 21524\n",
      "Data columns (total 12 columns):\n",
      "children            21525 non-null int64\n",
      "days_employed       19351 non-null float64\n",
      "dob_years           21525 non-null int64\n",
      "education           21525 non-null object\n",
      "education_id        21525 non-null int64\n",
      "family_status       21525 non-null object\n",
      "family_status_id    21525 non-null int64\n",
      "gender              21525 non-null object\n",
      "income_type         21525 non-null object\n",
      "debt                21525 non-null int64\n",
      "total_income        19351 non-null float64\n",
      "purpose             21525 non-null object\n",
      "dtypes: float64(2), int64(5), object(5)\n",
      "memory usage: 2.0+ MB\n"
     ]
    }
   ],
   "source": [
    "import pandas as pd\n",
    "!pip install seaborn\n",
    "!pip install pymystem3\n",
    "import seaborn as sns\n",
    "from pymystem3 import Mystem\n",
    "from collections import Counter\n",
    "m = Mystem()\n",
    "data=pd.read_csv(\"https://code.s3.yandex.net/datasets/data.csv\")\n",
    "data.info()"
   ]
  },
  {
   "cell_type": "code",
   "execution_count": 2,
   "metadata": {},
   "outputs": [
    {
     "data": {
      "text/html": [
       "<div>\n",
       "<style scoped>\n",
       "    .dataframe tbody tr th:only-of-type {\n",
       "        vertical-align: middle;\n",
       "    }\n",
       "\n",
       "    .dataframe tbody tr th {\n",
       "        vertical-align: top;\n",
       "    }\n",
       "\n",
       "    .dataframe thead th {\n",
       "        text-align: right;\n",
       "    }\n",
       "</style>\n",
       "<table border=\"1\" class=\"dataframe\">\n",
       "  <thead>\n",
       "    <tr style=\"text-align: right;\">\n",
       "      <th></th>\n",
       "      <th>children</th>\n",
       "      <th>days_employed</th>\n",
       "      <th>dob_years</th>\n",
       "      <th>education</th>\n",
       "      <th>education_id</th>\n",
       "      <th>family_status</th>\n",
       "      <th>family_status_id</th>\n",
       "      <th>gender</th>\n",
       "      <th>income_type</th>\n",
       "      <th>debt</th>\n",
       "      <th>total_income</th>\n",
       "      <th>purpose</th>\n",
       "    </tr>\n",
       "  </thead>\n",
       "  <tbody>\n",
       "    <tr>\n",
       "      <td>0</td>\n",
       "      <td>1</td>\n",
       "      <td>-8437.673028</td>\n",
       "      <td>42</td>\n",
       "      <td>высшее</td>\n",
       "      <td>0</td>\n",
       "      <td>женат / замужем</td>\n",
       "      <td>0</td>\n",
       "      <td>F</td>\n",
       "      <td>сотрудник</td>\n",
       "      <td>0</td>\n",
       "      <td>253875.639453</td>\n",
       "      <td>покупка жилья</td>\n",
       "    </tr>\n",
       "    <tr>\n",
       "      <td>1</td>\n",
       "      <td>1</td>\n",
       "      <td>-4024.803754</td>\n",
       "      <td>36</td>\n",
       "      <td>среднее</td>\n",
       "      <td>1</td>\n",
       "      <td>женат / замужем</td>\n",
       "      <td>0</td>\n",
       "      <td>F</td>\n",
       "      <td>сотрудник</td>\n",
       "      <td>0</td>\n",
       "      <td>112080.014102</td>\n",
       "      <td>приобретение автомобиля</td>\n",
       "    </tr>\n",
       "    <tr>\n",
       "      <td>2</td>\n",
       "      <td>0</td>\n",
       "      <td>-5623.422610</td>\n",
       "      <td>33</td>\n",
       "      <td>Среднее</td>\n",
       "      <td>1</td>\n",
       "      <td>женат / замужем</td>\n",
       "      <td>0</td>\n",
       "      <td>M</td>\n",
       "      <td>сотрудник</td>\n",
       "      <td>0</td>\n",
       "      <td>145885.952297</td>\n",
       "      <td>покупка жилья</td>\n",
       "    </tr>\n",
       "    <tr>\n",
       "      <td>3</td>\n",
       "      <td>3</td>\n",
       "      <td>-4124.747207</td>\n",
       "      <td>32</td>\n",
       "      <td>среднее</td>\n",
       "      <td>1</td>\n",
       "      <td>женат / замужем</td>\n",
       "      <td>0</td>\n",
       "      <td>M</td>\n",
       "      <td>сотрудник</td>\n",
       "      <td>0</td>\n",
       "      <td>267628.550329</td>\n",
       "      <td>дополнительное образование</td>\n",
       "    </tr>\n",
       "    <tr>\n",
       "      <td>4</td>\n",
       "      <td>0</td>\n",
       "      <td>340266.072047</td>\n",
       "      <td>53</td>\n",
       "      <td>среднее</td>\n",
       "      <td>1</td>\n",
       "      <td>гражданский брак</td>\n",
       "      <td>1</td>\n",
       "      <td>F</td>\n",
       "      <td>пенсионер</td>\n",
       "      <td>0</td>\n",
       "      <td>158616.077870</td>\n",
       "      <td>сыграть свадьбу</td>\n",
       "    </tr>\n",
       "    <tr>\n",
       "      <td>5</td>\n",
       "      <td>0</td>\n",
       "      <td>-926.185831</td>\n",
       "      <td>27</td>\n",
       "      <td>высшее</td>\n",
       "      <td>0</td>\n",
       "      <td>гражданский брак</td>\n",
       "      <td>1</td>\n",
       "      <td>M</td>\n",
       "      <td>компаньон</td>\n",
       "      <td>0</td>\n",
       "      <td>255763.565419</td>\n",
       "      <td>покупка жилья</td>\n",
       "    </tr>\n",
       "    <tr>\n",
       "      <td>6</td>\n",
       "      <td>0</td>\n",
       "      <td>-2879.202052</td>\n",
       "      <td>43</td>\n",
       "      <td>высшее</td>\n",
       "      <td>0</td>\n",
       "      <td>женат / замужем</td>\n",
       "      <td>0</td>\n",
       "      <td>F</td>\n",
       "      <td>компаньон</td>\n",
       "      <td>0</td>\n",
       "      <td>240525.971920</td>\n",
       "      <td>операции с жильем</td>\n",
       "    </tr>\n",
       "    <tr>\n",
       "      <td>7</td>\n",
       "      <td>0</td>\n",
       "      <td>-152.779569</td>\n",
       "      <td>50</td>\n",
       "      <td>СРЕДНЕЕ</td>\n",
       "      <td>1</td>\n",
       "      <td>женат / замужем</td>\n",
       "      <td>0</td>\n",
       "      <td>M</td>\n",
       "      <td>сотрудник</td>\n",
       "      <td>0</td>\n",
       "      <td>135823.934197</td>\n",
       "      <td>образование</td>\n",
       "    </tr>\n",
       "    <tr>\n",
       "      <td>8</td>\n",
       "      <td>2</td>\n",
       "      <td>-6929.865299</td>\n",
       "      <td>35</td>\n",
       "      <td>ВЫСШЕЕ</td>\n",
       "      <td>0</td>\n",
       "      <td>гражданский брак</td>\n",
       "      <td>1</td>\n",
       "      <td>F</td>\n",
       "      <td>сотрудник</td>\n",
       "      <td>0</td>\n",
       "      <td>95856.832424</td>\n",
       "      <td>на проведение свадьбы</td>\n",
       "    </tr>\n",
       "    <tr>\n",
       "      <td>9</td>\n",
       "      <td>0</td>\n",
       "      <td>-2188.756445</td>\n",
       "      <td>41</td>\n",
       "      <td>среднее</td>\n",
       "      <td>1</td>\n",
       "      <td>женат / замужем</td>\n",
       "      <td>0</td>\n",
       "      <td>M</td>\n",
       "      <td>сотрудник</td>\n",
       "      <td>0</td>\n",
       "      <td>144425.938277</td>\n",
       "      <td>покупка жилья для семьи</td>\n",
       "    </tr>\n",
       "    <tr>\n",
       "      <td>10</td>\n",
       "      <td>2</td>\n",
       "      <td>-4171.483647</td>\n",
       "      <td>36</td>\n",
       "      <td>высшее</td>\n",
       "      <td>0</td>\n",
       "      <td>женат / замужем</td>\n",
       "      <td>0</td>\n",
       "      <td>M</td>\n",
       "      <td>компаньон</td>\n",
       "      <td>0</td>\n",
       "      <td>113943.491460</td>\n",
       "      <td>покупка недвижимости</td>\n",
       "    </tr>\n",
       "    <tr>\n",
       "      <td>11</td>\n",
       "      <td>0</td>\n",
       "      <td>-792.701887</td>\n",
       "      <td>40</td>\n",
       "      <td>среднее</td>\n",
       "      <td>1</td>\n",
       "      <td>женат / замужем</td>\n",
       "      <td>0</td>\n",
       "      <td>F</td>\n",
       "      <td>сотрудник</td>\n",
       "      <td>0</td>\n",
       "      <td>77069.234271</td>\n",
       "      <td>покупка коммерческой недвижимости</td>\n",
       "    </tr>\n",
       "    <tr>\n",
       "      <td>12</td>\n",
       "      <td>0</td>\n",
       "      <td>NaN</td>\n",
       "      <td>65</td>\n",
       "      <td>среднее</td>\n",
       "      <td>1</td>\n",
       "      <td>гражданский брак</td>\n",
       "      <td>1</td>\n",
       "      <td>M</td>\n",
       "      <td>пенсионер</td>\n",
       "      <td>0</td>\n",
       "      <td>NaN</td>\n",
       "      <td>сыграть свадьбу</td>\n",
       "    </tr>\n",
       "    <tr>\n",
       "      <td>13</td>\n",
       "      <td>0</td>\n",
       "      <td>-1846.641941</td>\n",
       "      <td>54</td>\n",
       "      <td>неоконченное высшее</td>\n",
       "      <td>2</td>\n",
       "      <td>женат / замужем</td>\n",
       "      <td>0</td>\n",
       "      <td>F</td>\n",
       "      <td>сотрудник</td>\n",
       "      <td>0</td>\n",
       "      <td>130458.228857</td>\n",
       "      <td>приобретение автомобиля</td>\n",
       "    </tr>\n",
       "    <tr>\n",
       "      <td>14</td>\n",
       "      <td>0</td>\n",
       "      <td>-1844.956182</td>\n",
       "      <td>56</td>\n",
       "      <td>высшее</td>\n",
       "      <td>0</td>\n",
       "      <td>гражданский брак</td>\n",
       "      <td>1</td>\n",
       "      <td>F</td>\n",
       "      <td>компаньон</td>\n",
       "      <td>1</td>\n",
       "      <td>165127.911772</td>\n",
       "      <td>покупка жилой недвижимости</td>\n",
       "    </tr>\n",
       "  </tbody>\n",
       "</table>\n",
       "</div>"
      ],
      "text/plain": [
       "    children  days_employed  dob_years            education  education_id  \\\n",
       "0          1   -8437.673028         42               высшее             0   \n",
       "1          1   -4024.803754         36              среднее             1   \n",
       "2          0   -5623.422610         33              Среднее             1   \n",
       "3          3   -4124.747207         32              среднее             1   \n",
       "4          0  340266.072047         53              среднее             1   \n",
       "5          0    -926.185831         27               высшее             0   \n",
       "6          0   -2879.202052         43               высшее             0   \n",
       "7          0    -152.779569         50              СРЕДНЕЕ             1   \n",
       "8          2   -6929.865299         35               ВЫСШЕЕ             0   \n",
       "9          0   -2188.756445         41              среднее             1   \n",
       "10         2   -4171.483647         36               высшее             0   \n",
       "11         0    -792.701887         40              среднее             1   \n",
       "12         0            NaN         65              среднее             1   \n",
       "13         0   -1846.641941         54  неоконченное высшее             2   \n",
       "14         0   -1844.956182         56               высшее             0   \n",
       "\n",
       "       family_status  family_status_id gender income_type  debt  \\\n",
       "0    женат / замужем                 0      F   сотрудник     0   \n",
       "1    женат / замужем                 0      F   сотрудник     0   \n",
       "2    женат / замужем                 0      M   сотрудник     0   \n",
       "3    женат / замужем                 0      M   сотрудник     0   \n",
       "4   гражданский брак                 1      F   пенсионер     0   \n",
       "5   гражданский брак                 1      M   компаньон     0   \n",
       "6    женат / замужем                 0      F   компаньон     0   \n",
       "7    женат / замужем                 0      M   сотрудник     0   \n",
       "8   гражданский брак                 1      F   сотрудник     0   \n",
       "9    женат / замужем                 0      M   сотрудник     0   \n",
       "10   женат / замужем                 0      M   компаньон     0   \n",
       "11   женат / замужем                 0      F   сотрудник     0   \n",
       "12  гражданский брак                 1      M   пенсионер     0   \n",
       "13   женат / замужем                 0      F   сотрудник     0   \n",
       "14  гражданский брак                 1      F   компаньон     1   \n",
       "\n",
       "     total_income                            purpose  \n",
       "0   253875.639453                      покупка жилья  \n",
       "1   112080.014102            приобретение автомобиля  \n",
       "2   145885.952297                      покупка жилья  \n",
       "3   267628.550329         дополнительное образование  \n",
       "4   158616.077870                    сыграть свадьбу  \n",
       "5   255763.565419                      покупка жилья  \n",
       "6   240525.971920                  операции с жильем  \n",
       "7   135823.934197                        образование  \n",
       "8    95856.832424              на проведение свадьбы  \n",
       "9   144425.938277            покупка жилья для семьи  \n",
       "10  113943.491460               покупка недвижимости  \n",
       "11   77069.234271  покупка коммерческой недвижимости  \n",
       "12            NaN                    сыграть свадьбу  \n",
       "13  130458.228857            приобретение автомобиля  \n",
       "14  165127.911772         покупка жилой недвижимости  "
      ]
     },
     "execution_count": 2,
     "metadata": {},
     "output_type": "execute_result"
    }
   ],
   "source": [
    "data.head(15)"
   ]
  },
  {
   "cell_type": "markdown",
   "metadata": {},
   "source": [
    "## Оценка данных, проверка качества названий столбцов."
   ]
  },
  {
   "cell_type": "code",
   "execution_count": 3,
   "metadata": {},
   "outputs": [
    {
     "data": {
      "text/plain": [
       "Index(['children', 'days_employed', 'dob_years', 'education', 'education_id',\n",
       "       'family_status', 'family_status_id', 'gender', 'income_type', 'debt',\n",
       "       'total_income', 'purpose'],\n",
       "      dtype='object')"
      ]
     },
     "execution_count": 3,
     "metadata": {},
     "output_type": "execute_result"
    }
   ],
   "source": [
    "data.columns"
   ]
  },
  {
   "cell_type": "markdown",
   "metadata": {},
   "source": [
    "В целом названия столбцов соответствуют содержимому. Переименовать для удобства можно 3 столбца - возраст, тип занятости и месячный доход."
   ]
  },
  {
   "cell_type": "code",
   "execution_count": 4,
   "metadata": {},
   "outputs": [
    {
     "data": {
      "text/html": [
       "<div>\n",
       "<style scoped>\n",
       "    .dataframe tbody tr th:only-of-type {\n",
       "        vertical-align: middle;\n",
       "    }\n",
       "\n",
       "    .dataframe tbody tr th {\n",
       "        vertical-align: top;\n",
       "    }\n",
       "\n",
       "    .dataframe thead th {\n",
       "        text-align: right;\n",
       "    }\n",
       "</style>\n",
       "<table border=\"1\" class=\"dataframe\">\n",
       "  <thead>\n",
       "    <tr style=\"text-align: right;\">\n",
       "      <th></th>\n",
       "      <th>children</th>\n",
       "      <th>days_employed</th>\n",
       "      <th>age</th>\n",
       "      <th>education</th>\n",
       "      <th>education_id</th>\n",
       "      <th>family_status</th>\n",
       "      <th>family_status_id</th>\n",
       "      <th>gender</th>\n",
       "      <th>type_activity</th>\n",
       "      <th>debt</th>\n",
       "      <th>monthly_income</th>\n",
       "      <th>purpose</th>\n",
       "    </tr>\n",
       "  </thead>\n",
       "  <tbody>\n",
       "    <tr>\n",
       "      <td>0</td>\n",
       "      <td>1</td>\n",
       "      <td>-8437.673028</td>\n",
       "      <td>42</td>\n",
       "      <td>высшее</td>\n",
       "      <td>0</td>\n",
       "      <td>женат / замужем</td>\n",
       "      <td>0</td>\n",
       "      <td>F</td>\n",
       "      <td>сотрудник</td>\n",
       "      <td>0</td>\n",
       "      <td>253875.639453</td>\n",
       "      <td>покупка жилья</td>\n",
       "    </tr>\n",
       "    <tr>\n",
       "      <td>1</td>\n",
       "      <td>1</td>\n",
       "      <td>-4024.803754</td>\n",
       "      <td>36</td>\n",
       "      <td>среднее</td>\n",
       "      <td>1</td>\n",
       "      <td>женат / замужем</td>\n",
       "      <td>0</td>\n",
       "      <td>F</td>\n",
       "      <td>сотрудник</td>\n",
       "      <td>0</td>\n",
       "      <td>112080.014102</td>\n",
       "      <td>приобретение автомобиля</td>\n",
       "    </tr>\n",
       "    <tr>\n",
       "      <td>2</td>\n",
       "      <td>0</td>\n",
       "      <td>-5623.422610</td>\n",
       "      <td>33</td>\n",
       "      <td>Среднее</td>\n",
       "      <td>1</td>\n",
       "      <td>женат / замужем</td>\n",
       "      <td>0</td>\n",
       "      <td>M</td>\n",
       "      <td>сотрудник</td>\n",
       "      <td>0</td>\n",
       "      <td>145885.952297</td>\n",
       "      <td>покупка жилья</td>\n",
       "    </tr>\n",
       "    <tr>\n",
       "      <td>3</td>\n",
       "      <td>3</td>\n",
       "      <td>-4124.747207</td>\n",
       "      <td>32</td>\n",
       "      <td>среднее</td>\n",
       "      <td>1</td>\n",
       "      <td>женат / замужем</td>\n",
       "      <td>0</td>\n",
       "      <td>M</td>\n",
       "      <td>сотрудник</td>\n",
       "      <td>0</td>\n",
       "      <td>267628.550329</td>\n",
       "      <td>дополнительное образование</td>\n",
       "    </tr>\n",
       "    <tr>\n",
       "      <td>4</td>\n",
       "      <td>0</td>\n",
       "      <td>340266.072047</td>\n",
       "      <td>53</td>\n",
       "      <td>среднее</td>\n",
       "      <td>1</td>\n",
       "      <td>гражданский брак</td>\n",
       "      <td>1</td>\n",
       "      <td>F</td>\n",
       "      <td>пенсионер</td>\n",
       "      <td>0</td>\n",
       "      <td>158616.077870</td>\n",
       "      <td>сыграть свадьбу</td>\n",
       "    </tr>\n",
       "    <tr>\n",
       "      <td>5</td>\n",
       "      <td>0</td>\n",
       "      <td>-926.185831</td>\n",
       "      <td>27</td>\n",
       "      <td>высшее</td>\n",
       "      <td>0</td>\n",
       "      <td>гражданский брак</td>\n",
       "      <td>1</td>\n",
       "      <td>M</td>\n",
       "      <td>компаньон</td>\n",
       "      <td>0</td>\n",
       "      <td>255763.565419</td>\n",
       "      <td>покупка жилья</td>\n",
       "    </tr>\n",
       "    <tr>\n",
       "      <td>6</td>\n",
       "      <td>0</td>\n",
       "      <td>-2879.202052</td>\n",
       "      <td>43</td>\n",
       "      <td>высшее</td>\n",
       "      <td>0</td>\n",
       "      <td>женат / замужем</td>\n",
       "      <td>0</td>\n",
       "      <td>F</td>\n",
       "      <td>компаньон</td>\n",
       "      <td>0</td>\n",
       "      <td>240525.971920</td>\n",
       "      <td>операции с жильем</td>\n",
       "    </tr>\n",
       "    <tr>\n",
       "      <td>7</td>\n",
       "      <td>0</td>\n",
       "      <td>-152.779569</td>\n",
       "      <td>50</td>\n",
       "      <td>СРЕДНЕЕ</td>\n",
       "      <td>1</td>\n",
       "      <td>женат / замужем</td>\n",
       "      <td>0</td>\n",
       "      <td>M</td>\n",
       "      <td>сотрудник</td>\n",
       "      <td>0</td>\n",
       "      <td>135823.934197</td>\n",
       "      <td>образование</td>\n",
       "    </tr>\n",
       "    <tr>\n",
       "      <td>8</td>\n",
       "      <td>2</td>\n",
       "      <td>-6929.865299</td>\n",
       "      <td>35</td>\n",
       "      <td>ВЫСШЕЕ</td>\n",
       "      <td>0</td>\n",
       "      <td>гражданский брак</td>\n",
       "      <td>1</td>\n",
       "      <td>F</td>\n",
       "      <td>сотрудник</td>\n",
       "      <td>0</td>\n",
       "      <td>95856.832424</td>\n",
       "      <td>на проведение свадьбы</td>\n",
       "    </tr>\n",
       "    <tr>\n",
       "      <td>9</td>\n",
       "      <td>0</td>\n",
       "      <td>-2188.756445</td>\n",
       "      <td>41</td>\n",
       "      <td>среднее</td>\n",
       "      <td>1</td>\n",
       "      <td>женат / замужем</td>\n",
       "      <td>0</td>\n",
       "      <td>M</td>\n",
       "      <td>сотрудник</td>\n",
       "      <td>0</td>\n",
       "      <td>144425.938277</td>\n",
       "      <td>покупка жилья для семьи</td>\n",
       "    </tr>\n",
       "    <tr>\n",
       "      <td>10</td>\n",
       "      <td>2</td>\n",
       "      <td>-4171.483647</td>\n",
       "      <td>36</td>\n",
       "      <td>высшее</td>\n",
       "      <td>0</td>\n",
       "      <td>женат / замужем</td>\n",
       "      <td>0</td>\n",
       "      <td>M</td>\n",
       "      <td>компаньон</td>\n",
       "      <td>0</td>\n",
       "      <td>113943.491460</td>\n",
       "      <td>покупка недвижимости</td>\n",
       "    </tr>\n",
       "    <tr>\n",
       "      <td>11</td>\n",
       "      <td>0</td>\n",
       "      <td>-792.701887</td>\n",
       "      <td>40</td>\n",
       "      <td>среднее</td>\n",
       "      <td>1</td>\n",
       "      <td>женат / замужем</td>\n",
       "      <td>0</td>\n",
       "      <td>F</td>\n",
       "      <td>сотрудник</td>\n",
       "      <td>0</td>\n",
       "      <td>77069.234271</td>\n",
       "      <td>покупка коммерческой недвижимости</td>\n",
       "    </tr>\n",
       "    <tr>\n",
       "      <td>12</td>\n",
       "      <td>0</td>\n",
       "      <td>NaN</td>\n",
       "      <td>65</td>\n",
       "      <td>среднее</td>\n",
       "      <td>1</td>\n",
       "      <td>гражданский брак</td>\n",
       "      <td>1</td>\n",
       "      <td>M</td>\n",
       "      <td>пенсионер</td>\n",
       "      <td>0</td>\n",
       "      <td>NaN</td>\n",
       "      <td>сыграть свадьбу</td>\n",
       "    </tr>\n",
       "    <tr>\n",
       "      <td>13</td>\n",
       "      <td>0</td>\n",
       "      <td>-1846.641941</td>\n",
       "      <td>54</td>\n",
       "      <td>неоконченное высшее</td>\n",
       "      <td>2</td>\n",
       "      <td>женат / замужем</td>\n",
       "      <td>0</td>\n",
       "      <td>F</td>\n",
       "      <td>сотрудник</td>\n",
       "      <td>0</td>\n",
       "      <td>130458.228857</td>\n",
       "      <td>приобретение автомобиля</td>\n",
       "    </tr>\n",
       "    <tr>\n",
       "      <td>14</td>\n",
       "      <td>0</td>\n",
       "      <td>-1844.956182</td>\n",
       "      <td>56</td>\n",
       "      <td>высшее</td>\n",
       "      <td>0</td>\n",
       "      <td>гражданский брак</td>\n",
       "      <td>1</td>\n",
       "      <td>F</td>\n",
       "      <td>компаньон</td>\n",
       "      <td>1</td>\n",
       "      <td>165127.911772</td>\n",
       "      <td>покупка жилой недвижимости</td>\n",
       "    </tr>\n",
       "  </tbody>\n",
       "</table>\n",
       "</div>"
      ],
      "text/plain": [
       "    children  days_employed  age            education  education_id  \\\n",
       "0          1   -8437.673028   42               высшее             0   \n",
       "1          1   -4024.803754   36              среднее             1   \n",
       "2          0   -5623.422610   33              Среднее             1   \n",
       "3          3   -4124.747207   32              среднее             1   \n",
       "4          0  340266.072047   53              среднее             1   \n",
       "5          0    -926.185831   27               высшее             0   \n",
       "6          0   -2879.202052   43               высшее             0   \n",
       "7          0    -152.779569   50              СРЕДНЕЕ             1   \n",
       "8          2   -6929.865299   35               ВЫСШЕЕ             0   \n",
       "9          0   -2188.756445   41              среднее             1   \n",
       "10         2   -4171.483647   36               высшее             0   \n",
       "11         0    -792.701887   40              среднее             1   \n",
       "12         0            NaN   65              среднее             1   \n",
       "13         0   -1846.641941   54  неоконченное высшее             2   \n",
       "14         0   -1844.956182   56               высшее             0   \n",
       "\n",
       "       family_status  family_status_id gender type_activity  debt  \\\n",
       "0    женат / замужем                 0      F     сотрудник     0   \n",
       "1    женат / замужем                 0      F     сотрудник     0   \n",
       "2    женат / замужем                 0      M     сотрудник     0   \n",
       "3    женат / замужем                 0      M     сотрудник     0   \n",
       "4   гражданский брак                 1      F     пенсионер     0   \n",
       "5   гражданский брак                 1      M     компаньон     0   \n",
       "6    женат / замужем                 0      F     компаньон     0   \n",
       "7    женат / замужем                 0      M     сотрудник     0   \n",
       "8   гражданский брак                 1      F     сотрудник     0   \n",
       "9    женат / замужем                 0      M     сотрудник     0   \n",
       "10   женат / замужем                 0      M     компаньон     0   \n",
       "11   женат / замужем                 0      F     сотрудник     0   \n",
       "12  гражданский брак                 1      M     пенсионер     0   \n",
       "13   женат / замужем                 0      F     сотрудник     0   \n",
       "14  гражданский брак                 1      F     компаньон     1   \n",
       "\n",
       "    monthly_income                            purpose  \n",
       "0    253875.639453                      покупка жилья  \n",
       "1    112080.014102            приобретение автомобиля  \n",
       "2    145885.952297                      покупка жилья  \n",
       "3    267628.550329         дополнительное образование  \n",
       "4    158616.077870                    сыграть свадьбу  \n",
       "5    255763.565419                      покупка жилья  \n",
       "6    240525.971920                  операции с жильем  \n",
       "7    135823.934197                        образование  \n",
       "8     95856.832424              на проведение свадьбы  \n",
       "9    144425.938277            покупка жилья для семьи  \n",
       "10   113943.491460               покупка недвижимости  \n",
       "11    77069.234271  покупка коммерческой недвижимости  \n",
       "12             NaN                    сыграть свадьбу  \n",
       "13   130458.228857            приобретение автомобиля  \n",
       "14   165127.911772         покупка жилой недвижимости  "
      ]
     },
     "execution_count": 4,
     "metadata": {},
     "output_type": "execute_result"
    }
   ],
   "source": [
    "data = data.rename(columns={'dob_years':'age', 'income_type':'type_activity','total_income':'monthly_income'})\n",
    "data.head(15)"
   ]
  },
  {
   "cell_type": "markdown",
   "metadata": {},
   "source": [
    "Создадим функцию для оценки содержимого отдельных столбцов. Функция примет столбец, вернет mean, min, max, уникальные значения по столбцам. Для столбцов с текстовым содержимым вернет только количество наблюдений и уникальные значения."
   ]
  },
  {
   "cell_type": "code",
   "execution_count": 5,
   "metadata": {},
   "outputs": [],
   "source": [
    "def series_analise(series):\n",
    "    print(series.name)\n",
    "    try: # при попадении данных не верного типа в расчет посчитает только то что можно посчитать в любом случае.\n",
    "        return f\"Для этого столбца Среднеее значение:{series.mean()}\" + \"\\n\" + f\"Максимальное значение: {series.max()}\"+ \"\\n\" + f\"Минимальное значение: {series.min()}\"+ \"\\n\" + f\"Всего наблюдений: {series.count()}\" + \"\\n\" + f\"Уникальные значения: {series.unique()}\"\n",
    "    except:\n",
    "        return f\"Для этого столбца\" + \"\\n\" f\"Всего наблюдений: {series.count()}\" + \"\\n\" + f\"Уникальные значения: {series.unique()}\""
   ]
  },
  {
   "cell_type": "markdown",
   "metadata": {},
   "source": [
    "Последовательно применю к всем столбцам. Ищу особенности в данных."
   ]
  },
  {
   "cell_type": "code",
   "execution_count": 6,
   "metadata": {},
   "outputs": [
    {
     "name": "stdout",
     "output_type": "stream",
     "text": [
      "children\n",
      "Для этого столбца Среднеее значение:0.5389082462253194\n",
      "Максимальное значение: 20\n",
      "Минимальное значение: -1\n",
      "Всего наблюдений: 21525\n",
      "Уникальные значения: [ 1  0  3  2 -1  4 20  5]\n"
     ]
    }
   ],
   "source": [
    "print(series_analise(data[\"children\"]))"
   ]
  },
  {
   "cell_type": "markdown",
   "metadata": {},
   "source": [
    "Столбец \"количество детей в семье\". Максимальное значение представляется слишком большим (20 детей), требует проверки.\n",
    "Присутствует отрицательное значение (требует предобработки).\n",
    "Пропущенных значений нет. Происхождение ошибок: вероятно, ошибка при занесении данных."
   ]
  },
  {
   "cell_type": "code",
   "execution_count": 7,
   "metadata": {},
   "outputs": [
    {
     "name": "stdout",
     "output_type": "stream",
     "text": [
      "days_employed\n",
      "Для этого столбца Среднеее значение:63046.49766147338\n",
      "Максимальное значение: 401755.40047533\n",
      "Минимальное значение: -18388.949900568383\n",
      "Всего наблюдений: 19351\n",
      "Уникальные значения: [-8437.67302776 -4024.80375385 -5623.42261023 ... -2113.3468877\n",
      " -3112.4817052  -1984.50758853]\n"
     ]
    }
   ],
   "source": [
    "print(series_analise(data[\"days_employed\"]))"
   ]
  },
  {
   "cell_type": "markdown",
   "metadata": {},
   "source": [
    "Столбец \"общий трудовой стаж в днях\". Присутствуют отрицательные значения, требует предобрабоки. Тип данных float требует предобработки, правки на int. Присутствуют пропущенные значения. Среднее значение не может быть таким большим, требует анализа. Происхождение ошибок: вероятно, ошибка при занесении данных."
   ]
  },
  {
   "cell_type": "code",
   "execution_count": 8,
   "metadata": {},
   "outputs": [
    {
     "name": "stdout",
     "output_type": "stream",
     "text": [
      "age\n",
      "Для этого столбца Среднеее значение:43.29337979094077\n",
      "Максимальное значение: 75\n",
      "Минимальное значение: 0\n",
      "Всего наблюдений: 21525\n",
      "Уникальные значения: [42 36 33 32 53 27 43 50 35 41 40 65 54 56 26 48 24 21 57 67 28 63 62 47\n",
      " 34 68 25 31 30 20 49 37 45 61 64 44 52 46 23 38 39 51  0 59 29 60 55 58\n",
      " 71 22 73 66 69 19 72 70 74 75]\n"
     ]
    }
   ],
   "source": [
    "print(series_analise(data[\"age\"]))"
   ]
  },
  {
   "cell_type": "markdown",
   "metadata": {},
   "source": [
    "Столбец \"возраст\". Обращет на себя внимание значение 0, требует проверки. Пропущенных значений нет. Тип данных в  порядке. Вероятно, потребуется категоризация данных. Происхождение ошибок: вероятно, ошибка при занесении данных."
   ]
  },
  {
   "cell_type": "code",
   "execution_count": 9,
   "metadata": {},
   "outputs": [
    {
     "name": "stdout",
     "output_type": "stream",
     "text": [
      "education\n",
      "Для этого столбца\n",
      "Всего наблюдений: 21525\n",
      "Уникальные значения: ['высшее' 'среднее' 'Среднее' 'СРЕДНЕЕ' 'ВЫСШЕЕ' 'неоконченное высшее'\n",
      " 'начальное' 'Высшее' 'НЕОКОНЧЕННОЕ ВЫСШЕЕ' 'Неоконченное высшее'\n",
      " 'НАЧАЛЬНОЕ' 'Начальное' 'Ученая степень' 'УЧЕНАЯ СТЕПЕНЬ'\n",
      " 'ученая степень']\n",
      "0\n"
     ]
    }
   ],
   "source": [
    "print(series_analise(data[\"education\"]))\n",
    "print(data[\"education\"].isna().sum())"
   ]
  },
  {
   "cell_type": "markdown",
   "metadata": {},
   "source": [
    "Пропущенных значений нет. Требуется предобработка, правка регистра данных. Происхождение ошибок: вероятно, ошибка при занесении, опечатки в названиях."
   ]
  },
  {
   "cell_type": "code",
   "execution_count": 10,
   "metadata": {},
   "outputs": [
    {
     "name": "stdout",
     "output_type": "stream",
     "text": [
      "education_id\n",
      "Для этого столбца Среднеее значение:0.8172357723577236\n",
      "Максимальное значение: 4\n",
      "Минимальное значение: 0\n",
      "Всего наблюдений: 21525\n",
      "Уникальные значения: [0 1 2 3 4]\n"
     ]
    }
   ],
   "source": [
    "print(series_analise(data[\"education_id\"]))"
   ]
  },
  {
   "cell_type": "markdown",
   "metadata": {},
   "source": [
    "Пропущенных значений нет. Подтверждает догадку выше, после правки регистра образования, останется 5 типов образования. Столбец не требует предобработки."
   ]
  },
  {
   "cell_type": "code",
   "execution_count": 11,
   "metadata": {},
   "outputs": [
    {
     "name": "stdout",
     "output_type": "stream",
     "text": [
      "family_status\n",
      "Для этого столбца\n",
      "Всего наблюдений: 21525\n",
      "Уникальные значения: ['женат / замужем' 'гражданский брак' 'вдовец / вдова' 'в разводе'\n",
      " 'Не женат / не замужем']\n"
     ]
    }
   ],
   "source": [
    "print(series_analise(data[\"family_status\"]))"
   ]
  },
  {
   "cell_type": "markdown",
   "metadata": {},
   "source": [
    "Пропусков значений нет.  Можно привести буквы к нижнему регистру. Соответствует столбцу с id семейного статуса."
   ]
  },
  {
   "cell_type": "code",
   "execution_count": 12,
   "metadata": {},
   "outputs": [
    {
     "name": "stdout",
     "output_type": "stream",
     "text": [
      "family_status_id\n",
      "Для этого столбца Среднеее значение:0.9725435540069687\n",
      "Максимальное значение: 4\n",
      "Минимальное значение: 0\n",
      "Всего наблюдений: 21525\n",
      "Уникальные значения: [0 1 2 3 4]\n"
     ]
    }
   ],
   "source": [
    "print(series_analise(data[\"family_status_id\"]))"
   ]
  },
  {
   "cell_type": "markdown",
   "metadata": {},
   "source": [
    "Пропусков нет. Столбец не требует предобработки."
   ]
  },
  {
   "cell_type": "code",
   "execution_count": 13,
   "metadata": {},
   "outputs": [
    {
     "name": "stdout",
     "output_type": "stream",
     "text": [
      "gender\n",
      "Для этого столбца\n",
      "Всего наблюдений: 21525\n",
      "Уникальные значения: ['F' 'M' 'XNA']\n",
      "Люди с необычным полом 1\n",
      "gender\n",
      "Для этого столбца\n",
      "Всего наблюдений: 21525\n",
      "Уникальные значения: ['F' 'M']\n"
     ]
    }
   ],
   "source": [
    "print(series_analise(data[\"gender\"]))\n",
    "print(\"Люди с необычным полом\",data.loc[data[\"gender\"]==\"XNA\", 'gender'].count())\n",
    "data.loc[data[\"gender\"]==\"XNA\", 'gender']='M' #Особенное измерение всего 1 можно поменять на любой из полов (мы не допустим!).\n",
    "print(series_analise(data[\"gender\"]))  #Проверим исправленое."
   ]
  },
  {
   "cell_type": "code",
   "execution_count": 14,
   "metadata": {},
   "outputs": [
    {
     "name": "stdout",
     "output_type": "stream",
     "text": [
      "type_activity\n",
      "Для этого столбца\n",
      "Всего наблюдений: 21525\n",
      "Уникальные значения: ['сотрудник' 'пенсионер' 'компаньон' 'госслужащий' 'безработный'\n",
      " 'предприниматель' 'студент' 'в декрете']\n"
     ]
    }
   ],
   "source": [
    "print(series_analise(data[\"type_activity\"]))"
   ]
  },
  {
   "cell_type": "markdown",
   "metadata": {},
   "source": [
    "Пропущенных значений нет. Столбец не требует предобработки."
   ]
  },
  {
   "cell_type": "code",
   "execution_count": 15,
   "metadata": {},
   "outputs": [
    {
     "name": "stdout",
     "output_type": "stream",
     "text": [
      "debt\n",
      "Для этого столбца Среднеее значение:0.08088269454123112\n",
      "Максимальное значение: 1\n",
      "Минимальное значение: 0\n",
      "Всего наблюдений: 21525\n",
      "Уникальные значения: [0 1]\n"
     ]
    }
   ],
   "source": [
    "print(series_analise(data[\"debt\"]))"
   ]
  },
  {
   "cell_type": "markdown",
   "metadata": {},
   "source": [
    "Пропущенных значений нет. Данные не требуют предобработки."
   ]
  },
  {
   "cell_type": "code",
   "execution_count": 16,
   "metadata": {},
   "outputs": [
    {
     "name": "stdout",
     "output_type": "stream",
     "text": [
      "monthly_income\n",
      "Для этого столбца Среднеее значение:167422.30220817294\n",
      "Максимальное значение: 2265604.028722744\n",
      "Минимальное значение: 20667.26379327158\n",
      "Всего наблюдений: 19351\n",
      "Уникальные значения: [253875.6394526  112080.01410244 145885.95229686 ...  89672.56115303\n",
      " 244093.05050043  82047.41889948]\n"
     ]
    }
   ],
   "source": [
    "print(series_analise(data[\"monthly_income\"]))"
   ]
  },
  {
   "cell_type": "markdown",
   "metadata": {},
   "source": [
    "Присутствуют пропуски, требуют дальнейшего анализа. Тип данных можно сменить на int."
   ]
  },
  {
   "cell_type": "code",
   "execution_count": 17,
   "metadata": {},
   "outputs": [
    {
     "name": "stdout",
     "output_type": "stream",
     "text": [
      "purpose\n",
      "Для этого столбца\n",
      "Всего наблюдений: 21525\n",
      "Уникальные значения: ['покупка жилья' 'приобретение автомобиля' 'дополнительное образование'\n",
      " 'сыграть свадьбу' 'операции с жильем' 'образование'\n",
      " 'на проведение свадьбы' 'покупка жилья для семьи' 'покупка недвижимости'\n",
      " 'покупка коммерческой недвижимости' 'покупка жилой недвижимости'\n",
      " 'строительство собственной недвижимости' 'недвижимость'\n",
      " 'строительство недвижимости' 'на покупку подержанного автомобиля'\n",
      " 'на покупку своего автомобиля' 'операции с коммерческой недвижимостью'\n",
      " 'строительство жилой недвижимости' 'жилье'\n",
      " 'операции со своей недвижимостью' 'автомобили' 'заняться образованием'\n",
      " 'сделка с подержанным автомобилем' 'получение образования' 'автомобиль'\n",
      " 'свадьба' 'получение дополнительного образования' 'покупка своего жилья'\n",
      " 'операции с недвижимостью' 'получение высшего образования'\n",
      " 'свой автомобиль' 'сделка с автомобилем' 'профильное образование'\n",
      " 'высшее образование' 'покупка жилья для сдачи' 'на покупку автомобиля'\n",
      " 'ремонт жилью' 'заняться высшим образованием']\n"
     ]
    }
   ],
   "source": [
    "print(series_analise(data[\"purpose\"]))"
   ]
  },
  {
   "cell_type": "markdown",
   "metadata": {},
   "source": [
    "Пропусков нет. Некоторые строки описывают одно и тоже по несколько раз. Требуется лемматизация, с последующей категоризацией. Данные не требуют предобработку."
   ]
  },
  {
   "cell_type": "markdown",
   "metadata": {},
   "source": [
    "## Шаг 2. Предобработка данных"
   ]
  },
  {
   "cell_type": "markdown",
   "metadata": {},
   "source": [
    "### Обработка пропусков"
   ]
  },
  {
   "cell_type": "markdown",
   "metadata": {},
   "source": [
    "Итак, пропуски присутствуют в столбцах days_employed и monthly_income, стаж и месячный доход. Необходимо привести значения вышеописанных столбцов, убрать отрицательные значения, для этого функция number_int_module\n",
    "Пропуски в столбцах планирую заменить средними значениями. Затем исправить float на int."
   ]
  },
  {
   "cell_type": "code",
   "execution_count": 18,
   "metadata": {},
   "outputs": [],
   "source": [
    "def number_module(value): #Функция вернет  модуль числа. Если nan  вернет nan.\n",
    "    try:\n",
    "        return abs(value)\n",
    "    except:\n",
    "        return value"
   ]
  },
  {
   "cell_type": "markdown",
   "metadata": {},
   "source": [
    "Применим number_module к столбцу children."
   ]
  },
  {
   "cell_type": "code",
   "execution_count": 19,
   "metadata": {},
   "outputs": [
    {
     "name": "stdout",
     "output_type": "stream",
     "text": [
      "Родители герои 76\n",
      "children\n",
      "0     46.261432\n",
      "1     38.406783\n",
      "2     35.770316\n",
      "3     36.287879\n",
      "4     36.048780\n",
      "5     38.777778\n",
      "20    41.815789\n",
      "Name: age, dtype: float64\n"
     ]
    }
   ],
   "source": [
    "data[\"children\"]=number_module(data[\"children\"])\n",
    "print(\"Родители герои\",data[data[\"children\"]== 20][\"children\"].count()) #76 человек имеют 20 детей опечатка при вводе данных или родители герои ?\n",
    "print(data.groupby('children')['age'].mean()) \n",
    "data.loc[data[\"children\"]==20, 'children']=2\n"
   ]
  },
  {
   "cell_type": "markdown",
   "metadata": {},
   "source": [
    "При проверке средний возраст родителей героев несколько выше чем у 1-5 детных. Может быть как ошорбка вводв так и аномалия. Но отсутствую дети 6 - 19. Больше данных за ошибку. Значение превратим в 2."
   ]
  },
  {
   "cell_type": "markdown",
   "metadata": {},
   "source": [
    "Применим number_module к столбцу days_employed."
   ]
  },
  {
   "cell_type": "code",
   "execution_count": 20,
   "metadata": {},
   "outputs": [
    {
     "name": "stdout",
     "output_type": "stream",
     "text": [
      "days_employed\n",
      "Для этого столбца Среднеее значение:66914.72890682236\n",
      "Максимальное значение: 401755.40047533\n",
      "Минимальное значение: 24.14163324048118\n",
      "Всего наблюдений: 19351\n",
      "Уникальные значения: [8437.67302776 4024.80375385 5623.42261023 ... 2113.3468877  3112.4817052\n",
      " 1984.50758853]\n"
     ]
    }
   ],
   "source": [
    "data[\"days_employed\"]= number_module(data[\"days_employed\"])\n",
    "#Проверим столбец:\n",
    "print(series_analise(data[\"days_employed\"]))"
   ]
  },
  {
   "cell_type": "markdown",
   "metadata": {},
   "source": [
    "Применим number_module к столбцу monthly_income."
   ]
  },
  {
   "cell_type": "code",
   "execution_count": 21,
   "metadata": {},
   "outputs": [
    {
     "name": "stdout",
     "output_type": "stream",
     "text": [
      "monthly_income\n",
      "Для этого столбца Среднеее значение:167422.30220817294\n",
      "Максимальное значение: 2265604.028722744\n",
      "Минимальное значение: 20667.26379327158\n",
      "Всего наблюдений: 19351\n",
      "Уникальные значения: [253875.6394526  112080.01410244 145885.95229686 ...  89672.56115303\n",
      " 244093.05050043  82047.41889948]\n"
     ]
    }
   ],
   "source": [
    "data[\"monthly_income\"]= number_module(data[\"monthly_income\"])\n",
    "#Проверим столбец:\n",
    "print(series_analise(data[\"monthly_income\"]))"
   ]
  },
  {
   "cell_type": "markdown",
   "metadata": {},
   "source": [
    "Заполним пропущенные значения по столбцу, days_employed. Monthly_income заполним медианными значениями с учетом характера деятельности."
   ]
  },
  {
   "cell_type": "code",
   "execution_count": 22,
   "metadata": {},
   "outputs": [
    {
     "name": "stdout",
     "output_type": "stream",
     "text": [
      "<class 'pandas.core.frame.DataFrame'>\n",
      "RangeIndex: 21525 entries, 0 to 21524\n",
      "Data columns (total 12 columns):\n",
      "children            21525 non-null int64\n",
      "days_employed       21525 non-null float64\n",
      "age                 21525 non-null int64\n",
      "education           21525 non-null object\n",
      "education_id        21525 non-null int64\n",
      "family_status       21525 non-null object\n",
      "family_status_id    21525 non-null int64\n",
      "gender              21525 non-null object\n",
      "type_activity       21525 non-null object\n",
      "debt                21525 non-null int64\n",
      "monthly_income      19351 non-null float64\n",
      "purpose             21525 non-null object\n",
      "dtypes: float64(2), int64(5), object(5)\n",
      "memory usage: 2.0+ MB\n",
      "Пропуски children               0\n",
      "days_employed          0\n",
      "age                    0\n",
      "education              0\n",
      "education_id           0\n",
      "family_status          0\n",
      "family_status_id       0\n",
      "gender                 0\n",
      "type_activity          0\n",
      "debt                   0\n",
      "monthly_income      2174\n",
      "purpose                0\n",
      "dtype: int64\n",
      "days_employed\n",
      "Для этого столбца Среднеее значение:66914.72890682236\n",
      "Максимальное значение: 401755.40047533\n",
      "Минимальное значение: 24.14163324048118\n",
      "Всего наблюдений: 21525\n",
      "Уникальные значения: [8437.67302776 4024.80375385 5623.42261023 ... 2113.3468877  3112.4817052\n",
      " 1984.50758853]\n",
      "monthly_income\n",
      "Для этого столбца Среднеее значение:167422.30220817294\n",
      "Максимальное значение: 2265604.028722744\n",
      "Минимальное значение: 20667.26379327158\n",
      "Всего наблюдений: 19351\n",
      "Уникальные значения: [253875.6394526  112080.01410244 145885.95229686 ...  89672.56115303\n",
      " 244093.05050043  82047.41889948]\n"
     ]
    }
   ],
   "source": [
    "data['days_employed'] = data['days_employed'].fillna(data['days_employed'].mean())\n",
    "\n",
    "\n",
    "#data['monthly_income'] = data['monthly_income'].fillna(data['monthly_income'].mean()) СМ ниже\n",
    "\n",
    "#Проверим таблицу.\n",
    "data.info()\n",
    "#Пропусков не обнаружено.\n",
    "print(\"Пропуски\",data.isnull().sum())\n",
    "#Проверим столбцы:\n",
    "print(series_analise(data[\"days_employed\"]))\n",
    "print(series_analise(data[\"monthly_income\"]))\n"
   ]
  },
  {
   "cell_type": "markdown",
   "metadata": {},
   "source": [
    "<div class=\"alert alert-info\" style=\"background:dark; color:white;>\n",
    "<h2> Комментарий студента</h2>\n",
    "\n",
    "Пробую исправить замечание:\n",
    "    Анализирую подходящие для более точного расчета среднего заработка параметры.\n",
    "</div>\n"
   ]
  },
  {
   "cell_type": "code",
   "execution_count": 23,
   "metadata": {
    "scrolled": true
   },
   "outputs": [
    {
     "name": "stdout",
     "output_type": "stream",
     "text": [
      "Образование и зарплата education\n",
      "Ученая степень          98752.495442\n",
      "Начальное              104570.429306\n",
      "начальное              117314.518552\n",
      "НАЧАЛЬНОЕ              129666.892242\n",
      "СРЕДНЕЕ                134305.753361\n",
      "Среднее                135105.847892\n",
      "среднее                136643.346470\n",
      "неоконченное высшее    159780.923803\n",
      "Неоконченное высшее    160402.480835\n",
      "НЕОКОНЧЕННОЕ ВЫСШЕЕ    163911.559034\n",
      "ВЫСШЕЕ                 167242.211789\n",
      "высшее                 175625.312376\n",
      "Высшее                 180720.652515\n",
      "ученая степень         185687.118172\n",
      "УЧЕНАЯ СТЕПЕНЬ         198570.757322\n",
      "Name: monthly_income, dtype: float64\n",
      "Возраст и зарплата age\n",
      "74     76850.325847\n",
      "19     93343.132708\n",
      "69    104312.983461\n",
      "20    109502.056040\n",
      "72    110985.525593\n",
      "66    111673.470974\n",
      "67    112656.049064\n",
      "68    113208.388713\n",
      "70    118062.325847\n",
      "73    119190.487878\n",
      "65    122934.154656\n",
      "71    122934.294124\n",
      "23    123162.782874\n",
      "63    123952.330213\n",
      "22    123995.881833\n",
      "60    126161.016149\n",
      "21    128265.720871\n",
      "61    128936.505715\n",
      "62    132382.911657\n",
      "55    133122.855586\n",
      "64    133576.183336\n",
      "58    134163.186654\n",
      "59    136854.841297\n",
      "54    136923.161626\n",
      "57    138103.674335\n",
      "56    139119.706636\n",
      "24    140402.515977\n",
      "53    140999.064983\n",
      "52    142054.722653\n",
      "50    142125.429143\n",
      "25    143119.367767\n",
      "51    145132.355606\n",
      "26    145457.100427\n",
      "29    146617.644239\n",
      "30    146944.669481\n",
      "41    148563.212032\n",
      "31    148728.768999\n",
      "39    149429.152630\n",
      "28    149663.088488\n",
      "32    151253.906084\n",
      "38    151466.705348\n",
      "43    151773.893139\n",
      "44    152302.899465\n",
      "0     152419.184851\n",
      "47    153097.944233\n",
      "75    153282.648133\n",
      "49    153687.229445\n",
      "45    154147.639937\n",
      "27    154429.246838\n",
      "34    155358.963793\n",
      "35    156145.371963\n",
      "33    156538.849949\n",
      "46    157436.075802\n",
      "40    158350.076940\n",
      "36    158681.482178\n",
      "48    158989.322780\n",
      "42    159167.992985\n",
      "37    160434.145641\n",
      "Name: monthly_income, dtype: float64\n",
      "Тип занятости и зарплата type_activity\n",
      "в декрете           53829.130729\n",
      "студент             98201.625314\n",
      "пенсионер          118514.486412\n",
      "безработный        131339.751676\n",
      "сотрудник          142594.396847\n",
      "госслужащий        150447.935283\n",
      "компаньон          172357.950966\n",
      "предприниматель    499163.144947\n",
      "Name: monthly_income, dtype: float64\n"
     ]
    }
   ],
   "source": [
    "print(\"Образование и зарплата\",data.groupby('education')['monthly_income'].median().sort_values())\n",
    "print(\"Возраст и зарплата\",data.groupby('age')['monthly_income'].median().sort_values())\n",
    "print(\"Тип занятости и зарплата\",data.groupby('type_activity')['monthly_income'].median().sort_values())"
   ]
  },
  {
   "cell_type": "code",
   "execution_count": 24,
   "metadata": {},
   "outputs": [
    {
     "name": "stdout",
     "output_type": "stream",
     "text": [
      "До 2174\n",
      "После 0\n",
      "Тип занятости и зарплата type_activity\n",
      "в декрете           53829.130729\n",
      "студент             98201.625314\n",
      "пенсионер          118514.486412\n",
      "безработный        131339.751676\n",
      "сотрудник          142594.396847\n",
      "госслужащий        150447.935283\n",
      "компаньон          172357.950966\n",
      "предприниматель    499163.144947\n",
      "Name: monthly_income, dtype: float64\n"
     ]
    }
   ],
   "source": [
    "def mean_type_activity(row):\n",
    "    return row.fillna(row.median())\n",
    "    \n",
    "    \n",
    "\n",
    "print(\"До\",data[\"monthly_income\"].isna().sum())\n",
    "data['monthly_income'] = data.groupby('type_activity')['monthly_income'].transform(mean_type_activity)\n",
    "#print(data.groupby('type_activity')['monthly_income'])\n",
    "print(\"После\",data[\"monthly_income\"].isna().sum()) \n",
    "print(\"Тип занятости и зарплата\",data.groupby('type_activity')['monthly_income'].median().sort_values())"
   ]
  },
  {
   "cell_type": "code",
   "execution_count": 25,
   "metadata": {},
   "outputs": [
    {
     "data": {
      "text/html": [
       "<div>\n",
       "<style scoped>\n",
       "    .dataframe tbody tr th:only-of-type {\n",
       "        vertical-align: middle;\n",
       "    }\n",
       "\n",
       "    .dataframe tbody tr th {\n",
       "        vertical-align: top;\n",
       "    }\n",
       "\n",
       "    .dataframe thead th {\n",
       "        text-align: right;\n",
       "    }\n",
       "</style>\n",
       "<table border=\"1\" class=\"dataframe\">\n",
       "  <thead>\n",
       "    <tr style=\"text-align: right;\">\n",
       "      <th></th>\n",
       "      <th>A</th>\n",
       "      <th>B</th>\n",
       "    </tr>\n",
       "  </thead>\n",
       "  <tbody>\n",
       "    <tr>\n",
       "      <td>0</td>\n",
       "      <td>1</td>\n",
       "      <td>3</td>\n",
       "    </tr>\n",
       "    <tr>\n",
       "      <td>1</td>\n",
       "      <td>2</td>\n",
       "      <td>3</td>\n",
       "    </tr>\n",
       "    <tr>\n",
       "      <td>2</td>\n",
       "      <td>4</td>\n",
       "      <td>5</td>\n",
       "    </tr>\n",
       "  </tbody>\n",
       "</table>\n",
       "</div>"
      ],
      "text/plain": [
       "   A  B\n",
       "0  1  3\n",
       "1  2  3\n",
       "2  4  5"
      ]
     },
     "execution_count": 25,
     "metadata": {},
     "output_type": "execute_result"
    }
   ],
   "source": [
    "# КОД РЕВЬЮЕРА\n",
    "\n",
    "# Создам датафрейм.\n",
    "\n",
    "\n",
    "l = {'A':[1,2,4], 'B':[3,3,5]}\n",
    "\n",
    "dfq = pd.DataFrame(l)\n",
    "dfq"
   ]
  },
  {
   "cell_type": "code",
   "execution_count": 26,
   "metadata": {},
   "outputs": [
    {
     "data": {
      "text/html": [
       "<div>\n",
       "<style scoped>\n",
       "    .dataframe tbody tr th:only-of-type {\n",
       "        vertical-align: middle;\n",
       "    }\n",
       "\n",
       "    .dataframe tbody tr th {\n",
       "        vertical-align: top;\n",
       "    }\n",
       "\n",
       "    .dataframe thead th {\n",
       "        text-align: right;\n",
       "    }\n",
       "</style>\n",
       "<table border=\"1\" class=\"dataframe\">\n",
       "  <thead>\n",
       "    <tr style=\"text-align: right;\">\n",
       "      <th></th>\n",
       "      <th>A</th>\n",
       "      <th>B</th>\n",
       "    </tr>\n",
       "  </thead>\n",
       "  <tbody>\n",
       "    <tr>\n",
       "      <td>0</td>\n",
       "      <td>1</td>\n",
       "      <td>9</td>\n",
       "    </tr>\n",
       "    <tr>\n",
       "      <td>1</td>\n",
       "      <td>4</td>\n",
       "      <td>9</td>\n",
       "    </tr>\n",
       "    <tr>\n",
       "      <td>2</td>\n",
       "      <td>16</td>\n",
       "      <td>25</td>\n",
       "    </tr>\n",
       "  </tbody>\n",
       "</table>\n",
       "</div>"
      ],
      "text/plain": [
       "    A   B\n",
       "0   1   9\n",
       "1   4   9\n",
       "2  16  25"
      ]
     },
     "execution_count": 26,
     "metadata": {},
     "output_type": "execute_result"
    }
   ],
   "source": [
    "# КОД РЕВЬЮЕРА\n",
    "\n",
    "# Обычная функция. \n",
    "def squared(df):\n",
    "    ''' \n",
    "    Функция принимает таблицу, меняет элементы на их квадраты и возвращает уже таблицу с квадратами.\n",
    "    '''\n",
    "    df['A'] = df['A']*df['A']\n",
    "    df['B'] = df['B']*df['B']\n",
    "    return df\n",
    "\n",
    "squared(dfq)"
   ]
  },
  {
   "cell_type": "code",
   "execution_count": 27,
   "metadata": {},
   "outputs": [
    {
     "data": {
      "text/html": [
       "<div>\n",
       "<style scoped>\n",
       "    .dataframe tbody tr th:only-of-type {\n",
       "        vertical-align: middle;\n",
       "    }\n",
       "\n",
       "    .dataframe tbody tr th {\n",
       "        vertical-align: top;\n",
       "    }\n",
       "\n",
       "    .dataframe thead th {\n",
       "        text-align: right;\n",
       "    }\n",
       "</style>\n",
       "<table border=\"1\" class=\"dataframe\">\n",
       "  <thead>\n",
       "    <tr style=\"text-align: right;\">\n",
       "      <th></th>\n",
       "      <th>A</th>\n",
       "      <th>B</th>\n",
       "    </tr>\n",
       "  </thead>\n",
       "  <tbody>\n",
       "    <tr>\n",
       "      <td>0</td>\n",
       "      <td>1</td>\n",
       "      <td>9</td>\n",
       "    </tr>\n",
       "    <tr>\n",
       "      <td>1</td>\n",
       "      <td>4</td>\n",
       "      <td>9</td>\n",
       "    </tr>\n",
       "    <tr>\n",
       "      <td>2</td>\n",
       "      <td>16</td>\n",
       "      <td>25</td>\n",
       "    </tr>\n",
       "  </tbody>\n",
       "</table>\n",
       "</div>"
      ],
      "text/plain": [
       "    A   B\n",
       "0   1   9\n",
       "1   4   9\n",
       "2  16  25"
      ]
     },
     "execution_count": 27,
     "metadata": {},
     "output_type": "execute_result"
    }
   ],
   "source": [
    "# КОД РЕВЬЮЕРА\n",
    "\n",
    "# Таблица изменилась, потому функция ее вернула измененную.\n",
    "dfq"
   ]
  },
  {
   "cell_type": "code",
   "execution_count": 28,
   "metadata": {},
   "outputs": [
    {
     "data": {
      "text/html": [
       "<div>\n",
       "<style scoped>\n",
       "    .dataframe tbody tr th:only-of-type {\n",
       "        vertical-align: middle;\n",
       "    }\n",
       "\n",
       "    .dataframe tbody tr th {\n",
       "        vertical-align: top;\n",
       "    }\n",
       "\n",
       "    .dataframe thead th {\n",
       "        text-align: right;\n",
       "    }\n",
       "</style>\n",
       "<table border=\"1\" class=\"dataframe\">\n",
       "  <thead>\n",
       "    <tr style=\"text-align: right;\">\n",
       "      <th></th>\n",
       "      <th>A</th>\n",
       "      <th>B</th>\n",
       "    </tr>\n",
       "  </thead>\n",
       "  <tbody>\n",
       "    <tr>\n",
       "      <td>0</td>\n",
       "      <td>1</td>\n",
       "      <td>3</td>\n",
       "    </tr>\n",
       "    <tr>\n",
       "      <td>1</td>\n",
       "      <td>2</td>\n",
       "      <td>3</td>\n",
       "    </tr>\n",
       "    <tr>\n",
       "      <td>2</td>\n",
       "      <td>4</td>\n",
       "      <td>5</td>\n",
       "    </tr>\n",
       "  </tbody>\n",
       "</table>\n",
       "</div>"
      ],
      "text/plain": [
       "   A  B\n",
       "0  1  3\n",
       "1  2  3\n",
       "2  4  5"
      ]
     },
     "execution_count": 28,
     "metadata": {},
     "output_type": "execute_result"
    }
   ],
   "source": [
    "# КОД РЕВЬЮЕРА\n",
    "\n",
    "def unsquared(df):\n",
    "    ''' \n",
    "    Берет квадратный корень. \n",
    "    \n",
    "    Принимает: таблицу.\n",
    "    Возвращает: таблицу, из элементов которой взят квадратный корень.\n",
    "    '''\n",
    "    \n",
    "    import numpy as np\n",
    "    \n",
    "    df['A'] = np.sqrt(df['A']).astype(int)\n",
    "    df['B'] = np.sqrt(df['B']).astype(int)\n",
    "    return df\n",
    "\n",
    "# Вернем все назад.\n",
    "unsquared(dfq)"
   ]
  },
  {
   "cell_type": "code",
   "execution_count": 29,
   "metadata": {},
   "outputs": [
    {
     "data": {
      "text/html": [
       "<div>\n",
       "<style scoped>\n",
       "    .dataframe tbody tr th:only-of-type {\n",
       "        vertical-align: middle;\n",
       "    }\n",
       "\n",
       "    .dataframe tbody tr th {\n",
       "        vertical-align: top;\n",
       "    }\n",
       "\n",
       "    .dataframe thead th {\n",
       "        text-align: right;\n",
       "    }\n",
       "</style>\n",
       "<table border=\"1\" class=\"dataframe\">\n",
       "  <thead>\n",
       "    <tr style=\"text-align: right;\">\n",
       "      <th></th>\n",
       "      <th>A</th>\n",
       "      <th>B</th>\n",
       "    </tr>\n",
       "  </thead>\n",
       "  <tbody>\n",
       "    <tr>\n",
       "      <td>0</td>\n",
       "      <td>1</td>\n",
       "      <td>3</td>\n",
       "    </tr>\n",
       "    <tr>\n",
       "      <td>1</td>\n",
       "      <td>2</td>\n",
       "      <td>3</td>\n",
       "    </tr>\n",
       "    <tr>\n",
       "      <td>2</td>\n",
       "      <td>4</td>\n",
       "      <td>5</td>\n",
       "    </tr>\n",
       "  </tbody>\n",
       "</table>\n",
       "</div>"
      ],
      "text/plain": [
       "   A  B\n",
       "0  1  3\n",
       "1  2  3\n",
       "2  4  5"
      ]
     },
     "execution_count": 29,
     "metadata": {},
     "output_type": "execute_result"
    }
   ],
   "source": [
    "# КОД РЕВЬЮЕРА\n",
    "\n",
    "# Таблица вернулась, потому функция ее вернула измененную.\n",
    "dfq"
   ]
  },
  {
   "cell_type": "code",
   "execution_count": 30,
   "metadata": {},
   "outputs": [
    {
     "data": {
      "text/html": [
       "<div>\n",
       "<style scoped>\n",
       "    .dataframe tbody tr th:only-of-type {\n",
       "        vertical-align: middle;\n",
       "    }\n",
       "\n",
       "    .dataframe tbody tr th {\n",
       "        vertical-align: top;\n",
       "    }\n",
       "\n",
       "    .dataframe thead th {\n",
       "        text-align: right;\n",
       "    }\n",
       "</style>\n",
       "<table border=\"1\" class=\"dataframe\">\n",
       "  <thead>\n",
       "    <tr style=\"text-align: right;\">\n",
       "      <th></th>\n",
       "      <th>A</th>\n",
       "      <th>B</th>\n",
       "      <th>Sum</th>\n",
       "    </tr>\n",
       "  </thead>\n",
       "  <tbody>\n",
       "    <tr>\n",
       "      <td>0</td>\n",
       "      <td>1</td>\n",
       "      <td>3</td>\n",
       "      <td>4</td>\n",
       "    </tr>\n",
       "    <tr>\n",
       "      <td>1</td>\n",
       "      <td>2</td>\n",
       "      <td>3</td>\n",
       "      <td>5</td>\n",
       "    </tr>\n",
       "    <tr>\n",
       "      <td>2</td>\n",
       "      <td>4</td>\n",
       "      <td>5</td>\n",
       "      <td>9</td>\n",
       "    </tr>\n",
       "  </tbody>\n",
       "</table>\n",
       "</div>"
      ],
      "text/plain": [
       "   A  B  Sum\n",
       "0  1  3    4\n",
       "1  2  3    5\n",
       "2  4  5    9"
      ]
     },
     "execution_count": 30,
     "metadata": {},
     "output_type": "execute_result"
    }
   ],
   "source": [
    "# КОД РЕВЬЮЕРА\n",
    "\n",
    "def sum_(row):\n",
    "    ''' \n",
    "    Функция принимает таблицу построчно. Возвращает сумму элементов. \n",
    "    Применяется ко всей таблице через метод apply с аргументом axis=1, то есть построчно.\n",
    "    '''\n",
    "    return row['A']+row['B']\n",
    "\n",
    "dfq['Sum'] = dfq.apply(sum_, axis=1)\n",
    "dfq"
   ]
  },
  {
   "cell_type": "code",
   "execution_count": 31,
   "metadata": {},
   "outputs": [
    {
     "data": {
      "text/html": [
       "<div>\n",
       "<style scoped>\n",
       "    .dataframe tbody tr th:only-of-type {\n",
       "        vertical-align: middle;\n",
       "    }\n",
       "\n",
       "    .dataframe tbody tr th {\n",
       "        vertical-align: top;\n",
       "    }\n",
       "\n",
       "    .dataframe thead th {\n",
       "        text-align: right;\n",
       "    }\n",
       "</style>\n",
       "<table border=\"1\" class=\"dataframe\">\n",
       "  <thead>\n",
       "    <tr style=\"text-align: right;\">\n",
       "      <th></th>\n",
       "      <th>A</th>\n",
       "      <th>B</th>\n",
       "      <th>Sum</th>\n",
       "      <th>Sum2</th>\n",
       "    </tr>\n",
       "  </thead>\n",
       "  <tbody>\n",
       "    <tr>\n",
       "      <td>0</td>\n",
       "      <td>1</td>\n",
       "      <td>3</td>\n",
       "      <td>4</td>\n",
       "      <td>4</td>\n",
       "    </tr>\n",
       "    <tr>\n",
       "      <td>1</td>\n",
       "      <td>2</td>\n",
       "      <td>3</td>\n",
       "      <td>5</td>\n",
       "      <td>5</td>\n",
       "    </tr>\n",
       "    <tr>\n",
       "      <td>2</td>\n",
       "      <td>4</td>\n",
       "      <td>5</td>\n",
       "      <td>9</td>\n",
       "      <td>9</td>\n",
       "    </tr>\n",
       "  </tbody>\n",
       "</table>\n",
       "</div>"
      ],
      "text/plain": [
       "   A  B  Sum  Sum2\n",
       "0  1  3    4     4\n",
       "1  2  3    5     5\n",
       "2  4  5    9     9"
      ]
     },
     "execution_count": 31,
     "metadata": {},
     "output_type": "execute_result"
    }
   ],
   "source": [
    "# КОД РЕВЬЮЕРА\n",
    "\n",
    "dfq['Sum2'] = dfq.apply(lambda row: row['A'] + row['B'], axis=1)\n",
    "dfq"
   ]
  },
  {
   "cell_type": "code",
   "execution_count": 32,
   "metadata": {},
   "outputs": [
    {
     "data": {
      "text/html": [
       "<div>\n",
       "<style scoped>\n",
       "    .dataframe tbody tr th:only-of-type {\n",
       "        vertical-align: middle;\n",
       "    }\n",
       "\n",
       "    .dataframe tbody tr th {\n",
       "        vertical-align: top;\n",
       "    }\n",
       "\n",
       "    .dataframe thead th {\n",
       "        text-align: right;\n",
       "    }\n",
       "</style>\n",
       "<table border=\"1\" class=\"dataframe\">\n",
       "  <thead>\n",
       "    <tr style=\"text-align: right;\">\n",
       "      <th></th>\n",
       "      <th>A</th>\n",
       "      <th>B</th>\n",
       "      <th>Sum</th>\n",
       "      <th>Sum2</th>\n",
       "      <th>Total_sum</th>\n",
       "    </tr>\n",
       "  </thead>\n",
       "  <tbody>\n",
       "    <tr>\n",
       "      <td>0</td>\n",
       "      <td>1</td>\n",
       "      <td>3</td>\n",
       "      <td>4</td>\n",
       "      <td>4</td>\n",
       "      <td>12</td>\n",
       "    </tr>\n",
       "    <tr>\n",
       "      <td>1</td>\n",
       "      <td>2</td>\n",
       "      <td>3</td>\n",
       "      <td>5</td>\n",
       "      <td>5</td>\n",
       "      <td>15</td>\n",
       "    </tr>\n",
       "    <tr>\n",
       "      <td>2</td>\n",
       "      <td>4</td>\n",
       "      <td>5</td>\n",
       "      <td>9</td>\n",
       "      <td>9</td>\n",
       "      <td>27</td>\n",
       "    </tr>\n",
       "  </tbody>\n",
       "</table>\n",
       "</div>"
      ],
      "text/plain": [
       "   A  B  Sum  Sum2  Total_sum\n",
       "0  1  3    4     4         12\n",
       "1  2  3    5     5         15\n",
       "2  4  5    9     9         27"
      ]
     },
     "execution_count": 32,
     "metadata": {},
     "output_type": "execute_result"
    }
   ],
   "source": [
    "# КОД РЕВЬЮЕРА\n",
    "\n",
    "# Сумма по всей строке может быть взята проще:\n",
    "dfq['Total_sum'] = dfq.apply(lambda row: row.sum(), axis=1)\n",
    "dfq"
   ]
  },
  {
   "cell_type": "code",
   "execution_count": 36,
   "metadata": {},
   "outputs": [
    {
     "data": {
      "text/html": [
       "<div>\n",
       "<style scoped>\n",
       "    .dataframe tbody tr th:only-of-type {\n",
       "        vertical-align: middle;\n",
       "    }\n",
       "\n",
       "    .dataframe tbody tr th {\n",
       "        vertical-align: top;\n",
       "    }\n",
       "\n",
       "    .dataframe thead th {\n",
       "        text-align: right;\n",
       "    }\n",
       "</style>\n",
       "<table border=\"1\" class=\"dataframe\">\n",
       "  <thead>\n",
       "    <tr style=\"text-align: right;\">\n",
       "      <th></th>\n",
       "      <th>A</th>\n",
       "      <th>B</th>\n",
       "      <th>Sum</th>\n",
       "      <th>Sum2</th>\n",
       "      <th>Total_sum</th>\n",
       "      <th>Total_sum2</th>\n",
       "    </tr>\n",
       "  </thead>\n",
       "  <tbody>\n",
       "    <tr>\n",
       "      <td>0</td>\n",
       "      <td>1</td>\n",
       "      <td>3</td>\n",
       "      <td>4</td>\n",
       "      <td>4</td>\n",
       "      <td>12</td>\n",
       "      <td>24</td>\n",
       "    </tr>\n",
       "    <tr>\n",
       "      <td>1</td>\n",
       "      <td>2</td>\n",
       "      <td>3</td>\n",
       "      <td>5</td>\n",
       "      <td>5</td>\n",
       "      <td>15</td>\n",
       "      <td>30</td>\n",
       "    </tr>\n",
       "    <tr>\n",
       "      <td>2</td>\n",
       "      <td>4</td>\n",
       "      <td>5</td>\n",
       "      <td>9</td>\n",
       "      <td>9</td>\n",
       "      <td>27</td>\n",
       "      <td>54</td>\n",
       "    </tr>\n",
       "  </tbody>\n",
       "</table>\n",
       "</div>"
      ],
      "text/plain": [
       "   A  B  Sum  Sum2  Total_sum  Total_sum2\n",
       "0  1  3    4     4         12          24\n",
       "1  2  3    5     5         15          30\n",
       "2  4  5    9     9         27          54"
      ]
     },
     "execution_count": 36,
     "metadata": {},
     "output_type": "execute_result"
    }
   ],
   "source": [
    "# КОД РЕВЬЮЕРА\n",
    "\n",
    "import numpy as np\n",
    "\n",
    "# Еще проще, но уже без лямбды. Сумма всей строки:\n",
    "dfq['Total_sum2'] = dfq.apply(np.sum, axis=1)\n",
    "dfq"
   ]
  },
  {
   "cell_type": "code",
   "execution_count": 37,
   "metadata": {},
   "outputs": [
    {
     "data": {
      "text/html": [
       "<div>\n",
       "<style scoped>\n",
       "    .dataframe tbody tr th:only-of-type {\n",
       "        vertical-align: middle;\n",
       "    }\n",
       "\n",
       "    .dataframe tbody tr th {\n",
       "        vertical-align: top;\n",
       "    }\n",
       "\n",
       "    .dataframe thead th {\n",
       "        text-align: right;\n",
       "    }\n",
       "</style>\n",
       "<table border=\"1\" class=\"dataframe\">\n",
       "  <thead>\n",
       "    <tr style=\"text-align: right;\">\n",
       "      <th></th>\n",
       "      <th>A</th>\n",
       "      <th>B</th>\n",
       "      <th>Sum</th>\n",
       "      <th>Sum2</th>\n",
       "      <th>Total_sum</th>\n",
       "      <th>Total_sum2</th>\n",
       "    </tr>\n",
       "  </thead>\n",
       "  <tbody>\n",
       "    <tr>\n",
       "      <td>0</td>\n",
       "      <td>1</td>\n",
       "      <td>3</td>\n",
       "      <td>4</td>\n",
       "      <td>4</td>\n",
       "      <td>12</td>\n",
       "      <td>24</td>\n",
       "    </tr>\n",
       "    <tr>\n",
       "      <td>1</td>\n",
       "      <td>2</td>\n",
       "      <td>3</td>\n",
       "      <td>5</td>\n",
       "      <td>5</td>\n",
       "      <td>15</td>\n",
       "      <td>30</td>\n",
       "    </tr>\n",
       "    <tr>\n",
       "      <td>2</td>\n",
       "      <td>4</td>\n",
       "      <td>5</td>\n",
       "      <td>9</td>\n",
       "      <td>9</td>\n",
       "      <td>27</td>\n",
       "      <td>54</td>\n",
       "    </tr>\n",
       "    <tr>\n",
       "      <td>3</td>\n",
       "      <td>7</td>\n",
       "      <td>11</td>\n",
       "      <td>18</td>\n",
       "      <td>18</td>\n",
       "      <td>54</td>\n",
       "      <td>108</td>\n",
       "    </tr>\n",
       "  </tbody>\n",
       "</table>\n",
       "</div>"
      ],
      "text/plain": [
       "   A   B  Sum  Sum2  Total_sum  Total_sum2\n",
       "0  1   3    4     4         12          24\n",
       "1  2   3    5     5         15          30\n",
       "2  4   5    9     9         27          54\n",
       "3  7  11   18    18         54         108"
      ]
     },
     "execution_count": 37,
     "metadata": {},
     "output_type": "execute_result"
    }
   ],
   "source": [
    "# КОД РЕВЬЮЕРА\n",
    "\n",
    "# Сумма столбца. Добавим строку.\n",
    "dfq.loc[3] = dfq.apply(np.sum, axis=0)\n",
    "dfq"
   ]
  },
  {
   "cell_type": "code",
   "execution_count": 38,
   "metadata": {},
   "outputs": [
    {
     "data": {
      "text/plain": [
       "' \\n    Берет квадратный корень. \\n    \\n    Принимает: таблицу.\\n    Возвращает: таблицу, из элементов которой взят квадратный корень.\\n    '"
      ]
     },
     "execution_count": 38,
     "metadata": {},
     "output_type": "execute_result"
    }
   ],
   "source": [
    "# КОД РЕВЬЮЕРА\n",
    "\n",
    "unsquared.__doc__"
   ]
  },
  {
   "cell_type": "code",
   "execution_count": 45,
   "metadata": {},
   "outputs": [
    {
     "data": {
      "text/html": [
       "<div>\n",
       "<style scoped>\n",
       "    .dataframe tbody tr th:only-of-type {\n",
       "        vertical-align: middle;\n",
       "    }\n",
       "\n",
       "    .dataframe tbody tr th {\n",
       "        vertical-align: top;\n",
       "    }\n",
       "\n",
       "    .dataframe thead th {\n",
       "        text-align: right;\n",
       "    }\n",
       "</style>\n",
       "<table border=\"1\" class=\"dataframe\">\n",
       "  <thead>\n",
       "    <tr style=\"text-align: right;\">\n",
       "      <th></th>\n",
       "      <th>education</th>\n",
       "      <th>высшее</th>\n",
       "      <th>начальное</th>\n",
       "      <th>неоконченное высшее</th>\n",
       "      <th>среднее</th>\n",
       "      <th>ученая степень</th>\n",
       "    </tr>\n",
       "    <tr>\n",
       "      <th>type_activity</th>\n",
       "      <th>gender</th>\n",
       "      <th></th>\n",
       "      <th></th>\n",
       "      <th></th>\n",
       "      <th></th>\n",
       "      <th></th>\n",
       "    </tr>\n",
       "  </thead>\n",
       "  <tbody>\n",
       "    <tr>\n",
       "      <td rowspan=\"2\" valign=\"top\">безработный</td>\n",
       "      <td>F</td>\n",
       "      <td>202722.511368</td>\n",
       "      <td>NaN</td>\n",
       "      <td>NaN</td>\n",
       "      <td>NaN</td>\n",
       "      <td>NaN</td>\n",
       "    </tr>\n",
       "    <tr>\n",
       "      <td>M</td>\n",
       "      <td>NaN</td>\n",
       "      <td>NaN</td>\n",
       "      <td>NaN</td>\n",
       "      <td>59956.991984</td>\n",
       "      <td>NaN</td>\n",
       "    </tr>\n",
       "    <tr>\n",
       "      <td>в декрете</td>\n",
       "      <td>F</td>\n",
       "      <td>NaN</td>\n",
       "      <td>NaN</td>\n",
       "      <td>NaN</td>\n",
       "      <td>53829.130729</td>\n",
       "      <td>NaN</td>\n",
       "    </tr>\n",
       "    <tr>\n",
       "      <td rowspan=\"2\" valign=\"top\">госслужащий</td>\n",
       "      <td>F</td>\n",
       "      <td>150447.935283</td>\n",
       "      <td>128107.169292</td>\n",
       "      <td>150447.935283</td>\n",
       "      <td>135073.137857</td>\n",
       "      <td>111392.231107</td>\n",
       "    </tr>\n",
       "    <tr>\n",
       "      <td>M</td>\n",
       "      <td>204717.884325</td>\n",
       "      <td>190966.659534</td>\n",
       "      <td>166424.838494</td>\n",
       "      <td>160213.467715</td>\n",
       "      <td>NaN</td>\n",
       "    </tr>\n",
       "    <tr>\n",
       "      <td rowspan=\"2\" valign=\"top\">компаньон</td>\n",
       "      <td>F</td>\n",
       "      <td>174369.537430</td>\n",
       "      <td>152336.943284</td>\n",
       "      <td>172357.950966</td>\n",
       "      <td>155725.928731</td>\n",
       "      <td>NaN</td>\n",
       "    </tr>\n",
       "    <tr>\n",
       "      <td>M</td>\n",
       "      <td>217768.009290</td>\n",
       "      <td>150100.960964</td>\n",
       "      <td>180007.903074</td>\n",
       "      <td>172357.950966</td>\n",
       "      <td>NaN</td>\n",
       "    </tr>\n",
       "    <tr>\n",
       "      <td rowspan=\"2\" valign=\"top\">пенсионер</td>\n",
       "      <td>F</td>\n",
       "      <td>132086.122711</td>\n",
       "      <td>102598.653164</td>\n",
       "      <td>118514.486412</td>\n",
       "      <td>118514.486412</td>\n",
       "      <td>255425.196556</td>\n",
       "    </tr>\n",
       "    <tr>\n",
       "      <td>M</td>\n",
       "      <td>150246.754511</td>\n",
       "      <td>114068.787524</td>\n",
       "      <td>124667.471301</td>\n",
       "      <td>118514.486412</td>\n",
       "      <td>98752.495442</td>\n",
       "    </tr>\n",
       "    <tr>\n",
       "      <td rowspan=\"2\" valign=\"top\">предприниматель</td>\n",
       "      <td>F</td>\n",
       "      <td>499163.144947</td>\n",
       "      <td>NaN</td>\n",
       "      <td>NaN</td>\n",
       "      <td>NaN</td>\n",
       "      <td>NaN</td>\n",
       "    </tr>\n",
       "    <tr>\n",
       "      <td>M</td>\n",
       "      <td>499163.144947</td>\n",
       "      <td>NaN</td>\n",
       "      <td>NaN</td>\n",
       "      <td>NaN</td>\n",
       "      <td>NaN</td>\n",
       "    </tr>\n",
       "    <tr>\n",
       "      <td rowspan=\"2\" valign=\"top\">сотрудник</td>\n",
       "      <td>F</td>\n",
       "      <td>144146.551473</td>\n",
       "      <td>124397.467932</td>\n",
       "      <td>142594.396847</td>\n",
       "      <td>132635.207938</td>\n",
       "      <td>NaN</td>\n",
       "    </tr>\n",
       "    <tr>\n",
       "      <td>M</td>\n",
       "      <td>179564.658485</td>\n",
       "      <td>142594.396847</td>\n",
       "      <td>175068.921286</td>\n",
       "      <td>147530.985003</td>\n",
       "      <td>198570.757322</td>\n",
       "    </tr>\n",
       "    <tr>\n",
       "      <td>студент</td>\n",
       "      <td>M</td>\n",
       "      <td>98201.625314</td>\n",
       "      <td>NaN</td>\n",
       "      <td>NaN</td>\n",
       "      <td>NaN</td>\n",
       "      <td>NaN</td>\n",
       "    </tr>\n",
       "  </tbody>\n",
       "</table>\n",
       "</div>"
      ],
      "text/plain": [
       "education                      высшее      начальное  неоконченное высшее  \\\n",
       "type_activity   gender                                                      \n",
       "безработный     F       202722.511368            NaN                  NaN   \n",
       "                M                 NaN            NaN                  NaN   \n",
       "в декрете       F                 NaN            NaN                  NaN   \n",
       "госслужащий     F       150447.935283  128107.169292        150447.935283   \n",
       "                M       204717.884325  190966.659534        166424.838494   \n",
       "компаньон       F       174369.537430  152336.943284        172357.950966   \n",
       "                M       217768.009290  150100.960964        180007.903074   \n",
       "пенсионер       F       132086.122711  102598.653164        118514.486412   \n",
       "                M       150246.754511  114068.787524        124667.471301   \n",
       "предприниматель F       499163.144947            NaN                  NaN   \n",
       "                M       499163.144947            NaN                  NaN   \n",
       "сотрудник       F       144146.551473  124397.467932        142594.396847   \n",
       "                M       179564.658485  142594.396847        175068.921286   \n",
       "студент         M        98201.625314            NaN                  NaN   \n",
       "\n",
       "education                     среднее  ученая степень  \n",
       "type_activity   gender                                 \n",
       "безработный     F                 NaN             NaN  \n",
       "                M        59956.991984             NaN  \n",
       "в декрете       F        53829.130729             NaN  \n",
       "госслужащий     F       135073.137857   111392.231107  \n",
       "                M       160213.467715             NaN  \n",
       "компаньон       F       155725.928731             NaN  \n",
       "                M       172357.950966             NaN  \n",
       "пенсионер       F       118514.486412   255425.196556  \n",
       "                M       118514.486412    98752.495442  \n",
       "предприниматель F                 NaN             NaN  \n",
       "                M                 NaN             NaN  \n",
       "сотрудник       F       132635.207938             NaN  \n",
       "                M       147530.985003   198570.757322  \n",
       "студент         M                 NaN             NaN  "
      ]
     },
     "execution_count": 45,
     "metadata": {},
     "output_type": "execute_result"
    }
   ],
   "source": [
    "# КОД РЕВЬЮЕРА\n",
    "\n",
    "df = data.copy()\n",
    "df.education = df.education.str.lower()\n",
    "\n",
    "df.pivot_table(index=['type_activity', 'gender'], columns='education', values='monthly_income', aggfunc='median')"
   ]
  },
  {
   "cell_type": "code",
   "execution_count": 46,
   "metadata": {},
   "outputs": [
    {
     "data": {
      "text/plain": [
       "98201.62531401133"
      ]
     },
     "execution_count": 46,
     "metadata": {},
     "output_type": "execute_result"
    }
   ],
   "source": [
    "# КОД РЕВЬЮЕРА\n",
    "\n",
    "qq = df.pivot_table(index=['type_activity', 'gender'], columns='education', values='monthly_income', aggfunc='median')\n",
    "qq.loc[('студент', 'M')]['высшее']"
   ]
  },
  {
   "cell_type": "code",
   "execution_count": 47,
   "metadata": {},
   "outputs": [
    {
     "name": "stdout",
     "output_type": "stream",
     "text": [
      "98201.62531401133\n"
     ]
    }
   ],
   "source": [
    "# КОД РЕВЬЮЕРА\n",
    "\n",
    "def super_fillna_func(income_type, gender, education):\n",
    "    '''\n",
    "    Находит в таблице qq нужную медиану.\n",
    "    '''\n",
    "    try:\n",
    "        return qq.loc[(income_type, gender)][education]\n",
    "    except:\n",
    "        return 0\n",
    "    \n",
    "print(super_fillna_func('студент', 'M','высшее') ) "
   ]
  },
  {
   "cell_type": "code",
   "execution_count": 48,
   "metadata": {},
   "outputs": [
    {
     "name": "stdout",
     "output_type": "stream",
     "text": [
      "0\n"
     ]
    }
   ],
   "source": [
    "# КОД РЕВЬЮЕРА\n",
    "\n",
    "print(super_fillna_func('ревьюер', 'F','высшее') )"
   ]
  },
  {
   "cell_type": "code",
   "execution_count": 49,
   "metadata": {},
   "outputs": [
    {
     "data": {
      "text/plain": [
       "0        144146.551473\n",
       "1        132635.207938\n",
       "2        147530.985003\n",
       "3        147530.985003\n",
       "4        118514.486412\n",
       "             ...      \n",
       "21520    155725.928731\n",
       "21521    118514.486412\n",
       "21522    147530.985003\n",
       "21523    147530.985003\n",
       "21524    132635.207938\n",
       "Length: 21525, dtype: float64"
      ]
     },
     "execution_count": 49,
     "metadata": {},
     "output_type": "execute_result"
    }
   ],
   "source": [
    "# КОД РЕВЬЮЕРА\n",
    "\n",
    "# Так сработает apply.\n",
    "df.apply(lambda row: super_fillna_func(row['type_activity'], row['gender'], row['education']), axis=1)"
   ]
  },
  {
   "cell_type": "code",
   "execution_count": null,
   "metadata": {},
   "outputs": [],
   "source": [
    "# КОД РЕВЬЮЕРА (Не запускаю)\n",
    "\n",
    "# Вот так применяем к таблице.\n",
    "\n",
    "# Запишем в новый столбец.\n",
    "df['new_income'] = df.apply(lambda row: super_fillna_func(row['income_type'], row['gender'], row['education']), axis=1)\n",
    "\n",
    "# Пандас сам заменит пропуски значениями из нового столбца в той же строке.\n",
    "df['total_income'] = df['total_income'].fillna(df['new_income'])"
   ]
  },
  {
   "cell_type": "code",
   "execution_count": null,
   "metadata": {},
   "outputs": [],
   "source": [
    "# КОД РЕВЬЮЕРА (Не запускаю)\n",
    "\n",
    "# А вот так мы столбец создадим, но сохранять не будем. Замену произведем в воздухе:\n",
    "df['total_income'] = df['total_income'].fillna(df.apply(lambda row: super_fillna_func(row['income_type'], row['gender'], row['education']), axis=1))"
   ]
  },
  {
   "cell_type": "code",
   "execution_count": null,
   "metadata": {},
   "outputs": [],
   "source": [
    "# КОД РЕВЬЮЕРА (Не запускаю)\n",
    "\n",
    "df['total_income'] = df.groupby(['income_type','gender', 'education'])['total_income'].apply(lambda x: x.fillna(x.median()))\n",
    "   \n",
    "# Оно же, но без лямбды:\n",
    "df['total_income'] = df['total_income'].fillna(df.groupby(['income_type','gender', 'education'])['total_income'].transform('median'))"
   ]
  },
  {
   "cell_type": "code",
   "execution_count": null,
   "metadata": {},
   "outputs": [],
   "source": []
  },
  {
   "cell_type": "code",
   "execution_count": null,
   "metadata": {},
   "outputs": [],
   "source": []
  },
  {
   "cell_type": "code",
   "execution_count": 25,
   "metadata": {},
   "outputs": [
    {
     "name": "stdout",
     "output_type": "stream",
     "text": [
      "<class 'pandas.core.frame.DataFrame'>\n",
      "RangeIndex: 21525 entries, 0 to 21524\n",
      "Data columns (total 12 columns):\n",
      " #   Column            Non-Null Count  Dtype \n",
      "---  ------            --------------  ----- \n",
      " 0   children          21525 non-null  int64 \n",
      " 1   days_employed     21525 non-null  int64 \n",
      " 2   age               21525 non-null  int64 \n",
      " 3   education         21525 non-null  object\n",
      " 4   education_id      21525 non-null  int64 \n",
      " 5   family_status     21525 non-null  object\n",
      " 6   family_status_id  21525 non-null  int64 \n",
      " 7   gender            21525 non-null  object\n",
      " 8   type_activity     21525 non-null  object\n",
      " 9   debt              21525 non-null  int64 \n",
      " 10  monthly_income    21525 non-null  int64 \n",
      " 11  purpose           21525 non-null  object\n",
      "dtypes: int64(7), object(5)\n",
      "memory usage: 2.0+ MB\n"
     ]
    }
   ],
   "source": [
    "#Привожу значения в столбцах days_employed и monthly_income к int\n",
    "data['days_employed'] = data['days_employed'].astype('int')\n",
    "data['monthly_income'] = data['monthly_income'].astype('int')\n",
    "#Проверим типы:\n",
    "data.info()"
   ]
  },
  {
   "cell_type": "markdown",
   "metadata": {},
   "source": [
    "Пропусков в таблице нет. Средний стаж по-прежнему слишком большой, требует анализа. Группирую по типу занятости и стажу."
   ]
  },
  {
   "cell_type": "code",
   "execution_count": 26,
   "metadata": {},
   "outputs": [
    {
     "data": {
      "text/plain": [
       "type_activity\n",
       "безработный        366413.000000\n",
       "в декрете            3296.000000\n",
       "госслужащий          9798.747087\n",
       "компаньон            8584.956735\n",
       "пенсионер          333075.928164\n",
       "предприниматель     33717.000000\n",
       "сотрудник            8744.716521\n",
       "студент               578.000000\n",
       "Name: days_employed, dtype: float64"
      ]
     },
     "execution_count": 26,
     "metadata": {},
     "output_type": "execute_result"
    }
   ],
   "source": [
    "data.groupby('type_activity')['days_employed'].mean()\n",
    "\n"
   ]
  },
  {
   "cell_type": "markdown",
   "metadata": {},
   "source": [
    "Неадекватно большой стаж у пенсионеров, учитывая их количество, может испортить статистические выводы. Вероятно, надо поставить в известность поставщика данных и уточнить происхождение ошибки. Учитывая задачу, нужно разобраться, влияет ли семейное положение и количество детей, доход и цель кредита клиента на факт погашения кредита в срок. Можно обойтись тем что есть. Если позже использовать этот столбец, необходимо провести категоризацию, и пенсионеры с запредельным стажем окажутся в одной группе."
   ]
  },
  {
   "cell_type": "markdown",
   "metadata": {},
   "source": [
    "Исправляем регистр букв в образовании."
   ]
  },
  {
   "cell_type": "code",
   "execution_count": 27,
   "metadata": {},
   "outputs": [
    {
     "name": "stdout",
     "output_type": "stream",
     "text": [
      "education\n",
      "Для этого столбца\n",
      "Всего наблюдений: 21525\n",
      "Уникальные значения: ['высшее' 'среднее' 'неоконченное высшее' 'начальное' 'ученая степень']\n",
      "Пропусков  0\n"
     ]
    }
   ],
   "source": [
    "data['education'] = data['education'].str.lower()\n",
    "#Проверим столбец.\n",
    "print(series_analise(data[\"education\"]))\n",
    "print(\"Пропусков \",data[\"education\"].isna().sum())"
   ]
  },
  {
   "cell_type": "markdown",
   "metadata": {},
   "source": [
    "Исправляем 0 возраст в столбце age на средний."
   ]
  },
  {
   "cell_type": "code",
   "execution_count": 28,
   "metadata": {},
   "outputs": [
    {
     "name": "stdout",
     "output_type": "stream",
     "text": [
      "Люди с возрастом 0 101\n",
      "type_activity\n",
      "безработный        38.0\n",
      "в декрете          39.0\n",
      "госслужащий        40.0\n",
      "компаньон          39.0\n",
      "пенсионер          60.0\n",
      "предприниматель    42.5\n",
      "сотрудник          39.0\n",
      "студент            22.0\n",
      "Name: age, dtype: float64\n",
      "age\n",
      "Для этого столбца Среднеее значение:43.49616724738676\n",
      "Максимальное значение: 75\n",
      "Минимальное значение: 19\n",
      "Всего наблюдений: 21525\n",
      "Уникальные значения: [42 36 33 32 53 27 43 50 35 41 40 65 54 56 26 48 24 21 57 67 28 63 62 47\n",
      " 34 68 25 31 30 20 49 37 45 61 64 44 52 46 23 38 39 51 60 59 29 55 58 71\n",
      " 22 73 66 69 19 72 70 74 75]\n",
      "<class 'pandas.core.frame.DataFrame'>\n",
      "RangeIndex: 21525 entries, 0 to 21524\n",
      "Data columns (total 12 columns):\n",
      " #   Column            Non-Null Count  Dtype \n",
      "---  ------            --------------  ----- \n",
      " 0   children          21525 non-null  int64 \n",
      " 1   days_employed     21525 non-null  int64 \n",
      " 2   age               21525 non-null  int64 \n",
      " 3   education         21525 non-null  object\n",
      " 4   education_id      21525 non-null  int64 \n",
      " 5   family_status     21525 non-null  object\n",
      " 6   family_status_id  21525 non-null  int64 \n",
      " 7   gender            21525 non-null  object\n",
      " 8   type_activity     21525 non-null  object\n",
      " 9   debt              21525 non-null  int64 \n",
      " 10  monthly_income    21525 non-null  int64 \n",
      " 11  purpose           21525 non-null  object\n",
      "dtypes: int64(7), object(5)\n",
      "memory usage: 2.0+ MB\n"
     ]
    },
    {
     "data": {
      "text/plain": [
       "children            0\n",
       "days_employed       0\n",
       "age                 0\n",
       "education           0\n",
       "education_id        0\n",
       "family_status       0\n",
       "family_status_id    0\n",
       "gender              0\n",
       "type_activity       0\n",
       "debt                0\n",
       "monthly_income      0\n",
       "purpose             0\n",
       "dtype: int64"
      ]
     },
     "execution_count": 28,
     "metadata": {},
     "output_type": "execute_result"
    }
   ],
   "source": [
    "def median_age(row):\n",
    "    return int(row.median())\n",
    "    \n",
    "print(\"Люди с возрастом 0\",data[data[\"age\"]==0][\"age\"].count())\n",
    "print(data.groupby(\"type_activity\")[\"age\"].median())\n",
    "data.loc[data[\"age\"]==0, 'age']= data.groupby('type_activity')['age'].transform(median_age)\n",
    "#Проверим столбец\n",
    "print(series_analise(data[\"age\"]))\n",
    "#Контрольная проверка данных.\n",
    "data.info()\n",
    "data.isna().sum() #Контрольная проверка данных."
   ]
  },
  {
   "cell_type": "markdown",
   "metadata": {},
   "source": [
    "С возрастом все в порядке."
   ]
  },
  {
   "cell_type": "markdown",
   "metadata": {},
   "source": [
    "**Вывод** Данные готовы для дальнейшего исследования."
   ]
  },
  {
   "cell_type": "markdown",
   "metadata": {},
   "source": [
    "### Обработка дубликатов"
   ]
  },
  {
   "cell_type": "markdown",
   "metadata": {},
   "source": [
    "Считаем дубликаты. "
   ]
  },
  {
   "cell_type": "code",
   "execution_count": 29,
   "metadata": {},
   "outputs": [
    {
     "name": "stdout",
     "output_type": "stream",
     "text": [
      "71\n"
     ]
    },
    {
     "data": {
      "text/html": [
       "<div>\n",
       "<style scoped>\n",
       "    .dataframe tbody tr th:only-of-type {\n",
       "        vertical-align: middle;\n",
       "    }\n",
       "\n",
       "    .dataframe tbody tr th {\n",
       "        vertical-align: top;\n",
       "    }\n",
       "\n",
       "    .dataframe thead th {\n",
       "        text-align: right;\n",
       "    }\n",
       "</style>\n",
       "<table border=\"1\" class=\"dataframe\">\n",
       "  <thead>\n",
       "    <tr style=\"text-align: right;\">\n",
       "      <th></th>\n",
       "      <th>children</th>\n",
       "      <th>days_employed</th>\n",
       "      <th>age</th>\n",
       "      <th>education</th>\n",
       "      <th>education_id</th>\n",
       "      <th>family_status</th>\n",
       "      <th>family_status_id</th>\n",
       "      <th>gender</th>\n",
       "      <th>type_activity</th>\n",
       "      <th>debt</th>\n",
       "      <th>monthly_income</th>\n",
       "      <th>purpose</th>\n",
       "    </tr>\n",
       "  </thead>\n",
       "  <tbody>\n",
       "    <tr>\n",
       "      <th>2849</th>\n",
       "      <td>0</td>\n",
       "      <td>66914</td>\n",
       "      <td>41</td>\n",
       "      <td>среднее</td>\n",
       "      <td>1</td>\n",
       "      <td>женат / замужем</td>\n",
       "      <td>0</td>\n",
       "      <td>F</td>\n",
       "      <td>сотрудник</td>\n",
       "      <td>0</td>\n",
       "      <td>142594</td>\n",
       "      <td>покупка жилья для семьи</td>\n",
       "    </tr>\n",
       "    <tr>\n",
       "      <th>3290</th>\n",
       "      <td>0</td>\n",
       "      <td>66914</td>\n",
       "      <td>58</td>\n",
       "      <td>среднее</td>\n",
       "      <td>1</td>\n",
       "      <td>гражданский брак</td>\n",
       "      <td>1</td>\n",
       "      <td>F</td>\n",
       "      <td>пенсионер</td>\n",
       "      <td>0</td>\n",
       "      <td>118514</td>\n",
       "      <td>сыграть свадьбу</td>\n",
       "    </tr>\n",
       "    <tr>\n",
       "      <th>4182</th>\n",
       "      <td>1</td>\n",
       "      <td>66914</td>\n",
       "      <td>34</td>\n",
       "      <td>высшее</td>\n",
       "      <td>0</td>\n",
       "      <td>гражданский брак</td>\n",
       "      <td>1</td>\n",
       "      <td>F</td>\n",
       "      <td>сотрудник</td>\n",
       "      <td>0</td>\n",
       "      <td>142594</td>\n",
       "      <td>свадьба</td>\n",
       "    </tr>\n",
       "    <tr>\n",
       "      <th>4851</th>\n",
       "      <td>0</td>\n",
       "      <td>66914</td>\n",
       "      <td>60</td>\n",
       "      <td>среднее</td>\n",
       "      <td>1</td>\n",
       "      <td>гражданский брак</td>\n",
       "      <td>1</td>\n",
       "      <td>F</td>\n",
       "      <td>пенсионер</td>\n",
       "      <td>0</td>\n",
       "      <td>118514</td>\n",
       "      <td>свадьба</td>\n",
       "    </tr>\n",
       "    <tr>\n",
       "      <th>5557</th>\n",
       "      <td>0</td>\n",
       "      <td>66914</td>\n",
       "      <td>58</td>\n",
       "      <td>среднее</td>\n",
       "      <td>1</td>\n",
       "      <td>гражданский брак</td>\n",
       "      <td>1</td>\n",
       "      <td>F</td>\n",
       "      <td>пенсионер</td>\n",
       "      <td>0</td>\n",
       "      <td>118514</td>\n",
       "      <td>сыграть свадьбу</td>\n",
       "    </tr>\n",
       "    <tr>\n",
       "      <th>...</th>\n",
       "      <td>...</td>\n",
       "      <td>...</td>\n",
       "      <td>...</td>\n",
       "      <td>...</td>\n",
       "      <td>...</td>\n",
       "      <td>...</td>\n",
       "      <td>...</td>\n",
       "      <td>...</td>\n",
       "      <td>...</td>\n",
       "      <td>...</td>\n",
       "      <td>...</td>\n",
       "      <td>...</td>\n",
       "    </tr>\n",
       "    <tr>\n",
       "      <th>20702</th>\n",
       "      <td>0</td>\n",
       "      <td>66914</td>\n",
       "      <td>64</td>\n",
       "      <td>среднее</td>\n",
       "      <td>1</td>\n",
       "      <td>женат / замужем</td>\n",
       "      <td>0</td>\n",
       "      <td>F</td>\n",
       "      <td>пенсионер</td>\n",
       "      <td>0</td>\n",
       "      <td>118514</td>\n",
       "      <td>дополнительное образование</td>\n",
       "    </tr>\n",
       "    <tr>\n",
       "      <th>21032</th>\n",
       "      <td>0</td>\n",
       "      <td>66914</td>\n",
       "      <td>60</td>\n",
       "      <td>среднее</td>\n",
       "      <td>1</td>\n",
       "      <td>женат / замужем</td>\n",
       "      <td>0</td>\n",
       "      <td>F</td>\n",
       "      <td>пенсионер</td>\n",
       "      <td>0</td>\n",
       "      <td>118514</td>\n",
       "      <td>заняться образованием</td>\n",
       "    </tr>\n",
       "    <tr>\n",
       "      <th>21132</th>\n",
       "      <td>0</td>\n",
       "      <td>66914</td>\n",
       "      <td>47</td>\n",
       "      <td>среднее</td>\n",
       "      <td>1</td>\n",
       "      <td>женат / замужем</td>\n",
       "      <td>0</td>\n",
       "      <td>F</td>\n",
       "      <td>сотрудник</td>\n",
       "      <td>0</td>\n",
       "      <td>142594</td>\n",
       "      <td>ремонт жилью</td>\n",
       "    </tr>\n",
       "    <tr>\n",
       "      <th>21281</th>\n",
       "      <td>1</td>\n",
       "      <td>66914</td>\n",
       "      <td>30</td>\n",
       "      <td>высшее</td>\n",
       "      <td>0</td>\n",
       "      <td>женат / замужем</td>\n",
       "      <td>0</td>\n",
       "      <td>F</td>\n",
       "      <td>сотрудник</td>\n",
       "      <td>0</td>\n",
       "      <td>142594</td>\n",
       "      <td>покупка коммерческой недвижимости</td>\n",
       "    </tr>\n",
       "    <tr>\n",
       "      <th>21415</th>\n",
       "      <td>0</td>\n",
       "      <td>66914</td>\n",
       "      <td>54</td>\n",
       "      <td>среднее</td>\n",
       "      <td>1</td>\n",
       "      <td>женат / замужем</td>\n",
       "      <td>0</td>\n",
       "      <td>F</td>\n",
       "      <td>пенсионер</td>\n",
       "      <td>0</td>\n",
       "      <td>118514</td>\n",
       "      <td>операции с жильем</td>\n",
       "    </tr>\n",
       "  </tbody>\n",
       "</table>\n",
       "<p>71 rows × 12 columns</p>\n",
       "</div>"
      ],
      "text/plain": [
       "       children  days_employed  age education  education_id     family_status  \\\n",
       "2849          0          66914   41   среднее             1   женат / замужем   \n",
       "3290          0          66914   58   среднее             1  гражданский брак   \n",
       "4182          1          66914   34    высшее             0  гражданский брак   \n",
       "4851          0          66914   60   среднее             1  гражданский брак   \n",
       "5557          0          66914   58   среднее             1  гражданский брак   \n",
       "...         ...            ...  ...       ...           ...               ...   \n",
       "20702         0          66914   64   среднее             1   женат / замужем   \n",
       "21032         0          66914   60   среднее             1   женат / замужем   \n",
       "21132         0          66914   47   среднее             1   женат / замужем   \n",
       "21281         1          66914   30    высшее             0   женат / замужем   \n",
       "21415         0          66914   54   среднее             1   женат / замужем   \n",
       "\n",
       "       family_status_id gender type_activity  debt  monthly_income  \\\n",
       "2849                  0      F     сотрудник     0          142594   \n",
       "3290                  1      F     пенсионер     0          118514   \n",
       "4182                  1      F     сотрудник     0          142594   \n",
       "4851                  1      F     пенсионер     0          118514   \n",
       "5557                  1      F     пенсионер     0          118514   \n",
       "...                 ...    ...           ...   ...             ...   \n",
       "20702                 0      F     пенсионер     0          118514   \n",
       "21032                 0      F     пенсионер     0          118514   \n",
       "21132                 0      F     сотрудник     0          142594   \n",
       "21281                 0      F     сотрудник     0          142594   \n",
       "21415                 0      F     пенсионер     0          118514   \n",
       "\n",
       "                                 purpose  \n",
       "2849             покупка жилья для семьи  \n",
       "3290                     сыграть свадьбу  \n",
       "4182                             свадьба  \n",
       "4851                             свадьба  \n",
       "5557                     сыграть свадьбу  \n",
       "...                                  ...  \n",
       "20702         дополнительное образование  \n",
       "21032              заняться образованием  \n",
       "21132                       ремонт жилью  \n",
       "21281  покупка коммерческой недвижимости  \n",
       "21415                  операции с жильем  \n",
       "\n",
       "[71 rows x 12 columns]"
      ]
     },
     "execution_count": 29,
     "metadata": {},
     "output_type": "execute_result"
    }
   ],
   "source": [
    "print(data.duplicated().sum())\n",
    "data[data.duplicated()]\n"
   ]
  },
  {
   "cell_type": "markdown",
   "metadata": {},
   "source": [
    "При осмотре дубликатов складывается ощущение, что дубликаты - это повторное заведение одних и тех же лиц, можно удалять."
   ]
  },
  {
   "cell_type": "code",
   "execution_count": 30,
   "metadata": {},
   "outputs": [
    {
     "name": "stdout",
     "output_type": "stream",
     "text": [
      "<class 'pandas.core.frame.DataFrame'>\n",
      "RangeIndex: 21454 entries, 0 to 21453\n",
      "Data columns (total 12 columns):\n",
      " #   Column            Non-Null Count  Dtype \n",
      "---  ------            --------------  ----- \n",
      " 0   children          21454 non-null  int64 \n",
      " 1   days_employed     21454 non-null  int64 \n",
      " 2   age               21454 non-null  int64 \n",
      " 3   education         21454 non-null  object\n",
      " 4   education_id      21454 non-null  int64 \n",
      " 5   family_status     21454 non-null  object\n",
      " 6   family_status_id  21454 non-null  int64 \n",
      " 7   gender            21454 non-null  object\n",
      " 8   type_activity     21454 non-null  object\n",
      " 9   debt              21454 non-null  int64 \n",
      " 10  monthly_income    21454 non-null  int64 \n",
      " 11  purpose           21454 non-null  object\n",
      "dtypes: int64(7), object(5)\n",
      "memory usage: 2.0+ MB\n",
      "None\n"
     ]
    }
   ],
   "source": [
    "data = data.drop_duplicates().reset_index(drop= True)\n",
    "#Проверим на дубликаты:\n",
    "data.duplicated().sum()\n",
    "print(data.info())"
   ]
  },
  {
   "cell_type": "markdown",
   "metadata": {},
   "source": [
    "**Вывод** Дубликаты удалены методом drop_duplicates() так как не представляю ценности, индексы сброшены."
   ]
  },
  {
   "cell_type": "markdown",
   "metadata": {},
   "source": [
    "### Лемматизация"
   ]
  },
  {
   "cell_type": "markdown",
   "metadata": {},
   "source": [
    "В столбце purpose(цели кредита) , присутствуют множество описаний различных целей кредита. Можно выделить основные цели, используя лемматизацию."
   ]
  },
  {
   "cell_type": "code",
   "execution_count": 31,
   "metadata": {},
   "outputs": [
    {
     "name": "stdout",
     "output_type": "stream",
     "text": [
      "Counter({' ': 33570, '\\n': 21454, 'недвижимость': 6351, 'покупка': 5897, 'жилье': 4460, 'автомобиль': 4306, 'образование': 4013, 'с': 2918, 'операция': 2604, 'свадьба': 2324, 'свой': 2230, 'на': 2222, 'строительство': 1878, 'высокий': 1374, 'получение': 1314, 'коммерческий': 1311, 'для': 1289, 'жилой': 1230, 'сделка': 941, 'дополнительный': 906, 'заниматься': 904, 'проведение': 768, 'сыграть': 765, 'сдача': 651, 'семья': 638, 'собственный': 635, 'со': 627, 'ремонт': 607, 'подержанный': 486, 'подержать': 478, 'приобретение': 461, 'профильный': 436})\n"
     ]
    }
   ],
   "source": [
    "list_of_lemmas = []\n",
    "for element in data['purpose']:\n",
    "    lemma = m.lemmatize(element)\n",
    "    list_of_lemmas.extend(lemma)\n",
    "print(Counter(list_of_lemmas))#Получил список основных лем с количеством.\n",
    "    \n"
   ]
  },
  {
   "cell_type": "markdown",
   "metadata": {},
   "source": [
    "Важными считаю ['недвижимость', 'жилье','операция','строительство','жилой', 'автомобиль', 'образование', 'свадьба'] Учитывая количество, \n",
    "другие значения будут называться (потребительские кредиты)\n",
    "другое, при этом недвижимость, жилье и операция, жилой, строительство будут в одной категории недвижимость.\n",
    "'недвижимость','жилье','операция''строительство','жилой'-1\n",
    "'автомобиль'-2\n",
    "'образование'-3\n",
    "'свадьба'-4\n",
    "'Другое'-5\n",
    "Необходима функция для замены текстовых значений категориями."
   ]
  },
  {
   "cell_type": "code",
   "execution_count": 32,
   "metadata": {},
   "outputs": [
    {
     "name": "stdout",
     "output_type": "stream",
     "text": [
      "purpose\n",
      "образование     0.071588\n",
      "недвижимость    0.075855\n",
      "свадьба         0.080910\n",
      "Другое          0.083216\n",
      "автомобиль      0.088477\n",
      "Name: debt, dtype: float64\n",
      "['Другое' 'недвижимость' 'образование' 'автомобиль' 'свадьба']\n"
     ]
    }
   ],
   "source": [
    "def groupen_lemmas(purpose):\n",
    "    purposes = ['недвижимость', 'жилье','операция','строительство','жилой', 'автомобиль', 'образование', 'свадьба']\n",
    "    lemmas = m.lemmatize(purpose)\n",
    "    for lemma in lemmas:\n",
    "        if lemma in purposes:\n",
    "            if lemma=='недвижимость' or lemma=='жилье' or lemma=='операция' or lemma=='строительство' or  lemma== 'жилой':\n",
    "                return 'недвижимость'\n",
    "            return lemma\n",
    "        else:\n",
    "            return \"Другое\"\n",
    "\n",
    "data['purpose'] = data['purpose'].apply(groupen_lemmas)\n",
    "data.head(15)\n",
    "print(data.groupby('purpose')['debt'].mean().sort_values())\n",
    "print(data['purpose'].unique())"
   ]
  },
  {
   "cell_type": "markdown",
   "metadata": {},
   "source": [
    "**Вывод** Теперь в столбце цель кредита присутствует 5 категориий потребления кредита. Удобные для расчета."
   ]
  },
  {
   "cell_type": "markdown",
   "metadata": {},
   "source": [
    "### Категоризация данных"
   ]
  },
  {
   "cell_type": "markdown",
   "metadata": {},
   "source": [
    "Категоризировать количество детей и доход."
   ]
  },
  {
   "cell_type": "code",
   "execution_count": 33,
   "metadata": {},
   "outputs": [
    {
     "data": {
      "text/plain": [
       "0    14091\n",
       "1     4855\n",
       "2     2128\n",
       "3      330\n",
       "4       41\n",
       "5        9\n",
       "Name: children, dtype: int64"
      ]
     },
     "execution_count": 33,
     "metadata": {},
     "output_type": "execute_result"
    }
   ],
   "source": [
    "data['children'].value_counts()#Выбираю способ категоризации."
   ]
  },
  {
   "cell_type": "markdown",
   "metadata": {},
   "source": [
    "Разделим на 3 категории: есть дети, нет детей , многодетные.\n",
    "нет детей: 0\n",
    "есть дети: от 1 до 2х.\n",
    "многодетные: Больше 2х."
   ]
  },
  {
   "cell_type": "code",
   "execution_count": 34,
   "metadata": {},
   "outputs": [
    {
     "data": {
      "text/plain": [
       "нет детей      14091\n",
       "есть дети       6983\n",
       "многодетные      380\n",
       "Name: children, dtype: int64"
      ]
     },
     "execution_count": 34,
     "metadata": {},
     "output_type": "execute_result"
    }
   ],
   "source": [
    "#Функция для категоризации колличества детей:\n",
    "def children_category(children):\n",
    "    if children==0:\n",
    "        return\"нет детей\"\n",
    "    elif children>=1 and children<=2:\n",
    "        return \"есть дети\"\n",
    "    else:\n",
    "        return \"многодетные\"\n",
    "\n",
    "#Применим кфункцию к столбцу с детьми:\n",
    "data['children'] = data['children'].apply(children_category)\n",
    "data['children'].value_counts()"
   ]
  },
  {
   "cell_type": "markdown",
   "metadata": {},
   "source": [
    "Категоризируем доход. Найдем максимальный и минимальный доход."
   ]
  },
  {
   "cell_type": "code",
   "execution_count": 35,
   "metadata": {},
   "outputs": [
    {
     "name": "stdout",
     "output_type": "stream",
     "text": [
      "monthly_income\n",
      "Для этого столбца Среднеее значение:165319.57229421087\n",
      "Максимальное значение: 2265604\n",
      "Минимальное значение: 20667\n",
      "Всего наблюдений: 21454\n",
      "Уникальные значения: [253875 112080 145885 ...  89672 244093  82047]\n"
     ]
    }
   ],
   "source": [
    "print(series_analise(data[\"monthly_income\"]))"
   ]
  },
  {
   "cell_type": "markdown",
   "metadata": {},
   "source": [
    "В РФ 70% средний класс :). Значит, распределение по доходам будет следуюшим.\n",
    "Создадим функцию для категоризации по уровню дохода."
   ]
  },
  {
   "cell_type": "code",
   "execution_count": 36,
   "metadata": {},
   "outputs": [
    {
     "data": {
      "text/plain": [
       "средний класс    6712\n",
       "Выше бедности    5963\n",
       "бедный           5657\n",
       "состоятельные    2397\n",
       "обеспеченные:     722\n",
       "Name: monthly_income, dtype: int64"
      ]
     },
     "execution_count": 36,
     "metadata": {},
     "output_type": "execute_result"
    }
   ],
   "source": [
    "#Функция для категоризации дохода:\n",
    "def income_category(income):\n",
    "    if income>=21453 and income<=110141:\n",
    "        return\"бедный\"\n",
    "    elif income>=110142 and income<=150000:\n",
    "        return \"Выше бедности\"\n",
    "    elif income>=150001 and income<=240456:\n",
    "        return \"средний класс\"\n",
    "    elif income>=240457 and income<=370000:\n",
    "        return \"состоятельные\"\n",
    "    elif income>=370001 and income<=2265604:\n",
    "        return \"обеспеченные:\"\n",
    "#Применим функцию к столбцу с уровнем дохода:\n",
    "data['monthly_income'] = data['monthly_income'].apply(income_category)\n",
    "data['monthly_income'].value_counts()"
   ]
  },
  {
   "cell_type": "markdown",
   "metadata": {},
   "source": [
    "**Вывод**"
   ]
  },
  {
   "cell_type": "markdown",
   "metadata": {},
   "source": [
    "## Шаг 3. Ответьте на вопросы"
   ]
  },
  {
   "cell_type": "markdown",
   "metadata": {},
   "source": [
    "- Есть ли зависимость между наличием детей и возвратом кредита в срок?"
   ]
  },
  {
   "cell_type": "code",
   "execution_count": 37,
   "metadata": {},
   "outputs": [
    {
     "data": {
      "text/plain": [
       "[Text(0.5, 0, 'доля просроченных кредитов'), Text(0, 0.5, 'наличие детей')]"
      ]
     },
     "execution_count": 37,
     "metadata": {},
     "output_type": "execute_result"
    },
    {
     "data": {
      "image/png": "[encoded data removed]",
      "text/plain": [
       "<Figure size 432x288 with 1 Axes>"
      ]
     },
     "metadata": {
      "needs_background": "light"
     },
     "output_type": "display_data"
    }
   ],
   "source": [
    "#Для оценки зависимости сгруппируем данные.\n",
    "children_set=data.groupby('children')['debt'].mean().sort_values()\n",
    "sns.barplot(x=children_set.values,y=children_set.index).set(xlabel='доля просроченных кредитов', ylabel='наличие детей') #Рисуем график для наглядности."
   ]
  },
  {
   "cell_type": "markdown",
   "metadata": {},
   "source": [
    "**Вывод** Зависимость есть. Люди, у которых нет детей, не склонны к формированию задолжности по кредитам. При этом многодетные семьи чаще отдают кредиты в срок, чем просто семьи с детьми. "
   ]
  },
  {
   "cell_type": "markdown",
   "metadata": {},
   "source": [
    "- Есть ли зависимость между семейным положением и возвратом кредита в срок?"
   ]
  },
  {
   "cell_type": "code",
   "execution_count": 38,
   "metadata": {},
   "outputs": [
    {
     "data": {
      "text/plain": [
       "[Text(0.5, 0, 'доля просроченных кредитов'),\n",
       " Text(0, 0.5, 'семейное положение')]"
      ]
     },
     "execution_count": 38,
     "metadata": {},
     "output_type": "execute_result"
    },
    {
     "data": {
      "image/png": "[encoded data removed]",
      "text/plain": [
       "<Figure size 432x288 with 1 Axes>"
      ]
     },
     "metadata": {
      "needs_background": "light"
     },
     "output_type": "display_data"
    }
   ],
   "source": [
    "#Для оценки зависимости сгруппируем данные.\n",
    "family_status_set=data.groupby('family_status')['debt'].mean().sort_values()\n",
    "sns.barplot(x=family_status_set.values,y=family_status_set.index).set(xlabel='доля просроченных кредитов', ylabel='семейное положение') #Рисуем график для наглядности."
   ]
  },
  {
   "cell_type": "markdown",
   "metadata": {},
   "source": [
    "**Вывод** Зависимость есть. Люди состоящие или состоявшие в браке чаще отдают кредит без задолжности. Люди не состоящие, в законном браке склонны к формированию задолжности по кредиту."
   ]
  },
  {
   "cell_type": "markdown",
   "metadata": {},
   "source": [
    "- Есть ли зависимость между уровнем дохода и возвратом кредита в срок?"
   ]
  },
  {
   "cell_type": "code",
   "execution_count": 39,
   "metadata": {},
   "outputs": [
    {
     "data": {
      "image/png": "[encoded data removed]",
      "text/plain": [
       "<Figure size 432x288 with 1 Axes>"
      ]
     },
     "metadata": {
      "needs_background": "light"
     },
     "output_type": "display_data"
    }
   ],
   "source": [
    "#Для оценки зависимости сгруппируем данные.\n",
    "monthly_income_set=data.groupby('monthly_income')['debt'].mean().sort_values()\n",
    "sns.barplot(x=monthly_income_set.values,y=monthly_income_set.index).set(xlabel='доля просроченных кредитов', ylabel='Уровень дохода'); #Рисуем график для наглядности."
   ]
  },
  {
   "cell_type": "markdown",
   "metadata": {},
   "source": [
    "**Вывод** Зависимость есть. Обеспеченные граждане мение склонны к формированию задолжности по кредитам. При этом бедные несколько реже имеют задолжность по кредитам, чем средний класс."
   ]
  },
  {
   "cell_type": "markdown",
   "metadata": {},
   "source": [
    "- Как разные цели кредита влияют на его возврат в срок?"
   ]
  },
  {
   "cell_type": "code",
   "execution_count": 40,
   "metadata": {},
   "outputs": [
    {
     "data": {
      "text/plain": [
       "[Text(0.5, 0, 'доля просроченных кредитов'), Text(0, 0.5, 'цель кредита')]"
      ]
     },
     "execution_count": 40,
     "metadata": {},
     "output_type": "execute_result"
    },
    {
     "data": {
      "image/png": "[encoded data removed]",
      "text/plain": [
       "<Figure size 432x288 with 1 Axes>"
      ]
     },
     "metadata": {
      "needs_background": "light"
     },
     "output_type": "display_data"
    }
   ],
   "source": [
    "#Для оценки зависимости сгруппируем данные.\n",
    "purpose_set=data.groupby('purpose')['debt'].mean().sort_values()\n",
    "sns.barplot(x=purpose_set.values,y=purpose_set.index).set(xlabel='доля просроченных кредитов', ylabel='цель кредита') #Рисуем график для наглядности."
   ]
  },
  {
   "cell_type": "markdown",
   "metadata": {},
   "source": [
    "**Вывод** Зависимость есть. Люди, берущие долгосрочные кредиты на образование и недвижимость менее склонны к формированию задолженности. Вероятно, решения в этом случае принимаются более взвешенно. Чаще всего задолженность возникает при покупке в кредит автомобиля, что обьяснимо (менее надежный пассив, нежели недвижимость)."
   ]
  },
  {
   "cell_type": "markdown",
   "metadata": {},
   "source": [
    "## Шаг 4. Общий вывод"
   ]
  },
  {
   "cell_type": "markdown",
   "metadata": {},
   "source": [
    "Для банка удобен клиент без детей, с высоким доходом, состоящий или состоявший в законном браке, берущий кредит на покупку недвижимости.\n",
    "Для банка не удобен клиент с детьми, средним доходом, не состоящий в законном браке, берущий потребительский кредит или кредит на автомобиль. Необходимо разобраться с данными по стажу. Там есть значения, которые явно не отражают действительность."
   ]
  }
 ],
 "metadata": {
  "ExecuteTimeLog": [
   {
    "duration": 6270,
    "start_time": "2022-01-17T13:18:25.958Z"
   },
   {
    "duration": 16,
    "start_time": "2022-01-17T13:18:32.230Z"
   },
   {
    "duration": 3,
    "start_time": "2022-01-17T13:18:32.248Z"
   },
   {
    "duration": 25,
    "start_time": "2022-01-17T13:18:32.253Z"
   },
   {
    "duration": 3,
    "start_time": "2022-01-17T13:18:32.280Z"
   },
   {
    "duration": 8,
    "start_time": "2022-01-17T13:18:32.284Z"
   },
   {
    "duration": 5,
    "start_time": "2022-01-17T13:18:32.294Z"
   },
   {
    "duration": 5,
    "start_time": "2022-01-17T13:18:32.300Z"
   },
   {
    "duration": 332,
    "start_time": "2022-01-17T13:18:32.309Z"
   },
   {
    "duration": 5,
    "start_time": "2022-01-17T13:18:32.643Z"
   },
   {
    "duration": 647,
    "start_time": "2022-01-17T13:18:32.650Z"
   },
   {
    "duration": 5,
    "start_time": "2022-01-17T13:18:33.299Z"
   },
   {
    "duration": 66,
    "start_time": "2022-01-17T13:18:33.306Z"
   },
   {
    "duration": 283,
    "start_time": "2022-01-17T13:18:33.374Z"
   },
   {
    "duration": 5,
    "start_time": "2022-01-17T13:18:33.658Z"
   },
   {
    "duration": 4,
    "start_time": "2022-01-17T13:18:33.672Z"
   },
   {
    "duration": 1049,
    "start_time": "2022-01-17T13:18:33.678Z"
   },
   {
    "duration": 3,
    "start_time": "2022-01-17T13:18:34.729Z"
   },
   {
    "duration": 13,
    "start_time": "2022-01-17T13:18:34.733Z"
   },
   {
    "duration": 28,
    "start_time": "2022-01-17T13:18:34.747Z"
   },
   {
    "duration": 5,
    "start_time": "2022-01-17T13:18:34.776Z"
   },
   {
    "duration": 22,
    "start_time": "2022-01-17T13:18:34.783Z"
   },
   {
    "duration": 12,
    "start_time": "2022-01-17T13:18:34.807Z"
   },
   {
    "duration": 7,
    "start_time": "2022-01-17T13:18:34.821Z"
   },
   {
    "duration": 282,
    "start_time": "2022-01-17T13:18:34.830Z"
   },
   {
    "duration": 23,
    "start_time": "2022-01-17T13:18:35.114Z"
   },
   {
    "duration": 69,
    "start_time": "2022-01-17T13:18:35.140Z"
   },
   {
    "duration": 32,
    "start_time": "2022-01-17T13:18:35.211Z"
   },
   {
    "duration": 3667,
    "start_time": "2022-01-17T13:18:35.245Z"
   },
   {
    "duration": 3077,
    "start_time": "2022-01-17T13:18:38.914Z"
   },
   {
    "duration": 6,
    "start_time": "2022-01-17T13:18:41.992Z"
   },
   {
    "duration": 24,
    "start_time": "2022-01-17T13:18:42.000Z"
   },
   {
    "duration": 33,
    "start_time": "2022-01-17T13:18:42.025Z"
   },
   {
    "duration": 34,
    "start_time": "2022-01-17T13:18:42.060Z"
   },
   {
    "duration": 142,
    "start_time": "2022-01-17T13:18:42.095Z"
   },
   {
    "duration": 141,
    "start_time": "2022-01-17T13:18:42.239Z"
   },
   {
    "duration": 202,
    "start_time": "2022-01-17T13:18:42.382Z"
   },
   {
    "duration": 216,
    "start_time": "2022-01-17T13:18:42.586Z"
   },
   {
    "duration": 416,
    "start_time": "2022-01-17T13:20:40.714Z"
   },
   {
    "duration": 16,
    "start_time": "2022-01-17T13:27:20.660Z"
   },
   {
    "duration": 9205,
    "start_time": "2022-01-18T20:05:55.145Z"
   },
   {
    "duration": 27,
    "start_time": "2022-01-18T20:06:04.353Z"
   },
   {
    "duration": 15,
    "start_time": "2022-01-18T20:06:04.383Z"
   },
   {
    "duration": 33,
    "start_time": "2022-01-18T20:06:04.401Z"
   },
   {
    "duration": 5,
    "start_time": "2022-01-18T20:06:04.437Z"
   },
   {
    "duration": 7,
    "start_time": "2022-01-18T20:06:04.469Z"
   },
   {
    "duration": 11,
    "start_time": "2022-01-18T20:06:04.478Z"
   },
   {
    "duration": 7,
    "start_time": "2022-01-18T20:06:04.493Z"
   },
   {
    "duration": 633,
    "start_time": "2022-01-18T20:06:04.503Z"
   },
   {
    "duration": 6,
    "start_time": "2022-01-18T20:06:05.138Z"
   },
   {
    "duration": 1452,
    "start_time": "2022-01-18T20:06:05.146Z"
   },
   {
    "duration": 7,
    "start_time": "2022-01-18T20:06:06.600Z"
   },
   {
    "duration": 101,
    "start_time": "2022-01-18T20:06:06.610Z"
   },
   {
    "duration": 739,
    "start_time": "2022-01-18T20:06:06.713Z"
   },
   {
    "duration": 6,
    "start_time": "2022-01-18T20:06:07.470Z"
   },
   {
    "duration": 9,
    "start_time": "2022-01-18T20:06:07.478Z"
   },
   {
    "duration": 1940,
    "start_time": "2022-01-18T20:06:07.490Z"
   },
   {
    "duration": 5,
    "start_time": "2022-01-18T20:06:09.433Z"
   },
   {
    "duration": 40,
    "start_time": "2022-01-18T20:06:09.441Z"
   },
   {
    "duration": 9,
    "start_time": "2022-01-18T20:06:09.483Z"
   },
   {
    "duration": 8,
    "start_time": "2022-01-18T20:06:09.494Z"
   },
   {
    "duration": 68,
    "start_time": "2022-01-18T20:06:09.505Z"
   },
   {
    "duration": 20,
    "start_time": "2022-01-18T20:06:09.577Z"
   },
   {
    "duration": 33,
    "start_time": "2022-01-18T20:06:09.600Z"
   },
   {
    "duration": 11,
    "start_time": "2022-01-18T20:09:04.419Z"
   },
   {
    "duration": 16,
    "start_time": "2022-01-18T20:09:13.069Z"
   },
   {
    "duration": 9,
    "start_time": "2022-01-18T20:09:21.418Z"
   },
   {
    "duration": 12,
    "start_time": "2022-01-18T20:09:38.431Z"
   },
   {
    "duration": 10,
    "start_time": "2022-01-18T20:10:24.960Z"
   },
   {
    "duration": 18,
    "start_time": "2022-01-18T20:10:34.171Z"
   },
   {
    "duration": 19,
    "start_time": "2022-01-18T20:10:52.583Z"
   },
   {
    "duration": 14,
    "start_time": "2022-01-18T20:11:09.753Z"
   },
   {
    "duration": 165,
    "start_time": "2022-01-18T20:11:17.892Z"
   },
   {
    "duration": 115,
    "start_time": "2022-01-18T20:11:21.962Z"
   },
   {
    "duration": 478,
    "start_time": "2022-01-18T20:11:34.852Z"
   },
   {
    "duration": 15,
    "start_time": "2022-01-18T20:12:10.574Z"
   },
   {
    "duration": 17,
    "start_time": "2022-01-18T20:12:14.283Z"
   },
   {
    "duration": 5,
    "start_time": "2022-01-18T20:12:47.827Z"
   },
   {
    "duration": 371,
    "start_time": "2022-01-18T20:13:01.277Z"
   },
   {
    "duration": 409,
    "start_time": "2022-01-18T20:13:19.998Z"
   },
   {
    "duration": 450,
    "start_time": "2022-01-18T20:13:35.121Z"
   },
   {
    "duration": 114,
    "start_time": "2022-01-18T20:13:47.668Z"
   },
   {
    "duration": 441,
    "start_time": "2022-01-18T20:14:00.875Z"
   },
   {
    "duration": 33,
    "start_time": "2022-01-18T20:14:09.509Z"
   },
   {
    "duration": 56,
    "start_time": "2022-01-18T20:14:19.627Z"
   },
   {
    "duration": 30,
    "start_time": "2022-01-18T20:14:54.205Z"
   },
   {
    "duration": 6,
    "start_time": "2022-01-18T20:14:59.959Z"
   },
   {
    "duration": 5,
    "start_time": "2022-01-18T20:15:04.089Z"
   },
   {
    "duration": 7800,
    "start_time": "2022-01-18T20:15:16.202Z"
   }
  ],
  "kernelspec": {
   "display_name": "Python 3 (ipykernel)",
   "language": "python",
   "name": "python3"
  },
  "language_info": {
   "codemirror_mode": {
    "name": "ipython",
    "version": 3
   },
   "file_extension": ".py",
   "mimetype": "text/x-python",
   "name": "python",
   "nbconvert_exporter": "python",
   "pygments_lexer": "ipython3",
   "version": "3.8.10"
  },
  "toc": {
   "base_numbering": 1,
   "nav_menu": {},
   "number_sections": true,
   "sideBar": true,
   "skip_h1_title": true,
   "title_cell": "Table of Contents",
   "title_sidebar": "Contents",
   "toc_cell": false,
   "toc_position": {
    "height": "calc(100% - 180px)",
    "left": "10px",
    "top": "150px",
    "width": "292px"
   },
   "toc_section_display": true,
   "toc_window_display": true
  }
 },
 "nbformat": 4,
 "nbformat_minor": 2
}
