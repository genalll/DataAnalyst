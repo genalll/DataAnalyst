{
 "cells": [
  {
   "cell_type": "code",
   "execution_count": 1,
   "metadata": {},
   "outputs": [
    {
     "name": "stdout",
     "output_type": "stream",
     "text": [
      "Requirement already satisfied: sqlalchemy in /home/gennalll/.local/lib/python3.8/site-packages (1.4.36)\n",
      "Requirement already satisfied: greenlet!=0.4.17; python_version >= \"3\" and (platform_machine == \"aarch64\" or (platform_machine == \"ppc64le\" or (platform_machine == \"x86_64\" or (platform_machine == \"amd64\" or (platform_machine == \"AMD64\" or (platform_machine == \"win32\" or platform_machine == \"WIN32\")))))) in /home/gennalll/.local/lib/python3.8/site-packages (from sqlalchemy) (1.1.2)\n"
     ]
    }
   ],
   "source": [
    "!pip install sqlalchemy"
   ]
  },
  {
   "cell_type": "code",
   "execution_count": 2,
   "metadata": {},
   "outputs": [
    {
     "name": "stdout",
     "output_type": "stream",
     "text": [
      "Requirement already satisfied: psycopg2-binary in /home/gennalll/.local/lib/python3.8/site-packages (2.9.3)\r\n"
     ]
    }
   ],
   "source": [
    "!pip install psycopg2-binary"
   ]
  },
  {
   "cell_type": "code",
   "execution_count": 3,
   "metadata": {},
   "outputs": [],
   "source": [
    "import pandas as pd\n",
    "from sqlalchemy import create_engine\n",
    "\n",
    "db_config = {'user': '', # имя пользователя\n",
    "            'pwd': '', # пароль\n",
    "            'host': '',\n",
    "            'port': 6432, # порт подключения\n",
    "            'db': 'data-analyst-zen-project-db'} # название базы данных\n",
    "\n",
    "connection_string = 'postgresql://{}:{}@{}:{}/{}'.format(db_config['user'],\n",
    "                                                db_config['pwd'],\n",
    "                                                db_config['host'],\n",
    "                                                db_config['port'],\n",
    "                                                db_config['db'])\n",
    "\n",
    "engine = create_engine(connection_string) "
   ]
  },
  {
   "cell_type": "code",
   "execution_count": 4,
   "metadata": {},
   "outputs": [],
   "source": [
    "query = '''\n",
    "           SELECT *\n",
    "           FROM dash_visits\n",
    "        '''"
   ]
  },
  {
   "cell_type": "code",
   "execution_count": 5,
   "metadata": {},
   "outputs": [
    {
     "data": {
      "text/html": [
       "<div>\n",
       "<style scoped>\n",
       "    .dataframe tbody tr th:only-of-type {\n",
       "        vertical-align: middle;\n",
       "    }\n",
       "\n",
       "    .dataframe tbody tr th {\n",
       "        vertical-align: top;\n",
       "    }\n",
       "\n",
       "    .dataframe thead th {\n",
       "        text-align: right;\n",
       "    }\n",
       "</style>\n",
       "<table border=\"1\" class=\"dataframe\">\n",
       "  <thead>\n",
       "    <tr style=\"text-align: right;\">\n",
       "      <th></th>\n",
       "      <th>record_id</th>\n",
       "      <th>item_topic</th>\n",
       "      <th>source_topic</th>\n",
       "      <th>age_segment</th>\n",
       "      <th>dt</th>\n",
       "      <th>visits</th>\n",
       "    </tr>\n",
       "  </thead>\n",
       "  <tbody>\n",
       "    <tr>\n",
       "      <th>0</th>\n",
       "      <td>1040597</td>\n",
       "      <td>Деньги</td>\n",
       "      <td>Авто</td>\n",
       "      <td>18-25</td>\n",
       "      <td>2019-09-24 18:32:00</td>\n",
       "      <td>3</td>\n",
       "    </tr>\n",
       "    <tr>\n",
       "      <th>1</th>\n",
       "      <td>1040598</td>\n",
       "      <td>Деньги</td>\n",
       "      <td>Авто</td>\n",
       "      <td>18-25</td>\n",
       "      <td>2019-09-24 18:35:00</td>\n",
       "      <td>1</td>\n",
       "    </tr>\n",
       "    <tr>\n",
       "      <th>2</th>\n",
       "      <td>1040599</td>\n",
       "      <td>Деньги</td>\n",
       "      <td>Авто</td>\n",
       "      <td>18-25</td>\n",
       "      <td>2019-09-24 18:54:00</td>\n",
       "      <td>4</td>\n",
       "    </tr>\n",
       "    <tr>\n",
       "      <th>3</th>\n",
       "      <td>1040600</td>\n",
       "      <td>Деньги</td>\n",
       "      <td>Авто</td>\n",
       "      <td>18-25</td>\n",
       "      <td>2019-09-24 18:55:00</td>\n",
       "      <td>17</td>\n",
       "    </tr>\n",
       "    <tr>\n",
       "      <th>4</th>\n",
       "      <td>1040601</td>\n",
       "      <td>Деньги</td>\n",
       "      <td>Авто</td>\n",
       "      <td>18-25</td>\n",
       "      <td>2019-09-24 18:56:00</td>\n",
       "      <td>27</td>\n",
       "    </tr>\n",
       "  </tbody>\n",
       "</table>\n",
       "</div>"
      ],
      "text/plain": [
       "   record_id item_topic source_topic age_segment                  dt  visits\n",
       "0    1040597     Деньги         Авто       18-25 2019-09-24 18:32:00       3\n",
       "1    1040598     Деньги         Авто       18-25 2019-09-24 18:35:00       1\n",
       "2    1040599     Деньги         Авто       18-25 2019-09-24 18:54:00       4\n",
       "3    1040600     Деньги         Авто       18-25 2019-09-24 18:55:00      17\n",
       "4    1040601     Деньги         Авто       18-25 2019-09-24 18:56:00      27"
      ]
     },
     "execution_count": 5,
     "metadata": {},
     "output_type": "execute_result"
    }
   ],
   "source": [
    "logs_raw=pd.io.sql.read_sql(query, con = engine) \n",
    "logs_raw.to_csv('log_raw.csv', index = False)\n",
    "logs_raw.head(5) "
   ]
  },
  {
   "cell_type": "code",
   "execution_count": 6,
   "metadata": {},
   "outputs": [
    {
     "data": {
      "text/plain": [
       "(30745, 6)"
      ]
     },
     "execution_count": 6,
     "metadata": {},
     "output_type": "execute_result"
    }
   ],
   "source": [
    "logs_raw.shape # Кол-во записей."
   ]
  },
  {
   "cell_type": "code",
   "execution_count": 7,
   "metadata": {},
   "outputs": [
    {
     "data": {
      "text/plain": [
       "Index(['record_id', 'item_topic', 'source_topic', 'age_segment', 'dt',\n",
       "       'visits'],\n",
       "      dtype='object')"
      ]
     },
     "execution_count": 7,
     "metadata": {},
     "output_type": "execute_result"
    }
   ],
   "source": [
    "logs_raw.columns # столбцы."
   ]
  },
  {
   "cell_type": "code",
   "execution_count": 8,
   "metadata": {},
   "outputs": [],
   "source": [
    "# Функция для анализа столбцов.\n",
    "def series_analiser(series):\n",
    "    print(\"________________\",\"________________\")\n",
    "    print(series.name)\n",
    "    try: \n",
    "        print(f\"Для этого столбца Среднеее значение:{series.mean()}\" + \"\\n\" + f\"Максимальное значение: {series.max()}\"+ \"\\n\" + f\"Минимальное значение: {series.min()}\"+ \"\\n\" + f\"Всего наблюдений: {series.count()}\" + \"\\n\" + f\"Уникальные значения: {series.unique()}\"+ \"\\n\" + f\"Пропущенные значения: {series.isna().sum()}\")\n",
    "    except:\n",
    "        print(f\"Для этого столбца\" + \"\\n\" f\"Всего наблюдений: {series.count()}\" + \"\\n\" + f\"Уникальные значения: {series.unique()}\" + \"\\n\" + f\"Пропущенные значения: {series.isna().sum()}\")\n",
    "\n",
    "def data_analiser(data):\n",
    "    for i in data.columns:\n",
    "        series_analiser(data[i])"
   ]
  },
  {
   "cell_type": "code",
   "execution_count": 9,
   "metadata": {},
   "outputs": [
    {
     "name": "stdout",
     "output_type": "stream",
     "text": [
      "________________ ________________\n",
      "record_id\n",
      "Для этого столбца Среднеее значение:1055969.0\n",
      "Максимальное значение: 1071341\n",
      "Минимальное значение: 1040597\n",
      "Всего наблюдений: 30745\n",
      "Уникальные значения: [1040597 1040598 1040599 ... 1071339 1071340 1071341]\n",
      "Пропущенные значения: 0\n",
      "________________ ________________\n",
      "item_topic\n",
      "Для этого столбца\n",
      "Всего наблюдений: 30745\n",
      "Уникальные значения: ['Деньги' 'Дети' 'Женская психология' 'Женщины' 'Здоровье' 'Знаменитости'\n",
      " 'Интересные факты' 'Искусство' 'История' 'Красота' 'Культура' 'Наука'\n",
      " 'Общество' 'Отношения' 'Подборки' 'Полезные советы' 'Психология'\n",
      " 'Путешествия' 'Рассказы' 'Россия' 'Семья' 'Скандалы' 'Туризм' 'Шоу'\n",
      " 'Юмор']\n",
      "Пропущенные значения: 0\n",
      "________________ ________________\n",
      "source_topic\n",
      "Для этого столбца\n",
      "Всего наблюдений: 30745\n",
      "Уникальные значения: ['Авто' 'Деньги' 'Дети' 'Еда' 'Здоровье' 'Знаменитости' 'Интерьеры'\n",
      " 'Искусство' 'История' 'Кино' 'Музыка' 'Одежда' 'Полезные советы'\n",
      " 'Политика' 'Психология' 'Путешествия' 'Ремонт' 'Россия' 'Сад и дача'\n",
      " 'Сделай сам' 'Семейные отношения' 'Семья' 'Спорт' 'Строительство'\n",
      " 'Технологии' 'Финансы']\n",
      "Пропущенные значения: 0\n",
      "________________ ________________\n",
      "age_segment\n",
      "Для этого столбца\n",
      "Всего наблюдений: 30745\n",
      "Уникальные значения: ['18-25' '26-30' '31-35' '36-40' '41-45' '45+']\n",
      "Пропущенные значения: 0\n",
      "________________ ________________\n",
      "dt\n",
      "Для этого столбца Среднеее значение:2019-09-24 18:50:42.982598656\n",
      "Максимальное значение: 2019-09-24 19:00:00\n",
      "Минимальное значение: 2019-09-24 18:28:00\n",
      "Всего наблюдений: 30745\n",
      "Уникальные значения: ['2019-09-24T18:32:00.000000000' '2019-09-24T18:35:00.000000000'\n",
      " '2019-09-24T18:54:00.000000000' '2019-09-24T18:55:00.000000000'\n",
      " '2019-09-24T18:56:00.000000000' '2019-09-24T18:57:00.000000000'\n",
      " '2019-09-24T18:58:00.000000000' '2019-09-24T18:59:00.000000000'\n",
      " '2019-09-24T19:00:00.000000000' '2019-09-24T18:29:00.000000000'\n",
      " '2019-09-24T18:30:00.000000000' '2019-09-24T18:31:00.000000000'\n",
      " '2019-09-24T18:52:00.000000000' '2019-09-24T18:33:00.000000000'\n",
      " '2019-09-24T18:53:00.000000000' '2019-09-24T18:28:00.000000000'\n",
      " '2019-09-24T18:34:00.000000000']\n",
      "Пропущенные значения: 0\n",
      "________________ ________________\n",
      "visits\n",
      "Для этого столбца Среднеее значение:10.089673117580094\n",
      "Максимальное значение: 371\n",
      "Минимальное значение: 1\n",
      "Всего наблюдений: 30745\n",
      "Уникальные значения: [  3   1   4  17  27  22  24  20   5  13  18  15  10   9  14  11   6   8\n",
      "   7   2  23  33  66  72  71  61  12  25  42  30  16  21  38  43  44  19\n",
      "  79  74  82  47  46  57  29  34  31  51  98  89  41  77  96  86  85  35\n",
      "  32  36  28  60  63  55  65 101  92  95  26  56  49  54  69  78  75  68\n",
      "  50  94 119 111  53  58  59  45  40 165 164 136 128  48  39  52  37  88\n",
      " 133 106 108 149 169 178 153  64  70  80  83 102  90 142 152 182 143  73\n",
      " 104  62  67 121 209 228 218 183  76 186 200 206 219  84 185 207 100 110\n",
      " 105 202 184 168 132 126 211 197 180 113 107 115 103 141 235 177  91 123\n",
      " 135 116 125 127  97 130 114  99  87 139 145 147 124 137 264 276 231 112\n",
      " 163 138 158 160 166 155 118  81 120 109 173 266 331 291 324 144 190 201\n",
      " 216 175 170 199 192 117 256 297 283 236 194 171  93 210 240 243 134 151\n",
      " 129 176 225 349 364 371 312 161 167 270 246 232 181 146]\n",
      "Пропущенные значения: 0\n"
     ]
    }
   ],
   "source": [
    "data_analiser(logs_raw)"
   ]
  },
  {
   "cell_type": "code",
   "execution_count": null,
   "metadata": {},
   "outputs": [],
   "source": []
  }
 ],
 "metadata": {
  "kernelspec": {
   "display_name": "Python 3 (ipykernel)",
   "language": "python",
   "name": "python3"
  },
  "language_info": {
   "codemirror_mode": {
    "name": "ipython",
    "version": 3
   },
   "file_extension": ".py",
   "mimetype": "text/x-python",
   "name": "python",
   "nbconvert_exporter": "python",
   "pygments_lexer": "ipython3",
   "version": "3.8.10"
  }
 },
 "nbformat": 4,
 "nbformat_minor": 1
}
